{
  "cells": [
    {
      "cell_type": "markdown",
      "metadata": {
        "id": "UlPZmv-NJpkv"
      },
      "source": [
        "# Survival Tree in Python"
      ]
    },
    {
      "cell_type": "code",
      "execution_count": 1,
      "metadata": {
        "colab": {
          "base_uri": "https://localhost:8080/"
        },
        "id": "pzqGFx_Bb_6A",
        "outputId": "5547e160-a1e9-4669-d093-6d03aca6283a"
      },
      "outputs": [
        {
          "name": "stdout",
          "output_type": "stream",
          "text": [
            "Collecting scikit-survival\n",
            "  Downloading scikit_survival-0.19.0.post1-cp310-cp310-win_amd64.whl (709 kB)\n",
            "     ------------------------------------ 709.1/709.1 kB 770.5 kB/s eta 0:00:00\n",
            "Requirement already satisfied: numpy in c:\\users\\adawas\\appdata\\local\\programs\\python\\python310\\lib\\site-packages (from scikit-survival) (1.23.3)\n",
            "Requirement already satisfied: scipy>=1.3.2 in c:\\users\\adawas\\appdata\\local\\programs\\python\\python310\\lib\\site-packages (from scikit-survival) (1.9.3)\n",
            "Collecting osqp!=0.6.0,!=0.6.1\n",
            "  Downloading osqp-0.6.2.post8-cp310-cp310-win_amd64.whl (292 kB)\n",
            "     ------------------------------------ 292.5/292.5 kB 392.6 kB/s eta 0:00:00\n",
            "Collecting ecos\n",
            "  Downloading ecos-2.0.12-cp310-cp310-win_amd64.whl (72 kB)\n",
            "     -------------------------------------- 72.0/72.0 kB 792.2 kB/s eta 0:00:00\n",
            "Requirement already satisfied: joblib in c:\\users\\adawas\\appdata\\local\\programs\\python\\python310\\lib\\site-packages (from scikit-survival) (1.2.0)\n",
            "Requirement already satisfied: scikit-learn<1.2,>=1.1.2 in c:\\users\\adawas\\appdata\\local\\programs\\python\\python310\\lib\\site-packages (from scikit-survival) (1.1.3)\n",
            "Collecting numexpr\n",
            "  Downloading numexpr-2.8.4-cp310-cp310-win_amd64.whl (92 kB)\n",
            "     -------------------------------------- 92.7/92.7 kB 441.2 kB/s eta 0:00:00\n",
            "Requirement already satisfied: pandas>=1.0.5 in c:\\users\\adawas\\appdata\\local\\programs\\python\\python310\\lib\\site-packages (from scikit-survival) (1.4.4)\n",
            "Collecting qdldl\n",
            "  Downloading qdldl-0.1.5.post3-cp310-cp310-win_amd64.whl (83 kB)\n",
            "     -------------------------------------- 83.1/83.1 kB 774.6 kB/s eta 0:00:00\n",
            "Requirement already satisfied: python-dateutil>=2.8.1 in c:\\users\\adawas\\appdata\\local\\programs\\python\\python310\\lib\\site-packages (from pandas>=1.0.5->scikit-survival) (2.8.2)\n",
            "Requirement already satisfied: pytz>=2020.1 in c:\\users\\adawas\\appdata\\local\\programs\\python\\python310\\lib\\site-packages (from pandas>=1.0.5->scikit-survival) (2022.2.1)\n",
            "Requirement already satisfied: threadpoolctl>=2.0.0 in c:\\users\\adawas\\appdata\\local\\programs\\python\\python310\\lib\\site-packages (from scikit-learn<1.2,>=1.1.2->scikit-survival) (3.1.0)\n",
            "Requirement already satisfied: six>=1.5 in c:\\users\\adawas\\appdata\\local\\programs\\python\\python310\\lib\\site-packages (from python-dateutil>=2.8.1->pandas>=1.0.5->scikit-survival) (1.16.0)\n",
            "Installing collected packages: numexpr, qdldl, ecos, osqp, scikit-survival\n",
            "Successfully installed ecos-2.0.12 numexpr-2.8.4 osqp-0.6.2.post8 qdldl-0.1.5.post3 scikit-survival-0.19.0.post1\n"
          ]
        },
        {
          "name": "stderr",
          "output_type": "stream",
          "text": [
            "\n",
            "[notice] A new release of pip available: 22.3.1 -> 23.0\n",
            "[notice] To update, run: python.exe -m pip install --upgrade pip\n"
          ]
        }
      ],
      "source": [
        "!pip install scikit-survival"
      ]
    },
    {
      "cell_type": "code",
      "execution_count": 2,
      "metadata": {
        "colab": {
          "base_uri": "https://localhost:8080/"
        },
        "id": "mkI5V-dlQjA2",
        "outputId": "d5959402-8270-4e7b-b4af-bea36104ebc6"
      },
      "outputs": [
        {
          "name": "stdout",
          "output_type": "stream",
          "text": [
            "Collecting eli5\n",
            "  Downloading eli5-0.13.0.tar.gz (216 kB)\n",
            "     ------------------------------------ 216.2/216.2 kB 280.3 kB/s eta 0:00:00\n",
            "  Preparing metadata (setup.py): started\n",
            "  Preparing metadata (setup.py): finished with status 'done'\n",
            "Requirement already satisfied: attrs>17.1.0 in c:\\users\\adawas\\appdata\\local\\programs\\python\\python310\\lib\\site-packages (from eli5) (22.1.0)\n",
            "Requirement already satisfied: jinja2>=3.0.0 in c:\\users\\adawas\\appdata\\local\\programs\\python\\python310\\lib\\site-packages (from eli5) (3.1.2)\n",
            "Requirement already satisfied: numpy>=1.9.0 in c:\\users\\adawas\\appdata\\local\\programs\\python\\python310\\lib\\site-packages (from eli5) (1.23.3)\n",
            "Requirement already satisfied: scipy in c:\\users\\adawas\\appdata\\local\\programs\\python\\python310\\lib\\site-packages (from eli5) (1.9.3)\n",
            "Requirement already satisfied: six in c:\\users\\adawas\\appdata\\local\\programs\\python\\python310\\lib\\site-packages (from eli5) (1.16.0)\n",
            "Requirement already satisfied: scikit-learn>=0.20 in c:\\users\\adawas\\appdata\\local\\programs\\python\\python310\\lib\\site-packages (from eli5) (1.1.3)\n",
            "Collecting graphviz\n",
            "  Downloading graphviz-0.20.1-py3-none-any.whl (47 kB)\n",
            "     -------------------------------------- 47.0/47.0 kB 782.9 kB/s eta 0:00:00\n",
            "Collecting tabulate>=0.7.7\n",
            "  Downloading tabulate-0.9.0-py3-none-any.whl (35 kB)\n",
            "Requirement already satisfied: MarkupSafe>=2.0 in c:\\users\\adawas\\appdata\\local\\programs\\python\\python310\\lib\\site-packages (from jinja2>=3.0.0->eli5) (2.1.1)\n",
            "Requirement already satisfied: threadpoolctl>=2.0.0 in c:\\users\\adawas\\appdata\\local\\programs\\python\\python310\\lib\\site-packages (from scikit-learn>=0.20->eli5) (3.1.0)\n",
            "Requirement already satisfied: joblib>=1.0.0 in c:\\users\\adawas\\appdata\\local\\programs\\python\\python310\\lib\\site-packages (from scikit-learn>=0.20->eli5) (1.2.0)\n",
            "Installing collected packages: tabulate, graphviz, eli5\n",
            "  Running setup.py install for eli5: started\n",
            "  Running setup.py install for eli5: finished with status 'done'\n",
            "Successfully installed eli5-0.13.0 graphviz-0.20.1 tabulate-0.9.0\n"
          ]
        },
        {
          "name": "stderr",
          "output_type": "stream",
          "text": [
            "  DEPRECATION: eli5 is being installed using the legacy 'setup.py install' method, because it does not have a 'pyproject.toml' and the 'wheel' package is not installed. pip 23.1 will enforce this behaviour change. A possible replacement is to enable the '--use-pep517' option. Discussion can be found at https://github.com/pypa/pip/issues/8559\n",
            "\n",
            "[notice] A new release of pip available: 22.3.1 -> 23.0\n",
            "[notice] To update, run: python.exe -m pip install --upgrade pip\n"
          ]
        }
      ],
      "source": [
        "!pip install eli5"
      ]
    },
    {
      "cell_type": "code",
      "execution_count": 5,
      "metadata": {},
      "outputs": [
        {
          "name": "stdout",
          "output_type": "stream",
          "text": [
            "Requirement already satisfied: pip in c:\\users\\adawas\\appdata\\local\\programs\\python\\python310\\lib\\site-packages (22.3.1)\n",
            "Collecting pip\n",
            "  Downloading pip-23.0-py3-none-any.whl (2.1 MB)\n",
            "     ---------------------------------------- 2.1/2.1 MB 1.3 MB/s eta 0:00:00\n",
            "Installing collected packages: pip\n",
            "  Attempting uninstall: pip\n",
            "    Found existing installation: pip 22.3.1\n",
            "    Uninstalling pip-22.3.1:\n",
            "      Successfully uninstalled pip-22.3.1\n",
            "Successfully installed pip-23.0\n",
            "Note: you may need to restart the kernel to use updated packages.\n"
          ]
        }
      ],
      "source": [
        "pip install --upgrade pip"
      ]
    },
    {
      "cell_type": "code",
      "execution_count": 6,
      "metadata": {
        "colab": {
          "base_uri": "https://localhost:8080/",
          "height": 363
        },
        "id": "2CfonAd-JhP_",
        "outputId": "7632fe9f-5377-4845-dc5b-87a4a25e8577"
      },
      "outputs": [],
      "source": [
        "#Import libraries, importdata, andfit a model\n",
        "import matplotlib.pyplot as plt\n",
        "from sksurv.datasets import load_whas500\n",
        "from sksurv.tree import SurvivalTree"
      ]
    },
    {
      "cell_type": "code",
      "execution_count": 7,
      "metadata": {
        "colab": {
          "base_uri": "https://localhost:8080/",
          "height": 200
        },
        "id": "tEAPBowPJ5mG",
        "outputId": "1ce1323f-f5cf-4518-8999-a13129c7551c"
      },
      "outputs": [],
      "source": [
        "X, y = load_whas500()\n",
        "X = X.astype(float)\n",
        "estimator = SurvivalTree().fit(X, y)"
      ]
    },
    {
      "cell_type": "code",
      "execution_count": 8,
      "metadata": {
        "id": "Br4kU2t2M7Kc"
      },
      "outputs": [],
      "source": [
        "url = '/content/drive/MyDrive/Dataset/Assignment/605/export.py'"
      ]
    },
    {
      "cell_type": "code",
      "execution_count": 9,
      "metadata": {
        "colab": {
          "base_uri": "https://localhost:8080/",
          "height": 373
        },
        "id": "tk2J1p96SgkQ",
        "outputId": "c446f5d0-d1e8-47e7-91c5-5b93816a9131"
      },
      "outputs": [
        {
          "data": {
            "text/plain": [
              "[Text(338.8956953642384, 358.04999999999995, 'age <= 85.5\\nsamples = 500\\nvalue = '),\n",
              " Text(222.85099337748343, 334.95, 'chf <= 0.5\\nsamples = 433\\nvalue = '),\n",
              " Text(115.58278145695364, 311.84999999999997, 'age <= 72.5\\nsamples = 315\\nvalue = '),\n",
              " Text(42.70198675496689, 288.75, 'sysbp <= 85.0\\nsamples = 204\\nvalue = '),\n",
              " Text(36.132450331125824, 265.65, 'samples = 5\\nvalue = '),\n",
              " Text(49.271523178807946, 265.65, 'hr <= 126.5\\nsamples = 199\\nvalue = '),\n",
              " Text(42.70198675496689, 242.54999999999998, 'hr <= 79.5\\nsamples = 194\\nvalue = '),\n",
              " Text(26.278145695364238, 219.45, 'age <= 70.5\\nsamples = 103\\nvalue = '),\n",
              " Text(13.139072847682119, 196.35, 'sysbp <= 168.5\\nsamples = 97\\nvalue = '),\n",
              " Text(6.569536423841059, 173.24999999999997, 'samples = 76\\nvalue = '),\n",
              " Text(19.70860927152318, 173.24999999999997, 'sysbp <= 175.0\\nsamples = 21\\nvalue = '),\n",
              " Text(13.139072847682119, 150.14999999999998, 'bmi <= 27.677\\nsamples = 7\\nvalue = '),\n",
              " Text(6.569536423841059, 127.04999999999998, 'samples = 3\\nvalue = '),\n",
              " Text(19.70860927152318, 127.04999999999998, 'samples = 4\\nvalue = '),\n",
              " Text(26.278145695364238, 150.14999999999998, 'samples = 14\\nvalue = '),\n",
              " Text(39.41721854304636, 196.35, 'diasbp <= 72.0\\nsamples = 6\\nvalue = '),\n",
              " Text(32.847682119205295, 173.24999999999997, 'samples = 3\\nvalue = '),\n",
              " Text(45.98675496688742, 173.24999999999997, 'samples = 3\\nvalue = '),\n",
              " Text(59.12582781456953, 219.45, 'diasbp <= 45.0\\nsamples = 91\\nvalue = '),\n",
              " Text(52.556291390728475, 196.35, 'samples = 4\\nvalue = '),\n",
              " Text(65.69536423841059, 196.35, 'los <= 1.5\\nsamples = 87\\nvalue = '),\n",
              " Text(59.12582781456953, 173.24999999999997, 'samples = 5\\nvalue = '),\n",
              " Text(72.26490066225165, 173.24999999999997, 'bmi <= 39.795\\nsamples = 82\\nvalue = '),\n",
              " Text(65.69536423841059, 150.14999999999998, 'los <= 7.5\\nsamples = 79\\nvalue = '),\n",
              " Text(42.70198675496689, 127.04999999999998, 'bmi <= 26.955\\nsamples = 58\\nvalue = '),\n",
              " Text(36.132450331125824, 103.94999999999999, 'samples = 21\\nvalue = '),\n",
              " Text(49.271523178807946, 103.94999999999999, 'bmi <= 27.389\\nsamples = 37\\nvalue = '),\n",
              " Text(42.70198675496689, 80.84999999999997, 'samples = 3\\nvalue = '),\n",
              " Text(55.841059602649004, 80.84999999999997, 'sysbp <= 186.5\\nsamples = 34\\nvalue = '),\n",
              " Text(49.271523178807946, 57.75, 'hr <= 100.5\\nsamples = 30\\nvalue = '),\n",
              " Text(42.70198675496689, 34.64999999999998, 'samples = 21\\nvalue = '),\n",
              " Text(55.841059602649004, 34.64999999999998, 'cvd <= 0.5\\nsamples = 9\\nvalue = '),\n",
              " Text(49.271523178807946, 11.550000000000011, 'samples = 3\\nvalue = '),\n",
              " Text(62.41059602649006, 11.550000000000011, 'samples = 6\\nvalue = '),\n",
              " Text(62.41059602649006, 57.75, 'samples = 4\\nvalue = '),\n",
              " Text(88.6887417218543, 127.04999999999998, 'age <= 61.0\\nsamples = 21\\nvalue = '),\n",
              " Text(75.54966887417218, 103.94999999999999, 'miord <= 0.5\\nsamples = 11\\nvalue = '),\n",
              " Text(68.98013245033113, 80.84999999999997, 'samples = 8\\nvalue = '),\n",
              " Text(82.11920529801324, 80.84999999999997, 'samples = 3\\nvalue = '),\n",
              " Text(101.82781456953641, 103.94999999999999, 'hr <= 83.5\\nsamples = 10\\nvalue = '),\n",
              " Text(95.25827814569536, 80.84999999999997, 'samples = 5\\nvalue = '),\n",
              " Text(108.39735099337749, 80.84999999999997, 'samples = 5\\nvalue = '),\n",
              " Text(78.83443708609272, 150.14999999999998, 'samples = 3\\nvalue = '),\n",
              " Text(55.841059602649004, 242.54999999999998, 'samples = 5\\nvalue = '),\n",
              " Text(188.46357615894038, 288.75, 'bmi <= 15.659\\nsamples = 111\\nvalue = '),\n",
              " Text(181.89403973509934, 265.65, 'samples = 3\\nvalue = '),\n",
              " Text(195.03311258278146, 265.65, 'hr <= 99.5\\nsamples = 108\\nvalue = '),\n",
              " Text(160.13245033112582, 242.54999999999998, 'bmi <= 20.876\\nsamples = 82\\nvalue = '),\n",
              " Text(137.96026490066225, 219.45, 'hr <= 66.0\\nsamples = 13\\nvalue = '),\n",
              " Text(131.39072847682118, 196.35, 'samples = 5\\nvalue = '),\n",
              " Text(144.5298013245033, 196.35, 'sysbp <= 172.5\\nsamples = 8\\nvalue = '),\n",
              " Text(137.96026490066225, 173.24999999999997, 'samples = 5\\nvalue = '),\n",
              " Text(151.09933774834437, 173.24999999999997, 'samples = 3\\nvalue = '),\n",
              " Text(182.3046357615894, 219.45, 'los <= 2.5\\nsamples = 69\\nvalue = '),\n",
              " Text(175.73509933774835, 196.35, 'samples = 5\\nvalue = '),\n",
              " Text(188.87417218543047, 196.35, 'los <= 7.5\\nsamples = 64\\nvalue = '),\n",
              " Text(164.23841059602648, 173.24999999999997, 'hr <= 91.5\\nsamples = 51\\nvalue = '),\n",
              " Text(147.81456953642385, 150.14999999999998, 'bmi <= 29.68\\nsamples = 40\\nvalue = '),\n",
              " Text(134.67549668874173, 127.04999999999998, 'gender <= 0.5\\nsamples = 29\\nvalue = '),\n",
              " Text(128.10596026490066, 103.94999999999999, 'hr <= 68.0\\nsamples = 12\\nvalue = '),\n",
              " Text(121.5364238410596, 80.84999999999997, 'samples = 6\\nvalue = '),\n",
              " Text(134.67549668874173, 80.84999999999997, 'los <= 4.5\\nsamples = 6\\nvalue = '),\n",
              " Text(128.10596026490066, 57.75, 'samples = 3\\nvalue = '),\n",
              " Text(141.24503311258277, 57.75, 'samples = 3\\nvalue = '),\n",
              " Text(141.24503311258277, 103.94999999999999, 'samples = 17\\nvalue = '),\n",
              " Text(160.95364238410596, 127.04999999999998, 'hr <= 71.5\\nsamples = 11\\nvalue = '),\n",
              " Text(154.3841059602649, 103.94999999999999, 'samples = 4\\nvalue = '),\n",
              " Text(167.523178807947, 103.94999999999999, 'sysbp <= 158.0\\nsamples = 7\\nvalue = '),\n",
              " Text(160.95364238410596, 80.84999999999997, 'samples = 4\\nvalue = '),\n",
              " Text(174.09271523178808, 80.84999999999997, 'samples = 3\\nvalue = '),\n",
              " Text(180.66225165562912, 150.14999999999998, 'hr <= 95.5\\nsamples = 11\\nvalue = '),\n",
              " Text(174.09271523178808, 127.04999999999998, 'samples = 5\\nvalue = '),\n",
              " Text(187.2317880794702, 127.04999999999998, 'sysbp <= 152.0\\nsamples = 6\\nvalue = '),\n",
              " Text(180.66225165562912, 103.94999999999999, 'samples = 3\\nvalue = '),\n",
              " Text(193.80132450331126, 103.94999999999999, 'samples = 3\\nvalue = '),\n",
              " Text(213.50993377483442, 173.24999999999997, 'gender <= 0.5\\nsamples = 13\\nvalue = '),\n",
              " Text(206.94039735099338, 150.14999999999998, 'diasbp <= 74.5\\nsamples = 8\\nvalue = '),\n",
              " Text(200.3708609271523, 127.04999999999998, 'samples = 3\\nvalue = '),\n",
              " Text(213.50993377483442, 127.04999999999998, 'samples = 5\\nvalue = '),\n",
              " Text(220.0794701986755, 150.14999999999998, 'samples = 5\\nvalue = '),\n",
              " Text(229.9337748344371, 242.54999999999998, 'diasbp <= 63.0\\nsamples = 26\\nvalue = '),\n",
              " Text(213.50993377483442, 219.45, 'diasbp <= 57.5\\nsamples = 6\\nvalue = '),\n",
              " Text(206.94039735099338, 196.35, 'samples = 3\\nvalue = '),\n",
              " Text(220.0794701986755, 196.35, 'samples = 3\\nvalue = '),\n",
              " Text(246.35761589403972, 219.45, 'age <= 81.5\\nsamples = 20\\nvalue = '),\n",
              " Text(233.2185430463576, 196.35, 'bmi <= 23.916\\nsamples = 12\\nvalue = '),\n",
              " Text(226.64900662251654, 173.24999999999997, 'samples = 4\\nvalue = '),\n",
              " Text(239.78807947019868, 173.24999999999997, 'bmi <= 27.795\\nsamples = 8\\nvalue = '),\n",
              " Text(233.2185430463576, 150.14999999999998, 'samples = 3\\nvalue = '),\n",
              " Text(246.35761589403972, 150.14999999999998, 'samples = 5\\nvalue = '),\n",
              " Text(259.49668874172187, 196.35, 'miord <= 0.5\\nsamples = 8\\nvalue = '),\n",
              " Text(252.9271523178808, 173.24999999999997, 'samples = 4\\nvalue = '),\n",
              " Text(266.0662251655629, 173.24999999999997, 'samples = 4\\nvalue = '),\n",
              " Text(330.11920529801324, 311.84999999999997, 'sysbp <= 84.0\\nsamples = 118\\nvalue = '),\n",
              " Text(323.5496688741722, 288.75, 'samples = 3\\nvalue = '),\n",
              " Text(336.6887417218543, 288.75, 'age <= 67.5\\nsamples = 115\\nvalue = '),\n",
              " Text(298.9139072847682, 265.65, 'miord <= 0.5\\nsamples = 35\\nvalue = '),\n",
              " Text(285.7748344370861, 242.54999999999998, 'diasbp <= 102.5\\nsamples = 23\\nvalue = '),\n",
              " Text(279.205298013245, 219.45, 'hr <= 92.5\\nsamples = 16\\nvalue = '),\n",
              " Text(272.63576158940396, 196.35, 'samples = 9\\nvalue = '),\n",
              " Text(285.7748344370861, 196.35, 'afb <= 0.5\\nsamples = 7\\nvalue = '),\n",
              " Text(279.205298013245, 173.24999999999997, 'samples = 4\\nvalue = '),\n",
              " Text(292.34437086092714, 173.24999999999997, 'samples = 3\\nvalue = '),\n",
              " Text(292.34437086092714, 219.45, 'samples = 7\\nvalue = '),\n",
              " Text(312.05298013245033, 242.54999999999998, 'diasbp <= 58.5\\nsamples = 12\\nvalue = '),\n",
              " Text(305.4834437086093, 219.45, 'samples = 3\\nvalue = '),\n",
              " Text(318.6225165562914, 219.45, 'gender <= 0.5\\nsamples = 9\\nvalue = '),\n",
              " Text(312.05298013245033, 196.35, 'hr <= 102.0\\nsamples = 6\\nvalue = '),\n",
              " Text(305.4834437086093, 173.24999999999997, 'samples = 3\\nvalue = '),\n",
              " Text(318.6225165562914, 173.24999999999997, 'samples = 3\\nvalue = '),\n",
              " Text(325.1920529801324, 196.35, 'samples = 3\\nvalue = '),\n",
              " Text(374.4635761589404, 265.65, 'sho <= 0.5\\nsamples = 80\\nvalue = '),\n",
              " Text(358.03973509933775, 242.54999999999998, 'bmi <= 22.206\\nsamples = 74\\nvalue = '),\n",
              " Text(344.9006622516556, 219.45, 'afb <= 0.5\\nsamples = 17\\nvalue = '),\n",
              " Text(338.33112582781456, 196.35, 'sysbp <= 117.0\\nsamples = 13\\nvalue = '),\n",
              " Text(331.7615894039735, 173.24999999999997, 'samples = 3\\nvalue = '),\n",
              " Text(344.9006622516556, 173.24999999999997, 'miord <= 0.5\\nsamples = 10\\nvalue = '),\n",
              " Text(338.33112582781456, 150.14999999999998, 'samples = 5\\nvalue = '),\n",
              " Text(351.4701986754967, 150.14999999999998, 'samples = 5\\nvalue = '),\n",
              " Text(351.4701986754967, 196.35, 'samples = 4\\nvalue = '),\n",
              " Text(371.17880794701983, 219.45, 'diasbp <= 48.0\\nsamples = 57\\nvalue = '),\n",
              " Text(364.6092715231788, 196.35, 'samples = 4\\nvalue = '),\n",
              " Text(377.74834437086093, 196.35, 'bmi <= 22.476\\nsamples = 53\\nvalue = '),\n",
              " Text(371.17880794701983, 173.24999999999997, 'samples = 3\\nvalue = '),\n",
              " Text(384.317880794702, 173.24999999999997, 'diasbp <= 121.0\\nsamples = 50\\nvalue = '),\n",
              " Text(377.74834437086093, 150.14999999999998, 'sysbp <= 128.5\\nsamples = 47\\nvalue = '),\n",
              " Text(354.7549668874172, 127.04999999999998, 'hr <= 68.5\\nsamples = 12\\nvalue = '),\n",
              " Text(348.18543046357615, 103.94999999999999, 'samples = 3\\nvalue = '),\n",
              " Text(361.32450331125824, 103.94999999999999, 'mitype <= 0.5\\nsamples = 9\\nvalue = '),\n",
              " Text(354.7549668874172, 80.84999999999997, 'los <= 5.0\\nsamples = 6\\nvalue = '),\n",
              " Text(348.18543046357615, 57.75, 'samples = 3\\nvalue = '),\n",
              " Text(361.32450331125824, 57.75, 'samples = 3\\nvalue = '),\n",
              " Text(367.89403973509934, 80.84999999999997, 'samples = 3\\nvalue = '),\n",
              " Text(400.7417218543046, 127.04999999999998, 'sysbp <= 137.5\\nsamples = 35\\nvalue = '),\n",
              " Text(387.6026490066225, 103.94999999999999, 'age <= 75.0\\nsamples = 6\\nvalue = '),\n",
              " Text(381.0331125827814, 80.84999999999997, 'samples = 3\\nvalue = '),\n",
              " Text(394.17218543046357, 80.84999999999997, 'samples = 3\\nvalue = '),\n",
              " Text(413.88079470198676, 103.94999999999999, 'bmi <= 23.729\\nsamples = 29\\nvalue = '),\n",
              " Text(407.31125827814566, 80.84999999999997, 'samples = 3\\nvalue = '),\n",
              " Text(420.4503311258278, 80.84999999999997, 'hr <= 90.5\\nsamples = 26\\nvalue = '),\n",
              " Text(404.02649006622516, 57.75, 'sysbp <= 162.5\\nsamples = 11\\nvalue = '),\n",
              " Text(397.4569536423841, 34.64999999999998, 'diasbp <= 75.0\\nsamples = 8\\nvalue = '),\n",
              " Text(390.887417218543, 11.550000000000011, 'samples = 5\\nvalue = '),\n",
              " Text(404.02649006622516, 11.550000000000011, 'samples = 3\\nvalue = '),\n",
              " Text(410.5960264900662, 34.64999999999998, 'samples = 3\\nvalue = '),\n",
              " Text(436.87417218543044, 57.75, 'gender <= 0.5\\nsamples = 15\\nvalue = '),\n",
              " Text(423.73509933774835, 34.64999999999998, 'los <= 5.5\\nsamples = 7\\nvalue = '),\n",
              " Text(417.16556291390725, 11.550000000000011, 'samples = 4\\nvalue = '),\n",
              " Text(430.3046357615894, 11.550000000000011, 'samples = 3\\nvalue = '),\n",
              " Text(450.0132450331126, 34.64999999999998, 'diasbp <= 106.0\\nsamples = 8\\nvalue = '),\n",
              " Text(443.4437086092715, 11.550000000000011, 'samples = 5\\nvalue = '),\n",
              " Text(456.5827814569536, 11.550000000000011, 'samples = 3\\nvalue = '),\n",
              " Text(390.887417218543, 150.14999999999998, 'samples = 3\\nvalue = '),\n",
              " Text(390.887417218543, 242.54999999999998, 'bmi <= 27.564\\nsamples = 6\\nvalue = '),\n",
              " Text(384.317880794702, 219.45, 'samples = 3\\nvalue = '),\n",
              " Text(397.4569536423841, 219.45, 'samples = 3\\nvalue = '),\n",
              " Text(454.94039735099335, 334.95, 'sho <= 0.5\\nsamples = 67\\nvalue = '),\n",
              " Text(448.3708609271523, 311.84999999999997, 'afb <= 0.5\\nsamples = 62\\nvalue = '),\n",
              " Text(427.01986754966885, 288.75, 'diasbp <= 44.0\\nsamples = 49\\nvalue = '),\n",
              " Text(410.5960264900662, 265.65, 'cvd <= 0.5\\nsamples = 6\\nvalue = '),\n",
              " Text(404.02649006622516, 242.54999999999998, 'samples = 3\\nvalue = '),\n",
              " Text(417.16556291390725, 242.54999999999998, 'samples = 3\\nvalue = '),\n",
              " Text(443.4437086092715, 265.65, 'sysbp <= 124.0\\nsamples = 43\\nvalue = '),\n",
              " Text(430.3046357615894, 242.54999999999998, 'diasbp <= 67.5\\nsamples = 9\\nvalue = '),\n",
              " Text(423.73509933774835, 219.45, 'miord <= 0.5\\nsamples = 6\\nvalue = '),\n",
              " Text(417.16556291390725, 196.35, 'samples = 3\\nvalue = '),\n",
              " Text(430.3046357615894, 196.35, 'samples = 3\\nvalue = '),\n",
              " Text(436.87417218543044, 219.45, 'samples = 3\\nvalue = '),\n",
              " Text(456.5827814569536, 242.54999999999998, 'los <= 2.5\\nsamples = 34\\nvalue = '),\n",
              " Text(450.0132450331126, 219.45, 'samples = 4\\nvalue = '),\n",
              " Text(463.15231788079467, 219.45, 'hr <= 69.5\\nsamples = 30\\nvalue = '),\n",
              " Text(456.5827814569536, 196.35, 'samples = 5\\nvalue = '),\n",
              " Text(469.72185430463577, 196.35, 'sysbp <= 153.5\\nsamples = 25\\nvalue = '),\n",
              " Text(456.5827814569536, 173.24999999999997, 'hr <= 104.5\\nsamples = 16\\nvalue = '),\n",
              " Text(450.0132450331126, 150.14999999999998, 'bmi <= 22.724\\nsamples = 11\\nvalue = '),\n",
              " Text(443.4437086092715, 127.04999999999998, 'samples = 3\\nvalue = '),\n",
              " Text(456.5827814569536, 127.04999999999998, 'hr <= 96.0\\nsamples = 8\\nvalue = '),\n",
              " Text(450.0132450331126, 103.94999999999999, 'samples = 3\\nvalue = '),\n",
              " Text(463.15231788079467, 103.94999999999999, 'samples = 5\\nvalue = '),\n",
              " Text(463.15231788079467, 150.14999999999998, 'samples = 5\\nvalue = '),\n",
              " Text(482.86092715231786, 173.24999999999997, 'bmi <= 22.758\\nsamples = 9\\nvalue = '),\n",
              " Text(476.2913907284768, 150.14999999999998, 'samples = 5\\nvalue = '),\n",
              " Text(489.4304635761589, 150.14999999999998, 'samples = 4\\nvalue = '),\n",
              " Text(469.72185430463577, 288.75, 'sysbp <= 105.5\\nsamples = 13\\nvalue = '),\n",
              " Text(463.15231788079467, 265.65, 'samples = 4\\nvalue = '),\n",
              " Text(476.2913907284768, 265.65, 'bmi <= 22.589\\nsamples = 9\\nvalue = '),\n",
              " Text(469.72185430463577, 242.54999999999998, 'samples = 5\\nvalue = '),\n",
              " Text(482.86092715231786, 242.54999999999998, 'samples = 4\\nvalue = '),\n",
              " Text(461.50993377483445, 311.84999999999997, 'samples = 5\\nvalue = ')]"
            ]
          },
          "execution_count": 9,
          "metadata": {},
          "output_type": "execute_result"
        },
        {
          "data": {
            "image/png": "[encoded data removed]",
            "text/plain": [
              "<Figure size 640x480 with 1 Axes>"
            ]
          },
          "metadata": {},
          "output_type": "display_data"
        }
      ],
      "source": [
        "#plot survival tree\n",
        "import sys\n",
        "sys.path.append(url)\n",
        "import export as export\n",
        "export.plot_tree(estimator,\n",
        "feature_names=estimator.feature_names_in_,\n",
        "impurity=False,\n",
        ")"
      ]
    },
    {
      "cell_type": "code",
      "execution_count": 10,
      "metadata": {
        "colab": {
          "base_uri": "https://localhost:8080/",
          "height": 165
        },
        "id": "AjwOQs-2S9fz",
        "outputId": "0a2ea2a1-3538-4581-b3ca-969b497645b7"
      },
      "outputs": [],
      "source": [
        "predict_outcomes = estimator.predict(X)"
      ]
    },
    {
      "cell_type": "code",
      "execution_count": 16,
      "metadata": {
        "colab": {
          "base_uri": "https://localhost:8080/",
          "height": 130
        },
        "id": "CEWXuve0TINr",
        "outputId": "f534d4d0-a962-4fae-b09b-2d3ba9a46739"
      },
      "outputs": [
        {
          "data": {
            "image/png": "[encoded data removed]",
            "text/plain": [
              "<Figure size 640x480 with 1 Axes>"
            ]
          },
          "metadata": {},
          "output_type": "display_data"
        }
      ],
      "source": [
        "#Estimatethesurvival function for thefirst 5samples..\n",
        "surv_funcs = estimator.predict_survival_function(X.iloc[:5])\n",
        "#Plot theestimatedsurvival functions\n",
        "for fn in surv_funcs:\n",
        "    plt.step(fn.x, fn(fn.x), where=\"post\")\n",
        "plt.ylim(0,1)\n",
        "plt.show()"
      ]
    },
    {
      "cell_type": "code",
      "execution_count": 17,
      "metadata": {
        "colab": {
          "base_uri": "https://localhost:8080/",
          "height": 130
        },
        "id": "ZizPlagHTKNy",
        "outputId": "a8676eec-a557-441d-c77b-db657afbf300"
      },
      "outputs": [
        {
          "data": {
            "image/png": "[encoded data removed]",
            "text/plain": [
              "<Figure size 640x480 with 1 Axes>"
            ]
          },
          "metadata": {},
          "output_type": "display_data"
        }
      ],
      "source": [
        "#Estimatethecumulativehazard functionfor thefirst 5samples.\n",
        "chf_funcs = estimator.predict_cumulative_hazard_function(X.iloc[:5])\n",
        "#Plot theestimatedcumulativehazard functions\n",
        "for fn in chf_funcs:\n",
        "    plt.step(fn.x, fn(fn.x), where=\"post\")\n",
        "plt.ylim(0,1)\n",
        "plt.show()"
      ]
    },
    {
      "cell_type": "markdown",
      "metadata": {
        "id": "jSG9ufUOTckg"
      },
      "source": [
        "# Random Survival Forests"
      ]
    },
    {
      "cell_type": "code",
      "execution_count": 18,
      "metadata": {
        "colab": {
          "base_uri": "https://localhost:8080/",
          "height": 380
        },
        "id": "7SRF_lfTTMQ8",
        "outputId": "244ee841-e473-4959-a342-2e4cfecac667"
      },
      "outputs": [],
      "source": [
        "#Import libraries\n",
        "import pandas as pd\n",
        "import matplotlib.pyplot as plt\n",
        "import numpy as np\n",
        "from sklearn.model_selection import train_test_split\n",
        "from sklearn.preprocessing import OrdinalEncoder\n",
        "from sksurv.datasets import load_gbsg2\n",
        "from sksurv.preprocessing import OneHotEncoder\n",
        "from sksurv.ensemble import RandomSurvivalForest"
      ]
    },
    {
      "cell_type": "code",
      "execution_count": 37,
      "metadata": {
        "colab": {
          "base_uri": "https://localhost:8080/",
          "height": 183
        },
        "id": "h-WsC1XRThYM",
        "outputId": "690ef81f-ed3a-4dd9-8c51-be1e2b0e15ea"
      },
      "outputs": [
        {
          "data": {
            "text/html": [
              "<div>\n",
              "<style scoped>\n",
              "    .dataframe tbody tr th:only-of-type {\n",
              "        vertical-align: middle;\n",
              "    }\n",
              "\n",
              "    .dataframe tbody tr th {\n",
              "        vertical-align: top;\n",
              "    }\n",
              "\n",
              "    .dataframe thead th {\n",
              "        text-align: right;\n",
              "    }\n",
              "</style>\n",
              "<table border=\"1\" class=\"dataframe\">\n",
              "  <thead>\n",
              "    <tr style=\"text-align: right;\">\n",
              "      <th></th>\n",
              "      <th>age</th>\n",
              "      <th>estrec</th>\n",
              "      <th>horTh</th>\n",
              "      <th>menostat</th>\n",
              "      <th>pnodes</th>\n",
              "      <th>progrec</th>\n",
              "      <th>tgrade</th>\n",
              "      <th>tsize</th>\n",
              "    </tr>\n",
              "  </thead>\n",
              "  <tbody>\n",
              "    <tr>\n",
              "      <th>0</th>\n",
              "      <td>70.0</td>\n",
              "      <td>66.0</td>\n",
              "      <td>no</td>\n",
              "      <td>Post</td>\n",
              "      <td>3.0</td>\n",
              "      <td>48.0</td>\n",
              "      <td>II</td>\n",
              "      <td>21.0</td>\n",
              "    </tr>\n",
              "    <tr>\n",
              "      <th>1</th>\n",
              "      <td>56.0</td>\n",
              "      <td>77.0</td>\n",
              "      <td>yes</td>\n",
              "      <td>Post</td>\n",
              "      <td>7.0</td>\n",
              "      <td>61.0</td>\n",
              "      <td>II</td>\n",
              "      <td>12.0</td>\n",
              "    </tr>\n",
              "    <tr>\n",
              "      <th>2</th>\n",
              "      <td>58.0</td>\n",
              "      <td>271.0</td>\n",
              "      <td>yes</td>\n",
              "      <td>Post</td>\n",
              "      <td>9.0</td>\n",
              "      <td>52.0</td>\n",
              "      <td>II</td>\n",
              "      <td>35.0</td>\n",
              "    </tr>\n",
              "    <tr>\n",
              "      <th>3</th>\n",
              "      <td>59.0</td>\n",
              "      <td>29.0</td>\n",
              "      <td>yes</td>\n",
              "      <td>Post</td>\n",
              "      <td>4.0</td>\n",
              "      <td>60.0</td>\n",
              "      <td>II</td>\n",
              "      <td>17.0</td>\n",
              "    </tr>\n",
              "    <tr>\n",
              "      <th>4</th>\n",
              "      <td>73.0</td>\n",
              "      <td>65.0</td>\n",
              "      <td>no</td>\n",
              "      <td>Post</td>\n",
              "      <td>1.0</td>\n",
              "      <td>26.0</td>\n",
              "      <td>II</td>\n",
              "      <td>35.0</td>\n",
              "    </tr>\n",
              "    <tr>\n",
              "      <th>...</th>\n",
              "      <td>...</td>\n",
              "      <td>...</td>\n",
              "      <td>...</td>\n",
              "      <td>...</td>\n",
              "      <td>...</td>\n",
              "      <td>...</td>\n",
              "      <td>...</td>\n",
              "      <td>...</td>\n",
              "    </tr>\n",
              "    <tr>\n",
              "      <th>681</th>\n",
              "      <td>49.0</td>\n",
              "      <td>84.0</td>\n",
              "      <td>no</td>\n",
              "      <td>Pre</td>\n",
              "      <td>3.0</td>\n",
              "      <td>1.0</td>\n",
              "      <td>III</td>\n",
              "      <td>30.0</td>\n",
              "    </tr>\n",
              "    <tr>\n",
              "      <th>682</th>\n",
              "      <td>53.0</td>\n",
              "      <td>0.0</td>\n",
              "      <td>yes</td>\n",
              "      <td>Post</td>\n",
              "      <td>17.0</td>\n",
              "      <td>0.0</td>\n",
              "      <td>III</td>\n",
              "      <td>25.0</td>\n",
              "    </tr>\n",
              "    <tr>\n",
              "      <th>683</th>\n",
              "      <td>51.0</td>\n",
              "      <td>0.0</td>\n",
              "      <td>no</td>\n",
              "      <td>Pre</td>\n",
              "      <td>5.0</td>\n",
              "      <td>43.0</td>\n",
              "      <td>III</td>\n",
              "      <td>25.0</td>\n",
              "    </tr>\n",
              "    <tr>\n",
              "      <th>684</th>\n",
              "      <td>52.0</td>\n",
              "      <td>34.0</td>\n",
              "      <td>no</td>\n",
              "      <td>Post</td>\n",
              "      <td>3.0</td>\n",
              "      <td>15.0</td>\n",
              "      <td>II</td>\n",
              "      <td>23.0</td>\n",
              "    </tr>\n",
              "    <tr>\n",
              "      <th>685</th>\n",
              "      <td>55.0</td>\n",
              "      <td>15.0</td>\n",
              "      <td>no</td>\n",
              "      <td>Post</td>\n",
              "      <td>9.0</td>\n",
              "      <td>116.0</td>\n",
              "      <td>II</td>\n",
              "      <td>23.0</td>\n",
              "    </tr>\n",
              "  </tbody>\n",
              "</table>\n",
              "<p>686 rows × 8 columns</p>\n",
              "</div>"
            ],
            "text/plain": [
              "      age  estrec horTh menostat  pnodes  progrec tgrade  tsize\n",
              "0    70.0    66.0    no     Post     3.0     48.0     II   21.0\n",
              "1    56.0    77.0   yes     Post     7.0     61.0     II   12.0\n",
              "2    58.0   271.0   yes     Post     9.0     52.0     II   35.0\n",
              "3    59.0    29.0   yes     Post     4.0     60.0     II   17.0\n",
              "4    73.0    65.0    no     Post     1.0     26.0     II   35.0\n",
              "..    ...     ...   ...      ...     ...      ...    ...    ...\n",
              "681  49.0    84.0    no      Pre     3.0      1.0    III   30.0\n",
              "682  53.0     0.0   yes     Post    17.0      0.0    III   25.0\n",
              "683  51.0     0.0    no      Pre     5.0     43.0    III   25.0\n",
              "684  52.0    34.0    no     Post     3.0     15.0     II   23.0\n",
              "685  55.0    15.0    no     Post     9.0    116.0     II   23.0\n",
              "\n",
              "[686 rows x 8 columns]"
            ]
          },
          "execution_count": 37,
          "metadata": {},
          "output_type": "execute_result"
        }
      ],
      "source": [
        "#loaddataset\n",
        "X,y = load_gbsg2()\n",
        "X"
      ]
    },
    {
      "cell_type": "code",
      "execution_count": 39,
      "metadata": {},
      "outputs": [
        {
          "data": {
            "text/plain": [
              "array([( True, 1814.), ( True, 2018.), ( True,  712.), ( True, 1807.),\n",
              "       ( True,  772.), ( True,  448.), (False, 2172.), (False, 2161.),\n",
              "       ( True,  471.), (False, 2014.), ( True,  577.), ( True,  184.),\n",
              "       (False, 1840.), (False, 1842.), (False, 1821.), ( True, 1371.),\n",
              "       ( True,  707.), (False, 1743.), (False, 1781.), ( True,  865.),\n",
              "       ( True, 1684.), (False, 1701.), (False, 1701.), (False, 1693.),\n",
              "       ( True,  379.), ( True, 1105.), ( True,  548.), ( True, 1296.),\n",
              "       (False, 1483.), (False, 1570.), (False, 1469.), (False, 1472.),\n",
              "       (False, 1342.), (False, 1349.), ( True, 1162.), (False, 1342.),\n",
              "       ( True,  797.), (False, 1232.), (False, 1230.), (False, 1205.),\n",
              "       (False, 1090.), (False, 1095.), ( True,  449.), (False,  972.),\n",
              "       (False,  825.), (False, 2438.), (False, 2233.), ( True,  286.),\n",
              "       (False, 1861.), ( True, 1080.), ( True, 1521.), (False, 1693.),\n",
              "       ( True, 1528.), ( True,  169.), ( True,  272.), ( True,  731.),\n",
              "       (False, 2059.), (False, 1853.), (False, 1854.), (False, 1645.),\n",
              "       ( True,  544.), (False, 1666.), ( True,  353.), (False, 1791.),\n",
              "       (False, 1685.), ( True,  191.), ( True,  370.), ( True,  173.),\n",
              "       ( True,  242.), ( True,  420.), ( True,  438.), (False, 1624.),\n",
              "       ( True, 1036.), ( True,  359.), ( True,  171.), ( True,  959.),\n",
              "       (False, 1351.), ( True,  486.), ( True,  525.), ( True,  762.),\n",
              "       ( True,  175.), (False, 1195.), ( True,  338.), (False, 1125.),\n",
              "       (False,  916.), (False,  972.), (False,  867.), ( True,  249.),\n",
              "       ( True,  281.), (False,  758.), ( True,  377.), (False, 1976.),\n",
              "       (False, 2539.), (False, 2467.), ( True,  876.), (False, 2132.),\n",
              "       ( True,  426.), ( True,  554.), ( True, 1246.), (False, 1926.),\n",
              "       ( True, 1207.), (False, 1852.), ( True, 1174.), (False, 1250.),\n",
              "       ( True,  530.), (False, 1502.), (False, 1364.), ( True, 1170.),\n",
              "       (False, 1729.), (False, 1642.), ( True, 1218.), (False, 1358.),\n",
              "       ( True,  360.), ( True,  550.), (False,  857.), (False,  768.),\n",
              "       (False,  858.), (False,  770.), ( True,  679.), ( True, 1164.),\n",
              "       ( True,  350.), ( True,  578.), ( True, 1460.), (False, 1434.),\n",
              "       ( True, 1763.), ( True,  889.), ( True,  357.), ( True,  547.),\n",
              "       (False, 1722.), (False, 2372.), ( True, 2030.), ( True, 1002.),\n",
              "       ( True, 1280.), ( True,  338.), ( True,  533.), (False,  168.),\n",
              "       (False, 1169.), ( True, 1675.), (False, 1862.), (False,  629.),\n",
              "       (False, 1167.), ( True,  495.), (False,  967.), (False, 1720.),\n",
              "       ( True,  598.), ( True,  392.), (False, 1502.), (False,  229.),\n",
              "       (False,  310.), (False, 1296.), (False,  488.), (False,  942.),\n",
              "       (False,  570.), (False, 1177.), (False, 1113.), ( True,  288.),\n",
              "       (False,  723.), ( True,  403.), ( True, 1225.), ( True,  338.),\n",
              "       ( True, 1337.), ( True, 1420.), (False, 2048.), ( True,  600.),\n",
              "       (False, 1765.), ( True,  491.), ( True,  305.), (False, 1582.),\n",
              "       (False, 1771.), ( True,  960.), ( True,  571.), (False,  675.),\n",
              "       ( True,  285.), (False, 1472.), ( True, 1279.), (False,  148.),\n",
              "       (False, 1863.), (False, 1933.), ( True,  358.), (False,  734.),\n",
              "       ( True, 2372.), (False, 2563.), (False, 2372.), ( True, 1989.),\n",
              "       ( True, 2015.), (False, 1956.), ( True,  945.), (False, 2153.),\n",
              "       ( True,  838.), ( True,  113.), (False, 1833.), (False, 1722.),\n",
              "       ( True,  241.), ( True, 1352.), (False, 1702.), (False, 1222.),\n",
              "       (False, 1089.), (False, 1243.), ( True,  579.), ( True, 1043.),\n",
              "       (False, 2234.), (False, 2297.), (False, 2014.), ( True,  518.),\n",
              "       (False,  940.), (False,  766.), ( True,  251.), (False, 1959.),\n",
              "       (False, 1897.), ( True,  160.), (False,  970.), (False,  892.),\n",
              "       (False,  753.), ( True,  348.), ( True,  275.), ( True, 1329.),\n",
              "       ( True, 1193.), ( True,  698.), ( True,  436.), ( True,  552.),\n",
              "       ( True,  564.), (False, 2239.), (False, 2237.), ( True,  529.),\n",
              "       (False, 1820.), (False, 1756.), ( True,  515.), ( True,  272.),\n",
              "       ( True,  891.), (False, 1356.), (False, 1352.), (False, 1077.),\n",
              "       ( True,  675.), (False,  855.), (False,  740.), (False, 2551.),\n",
              "       ( True,  754.), ( True,  819.), ( True, 1280.), (False, 2388.),\n",
              "       (False, 2296.), (False, 1884.), ( True, 1059.), (False,  859.),\n",
              "       (False, 1109.), ( True, 1192.), ( True, 1806.), ( True,  500.),\n",
              "       ( True, 1589.), ( True, 1463.), (False, 1826.), (False, 1231.),\n",
              "       (False, 1117.), ( True,  836.), (False, 1222.), (False,  663.),\n",
              "       ( True,  722.), (False,  322.), ( True, 1150.), ( True,  446.),\n",
              "       (False, 1855.), ( True,  238.), (False, 1838.), (False, 1826.),\n",
              "       ( True, 1093.), (False, 2051.), ( True,  370.), ( True,  861.),\n",
              "       ( True, 1587.), ( True,  552.), (False, 2353.), (False, 2471.),\n",
              "       ( True,  893.), ( True, 2093.), (False, 2612.), ( True,  956.),\n",
              "       (False, 1637.), (False, 2456.), (False, 2227.), ( True, 1601.),\n",
              "       (False, 1841.), (False, 2177.), (False, 2052.), (False,  973.),\n",
              "       (False, 2156.), (False, 1499.), (False, 2030.), ( True,  573.),\n",
              "       (False, 1666.), (False, 1979.), (False, 1786.), (False, 1847.),\n",
              "       (False, 2009.), (False, 1926.), (False, 1490.), ( True,  233.),\n",
              "       (False, 1240.), (False, 1751.), (False, 1878.), (False, 1171.),\n",
              "       (False, 1751.), (False, 1756.), ( True,  714.), (False, 1505.),\n",
              "       ( True,  776.), (False, 1443.), (False, 1317.), (False,  870.),\n",
              "       ( True,  859.), ( True,  223.), (False, 1212.), (False, 1119.),\n",
              "       (False,  740.), (False, 1062.), (False,    8.), (False,  936.),\n",
              "       (False,  740.), ( True,  632.), (False, 1760.), (False, 1013.),\n",
              "       (False,  779.), ( True,  375.), (False, 1323.), (False, 1233.),\n",
              "       (False,  986.), (False,  650.), (False,  628.), (False, 1866.),\n",
              "       ( True,  491.), ( True, 1918.), ( True,   72.), ( True, 1140.),\n",
              "       ( True,  799.), ( True, 1105.), ( True,  548.), ( True,  227.),\n",
              "       (False, 1838.), (False, 1833.), ( True,  550.), ( True,  426.),\n",
              "       (False, 1834.), (False, 1604.), (False,  772.), ( True, 1146.),\n",
              "       ( True,  371.), ( True,  883.), (False, 1735.), ( True,  554.),\n",
              "       ( True,  790.), (False, 1340.), ( True,  490.), (False, 1557.),\n",
              "       ( True,  594.), (False,  828.), ( True,  594.), (False,  841.),\n",
              "       (False,  695.), (False, 2556.), ( True, 1753.), ( True,  417.),\n",
              "       ( True,  956.), (False, 1846.), (False, 1703.), (False, 1720.),\n",
              "       (False, 1355.), (False, 1603.), ( True,  476.), (False, 1350.),\n",
              "       (False, 1341.), (False, 2449.), ( True, 2286.), ( True,  456.),\n",
              "       ( True,  536.), ( True,  612.), ( True, 2034.), ( True, 1990.),\n",
              "       ( True, 2456.), (False, 2205.), ( True,  544.), ( True,  336.),\n",
              "       (False, 2057.), ( True,  575.), (False, 2011.), ( True,  537.),\n",
              "       (False, 2217.), ( True, 1814.), ( True,  890.), (False, 1114.),\n",
              "       (False,  974.), (False,  296.), (False, 2320.), ( True,  795.),\n",
              "       ( True,  867.), (False, 1703.), ( True,  670.), ( True,  981.),\n",
              "       (False, 1094.), ( True,  755.), ( True, 1388.), ( True, 1387.),\n",
              "       ( True,  535.), (False, 1653.), (False, 1904.), (False, 1868.),\n",
              "       (False, 1767.), ( True,  855.), ( True, 1157.), (False, 1869.),\n",
              "       (False, 1152.), (False, 1401.), (False,  918.), ( True,  745.),\n",
              "       (False, 1283.), ( True, 1481.), (False, 1807.), ( True,  542.),\n",
              "       (False, 1441.), (False, 1277.), (False, 1486.), (False,  273.),\n",
              "       ( True,  177.), ( True,  545.), (False, 1185.), (False,  631.),\n",
              "       (False,  995.), (False, 1088.), (False,  877.), (False,  798.),\n",
              "       (False, 2380.), ( True, 1679.), ( True,  498.), (False, 2138.),\n",
              "       (False, 2175.), (False, 2271.), (False,   17.), ( True,  964.),\n",
              "       ( True,  540.), ( True,  747.), ( True,  650.), ( True,  410.),\n",
              "       ( True,  624.), (False, 1560.), ( True,  455.), (False, 1629.),\n",
              "       (False, 1730.), (False, 1483.), ( True,  687.), ( True,  308.),\n",
              "       ( True,  563.), (False,   46.), (False, 2144.), ( True,  344.),\n",
              "       (False,  945.), (False, 1905.), ( True,  855.), (False, 2370.),\n",
              "       (False,  853.), (False,  692.), ( True,  475.), (False, 2195.),\n",
              "       (False,  758.), ( True,  648.), (False,  761.), (False,  596.),\n",
              "       ( True,  195.), ( True,  473.), (False,  747.), (False, 2659.),\n",
              "       ( True, 1977.), (False, 2401.), (False, 1499.), (False, 1856.),\n",
              "       ( True,  595.), (False, 2148.), (False, 2126.), ( True, 1975.),\n",
              "       ( True, 1641.), (False, 1717.), (False, 1858.), (False, 2049.),\n",
              "       ( True, 1502.), (False, 1922.), (False, 1818.), (False, 1100.),\n",
              "       (False, 1499.), ( True,  359.), (False, 1645.), (False, 1356.),\n",
              "       (False, 1632.), (False,  967.), (False, 1091.), ( True,  918.),\n",
              "       ( True,  557.), ( True, 1219.), (False, 2170.), ( True,  729.),\n",
              "       ( True, 1449.), ( True,  991.), ( True,  481.), (False, 1655.),\n",
              "       ( True,  857.), ( True,  369.), (False, 1627.), (False, 1578.),\n",
              "       ( True,  732.), ( True,  460.), (False, 1208.), ( True,  730.),\n",
              "       (False,  722.), (False,  717.), (False,  651.), (False,  637.),\n",
              "       (False,  615.), (False,   42.), ( True,  307.), ( True,  983.),\n",
              "       ( True,  120.), ( True, 1525.), (False, 1680.), ( True, 1730.),\n",
              "       ( True,  805.), (False, 2388.), ( True,  559.), (False, 1977.),\n",
              "       ( True,  476.), (False, 1514.), (False, 1617.), ( True, 1094.),\n",
              "       ( True,  784.), ( True,  181.), ( True,  415.), ( True, 1120.),\n",
              "       ( True,  316.), ( True,  637.), ( True,  247.), (False,  888.),\n",
              "       ( True,  622.), (False,  806.), (False, 1163.), (False, 1721.),\n",
              "       (False,  741.), ( True,  372.), (False, 1331.), ( True,  394.),\n",
              "       (False,  652.), (False,  657.), (False,  567.), (False,  429.),\n",
              "       (False,  566.), (False,   15.), ( True,   98.), (False,  368.),\n",
              "       (False,  432.), (False,  319.), (False,   65.), (False,   16.),\n",
              "       (False,   29.), (False,   18.), (False,   17.), ( True,  308.),\n",
              "       (False, 1965.), ( True,  548.), ( True,  293.), (False, 2017.),\n",
              "       (False, 1093.), (False,  792.), ( True,  586.), (False, 1434.),\n",
              "       (False,   67.), (False,  623.), (False, 2128.), (False, 1965.),\n",
              "       (False, 2161.), ( True, 1183.), ( True, 1108.), (False, 2065.),\n",
              "       (False, 1598.), ( True,  491.), ( True, 1366.), (False,  424.),\n",
              "       ( True,  859.), ( True,  180.), (False, 1625.), (False, 1938.),\n",
              "       ( True, 1343.), ( True,  646.), (False, 2192.), ( True,  502.),\n",
              "       (False, 1675.), ( True, 1363.), ( True,  420.), ( True,  982.),\n",
              "       (False, 1459.), (False, 1192.), (False, 1264.), (False, 1095.),\n",
              "       (False, 1078.), (False,  737.), (False,  461.), ( True,  465.),\n",
              "       ( True,  842.), (False,  918.), ( True,  374.), (False, 1089.),\n",
              "       (False, 1527.), ( True,  285.), ( True, 1306.), ( True,  797.),\n",
              "       (False, 1441.), ( True,  343.), (False,  936.), (False,  195.),\n",
              "       ( True,  503.), ( True,  827.), (False, 1427.), (False,  854.),\n",
              "       ( True,  177.), ( True,  281.), ( True,  205.), (False,  751.),\n",
              "       ( True,  629.), (False,  526.), (False,  463.), (False,  529.),\n",
              "       (False,  623.), (False,  546.), (False,  213.), (False,  276.),\n",
              "       (False, 2010.), (False, 2009.), (False, 1984.), (False, 1981.),\n",
              "       ( True,  624.), ( True,  742.), (False, 1818.), ( True, 1493.),\n",
              "       (False, 1432.), ( True,  801.), (False, 1182.), (False,   71.),\n",
              "       (False,  114.), (False,   63.), (False, 1722.), (False, 1692.),\n",
              "       (False,  177.), (False,   57.), (False, 1152.), (False,  733.),\n",
              "       ( True, 1459.), (False, 2237.), (False,  933.), (False, 2056.),\n",
              "       (False, 1729.), (False, 2024.), ( True, 2039.), (False, 2027.),\n",
              "       (False, 2007.), ( True, 1253.), (False, 1789.), (False, 1707.),\n",
              "       (False, 1714.), (False, 1717.), ( True,  329.), (False, 1624.),\n",
              "       (False, 1600.), ( True,  385.), (False, 1475.), (False, 1435.),\n",
              "       (False,  541.), (False, 1329.), (False, 1357.), (False, 1343.),\n",
              "       ( True,  748.), ( True, 1090.), (False, 1219.), (False,  553.),\n",
              "       ( True,  662.), (False,  969.), (False,  974.), ( True,  866.),\n",
              "       ( True,  504.), (False,  721.), (False,  186.), ( True,  769.),\n",
              "       ( True,  727.), ( True, 1701.)],\n",
              "      dtype=[('cens', '?'), ('time', '<f8')])"
            ]
          },
          "execution_count": 39,
          "metadata": {},
          "output_type": "execute_result"
        }
      ],
      "source": [
        "y"
      ]
    },
    {
      "cell_type": "code",
      "execution_count": 40,
      "metadata": {
        "colab": {
          "base_uri": "https://localhost:8080/",
          "height": 363
        },
        "id": "QR4upbZRTwls",
        "outputId": "cec53dc3-4fda-45f8-836f-75cd5d258625"
      },
      "outputs": [
        {
          "ename": "KeyError",
          "evalue": "\"None of [Index(['cens', 'time'], dtype='object')] are in the [columns]\"",
          "output_type": "error",
          "traceback": [
            "\u001b[1;31m---------------------------------------------------------------------------\u001b[0m",
            "\u001b[1;31mKeyError\u001b[0m                                  Traceback (most recent call last)",
            "Cell \u001b[1;32mIn [40], line 2\u001b[0m\n\u001b[0;32m      1\u001b[0m \u001b[39mfrom\u001b[39;00m \u001b[39msksurv\u001b[39;00m\u001b[39m.\u001b[39;00m\u001b[39mutil\u001b[39;00m \u001b[39mimport\u001b[39;00m Surv\n\u001b[1;32m----> 2\u001b[0m y2 \u001b[39m=\u001b[39m X[[\u001b[39m\"\u001b[39;49m\u001b[39mcens\u001b[39;49m\u001b[39m\"\u001b[39;49m, \u001b[39m\"\u001b[39;49m\u001b[39mtime\u001b[39;49m\u001b[39m\"\u001b[39;49m]]\n\u001b[0;32m      3\u001b[0m y2[\u001b[39m\"\u001b[39m\u001b[39mcens\u001b[39m\u001b[39m\"\u001b[39m] \u001b[39m=\u001b[39m y2[\u001b[39m\"\u001b[39m\u001b[39mcens\u001b[39m\u001b[39m\"\u001b[39m]\u001b[39m.\u001b[39mastype(\u001b[39mbool\u001b[39m)\n\u001b[0;32m      4\u001b[0m y2 \u001b[39m=\u001b[39m Surv\u001b[39m.\u001b[39mfrom_dataframe(\u001b[39m\"\u001b[39m\u001b[39mcens\u001b[39m\u001b[39m\"\u001b[39m,\u001b[39m\"\u001b[39m\u001b[39mtime\u001b[39m\u001b[39m\"\u001b[39m,y2)\n",
            "File \u001b[1;32mc:\\Users\\ADAWAS\\AppData\\Local\\Programs\\Python\\Python310\\lib\\site-packages\\pandas\\core\\frame.py:3511\u001b[0m, in \u001b[0;36mDataFrame.__getitem__\u001b[1;34m(self, key)\u001b[0m\n\u001b[0;32m   3509\u001b[0m     \u001b[39mif\u001b[39;00m is_iterator(key):\n\u001b[0;32m   3510\u001b[0m         key \u001b[39m=\u001b[39m \u001b[39mlist\u001b[39m(key)\n\u001b[1;32m-> 3511\u001b[0m     indexer \u001b[39m=\u001b[39m \u001b[39mself\u001b[39;49m\u001b[39m.\u001b[39;49mcolumns\u001b[39m.\u001b[39;49m_get_indexer_strict(key, \u001b[39m\"\u001b[39;49m\u001b[39mcolumns\u001b[39;49m\u001b[39m\"\u001b[39;49m)[\u001b[39m1\u001b[39m]\n\u001b[0;32m   3513\u001b[0m \u001b[39m# take() does not accept boolean indexers\u001b[39;00m\n\u001b[0;32m   3514\u001b[0m \u001b[39mif\u001b[39;00m \u001b[39mgetattr\u001b[39m(indexer, \u001b[39m\"\u001b[39m\u001b[39mdtype\u001b[39m\u001b[39m\"\u001b[39m, \u001b[39mNone\u001b[39;00m) \u001b[39m==\u001b[39m \u001b[39mbool\u001b[39m:\n",
            "File \u001b[1;32mc:\\Users\\ADAWAS\\AppData\\Local\\Programs\\Python\\Python310\\lib\\site-packages\\pandas\\core\\indexes\\base.py:5796\u001b[0m, in \u001b[0;36mIndex._get_indexer_strict\u001b[1;34m(self, key, axis_name)\u001b[0m\n\u001b[0;32m   5793\u001b[0m \u001b[39melse\u001b[39;00m:\n\u001b[0;32m   5794\u001b[0m     keyarr, indexer, new_indexer \u001b[39m=\u001b[39m \u001b[39mself\u001b[39m\u001b[39m.\u001b[39m_reindex_non_unique(keyarr)\n\u001b[1;32m-> 5796\u001b[0m \u001b[39mself\u001b[39;49m\u001b[39m.\u001b[39;49m_raise_if_missing(keyarr, indexer, axis_name)\n\u001b[0;32m   5798\u001b[0m keyarr \u001b[39m=\u001b[39m \u001b[39mself\u001b[39m\u001b[39m.\u001b[39mtake(indexer)\n\u001b[0;32m   5799\u001b[0m \u001b[39mif\u001b[39;00m \u001b[39misinstance\u001b[39m(key, Index):\n\u001b[0;32m   5800\u001b[0m     \u001b[39m# GH 42790 - Preserve name from an Index\u001b[39;00m\n",
            "File \u001b[1;32mc:\\Users\\ADAWAS\\AppData\\Local\\Programs\\Python\\Python310\\lib\\site-packages\\pandas\\core\\indexes\\base.py:5856\u001b[0m, in \u001b[0;36mIndex._raise_if_missing\u001b[1;34m(self, key, indexer, axis_name)\u001b[0m\n\u001b[0;32m   5854\u001b[0m     \u001b[39mif\u001b[39;00m use_interval_msg:\n\u001b[0;32m   5855\u001b[0m         key \u001b[39m=\u001b[39m \u001b[39mlist\u001b[39m(key)\n\u001b[1;32m-> 5856\u001b[0m     \u001b[39mraise\u001b[39;00m \u001b[39mKeyError\u001b[39;00m(\u001b[39mf\u001b[39m\u001b[39m\"\u001b[39m\u001b[39mNone of [\u001b[39m\u001b[39m{\u001b[39;00mkey\u001b[39m}\u001b[39;00m\u001b[39m] are in the [\u001b[39m\u001b[39m{\u001b[39;00maxis_name\u001b[39m}\u001b[39;00m\u001b[39m]\u001b[39m\u001b[39m\"\u001b[39m)\n\u001b[0;32m   5858\u001b[0m not_found \u001b[39m=\u001b[39m \u001b[39mlist\u001b[39m(ensure_index(key)[missing_mask\u001b[39m.\u001b[39mnonzero()[\u001b[39m0\u001b[39m]]\u001b[39m.\u001b[39munique())\n\u001b[0;32m   5859\u001b[0m \u001b[39mraise\u001b[39;00m \u001b[39mKeyError\u001b[39;00m(\u001b[39mf\u001b[39m\u001b[39m\"\u001b[39m\u001b[39m{\u001b[39;00mnot_found\u001b[39m}\u001b[39;00m\u001b[39m not in index\u001b[39m\u001b[39m\"\u001b[39m)\n",
            "\u001b[1;31mKeyError\u001b[0m: \"None of [Index(['cens', 'time'], dtype='object')] are in the [columns]\""
          ]
        }
      ],
      "source": [
        "from sksurv.util import Surv\n",
        "y2 = X[[\"cens\", \"time\"]]\n",
        "y2[\"cens\"] = y2[\"cens\"].astype(bool)\n",
        "y2 = Surv.from_dataframe(\"cens\",\"time\",y2)"
      ]
    },
    {
      "attachments": {},
      "cell_type": "markdown",
      "metadata": {},
      "source": [
        "### Datapreparing:"
      ]
    },
    {
      "cell_type": "code",
      "execution_count": 21,
      "metadata": {
        "colab": {
          "base_uri": "https://localhost:8080/",
          "height": 183
        },
        "id": "RPn6ZrZJT042",
        "outputId": "c1b5e269-35fe-43c2-f725-62e1aa8caa33"
      },
      "outputs": [],
      "source": [
        "#loadthedataandtransform it intonumericvalues\n",
        "grade_str = X.loc[:, \"tgrade\"].astype(object).values[:,np.newaxis]"
      ]
    },
    {
      "cell_type": "code",
      "execution_count": 22,
      "metadata": {
        "colab": {
          "base_uri": "https://localhost:8080/",
          "height": 183
        },
        "id": "Jdo6b0tdT4cT",
        "outputId": "25a87226-7d06-4161-d965-5ddcc3740dab"
      },
      "outputs": [],
      "source": [
        "#loadthedataandtransform it intonumericvalues\n",
        "grade_num = OrdinalEncoder(categories=[[\"I\", \"II\", \"III\"]]).fit_transform(grade_str)"
      ]
    },
    {
      "cell_type": "code",
      "execution_count": 23,
      "metadata": {
        "colab": {
          "base_uri": "https://localhost:8080/",
          "height": 183
        },
        "id": "gqu0hAebT9Kl",
        "outputId": "bd77d7bd-724c-4677-b091-c238e1e9beda"
      },
      "outputs": [],
      "source": [
        "#loadthedataandtransform it intonumericvalues\n",
        "X_no_grade = X.drop(\"tgrade\",axis=1)"
      ]
    },
    {
      "cell_type": "code",
      "execution_count": 24,
      "metadata": {
        "colab": {
          "base_uri": "https://localhost:8080/",
          "height": 200
        },
        "id": "xDfkNlg-UBys",
        "outputId": "43f4b33a-b9eb-42e6-dd81-bafc4c0d5699"
      },
      "outputs": [],
      "source": [
        "#loadthedataandtransform it intonumericvalues\n",
        "Xt = OneHotEncoder().fit_transform(X_no_grade)\n",
        "Xt.loc[:, \"tgrade\"] = grade_num"
      ]
    },
    {
      "cell_type": "code",
      "execution_count": 25,
      "metadata": {
        "colab": {
          "base_uri": "https://localhost:8080/",
          "height": 200
        },
        "id": "5Uc39OpcUDtR",
        "outputId": "752d1a33-cebd-4f3f-f87e-6de9d78f69a2"
      },
      "outputs": [],
      "source": [
        "#thedataissplit into75% for trainingand25% for testing\n",
        "random_state = 20\n",
        "X_train, X_test,y_train,y_test = train_test_split(Xt, y, test_size=0.25, random_state=random_state)"
      ]
    },
    {
      "cell_type": "code",
      "execution_count": 26,
      "metadata": {
        "colab": {
          "base_uri": "https://localhost:8080/",
          "height": 235
        },
        "id": "HDcSMpIEUIVp",
        "outputId": "c74fc8d8-8a6c-42f1-b547-5310fdb658de"
      },
      "outputs": [
        {
          "data": {
            "text/plain": [
              "0.6759696016771488"
            ]
          },
          "execution_count": 26,
          "metadata": {},
          "output_type": "execute_result"
        }
      ],
      "source": [
        "#Training\n",
        "rsf = RandomSurvivalForest(n_estimators=1000,\n",
        "min_samples_split=10,\n",
        "min_samples_leaf=15,\n",
        "max_features=\"sqrt\",\n",
        "n_jobs=-1,\n",
        "random_state=random_state)\n",
        "rsf.fit(X_train,y_train)\n",
        "#check how well the modelperformsbyevaluatingitonthetestdata.\n",
        "rsf.score(X_test, y_test)"
      ]
    },
    {
      "cell_type": "code",
      "execution_count": 27,
      "metadata": {
        "colab": {
          "base_uri": "https://localhost:8080/",
          "height": 235
        },
        "id": "-8RTb-HnURQ-",
        "outputId": "653b2ac6-40c1-4740-b2c1-5baddf10679c"
      },
      "outputs": [
        {
          "data": {
            "text/html": [
              "<div>\n",
              "<style scoped>\n",
              "    .dataframe tbody tr th:only-of-type {\n",
              "        vertical-align: middle;\n",
              "    }\n",
              "\n",
              "    .dataframe tbody tr th {\n",
              "        vertical-align: top;\n",
              "    }\n",
              "\n",
              "    .dataframe thead th {\n",
              "        text-align: right;\n",
              "    }\n",
              "</style>\n",
              "<table border=\"1\" class=\"dataframe\">\n",
              "  <thead>\n",
              "    <tr style=\"text-align: right;\">\n",
              "      <th></th>\n",
              "      <th>age</th>\n",
              "      <th>estrec</th>\n",
              "      <th>horTh=yes</th>\n",
              "      <th>menostat=Post</th>\n",
              "      <th>pnodes</th>\n",
              "      <th>progrec</th>\n",
              "      <th>tsize</th>\n",
              "      <th>tgrade</th>\n",
              "    </tr>\n",
              "  </thead>\n",
              "  <tbody>\n",
              "    <tr>\n",
              "      <th>119</th>\n",
              "      <td>33.0</td>\n",
              "      <td>0.0</td>\n",
              "      <td>0.0</td>\n",
              "      <td>0.0</td>\n",
              "      <td>1.0</td>\n",
              "      <td>26.0</td>\n",
              "      <td>35.0</td>\n",
              "      <td>2.0</td>\n",
              "    </tr>\n",
              "    <tr>\n",
              "      <th>574</th>\n",
              "      <td>34.0</td>\n",
              "      <td>37.0</td>\n",
              "      <td>0.0</td>\n",
              "      <td>0.0</td>\n",
              "      <td>1.0</td>\n",
              "      <td>0.0</td>\n",
              "      <td>40.0</td>\n",
              "      <td>2.0</td>\n",
              "    </tr>\n",
              "    <tr>\n",
              "      <th>421</th>\n",
              "      <td>36.0</td>\n",
              "      <td>14.0</td>\n",
              "      <td>0.0</td>\n",
              "      <td>0.0</td>\n",
              "      <td>1.0</td>\n",
              "      <td>76.0</td>\n",
              "      <td>36.0</td>\n",
              "      <td>1.0</td>\n",
              "    </tr>\n",
              "    <tr>\n",
              "      <th>24</th>\n",
              "      <td>65.0</td>\n",
              "      <td>64.0</td>\n",
              "      <td>0.0</td>\n",
              "      <td>1.0</td>\n",
              "      <td>26.0</td>\n",
              "      <td>2.0</td>\n",
              "      <td>70.0</td>\n",
              "      <td>2.0</td>\n",
              "    </tr>\n",
              "    <tr>\n",
              "      <th>8</th>\n",
              "      <td>80.0</td>\n",
              "      <td>59.0</td>\n",
              "      <td>0.0</td>\n",
              "      <td>1.0</td>\n",
              "      <td>30.0</td>\n",
              "      <td>0.0</td>\n",
              "      <td>39.0</td>\n",
              "      <td>1.0</td>\n",
              "    </tr>\n",
              "    <tr>\n",
              "      <th>226</th>\n",
              "      <td>72.0</td>\n",
              "      <td>1091.0</td>\n",
              "      <td>1.0</td>\n",
              "      <td>1.0</td>\n",
              "      <td>36.0</td>\n",
              "      <td>2.0</td>\n",
              "      <td>34.0</td>\n",
              "      <td>2.0</td>\n",
              "    </tr>\n",
              "  </tbody>\n",
              "</table>\n",
              "</div>"
            ],
            "text/plain": [
              "      age  estrec  horTh=yes  menostat=Post  pnodes  progrec  tsize  tgrade\n",
              "119  33.0     0.0        0.0            0.0     1.0     26.0   35.0     2.0\n",
              "574  34.0    37.0        0.0            0.0     1.0      0.0   40.0     2.0\n",
              "421  36.0    14.0        0.0            0.0     1.0     76.0   36.0     1.0\n",
              "24   65.0    64.0        0.0            1.0    26.0      2.0   70.0     2.0\n",
              "8    80.0    59.0        0.0            1.0    30.0      0.0   39.0     1.0\n",
              "226  72.0  1091.0        1.0            1.0    36.0      2.0   34.0     2.0"
            ]
          },
          "execution_count": 27,
          "metadata": {},
          "output_type": "execute_result"
        }
      ],
      "source": [
        "#Predicting\n",
        "#Let’s firstselect acoupleofpatients from thetestdataaccordingtothenumberofpositivelymphnodes andage\n",
        "X_test_sorted = X_test.sort_values(by=[\"pnodes\", \"age\"])\n",
        "X_test_sel = pd.concat((X_test_sorted.head(3), X_test_sorted.tail(3)))\n",
        "X_test_sel"
      ]
    },
    {
      "cell_type": "code",
      "execution_count": 28,
      "metadata": {
        "colab": {
          "base_uri": "https://localhost:8080/",
          "height": 183
        },
        "id": "jcZCJDlHUVbu",
        "outputId": "9ddcaac1-588c-4838-c0af-208e5167e651"
      },
      "outputs": [
        {
          "data": {
            "text/plain": [
              "0     91.477609\n",
              "1    102.897552\n",
              "2     75.883786\n",
              "3    170.502092\n",
              "4    171.210066\n",
              "5    148.691835\n",
              "dtype: float64"
            ]
          },
          "execution_count": 28,
          "metadata": {},
          "output_type": "execute_result"
        }
      ],
      "source": [
        "#The predicted risk scores indicate that risk for the last three patients is quite a bit higher than that of the first three patients.\n",
        "pd.Series(rsf.predict(X_test_sel))"
      ]
    },
    {
      "cell_type": "code",
      "execution_count": 31,
      "metadata": {
        "colab": {
          "base_uri": "https://localhost:8080/",
          "height": 130
        },
        "id": "SirIBhlDUYx7",
        "outputId": "340dbbaf-4682-4a2d-dabb-dc6d35076e2a"
      },
      "outputs": [
        {
          "data": {
            "image/png": "[encoded data removed]",
            "text/plain": [
              "<Figure size 640x480 with 1 Axes>"
            ]
          },
          "metadata": {},
          "output_type": "display_data"
        }
      ],
      "source": [
        "#Plot survivalcurve\n",
        "surv = rsf.predict_survival_function(X_test_sel, return_array=True)\n",
        "for i,s in enumerate(surv):\n",
        "    plt.step(rsf.event_times_,s, where=\"post\", label=str(i))\n",
        "plt.ylabel(\"Survivalprobability\")\n",
        "plt.xlabel(\"Timeindays\")\n",
        "plt.legend()\n",
        "plt.grid(True)"
      ]
    },
    {
      "cell_type": "code",
      "execution_count": 32,
      "metadata": {
        "colab": {
          "base_uri": "https://localhost:8080/",
          "height": 130
        },
        "id": "fygiIZSRUaYJ",
        "outputId": "74d6ad1f-e5d2-4cf1-fcbb-16cd81e9e650"
      },
      "outputs": [
        {
          "data": {
            "image/png": "[encoded data removed]",
            "text/plain": [
              "<Figure size 640x480 with 1 Axes>"
            ]
          },
          "metadata": {},
          "output_type": "display_data"
        }
      ],
      "source": [
        "#plot thepredictedcumulativehazardfunction.\n",
        "surv = rsf.predict_cumulative_hazard_function(X_test_sel, return_array=True)\n",
        "for i,s in enumerate(surv):\n",
        "    plt.step(rsf.event_times_,s, where=\"post\", label=str(i))\n",
        "plt.ylabel(\"Cumulativehazard\")\n",
        "plt.xlabel(\"Timeindays\")\n",
        "plt.legend()\n",
        "plt.grid(True)"
      ]
    },
    {
      "cell_type": "code",
      "execution_count": null,
      "metadata": {
        "id": "a6bqcWc_U3n6"
      },
      "outputs": [],
      "source": []
    }
  ],
  "metadata": {
    "colab": {
      "provenance": []
    },
    "kernelspec": {
      "display_name": "Python 3",
      "language": "python",
      "name": "python3"
    },
    "language_info": {
      "codemirror_mode": {
        "name": "ipython",
        "version": 3
      },
      "file_extension": ".py",
      "mimetype": "text/x-python",
      "name": "python",
      "nbconvert_exporter": "python",
      "pygments_lexer": "ipython3",
      "version": "3.10.6"
    },
    "vscode": {
      "interpreter": {
        "hash": "c1c2e3a0819a58eb9500fae2dee488bc220cb37d7671304225ebf56a1e5e07b4"
      }
    }
  },
  "nbformat": 4,
  "nbformat_minor": 0
}
