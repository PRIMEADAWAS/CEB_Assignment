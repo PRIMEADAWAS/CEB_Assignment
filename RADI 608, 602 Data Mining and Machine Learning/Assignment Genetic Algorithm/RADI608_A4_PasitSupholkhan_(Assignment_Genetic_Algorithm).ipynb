{
  "cells": [
    {
      "cell_type": "markdown",
      "metadata": {
        "colab_type": "text",
        "id": "view-in-github"
      },
      "source": [
        "<a href=\"https://colab.research.google.com/github/PRIMEADAWAS/CEB_Assignment/blob/main/RADI608_A4_PasitSupholkhan_(Assignment_Genetic_Algorithm).ipynb\" target=\"_parent\"><img src=\"https://colab.research.google.com/assets/colab-badge.svg\" alt=\"Open In Colab\"/></a>"
      ]
    },
    {
      "cell_type": "markdown",
      "metadata": {
        "id": "GJo47SRDfB3g"
      },
      "source": [
        "# RADI608_A4_PasitSupholkhan 6536115 (Assignment: Genetic Algorithm)"
      ]
    },
    {
      "cell_type": "markdown",
      "metadata": {
        "id": "54C1R1rn-JAE"
      },
      "source": [
        "**Assignment :Genetic Algorithm**"
      ]
    },
    {
      "cell_type": "markdown",
      "metadata": {
        "id": "270VSmO5-D_P"
      },
      "source": [
        "RADI 608, 602: Data Mining and Machine Learning 2022"
      ]
    },
    {
      "cell_type": "markdown",
      "metadata": {
        "id": "SwbFo-jkKc6q"
      },
      "source": [
        "# Y =$w1𝒙𝟏^𝟐+w2𝒙𝟐^𝟑+w3𝒙𝟑+ w4𝒙𝟒+ w5𝒙𝟓+ w6𝒙𝟔$  \n",
        "The equation has 6 inputs (x1 to x6) and 6 weights (w1 to w6) as shown and inputs values are (x1, x2, x3, x4, x5, x6) = (4, -2, 7, -5, 11, 1). \n",
        "We are going to find the parameters (weights) that maximize such equation. If \n",
        "PC=0.8 and PM=0.1, then"
      ]
    },
    {
      "cell_type": "markdown",
      "metadata": {
        "id": "T9WHYGj_K2eV"
      },
      "source": [
        "## 1)Find the best weights at generation-2 by manual and start with 8 chromosomes \n",
        "(10 points)"
      ]
    },
    {
      "cell_type": "markdown",
      "metadata": {
        "id": "7hqUHZuClXiy"
      },
      "source": [
        "### Initialization: \n",
        "Firsly generate random population with 8 chromosomes and 6 genes"
      ]
    },
    {
      "cell_type": "markdown",
      "metadata": {
        "id": "cDemUFP7Ma0I"
      },
      "source": [
        "     [[1, 1, 0, 0, 3, 1],\n",
        "      [3, 3, 1, 1, 1, 3],\n",
        "      [1, 1, 0, 2, 2, 2],\n",
        "      [1, 2, 0, 1, 1, 0],\n",
        "      [0, 0, 0, 0, 2, 1],\n",
        "      [1, 0, 2, 3, 2, 1],\n",
        "      [2, 3, 2, 1, 3, 3],\n",
        "      [2, 2, 3, 2, 1, 2]]"
      ]
    },
    {
      "cell_type": "markdown",
      "metadata": {
        "id": "sK8yQclBlkuR"
      },
      "source": [
        "### Evaluation function: \n",
        "Evaluate the fitness of each chromosome in the \n",
        "population\n"
      ]
    },
    {
      "cell_type": "markdown",
      "metadata": {
        "id": "5LErYPyLgukI"
      },
      "source": [
        "Then calculate fitness function by input each chromosomes to Y =$w1𝒙𝟏^𝟐+w2𝒙𝟐^𝟑+w3𝒙+ w4𝒙𝟒+ w5𝒙𝟓+ w6𝒙𝟔$   \n",
        " (x1\n",
        ", x2\n",
        ", x3\n",
        ", x4\n",
        ", x5\n",
        ", x6\n",
        ") = (4, -2, 7, -5, 11, 1)"
      ]
    },
    {
      "cell_type": "markdown",
      "metadata": {
        "id": "CHzj4vRnVu-E"
      },
      "source": [
        "- Chromosome 1 [1 1 0 0 3 1] -> fitness score: 42\n",
        "- Chromosome 2 [3 3 1 1 1 3] -> fitness score: 40\n",
        "- Chromosome 3 [1 1 0 2 2 2] -> fitness score: 22\n",
        "- Chromosome 4 [1 2 0 1 1 0] -> fitness score: 6\n",
        "- Chromosome 5 [0 0 0 0 2 1] -> fitness score: 23\n",
        "- Chromosome 6 [1 0 2 3 2 1] -> fitness score: 38\n",
        "- Chromosome 7 [2 3 2 1 3 3] -> fitness score: 53\n",
        "- Chromosome 8 [2 2 3 2 1 2] -> fitness score: 40"
      ]
    },
    {
      "cell_type": "markdown",
      "metadata": {
        "id": "qn9aABKEh3lm"
      },
      "source": [
        "### Selection of parents: \n",
        "Parents (chromosomes) selection for next-generation \n",
        "by using a roulette wheel. The roulette wheel is partitioned by using the ratio \n",
        "of fitness.  \n"
      ]
    },
    {
      "cell_type": "markdown",
      "metadata": {
        "id": "CxRLitPLhdjW"
      },
      "source": [
        " Create a roulette wheel by calculate proportion fitness score  \n",
        " [0.15909091, 0.15151515, 0.08333333, 0.02272727, 0.08712121,\n",
        "       0.14393939, 0.20075758, 0.15151515]  \n",
        "randomly probability and select new parents that match roulette wheel"
      ]
    },
    {
      "cell_type": "markdown",
      "metadata": {
        "id": "Uscbx4NxWwZC"
      },
      "source": [
        "- Parent: 1\n",
        "  - propability: 0.3560674039149193\n",
        "  - Chromosome 3 [1 1 0 2 2 2]\n",
        "- Parent: 2\n",
        "  - propability: 0.9968532207997488\n",
        "  - Chromosome 8 [2 2 3 2 1 2]\n",
        "- Parent: 3\n",
        "  - propability: 0.4394062350191219\n",
        "  - Chromosome 5 [0 0 0 0 2 1]\n",
        "- Parent: 4\n",
        "  - propability: 0.5262657184842291\n",
        "  - Chromosome 6 [1 0 2 3 2 1]\n",
        "- Parent: 5\n",
        "  - propability: 0.7471483198403456\n",
        "  - Chromosome 7 [2 3 2 1 3 3]\n",
        "- Parent: 6\n",
        "  - propability: 0.48711086890685584\n",
        "  - Chromosome 5 [0 0 0 0 2 1]\n",
        "- Parent: 7\n",
        "  - propability: 0.9461239605779831\n",
        "  - Chromosome 8 [2 2 3 2 1 2]\n",
        "- Parent: 8\n",
        "  - propability: 0.8480676706818557\n",
        "  - Chromosome 7 [2 3 2 1 3 3]"
      ]
    },
    {
      "cell_type": "markdown",
      "metadata": {
        "id": "Pa-U_EjsiLQI"
      },
      "source": [
        "Now we get new 8 parent form poopulation to perform 4 crossover"
      ]
    },
    {
      "cell_type": "markdown",
      "metadata": {
        "id": "8tLfxy_yXILb"
      },
      "source": [
        "- Parent 1 [1 1 0 2 2 2]\n",
        "- Parent 2 [2 2 3 2 1 2]\n",
        "- Parent 3 [0 0 0 0 2 1]\n",
        "- Parent 4 [1 0 2 3 2 1]\n",
        "- Parent 5 [2 3 2 1 3 3]\n",
        "- Parent 6 [0 0 0 0 2 1]\n",
        "- Parent 7 [2 2 3 2 1 2]\n",
        "- Parent 8 [2 3 2 1 3 3]"
      ]
    },
    {
      "cell_type": "markdown",
      "metadata": {
        "id": "XiHm7yyWia9k"
      },
      "source": [
        "### Genetic operators: crossover of parents chromosome \n",
        "Random select crossover \n",
        "probability (Pc\n",
        "=0.8) : then random choose Pc\n",
        "between 0 - -> 1"
      ]
    },
    {
      "cell_type": "markdown",
      "metadata": {
        "id": "RtQXLtLFisC1"
      },
      "source": [
        "First pair:\n",
        "- a). Let this P c = 0.776040683546251 for this pair, then < 0.8, So, we create an off-spring.\n",
        "- b). Choose crossover point [1:6] : at fifth genes (by randomly)"
      ]
    },
    {
      "cell_type": "markdown",
      "metadata": {
        "id": "hrco7kPUTnN3"
      },
      "source": [
        "- Pair: 1\n",
        " - propability 0.776040683546251 (<=0.8)\n",
        " - parent1 [1 1 0 2 2 2]\n",
        " - parent2 [2 2 3 2 1 2]\n",
        " - crossover_point: 5\n",
        " - parent1: [1 1 0 2 2] [2]\n",
        " - parent2: [2 2 3 2 1] [2]\n",
        " - child1 [1 1 0 2 2 <mark>2</mark>]\n",
        " - child2 [2 2 3 2 1 <mark>2</mark>]\n"
      ]
    },
    {
      "cell_type": "markdown",
      "metadata": {
        "id": "keQs4IwpjP62"
      },
      "source": [
        "Second pair:\n",
        "- a). Let this P c = 0.2235999507965294 for this pair, then < 0.8, So, we create an off-spring.\n",
        "- b). Choose crossover point [1:6] : at second genes (by randomly)"
      ]
    },
    {
      "cell_type": "markdown",
      "metadata": {
        "id": "VF-PtWGNjHtm"
      },
      "source": [
        "- Pair: 2\n",
        " - propability 0.2235999507965294 (<=0.8)\n",
        " - parent3 [0 0 0 0 2 1]\n",
        " - parent4 [1 0 2 3 2 1]\n",
        " - crossover_point: 2\n",
        " - parent3: [0 0] [0 0 2 1]\n",
        " - parent4: [1 0] [2 3 2 1]\n",
        " - child3 [0 0 <mark>2 3 2 1</mark>]\n",
        " - child4 [1 0 <mark>0 0 2 1</mark>]\n"
      ]
    },
    {
      "cell_type": "markdown",
      "metadata": {
        "id": "cs-NC_4cjiA9"
      },
      "source": [
        "Third pair:\n",
        "- a). Let this P c = 0.7390431583398778 for this pair, then < 0.8, So, we create an off-spring.\n",
        "- b). Choose crossover point [1:6] : at fifth genes (by randomly)"
      ]
    },
    {
      "cell_type": "markdown",
      "metadata": {
        "id": "JLuHNTuLjKRG"
      },
      "source": [
        "- Pair: 3\n",
        " - propability 0.7390431583398778 (<=0.8)\n",
        " - parent5 [2 3 2 1 3 3]\n",
        " - parent6 [0 0 0 0 2 1]\n",
        " - crossover_point: 5\n",
        " - parent5: [2 3 2 1 3] [3]\n",
        " - parent6: [0 0 0 0 2] [1]\n",
        " - child5 [2 3 2 1 3 <mark>1</mark>]\n",
        " - child6 [0 0 0 0 2 <mark>3</mark>]\n"
      ]
    },
    {
      "cell_type": "markdown",
      "metadata": {
        "id": "mIQTvb1ejjKN"
      },
      "source": [
        "Fourth pair:\n",
        "- a). Let this P c = 0.608817724345626 for this pair, then < 0.8, So, we create an off-spring.\n",
        "- b). Choose crossover point [1:6] : at second genes (by randomly)"
      ]
    },
    {
      "cell_type": "markdown",
      "metadata": {
        "id": "8_Pz71NijLbF"
      },
      "source": [
        "- Pair: 4\n",
        " - propability 0.608817724345626 (<=0.8)\n",
        " - parent7 [2 2 3 2 1 2]\n",
        " - parent8 [2 3 2 1 3 3]\n",
        " - crossover_point: 2\n",
        " - parent7: [2 2] [3 2 1 2]\n",
        " - parent8: [2 3] [2 1 3 3]\n",
        " - child7 [2 2 <mark>2 1 3 3</mark>]\n",
        " - child8 [2 3 <mark>3 2 1 2</mark>]"
      ]
    },
    {
      "cell_type": "markdown",
      "metadata": {
        "id": "SQBoMlnukYRb"
      },
      "source": [
        "Now we get new 8 child from crossover with 0.8 probability and random pick crossover point"
      ]
    },
    {
      "cell_type": "markdown",
      "metadata": {
        "id": "oBQLOkclXrNa"
      },
      "source": [
        "- Child 1 [1 1 0 2 2 2]\n",
        "- Child 2 [2 2 3 2 1 2]\n",
        "- Child 3 [0 0 2 3 2 1]\n",
        "- Child 4 [1 0 0 0 2 1]\n",
        "- Child 5 [2 3 2 1 3 1]\n",
        "- Child 6 [0 0 0 0 2 3]\n",
        "- Child 7 [2 2 2 1 3 3]\n",
        "- Child 8 [2 3 3 2 1 2]"
      ]
    },
    {
      "cell_type": "markdown",
      "metadata": {
        "id": "PA_mG0Z5lBjp"
      },
      "source": [
        "### Mutation of chromosome: \n",
        "Random select \n",
        "mutation probability that is a degree of mutation (Pm\n",
        "=0.1) : PM\n",
        "is \n",
        "choose between 0 - -> 1. (less mutation < Pm\n",
        "< high mutation)\n"
      ]
    },
    {
      "cell_type": "markdown",
      "metadata": {
        "id": "D96CtYRAa8vf"
      },
      "source": [
        "    [0.78754165 0.13900213 0.99752882 0.93548842 0.88938942 0.31257768]\n",
        "    [0.29411211 0.50485319 0.16175053 0.98495448 0.69071788 0.4721544 ]\n",
        "    [0.37896492 *0.00979026* 0.95985827 0.39754944 0.78206804 0.61655943]\n",
        "    [0.90296437 0.86120391 0.93258294 *0.03828714* 0.79568895 0.59856582]\n",
        "    [0.84765509 0.20233297 0.32874477 0.93154508 0.26531697 0.40059587]\n",
        "    [0.81715108 0.69050783 0.15490165 0.23658784 0.22025666 0.39759354]\n",
        "    [0.80801478 *0.01017805* 0.54902537 0.62586009 0.52376769 *0.09054413*]\n",
        "    [0.31037127 0.54933014 0.86138559 0.63325004 0.24551935 0.49513457]"
      ]
    },
    {
      "cell_type": "markdown",
      "metadata": {
        "id": "dXpE28bXmtny"
      },
      "source": [
        "Then update the value at index which have probability less than mutaion probability by add random integer number between -2 and 2 to previous value."
      ]
    },
    {
      "cell_type": "markdown",
      "metadata": {
        "id": "puHCoXiYnJjG"
      },
      "source": [
        " 8 Child after mutation by plus 1(create by random integer number between -2 and 2)  \n",
        " yellow highlight show mutation points and new values after mutated"
      ]
    },
    {
      "cell_type": "markdown",
      "metadata": {
        "id": "iMoRcswWZPJp"
      },
      "source": [
        "- Child 1 [1 1 0 2 2 2]\n",
        "- Child 2 [2 2 3 2 1 2]\n",
        "- Child 3 [0 <mark >1</mark> 2 3 2 1]\n",
        "- Child 4 [1 0 0 <mark >1</mark> 2 1]\n",
        "- Child 5 [2 3 2 1 3 1]\n",
        "- Child 6 [0 0 0 0 2 3]\n",
        "- Child 7 [2 <mark >3</mark> 2 1 3 <mark >4</mark>]\n",
        "- Child 8 [2 3 3 2 1 2]\n"
      ]
    },
    {
      "cell_type": "markdown",
      "metadata": {
        "id": "eK2wTARCnozf"
      },
      "source": [
        "# Compare fitness score between generation1 and 2 \n"
      ]
    },
    {
      "cell_type": "markdown",
      "metadata": {
        "id": "f02crUNydLXf"
      },
      "source": [
        "Genration 2:  \n",
        "score_gen2 mean = 34.0\n",
        "- Child 1 [1 1 0 2 2 2] -> fitness score_gen2: 22\n",
        "- Child 2 [2 2 3 2 1 2] -> fitness score_gen2: 40\n",
        "- Child 3 [0 1 2 3 2 1] -> fitness score_gen2: 14\n",
        "- Child 4 [1 0 0 1 2 1] -> fitness score_gen2: 34\n",
        "- Child 5 [2 3 2 1 3 1] -> fitness score_gen2: 51\n",
        "- Child 6 [0 0 0 0 2 3] -> fitness score_gen2: 25\n",
        "- Child 7 [2 3 2 1 3 4] -> fitness score_gen2: 54\n",
        "- Child 8 [2 3 3 2 1 2] -> fitness score_gen2: 32"
      ]
    },
    {
      "cell_type": "markdown",
      "metadata": {
        "id": "mLDehybqnY9R"
      },
      "source": [
        "Genration 1:  \n",
        "score_gen1 mean = 33.0\n",
        "- Chromosome 1 [1 1 0 0 3 1] -> fitness score: 42\n",
        "- Chromosome 2 [3 3 1 1 1 3] -> fitness score: 40\n",
        "- Chromosome 3 [1 1 0 2 2 2] -> fitness score: 22\n",
        "- Chromosome 4 [1 2 0 1 1 0] -> fitness score: 6\n",
        "- Chromosome 5 [0 0 0 0 2 1] -> fitness score: 23\n",
        "- Chromosome 6 [1 0 2 3 2 1] -> fitness score: 38\n",
        "- Chromosome 7 [2 3 2 1 3 3] -> fitness score: 53\n",
        "- Chromosome 8 [2 2 3 2 1 2] -> fitness score: 40"
      ]
    },
    {
      "cell_type": "markdown",
      "metadata": {
        "id": "SQYqy6ROn0g3"
      },
      "source": [
        "# The best weight for generation 2 is\n",
        "- Child 7 [2 3 2 1 3 4] has fitness score_gen2: 54"
      ]
    },
    {
      "cell_type": "markdown",
      "metadata": {
        "id": "OeD7mLi2K4cC"
      },
      "source": [
        "## 2)Find the best weights at generation-1000 by using Python and start with 50 \n",
        "chromosomes(10 points)"
      ]
    },
    {
      "cell_type": "code",
      "execution_count": 284,
      "metadata": {
        "id": "guMiwaCeW_XJ"
      },
      "outputs": [],
      "source": [
        "import random\n",
        "import numpy as np"
      ]
    },
    {
      "cell_type": "code",
      "execution_count": 285,
      "metadata": {
        "id": "1OEltz8xXDv4"
      },
      "outputs": [],
      "source": [
        "# create population by random real number between -4.0 to 4.0 then assign to array size (individuals, chromosome_length)\n",
        "def create_starting_population(individuals, chromosome_length):\n",
        "    population = np.random.uniform(low=-4.0, high=4.0, size=(individuals, chromosome_length))\n",
        "    \n",
        "    return population"
      ]
    },
    {
      "cell_type": "code",
      "execution_count": 286,
      "metadata": {
        "colab": {
          "base_uri": "https://localhost:8080/"
        },
        "id": "QFkPJTL1DKdi",
        "outputId": "fe530e9a-a362-4b64-f27d-533961673282"
      },
      "outputs": [
        {
          "data": {
            "text/plain": [
              "array([[-3.64907035,  0.88713177, -3.17278613,  0.64826146,  2.19563044,\n",
              "        -2.41751422],\n",
              "       [-0.3340995 ,  2.66799882,  0.18798955, -3.70374878, -0.60615882,\n",
              "        -2.08775579],\n",
              "       [-3.1392833 ,  1.5006366 , -1.01335751,  3.39444522,  2.90649332,\n",
              "        -2.18292805],\n",
              "       [ 3.8930868 , -3.154931  , -0.75918754, -2.34034876,  0.28812382,\n",
              "        -2.87706573]])"
            ]
          },
          "execution_count": 286,
          "metadata": {},
          "output_type": "execute_result"
        }
      ],
      "source": [
        "#  test create population size 4 x 6\n",
        "population = create_starting_population(4,6)\n",
        "population"
      ]
    },
    {
      "cell_type": "code",
      "execution_count": 287,
      "metadata": {
        "colab": {
          "base_uri": "https://localhost:8080/"
        },
        "id": "f1rlAsUOAV6z",
        "outputId": "63c6f571-a176-4550-a1a6-3222642949c6"
      },
      "outputs": [
        {
          "data": {
            "text/plain": [
              "[16, -8, 7, -5, 11, 1]"
            ]
          },
          "execution_count": 287,
          "metadata": {},
          "output_type": "execute_result"
        }
      ],
      "source": [
        "equation_inputs = [4**2,-2**3,7,-5,11,1]\n",
        "equation_inputs"
      ]
    },
    {
      "cell_type": "code",
      "execution_count": 288,
      "metadata": {
        "id": "3rYm7803XGeb"
      },
      "outputs": [],
      "source": [
        "# cal fitness by follow equation in the question\n",
        "def calculate_fitness(population):\n",
        "    equation_inputs = [4**2,-2**3,7,-5,11,1]\n",
        "    fitness_scores = np.sum(population*equation_inputs,axis=1)\n",
        "     \n",
        "    return fitness_scores"
      ]
    },
    {
      "cell_type": "code",
      "execution_count": 289,
      "metadata": {
        "colab": {
          "base_uri": "https://localhost:8080/"
        },
        "id": "Iosi5jyUXIJm",
        "outputId": "7c40a2fd-af3f-4367-bfb2-449fef30ede4"
      },
      "outputs": [
        {
          "data": {
            "text/plain": [
              "array([-69.19856933, -15.61041458, -56.51085589,  94.20856424])"
            ]
          },
          "execution_count": 289,
          "metadata": {},
          "output_type": "execute_result"
        }
      ],
      "source": [
        "# show fitness score for test population\n",
        "scores = calculate_fitness(population)\n",
        "scores"
      ]
    },
    {
      "cell_type": "code",
      "execution_count": 290,
      "metadata": {
        "id": "EnjFwppbXKfu"
      },
      "outputs": [],
      "source": [
        "# randomly select parent from population compare by fitness score\n",
        "def select_individual_by_tournament(population, scores):\n",
        "    # Get population size\n",
        "    population_size = len(scores)\n",
        "    \n",
        "    # Pick individuals for tournament\n",
        "    fighter_1 = random.randint(0, population_size-1)\n",
        "    fighter_2 = random.randint(0, population_size-1)\n",
        "    \n",
        "    # Get fitness score for each\n",
        "    fighter_1_fitness = scores[fighter_1]\n",
        "    fighter_2_fitness = scores[fighter_2]\n",
        "    \n",
        "    # Identify undividual with highest fitness\n",
        "    # Fighter 1 will win if score are equal\n",
        "    if fighter_1_fitness >= fighter_2_fitness:\n",
        "        winner = fighter_1\n",
        "    else:\n",
        "        winner = fighter_2\n",
        "    \n",
        "    # Return the chromsome of the winner\n",
        "    return population[winner, :]\n"
      ]
    },
    {
      "cell_type": "code",
      "execution_count": 291,
      "metadata": {
        "id": "2ZQ7aWftX2Rq"
      },
      "outputs": [],
      "source": [
        "# random crossover point and perform crossover to 2 parent then return 2 child \n",
        "def breed_by_crossover(parent_1, parent_2):\n",
        "    # Get length of chromosome\n",
        "    chromosome_length = len(parent_1)\n",
        "    \n",
        "    # Pick crossover point, avoding ends of chromsome\n",
        "    crossover_point = random.randint(1,chromosome_length-1)\n",
        "    \n",
        "    # Create children. np.hstack joins two arrays\n",
        "    child_1 = np.hstack((parent_1[0:crossover_point],\n",
        "                        parent_2[crossover_point:]))\n",
        "    \n",
        "    child_2 = np.hstack((parent_2[0:crossover_point],\n",
        "                        parent_1[crossover_point:]))\n",
        "    \n",
        "    # Return children\n",
        "    return child_1, child_2"
      ]
    },
    {
      "cell_type": "code",
      "execution_count": 292,
      "metadata": {
        "id": "14_2_iDNXZgz"
      },
      "outputs": [],
      "source": [
        "# create random prob matrix and check with mutation_probability then chagne these value by random real number between -1.0 to 1.0\n",
        "def randomly_mutate_population(population, mutation_probability):\n",
        "    \n",
        "    # Apply random mutation\n",
        "        random_mutation_array = np.random.random(\n",
        "            size=(population.shape))\n",
        "        # print(population)\n",
        "        random_mutation_boolean = \\\n",
        "            random_mutation_array <= mutation_probability\n",
        "        # print(random_mutation_boolean)\n",
        "        # print(\"what happen?:\",population[random_mutation_boolean])\n",
        "\n",
        "        random_value = np.random.uniform(-1.0, 1.0, 1)\n",
        "        # print(random_value)\n",
        "        population[random_mutation_boolean] =population[random_mutation_boolean] + random_value\n",
        "        \n",
        "        # Return mutation population\n",
        "        return population"
      ]
    },
    {
      "cell_type": "code",
      "execution_count": 293,
      "metadata": {
        "id": "gGV_lgq0XbDv"
      },
      "outputs": [],
      "source": [
        "# Set general parameters\n",
        "chromosome_length = 6\n",
        "population_size = 50\n",
        "maximum_generation = 1000\n",
        "best_score_progress = [] # Tracks progress"
      ]
    },
    {
      "cell_type": "code",
      "execution_count": 294,
      "metadata": {
        "colab": {
          "base_uri": "https://localhost:8080/"
        },
        "id": "aBoI7CTtXc_q",
        "outputId": "80fc6154-3089-4007-ac59-da91c7a6a910"
      },
      "outputs": [
        {
          "data": {
            "text/plain": [
              "array([[ 1.41783747,  3.21451277,  1.07677978, -0.30681626,  3.38571255,\n",
              "        -2.94666835],\n",
              "       [-3.72085561,  0.04361285,  3.37745206, -2.47243805,  2.63499979,\n",
              "         2.45033963],\n",
              "       [ 1.97823574, -0.48725169, -0.87661309,  3.83890631, -3.50541954,\n",
              "         1.94051138],\n",
              "       [ 0.16414187,  0.94323901, -0.12540325,  2.39256693,  1.16538794,\n",
              "         1.45106744],\n",
              "       [ 2.9070622 ,  1.41954616, -2.12142804,  2.80160585,  1.3580473 ,\n",
              "        -1.65013228],\n",
              "       [ 1.98347686,  0.09015885,  1.1260575 , -0.89450224,  1.54852867,\n",
              "        -2.90020372],\n",
              "       [ 2.05031301,  0.01438425, -1.43314922,  3.58213505, -0.24941485,\n",
              "        -0.85737491],\n",
              "       [ 2.94182106,  0.54903599,  2.93901837, -2.51733887, -3.36429267,\n",
              "         0.23318524],\n",
              "       [ 3.34027511,  1.04049719,  3.96883189,  1.05006927,  2.59625243,\n",
              "         1.30837554],\n",
              "       [ 2.49621449,  0.01567609, -2.57643647, -1.81765059,  3.26968036,\n",
              "         2.28808964]])"
            ]
          },
          "execution_count": 294,
          "metadata": {},
          "output_type": "execute_result"
        }
      ],
      "source": [
        "# Create starting population chromosome_length = 6,population_size = 50\n",
        "population = create_starting_population(population_size, chromosome_length)\n",
        "population[0:10]"
      ]
    },
    {
      "cell_type": "code",
      "execution_count": 295,
      "metadata": {
        "colab": {
          "base_uri": "https://localhost:8080/"
        },
        "id": "YfEEK4smXha-",
        "outputId": "b2e898ef-c25e-4264-cde2-9c243529aeee"
      },
      "outputs": [
        {
          "name": "stdout",
          "output_type": "stream",
          "text": [
            "Starting best score, % target:  109.94922047981896\n"
          ]
        },
        {
          "data": {
            "text/plain": [
              "array([ 40.3370068 ,   7.55709947, -26.40014134,  -3.48996484,\n",
              "        19.58698835,  57.50288425,   1.14627613,  39.06263779,\n",
              "        97.51905332,  69.12179439,  44.35404761,  30.35420605,\n",
              "        -9.13304237, -20.09032254, -33.50074183,   9.65314583,\n",
              "       -97.18941022, -87.72196227, -34.54597964, -58.40985869,\n",
              "        64.91575872,   8.08789772,  58.34130516,   5.42129608,\n",
              "       -73.57445664, -61.35523639,   7.34696432, -35.26585657,\n",
              "       -41.71528968, -24.72545377, -46.9238193 ,  22.38285598,\n",
              "        48.40963326, 109.94922048, -18.75561132, -37.03638925,\n",
              "        -2.06206788, -13.1305041 , -80.1139457 ,   7.8250951 ,\n",
              "         6.68439748, -10.51453332,  59.34890168, -45.8450223 ,\n",
              "       -71.26405542,  52.14282134,  10.25337737,  33.03573513,\n",
              "        94.76749065, -25.28052148])"
            ]
          },
          "execution_count": 295,
          "metadata": {},
          "output_type": "execute_result"
        }
      ],
      "source": [
        "# Display best score in starting population\n",
        "scores = calculate_fitness(population)\n",
        "best_score = np.max(scores)\n",
        "print ('Starting best score, % target: ',best_score)\n",
        "scores"
      ]
    },
    {
      "cell_type": "code",
      "execution_count": 296,
      "metadata": {
        "colab": {
          "base_uri": "https://localhost:8080/"
        },
        "id": "ClnyGV34XjCi",
        "outputId": "fedc04ea-667a-4b59-ece8-051cf27698f7"
      },
      "outputs": [
        {
          "data": {
            "text/plain": [
              "[109.94922047981896]"
            ]
          },
          "execution_count": 296,
          "metadata": {},
          "output_type": "execute_result"
        }
      ],
      "source": [
        "# Add starting best score to progress tracker\n",
        "best_score_progress.append(best_score)\n",
        "best_score_progress"
      ]
    },
    {
      "cell_type": "code",
      "execution_count": 297,
      "metadata": {
        "id": "z8mCK2ZwXkbj"
      },
      "outputs": [],
      "source": [
        "# Now we'll go through the generations of genetic algorithm\n",
        "for generation in range(maximum_generation):\n",
        "    # Create an empty list for new population\n",
        "    new_population = []\n",
        "    \n",
        "    # Create new popualtion generating two children at a time with prob = 0.8\n",
        "    p_cross = 0.8\n",
        "    if(np.random.rand() <= p_cross):\n",
        "      for i in range(int(population_size/2)):\n",
        "          parent_1 = select_individual_by_tournament(population, scores)\n",
        "          parent_2 = select_individual_by_tournament(population, scores)\n",
        "          child_1, child_2 = breed_by_crossover(parent_1, parent_2)\n",
        "          new_population.append(child_1)\n",
        "          new_population.append(child_2)\n",
        "    \n",
        "      # Replace the old population with the new one\n",
        "      population = np.array(new_population)\n",
        "\n",
        "    # Apply mutation with prob = 0.1\n",
        "    mutation_rate = 0.1\n",
        "    population = randomly_mutate_population(population, mutation_rate)\n",
        "    \n",
        "    # Score best solution, and add to tracker\n",
        "    scores = calculate_fitness(population)\n",
        "    best_score = np.max(scores)\n",
        "    best_score_progress.append(best_score)"
      ]
    },
    {
      "cell_type": "code",
      "execution_count": 298,
      "metadata": {
        "colab": {
          "base_uri": "https://localhost:8080/"
        },
        "id": "yEfTNUXkXnSu",
        "outputId": "4dc4a816-0500-4ff2-d6d6-e3cfd021544f"
      },
      "outputs": [
        {
          "name": "stdout",
          "output_type": "stream",
          "text": [
            "End best score, % target:  4790.269694019141\n"
          ]
        }
      ],
      "source": [
        "# GA has completed required generation\n",
        "print ('End best score, % target: ', best_score)"
      ]
    },
    {
      "cell_type": "code",
      "execution_count": 299,
      "metadata": {
        "colab": {
          "base_uri": "https://localhost:8080/",
          "height": 282
        },
        "id": "72VH9W8XXsWi",
        "outputId": "eb5b5465-6d6c-45d5-a76a-aa0fc67f915c"
      },
      "outputs": [
        {
          "data": {
            "image/png": "[encoded data removed]",
            "text/plain": [
              "<Figure size 432x288 with 1 Axes>"
            ]
          },
          "metadata": {
            "needs_background": "light"
          },
          "output_type": "display_data"
        }
      ],
      "source": [
        " # Plot progress\n",
        "import matplotlib.pyplot as plt\n",
        "plt.plot(best_score_progress)\n",
        "plt.xlabel('Generation')\n",
        "plt.ylabel('Best score (% target)')\n",
        "plt.show()"
      ]
    }
  ],
  "metadata": {
    "colab": {
      "authorship_tag": "ABX9TyNZ9srhHMa0RhPQPYTam351",
      "collapsed_sections": [],
      "include_colab_link": true,
      "provenance": [],
      "toc_visible": true
    },
    "kernelspec": {
      "display_name": "Python 3.10.6 64-bit",
      "language": "python",
      "name": "python3"
    },
    "language_info": {
      "name": "python",
      "version": "3.10.6"
    },
    "vscode": {
      "interpreter": {
        "hash": "c1c2e3a0819a58eb9500fae2dee488bc220cb37d7671304225ebf56a1e5e07b4"
      }
    }
  },
  "nbformat": 4,
  "nbformat_minor": 0
}
