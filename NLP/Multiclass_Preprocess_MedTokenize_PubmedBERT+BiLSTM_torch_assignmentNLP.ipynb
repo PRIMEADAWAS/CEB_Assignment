{
  "cells": [
    {
      "cell_type": "markdown",
      "metadata": {
        "id": "EKOTlwcmxmej"
      },
      "source": [
        "# BERT Fine-Tuning"
      ]
    },
    {
      "cell_type": "markdown",
      "metadata": {
        "id": "BJR6t_gCQe_x"
      },
      "source": [
        "Use of BERT with the huggingface PyTorch library to quickly and efficiently fine-tune a model to get near state of the art performance in sentence classification.\n"
      ]
    },
    {
      "cell_type": "markdown",
      "metadata": {
        "id": "RX_ZDhicpHkV"
      },
      "source": [
        "# 1. Setup"
      ]
    },
    {
      "cell_type": "code",
      "execution_count": 2,
      "metadata": {
        "colab": {
          "base_uri": "https://localhost:8080/"
        },
        "id": "D29vgwGPL_ak",
        "outputId": "07496e93-cf47-409c-bb5f-6258226951a8"
      },
      "outputs": [
        {
          "name": "stdout",
          "output_type": "stream",
          "text": [
            "Wed May 31 18:16:59 2023       \n",
            "+---------------------------------------------------------------------------------------+\n",
            "| NVIDIA-SMI 531.14                 Driver Version: 531.14       CUDA Version: 12.1     |\n",
            "|-----------------------------------------+----------------------+----------------------+\n",
            "| GPU  Name                      TCC/WDDM | Bus-Id        Disp.A | Volatile Uncorr. ECC |\n",
            "| Fan  Temp  Perf            Pwr:Usage/Cap|         Memory-Usage | GPU-Util  Compute M. |\n",
            "|                                         |                      |               MIG M. |\n",
            "|=========================================+======================+======================|\n",
            "|   0  NVIDIA GeForce GTX 1650       WDDM | 00000000:01:00.0  On |                  N/A |\n",
            "| N/A   47C    P8                4W /  N/A|    569MiB /  4096MiB |     33%      Default |\n",
            "|                                         |                      |                  N/A |\n",
            "+-----------------------------------------+----------------------+----------------------+\n",
            "                                                                                         \n",
            "+---------------------------------------------------------------------------------------+\n",
            "| Processes:                                                                            |\n",
            "|  GPU   GI   CI        PID   Type   Process name                            GPU Memory |\n",
            "|        ID   ID                                                             Usage      |\n",
            "|=======================================================================================|\n",
            "|    0   N/A  N/A      9880    C+G   C:\\Windows\\explorer.exe                   N/A      |\n",
            "|    0   N/A  N/A     11304    C+G   ....Search_cw5n1h2txyewy\\SearchApp.exe    N/A      |\n",
            "|    0   N/A  N/A     12668    C+G   ...CBS_cw5n1h2txyewy\\TextInputHost.exe    N/A      |\n",
            "|    0   N/A  N/A     13044    C+G   ...61.0_x64__8wekyb3d8bbwe\\GameBar.exe    N/A      |\n",
            "|    0   N/A  N/A     15228    C+G   ...oogle\\Chrome\\Application\\chrome.exe    N/A      |\n",
            "|    0   N/A  N/A     16052    C+G   ...t.LockApp_cw5n1h2txyewy\\LockApp.exe    N/A      |\n",
            "|    0   N/A  N/A     16996    C+G   C:\\Windows\\System32\\svchost.exe           N/A      |\n",
            "|    0   N/A  N/A     20596    C+G   ...5n1h2txyewy\\ShellExperienceHost.exe    N/A      |\n",
            "|    0   N/A  N/A     23424    C+G   ...Programs\\Microsoft VS Code\\Code.exe    N/A      |\n",
            "+---------------------------------------------------------------------------------------+\n"
          ]
        }
      ],
      "source": [
        "!nvidia-smi"
      ]
    },
    {
      "cell_type": "code",
      "execution_count": 3,
      "metadata": {
        "id": "ohe5ZGjLOXeI"
      },
      "outputs": [],
      "source": [
        "# import tensorflow as tf\n",
        "import torch"
      ]
    },
    {
      "cell_type": "markdown",
      "metadata": {
        "id": "2ElsnSNUridI"
      },
      "source": [
        "## Installing the Hugging Face Library\n"
      ]
    },
    {
      "cell_type": "code",
      "execution_count": 4,
      "metadata": {
        "colab": {
          "base_uri": "https://localhost:8080/"
        },
        "id": "0NmMdkZO8R6q",
        "outputId": "967f974c-e850-4d2d-ae4d-9e996d3dde9f"
      },
      "outputs": [
        {
          "name": "stdout",
          "output_type": "stream",
          "text": [
            "Requirement already satisfied: transformers in c:\\users\\adawas\\miniconda3\\envs\\pytorch\\lib\\site-packages (4.29.2)\n",
            "Requirement already satisfied: huggingface-hub<1.0,>=0.14.1 in c:\\users\\adawas\\miniconda3\\envs\\pytorch\\lib\\site-packages (from transformers) (0.14.1)\n",
            "Requirement already satisfied: numpy>=1.17 in c:\\users\\adawas\\miniconda3\\envs\\pytorch\\lib\\site-packages (from transformers) (1.24.3)\n",
            "Requirement already satisfied: packaging>=20.0 in c:\\users\\adawas\\miniconda3\\envs\\pytorch\\lib\\site-packages (from transformers) (23.1)\n",
            "Requirement already satisfied: regex!=2019.12.17 in c:\\users\\adawas\\miniconda3\\envs\\pytorch\\lib\\site-packages (from transformers) (2023.5.5)\n",
            "Requirement already satisfied: tqdm>=4.27 in c:\\users\\adawas\\miniconda3\\envs\\pytorch\\lib\\site-packages (from transformers) (4.65.0)\n",
            "Requirement already satisfied: requests in c:\\users\\adawas\\miniconda3\\envs\\pytorch\\lib\\site-packages (from transformers) (2.29.0)\n",
            "Requirement already satisfied: pyyaml>=5.1 in c:\\users\\adawas\\miniconda3\\envs\\pytorch\\lib\\site-packages (from transformers) (6.0)\n",
            "Requirement already satisfied: filelock in c:\\users\\adawas\\miniconda3\\envs\\pytorch\\lib\\site-packages (from transformers) (3.9.0)\n",
            "Requirement already satisfied: tokenizers!=0.11.3,<0.14,>=0.11.1 in c:\\users\\adawas\\miniconda3\\envs\\pytorch\\lib\\site-packages (from transformers) (0.13.3)\n",
            "Requirement already satisfied: typing-extensions>=3.7.4.3 in c:\\users\\adawas\\miniconda3\\envs\\pytorch\\lib\\site-packages (from huggingface-hub<1.0,>=0.14.1->transformers) (4.5.0)\n",
            "Requirement already satisfied: fsspec in c:\\users\\adawas\\miniconda3\\envs\\pytorch\\lib\\site-packages (from huggingface-hub<1.0,>=0.14.1->transformers) (2023.5.0)\n",
            "Requirement already satisfied: colorama in c:\\users\\adawas\\miniconda3\\envs\\pytorch\\lib\\site-packages (from tqdm>=4.27->transformers) (0.4.6)\n",
            "Requirement already satisfied: charset-normalizer<4,>=2 in c:\\users\\adawas\\miniconda3\\envs\\pytorch\\lib\\site-packages (from requests->transformers) (2.0.4)\n",
            "Requirement already satisfied: certifi>=2017.4.17 in c:\\users\\adawas\\miniconda3\\envs\\pytorch\\lib\\site-packages (from requests->transformers) (2023.5.7)\n",
            "Requirement already satisfied: idna<4,>=2.5 in c:\\users\\adawas\\miniconda3\\envs\\pytorch\\lib\\site-packages (from requests->transformers) (3.4)\n",
            "Requirement already satisfied: urllib3<1.27,>=1.21.1 in c:\\users\\adawas\\miniconda3\\envs\\pytorch\\lib\\site-packages (from requests->transformers) (1.26.15)\n"
          ]
        }
      ],
      "source": [
        "!pip install transformers\n",
        "# !pip install wget"
      ]
    },
    {
      "cell_type": "code",
      "execution_count": 5,
      "metadata": {
        "id": "HFDJm2H8BHM2"
      },
      "outputs": [
        {
          "name": "stderr",
          "output_type": "stream",
          "text": [
            "c:\\Users\\ADAWAS\\miniconda3\\envs\\pytorch\\lib\\site-packages\\tqdm\\auto.py:21: TqdmWarning: IProgress not found. Please update jupyter and ipywidgets. See https://ipywidgets.readthedocs.io/en/stable/user_install.html\n",
            "  from .autonotebook import tqdm as notebook_tqdm\n"
          ]
        }
      ],
      "source": [
        "import os\n",
        "import time\n",
        "# import wget\n",
        "import logging\n",
        "import random\n",
        "import datetime\n",
        "import numpy as np\n",
        "import pandas as pd\n",
        "import seaborn as sns\n",
        "import matplotlib.pyplot as plt\n",
        "# from sklearn.metrics import matthews_corrcoef\n",
        "from sklearn.preprocessing import LabelEncoder\n",
        "# from keras.utils import pad_sequences\n",
        "\n",
        "import transformers\n",
        "from transformers import BertTokenizer, BertModel, BertForSequenceClassification, AdamW, BertConfig, get_linear_schedule_with_warmup\n",
        "from torch.utils.data import TensorDataset, random_split, DataLoader, RandomSampler, SequentialSampler"
      ]
    },
    {
      "cell_type": "code",
      "execution_count": 6,
      "metadata": {
        "id": "C9wQSalyDAK8"
      },
      "outputs": [],
      "source": [
        "def set_seed(seed):\n",
        "    \"\"\" Set all seeds to make results reproducible (deterministic mode).\n",
        "        When seed is a false-y value or not supplied, disables deterministic mode. \"\"\"\n",
        "    if seed:\n",
        "        logging.info(f\"Running in deterministic mode with seed {seed}\")\n",
        "        torch.manual_seed(seed)\n",
        "        torch.cuda.manual_seed_all(seed)\n",
        "        torch.backends.cudnn.deterministic = True\n",
        "        torch.backends.cudnn.benchmark = False\n",
        "        np.random.seed(seed)\n",
        "        random.seed(seed)\n",
        "        os.environ['PYTHONHASHSEED'] = str(seed)\n",
        "    else:\n",
        "        logging.info(f\"Running in non-deterministic mode\")\n",
        "      \n",
        "set_seed(2023)"
      ]
    },
    {
      "cell_type": "code",
      "execution_count": 7,
      "metadata": {
        "colab": {
          "base_uri": "https://localhost:8080/"
        },
        "id": "yy6zhJb7QgRo",
        "outputId": "40f66db5-abfe-4bca-d9e0-3f1cb579a23e"
      },
      "outputs": [
        {
          "name": "stdout",
          "output_type": "stream",
          "text": [
            "There are 1 GPU(s) available.\n",
            "We will use the GPU: NVIDIA GeForce GTX 1650\n"
          ]
        }
      ],
      "source": [
        "# =============================================================================\n",
        "# ## check GPU\n",
        "# =============================================================================\n",
        "if torch.cuda.is_available():    \n",
        "    # Tell PyTorch to use the GPU.    \n",
        "    device = torch.device(\"cuda\")\n",
        "    print('There are %d GPU(s) available.' % torch.cuda.device_count())\n",
        "    print('We will use the GPU:', torch.cuda.get_device_name(0))\n",
        "# If not...\n",
        "else:\n",
        "    print('No GPU available, using the CPU instead.')\n",
        "    device = torch.device(\"cpu\")"
      ]
    },
    {
      "cell_type": "markdown",
      "metadata": {
        "id": "guw6ZNtaswKc"
      },
      "source": [
        "# 2. Loading Dataset\n"
      ]
    },
    {
      "cell_type": "markdown",
      "metadata": {
        "id": "_9ZKxKc04Btk"
      },
      "source": [
        "we going to use sentiment data from US airline for sentiment analysis\n",
        "\n",
        "https://www.kaggle.com/datasets/crowdflower/twitter-airline-sentiment\n"
      ]
    },
    {
      "cell_type": "markdown",
      "metadata": {
        "id": "4JrUHXms16cn"
      },
      "source": [
        "## Download & Extract"
      ]
    },
    {
      "cell_type": "markdown",
      "metadata": {
        "id": "xeyVCXT31EZQ"
      },
      "source": [
        "We can see from the file names that both `tokenized` and `raw` versions of the data are available. \n",
        "\n",
        "We can't use the pre-tokenized version because, in order to apply the pre-trained BERT, we *must* use the tokenizer provided by the model. This is because (1) the model has a specific, fixed vocabulary and (2) the BERT tokenizer has a particular way of handling out-of-vocabulary words."
      ]
    },
    {
      "cell_type": "markdown",
      "metadata": {
        "id": "MYWzeGSY2xh3"
      },
      "source": [
        "We'll use pandas to parse the \"in-domain\" training set and look at a few of its properties and data points."
      ]
    },
    {
      "cell_type": "code",
      "execution_count": 8,
      "metadata": {
        "id": "PrnkyhT1ynck"
      },
      "outputs": [],
      "source": [
        "url = r'https://raw.githubusercontent.com/PRIMEADAWAS/Python101/main/Pytorch101/mtsamples.csv'\n",
        "# url = r\"../input/medicaltranscriptions/mtsamples.csv\""
      ]
    },
    {
      "cell_type": "code",
      "execution_count": 9,
      "metadata": {
        "colab": {
          "base_uri": "https://localhost:8080/",
          "height": 415
        },
        "id": "_UkeC7SG2krJ",
        "outputId": "090a519e-d6be-46fe-941d-30e6e51d590a"
      },
      "outputs": [
        {
          "name": "stdout",
          "output_type": "stream",
          "text": [
            "Downloading dataset...\n",
            "Number of training sentences: 4,999\n",
            "\n"
          ]
        },
        {
          "data": {
            "text/html": [
              "<div>\n",
              "<style scoped>\n",
              "    .dataframe tbody tr th:only-of-type {\n",
              "        vertical-align: middle;\n",
              "    }\n",
              "\n",
              "    .dataframe tbody tr th {\n",
              "        vertical-align: top;\n",
              "    }\n",
              "\n",
              "    .dataframe thead th {\n",
              "        text-align: right;\n",
              "    }\n",
              "</style>\n",
              "<table border=\"1\" class=\"dataframe\">\n",
              "  <thead>\n",
              "    <tr style=\"text-align: right;\">\n",
              "      <th></th>\n",
              "      <th>transcription</th>\n",
              "      <th>medical_specialty</th>\n",
              "      <th>label</th>\n",
              "    </tr>\n",
              "  </thead>\n",
              "  <tbody>\n",
              "    <tr>\n",
              "      <th>3006</th>\n",
              "      <td>PREOPERATIVE DIAGNOSIS:  ,Right ureteropelvic ...</td>\n",
              "      <td>Nephrology</td>\n",
              "      <td>21</td>\n",
              "    </tr>\n",
              "    <tr>\n",
              "      <th>3408</th>\n",
              "      <td>ADMITTING DIAGNOSES:,1.  Bradycardia.,2.  Dizz...</td>\n",
              "      <td>General Medicine</td>\n",
              "      <td>15</td>\n",
              "    </tr>\n",
              "    <tr>\n",
              "      <th>3388</th>\n",
              "      <td>CHIEF COMPLAINT:,  \"I took Ecstasy.\",HISTORY O...</td>\n",
              "      <td>General Medicine</td>\n",
              "      <td>15</td>\n",
              "    </tr>\n",
              "    <tr>\n",
              "      <th>1796</th>\n",
              "      <td>REASON FOR REFERRAL:,  The patient is a 76-yea...</td>\n",
              "      <td>Psychiatry / Psychology</td>\n",
              "      <td>32</td>\n",
              "    </tr>\n",
              "    <tr>\n",
              "      <th>3696</th>\n",
              "      <td>PREOPERATIVE DIAGNOSES:,1.  Ventilator-depende...</td>\n",
              "      <td>ENT - Otolaryngology</td>\n",
              "      <td>11</td>\n",
              "    </tr>\n",
              "    <tr>\n",
              "      <th>2453</th>\n",
              "      <td>SUBJECTIVE:,  A 6-year-old boy who underwent t...</td>\n",
              "      <td>Office Notes</td>\n",
              "      <td>25</td>\n",
              "    </tr>\n",
              "    <tr>\n",
              "      <th>3039</th>\n",
              "      <td>EXAM: , CT pelvis with contrast and ct abdomen...</td>\n",
              "      <td>Nephrology</td>\n",
              "      <td>21</td>\n",
              "    </tr>\n",
              "    <tr>\n",
              "      <th>1289</th>\n",
              "      <td>HISTORY OF PRESENT ILLNESS:,  Ms. Connor is a ...</td>\n",
              "      <td>SOAP / Chart / Progress Notes</td>\n",
              "      <td>35</td>\n",
              "    </tr>\n",
              "    <tr>\n",
              "      <th>4637</th>\n",
              "      <td>PREOPERATIVE DIAGNOSIS: , Thrombosed arteriove...</td>\n",
              "      <td>Cardiovascular / Pulmonary</td>\n",
              "      <td>3</td>\n",
              "    </tr>\n",
              "    <tr>\n",
              "      <th>1384</th>\n",
              "      <td>SUBJECTIVE:,  The patient is a 7-year-old male...</td>\n",
              "      <td>SOAP / Chart / Progress Notes</td>\n",
              "      <td>35</td>\n",
              "    </tr>\n",
              "  </tbody>\n",
              "</table>\n",
              "</div>"
            ],
            "text/plain": [
              "                                          transcription   \n",
              "3006  PREOPERATIVE DIAGNOSIS:  ,Right ureteropelvic ...  \\\n",
              "3408  ADMITTING DIAGNOSES:,1.  Bradycardia.,2.  Dizz...   \n",
              "3388  CHIEF COMPLAINT:,  \"I took Ecstasy.\",HISTORY O...   \n",
              "1796  REASON FOR REFERRAL:,  The patient is a 76-yea...   \n",
              "3696  PREOPERATIVE DIAGNOSES:,1.  Ventilator-depende...   \n",
              "2453  SUBJECTIVE:,  A 6-year-old boy who underwent t...   \n",
              "3039  EXAM: , CT pelvis with contrast and ct abdomen...   \n",
              "1289  HISTORY OF PRESENT ILLNESS:,  Ms. Connor is a ...   \n",
              "4637  PREOPERATIVE DIAGNOSIS: , Thrombosed arteriove...   \n",
              "1384  SUBJECTIVE:,  The patient is a 7-year-old male...   \n",
              "\n",
              "                  medical_specialty  label  \n",
              "3006                     Nephrology     21  \n",
              "3408               General Medicine     15  \n",
              "3388               General Medicine     15  \n",
              "1796        Psychiatry / Psychology     32  \n",
              "3696           ENT - Otolaryngology     11  \n",
              "2453                   Office Notes     25  \n",
              "3039                     Nephrology     21  \n",
              "1289  SOAP / Chart / Progress Notes     35  \n",
              "4637     Cardiovascular / Pulmonary      3  \n",
              "1384  SOAP / Chart / Progress Notes     35  "
            ]
          },
          "execution_count": 9,
          "metadata": {},
          "output_type": "execute_result"
        }
      ],
      "source": [
        "# import dataset\n",
        "df = pd.read_csv(url)[['transcription', 'medical_specialty']]\n",
        "df['medical_specialty'] = df['medical_specialty'].str.strip()\n",
        "\n",
        "labelencoder = LabelEncoder()\n",
        "df['label'] = labelencoder.fit_transform(df['medical_specialty'])\n",
        "\n",
        "# df = df.head(1000)\n",
        "print('Downloading dataset...')\n",
        "# Report the number of sentences.\n",
        "print('Number of training sentences: {:,}\\n'.format(df.shape[0]))\n",
        "\n",
        "# Display 10 random rows from the data.\n",
        "df.sample(10)"
      ]
    },
    {
      "cell_type": "code",
      "execution_count": 10,
      "metadata": {
        "colab": {
          "base_uri": "https://localhost:8080/"
        },
        "id": "H3exMPlA9E8g",
        "outputId": "4565b26c-c32f-41f4-bd68-c06e530ec160"
      },
      "outputs": [
        {
          "data": {
            "text/plain": [
              "(40,\n",
              " array(['Allergy / Immunology', 'Autopsy', 'Bariatrics',\n",
              "        'Cardiovascular / Pulmonary', 'Chiropractic',\n",
              "        'Consult - History and Phy.', 'Cosmetic / Plastic Surgery',\n",
              "        'Dentistry', 'Dermatology', 'Diets and Nutritions',\n",
              "        'Discharge Summary', 'ENT - Otolaryngology',\n",
              "        'Emergency Room Reports', 'Endocrinology', 'Gastroenterology',\n",
              "        'General Medicine', 'Hematology - Oncology',\n",
              "        'Hospice - Palliative Care', 'IME-QME-Work Comp etc.',\n",
              "        'Lab Medicine - Pathology', 'Letters', 'Nephrology', 'Neurology',\n",
              "        'Neurosurgery', 'Obstetrics / Gynecology', 'Office Notes',\n",
              "        'Ophthalmology', 'Orthopedic', 'Pain Management',\n",
              "        'Pediatrics - Neonatal', 'Physical Medicine - Rehab', 'Podiatry',\n",
              "        'Psychiatry / Psychology', 'Radiology', 'Rheumatology',\n",
              "        'SOAP / Chart / Progress Notes', 'Sleep Medicine',\n",
              "        'Speech - Language', 'Surgery', 'Urology'], dtype=object))"
            ]
          },
          "execution_count": 10,
          "metadata": {},
          "output_type": "execute_result"
        }
      ],
      "source": [
        "len(labelencoder.classes_), labelencoder.classes_"
      ]
    },
    {
      "cell_type": "markdown",
      "metadata": {
        "id": "kfWzpPi92UAH"
      },
      "source": [
        "The two properties we actually care about are the the `text` and its `label`, which is referred to as the (0=negative, 1=neutral, 2=positive)."
      ]
    },
    {
      "cell_type": "markdown",
      "metadata": {
        "id": "H_LpQfzCn9_o"
      },
      "source": [
        "Here are five sentences which are labeled as not grammatically acceptible. Note how much more difficult this task is than something like sentiment analysis!"
      ]
    },
    {
      "cell_type": "code",
      "execution_count": 11,
      "metadata": {
        "id": "jLn7fvKQ2yCh"
      },
      "outputs": [],
      "source": [
        "df = df.dropna().reset_index(drop=True)"
      ]
    },
    {
      "cell_type": "markdown",
      "metadata": {
        "id": "nwXSCd_Qiaaw"
      },
      "source": [
        "## Class distribution \n"
      ]
    },
    {
      "cell_type": "code",
      "execution_count": 12,
      "metadata": {
        "id": "jC1U2nGgiaaw"
      },
      "outputs": [],
      "source": [
        "def showClass():\n",
        "  print('Total classes : ',df['medical_specialty'].nunique())\n",
        "  plt.figure(figsize=(8,8))\n",
        "  sns.countplot(y='medical_specialty', \n",
        "                data = df, \n",
        "                order = df['medical_specialty'].value_counts().index)\n",
        "  plt.show()"
      ]
    },
    {
      "cell_type": "code",
      "execution_count": 13,
      "metadata": {
        "colab": {
          "base_uri": "https://localhost:8080/",
          "height": 713
        },
        "id": "R64thzQYiaax",
        "outputId": "72b0dceb-cb95-4700-903c-6d0dc684f815"
      },
      "outputs": [
        {
          "name": "stdout",
          "output_type": "stream",
          "text": [
            "Total classes :  40\n"
          ]
        },
        {
          "data": {
            "image/png": "[encoded data removed]",
            "text/plain": [
              "<Figure size 800x800 with 1 Axes>"
            ]
          },
          "metadata": {},
          "output_type": "display_data"
        }
      ],
      "source": [
        "showClass()"
      ]
    },
    {
      "cell_type": "code",
      "execution_count": 14,
      "metadata": {
        "colab": {
          "base_uri": "https://localhost:8080/"
        },
        "id": "kaQuw4Oviaax",
        "outputId": "b5b0382e-f1fd-4d81-f746-6a450184c763"
      },
      "outputs": [
        {
          "data": {
            "text/plain": [
              "array(['Allergy / Immunology', 'Bariatrics', 'Cardiovascular / Pulmonary',\n",
              "       'Neurology', 'Dentistry', 'Urology', 'General Medicine', 'Surgery',\n",
              "       'Speech - Language', 'SOAP / Chart / Progress Notes',\n",
              "       'Sleep Medicine', 'Rheumatology', 'Radiology',\n",
              "       'Psychiatry / Psychology', 'Podiatry', 'Physical Medicine - Rehab',\n",
              "       'Pediatrics - Neonatal', 'Pain Management', 'Orthopedic',\n",
              "       'Ophthalmology', 'Office Notes', 'Obstetrics / Gynecology',\n",
              "       'Neurosurgery', 'Nephrology', 'Letters',\n",
              "       'Lab Medicine - Pathology', 'IME-QME-Work Comp etc.',\n",
              "       'Hospice - Palliative Care', 'Hematology - Oncology',\n",
              "       'Gastroenterology', 'ENT - Otolaryngology', 'Endocrinology',\n",
              "       'Emergency Room Reports', 'Discharge Summary',\n",
              "       'Diets and Nutritions', 'Dermatology',\n",
              "       'Cosmetic / Plastic Surgery', 'Consult - History and Phy.',\n",
              "       'Chiropractic', 'Autopsy'], dtype=object)"
            ]
          },
          "execution_count": 14,
          "metadata": {},
          "output_type": "execute_result"
        }
      ],
      "source": [
        "df['medical_specialty'].unique()"
      ]
    },
    {
      "cell_type": "markdown",
      "metadata": {
        "id": "p-ueNgCIiaax"
      },
      "source": [
        "remove non-medical specialty class"
      ]
    },
    {
      "cell_type": "code",
      "execution_count": 15,
      "metadata": {
        "colab": {
          "base_uri": "https://localhost:8080/"
        },
        "id": "cpEqWmVCiaay",
        "outputId": "6f0f1ec9-4b18-4317-a0d2-33dc459d9493"
      },
      "outputs": [
        {
          "data": {
            "text/plain": [
              "medical_specialty\n",
              "Surgery                       1088\n",
              "Cardiovascular / Pulmonary     371\n",
              "Orthopedic                     355\n",
              "Radiology                      273\n",
              "General Medicine               259\n",
              "Gastroenterology               224\n",
              "Neurology                      223\n",
              "Urology                        156\n",
              "Obstetrics / Gynecology        155\n",
              "ENT - Otolaryngology            96\n",
              "Neurosurgery                    94\n",
              "Hematology - Oncology           90\n",
              "Ophthalmology                   83\n",
              "Nephrology                      81\n",
              "Emergency Room Reports          75\n",
              "Pediatrics - Neonatal           70\n",
              "Pain Management                 61\n",
              "Psychiatry / Psychology         53\n",
              "Podiatry                        47\n",
              "Dermatology                     29\n",
              "Dentistry                       27\n",
              "Cosmetic / Plastic Surgery      27\n",
              "Physical Medicine - Rehab       21\n",
              "Sleep Medicine                  20\n",
              "Endocrinology                   19\n",
              "Bariatrics                      18\n",
              "Chiropractic                    14\n",
              "Rheumatology                    10\n",
              "Diets and Nutritions            10\n",
              "Speech - Language                9\n",
              "Autopsy                          8\n",
              "Allergy / Immunology             7\n",
              "Name: count, dtype: int64"
            ]
          },
          "execution_count": 15,
          "metadata": {},
          "output_type": "execute_result"
        }
      ],
      "source": [
        "exclusion_list = ['SOAP / Chart / Progress Notes', 'Consult - History exclusion_listnd Phy.', 'Office Notes', 'Letters', 'Lab Medicine - Pathology', 'IME-QME-Work Comp etc.', 'Hospice - Palliative Care', 'Discharge Summary', 'Consult - History and Phy.']\n",
        "df = df[~df['medical_specialty'].isin(exclusion_list)]\n",
        "df['medical_specialty'].value_counts()"
      ]
    },
    {
      "cell_type": "markdown",
      "metadata": {
        "id": "gCS1l7Joiaay"
      },
      "source": [
        "Change sub minor class to main class"
      ]
    },
    {
      "cell_type": "code",
      "execution_count": 16,
      "metadata": {
        "id": "G-0xHJn9iaaz"
      },
      "outputs": [],
      "source": [
        "def groupClass(subClass, mainClass):\n",
        "  df.loc[df.medical_specialty == subClass, \"medical_specialty\"] = mainClass"
      ]
    },
    {
      "cell_type": "code",
      "execution_count": 17,
      "metadata": {
        "id": "0MJtJvPmiaaz"
      },
      "outputs": [],
      "source": [
        "for cls in ['Urology', 'Neurosurgery', 'Cosmetic / Plastic Surgery']:\n",
        "  groupClass(cls, 'Surgery')\n",
        "for cls in ['Dermatology', 'Endocrinology', 'Rheumatology']:\n",
        "  groupClass(cls, 'General Medicine')\n",
        "for cls in ['Pain Management', 'Psychiatry / Psychology', 'Podiatry', 'Dentistry', 'Physical Medicine - Rehab', 'Sleep Medicine', 'Bariatrics', 'Chiropractic', 'Emergency Room Reports', 'Diets and Nutritions', 'Speech - Language', 'Autopsy', 'Allergy / Immunology']:\n",
        "  groupClass(cls, 'Minor')"
      ]
    },
    {
      "cell_type": "code",
      "execution_count": 18,
      "metadata": {
        "colab": {
          "base_uri": "https://localhost:8080/",
          "height": 713
        },
        "id": "Wn3yVmYjiaaz",
        "outputId": "8e167e6c-ab25-4717-956d-02d37327b990"
      },
      "outputs": [
        {
          "name": "stdout",
          "output_type": "stream",
          "text": [
            "Total classes :  14\n"
          ]
        },
        {
          "data": {
            "image/png": "[encoded data removed]",
            "text/plain": [
              "<Figure size 800x800 with 1 Axes>"
            ]
          },
          "metadata": {},
          "output_type": "display_data"
        }
      ],
      "source": [
        "showClass()"
      ]
    },
    {
      "cell_type": "code",
      "execution_count": 19,
      "metadata": {
        "colab": {
          "base_uri": "https://localhost:8080/",
          "height": 206
        },
        "id": "DZgCvhdbiaaz",
        "outputId": "d7f7e5d3-a271-478d-a0fe-01de90fb2bb4"
      },
      "outputs": [
        {
          "data": {
            "text/html": [
              "<div>\n",
              "<style scoped>\n",
              "    .dataframe tbody tr th:only-of-type {\n",
              "        vertical-align: middle;\n",
              "    }\n",
              "\n",
              "    .dataframe tbody tr th {\n",
              "        vertical-align: top;\n",
              "    }\n",
              "\n",
              "    .dataframe thead th {\n",
              "        text-align: right;\n",
              "    }\n",
              "</style>\n",
              "<table border=\"1\" class=\"dataframe\">\n",
              "  <thead>\n",
              "    <tr style=\"text-align: right;\">\n",
              "      <th></th>\n",
              "      <th>transcription</th>\n",
              "      <th>medical_specialty</th>\n",
              "    </tr>\n",
              "  </thead>\n",
              "  <tbody>\n",
              "    <tr>\n",
              "      <th>758</th>\n",
              "      <td>PROCEDURE: , Gastroscopy.,PREOPERATIVE DIAGNOS...</td>\n",
              "      <td>Surgery</td>\n",
              "    </tr>\n",
              "    <tr>\n",
              "      <th>623</th>\n",
              "      <td>PREOPERATIVE DIAGNOSIS: , Morbid obesity.,POST...</td>\n",
              "      <td>Surgery</td>\n",
              "    </tr>\n",
              "    <tr>\n",
              "      <th>1033</th>\n",
              "      <td>PREOPERATIVE DIAGNOSIS:,  Chest wall mass, lef...</td>\n",
              "      <td>Surgery</td>\n",
              "    </tr>\n",
              "    <tr>\n",
              "      <th>934</th>\n",
              "      <td>PREOPERATIVE DIAGNOSIS:,  Residual stone, stat...</td>\n",
              "      <td>Surgery</td>\n",
              "    </tr>\n",
              "    <tr>\n",
              "      <th>363</th>\n",
              "      <td>PREOPERATIVE DIAGNOSIS: , Ruptured globe with ...</td>\n",
              "      <td>Surgery</td>\n",
              "    </tr>\n",
              "  </tbody>\n",
              "</table>\n",
              "</div>"
            ],
            "text/plain": [
              "                                          transcription medical_specialty\n",
              "758   PROCEDURE: , Gastroscopy.,PREOPERATIVE DIAGNOS...           Surgery\n",
              "623   PREOPERATIVE DIAGNOSIS: , Morbid obesity.,POST...           Surgery\n",
              "1033  PREOPERATIVE DIAGNOSIS:,  Chest wall mass, lef...           Surgery\n",
              "934   PREOPERATIVE DIAGNOSIS:,  Residual stone, stat...           Surgery\n",
              "363   PREOPERATIVE DIAGNOSIS: , Ruptured globe with ...           Surgery"
            ]
          },
          "execution_count": 19,
          "metadata": {},
          "output_type": "execute_result"
        }
      ],
      "source": [
        "df.loc[df['medical_specialty'] == 'Surgery'].sample(5)[['transcription', 'medical_specialty']]"
      ]
    },
    {
      "cell_type": "code",
      "execution_count": 20,
      "metadata": {
        "colab": {
          "base_uri": "https://localhost:8080/",
          "height": 206
        },
        "id": "tVo5OKVuiaa0",
        "outputId": "4a3ff154-1971-4bf9-9e5e-2221ea875c1b"
      },
      "outputs": [
        {
          "data": {
            "text/html": [
              "<div>\n",
              "<style scoped>\n",
              "    .dataframe tbody tr th:only-of-type {\n",
              "        vertical-align: middle;\n",
              "    }\n",
              "\n",
              "    .dataframe tbody tr th {\n",
              "        vertical-align: top;\n",
              "    }\n",
              "\n",
              "    .dataframe thead th {\n",
              "        text-align: right;\n",
              "    }\n",
              "</style>\n",
              "<table border=\"1\" class=\"dataframe\">\n",
              "  <thead>\n",
              "    <tr style=\"text-align: right;\">\n",
              "      <th></th>\n",
              "      <th>transcription</th>\n",
              "      <th>medical_specialty</th>\n",
              "      <th>label</th>\n",
              "    </tr>\n",
              "  </thead>\n",
              "  <tbody>\n",
              "    <tr>\n",
              "      <th>1744</th>\n",
              "      <td>REFERRAL QUESTIONS:,  Mr. Abcd was referred fo...</td>\n",
              "      <td>Minor</td>\n",
              "      <td>5</td>\n",
              "    </tr>\n",
              "    <tr>\n",
              "      <th>164</th>\n",
              "      <td>The patient tolerated the procedure well and w...</td>\n",
              "      <td>Surgery</td>\n",
              "      <td>13</td>\n",
              "    </tr>\n",
              "    <tr>\n",
              "      <th>83</th>\n",
              "      <td>PREOPERATIVE DIAGNOSIS:,  Adenocarcinoma of th...</td>\n",
              "      <td>Surgery</td>\n",
              "      <td>13</td>\n",
              "    </tr>\n",
              "    <tr>\n",
              "      <th>3612</th>\n",
              "      <td>OPERATIVE PROCEDURES: , Colonoscopy and biopsi...</td>\n",
              "      <td>Gastroenterology</td>\n",
              "      <td>2</td>\n",
              "    </tr>\n",
              "    <tr>\n",
              "      <th>2715</th>\n",
              "      <td>PREOPERATIVE DIAGNOSES,1.  Left neck pain with...</td>\n",
              "      <td>Surgery</td>\n",
              "      <td>13</td>\n",
              "    </tr>\n",
              "  </tbody>\n",
              "</table>\n",
              "</div>"
            ],
            "text/plain": [
              "                                          transcription medical_specialty   \n",
              "1744  REFERRAL QUESTIONS:,  Mr. Abcd was referred fo...             Minor  \\\n",
              "164   The patient tolerated the procedure well and w...           Surgery   \n",
              "83    PREOPERATIVE DIAGNOSIS:,  Adenocarcinoma of th...           Surgery   \n",
              "3612  OPERATIVE PROCEDURES: , Colonoscopy and biopsi...  Gastroenterology   \n",
              "2715  PREOPERATIVE DIAGNOSES,1.  Left neck pain with...           Surgery   \n",
              "\n",
              "      label  \n",
              "1744      5  \n",
              "164      13  \n",
              "83       13  \n",
              "3612      2  \n",
              "2715     13  "
            ]
          },
          "execution_count": 20,
          "metadata": {},
          "output_type": "execute_result"
        }
      ],
      "source": [
        "labelencoder = LabelEncoder()\n",
        "df['label'] = labelencoder.fit_transform(df['medical_specialty'])\n",
        "df.sample(5)"
      ]
    },
    {
      "cell_type": "markdown",
      "metadata": {
        "id": "4SMZ5T5Imhlx"
      },
      "source": [
        "\n",
        "\n",
        "Let's extract the sentences and labels of our training set as numpy ndarrays."
      ]
    },
    {
      "cell_type": "code",
      "execution_count": 21,
      "metadata": {
        "id": "GuE5BqICAne2"
      },
      "outputs": [],
      "source": [
        "# Get the lists of sentences and their labels.\n",
        "# sentences = df.transcription.values\n",
        "messages = df.transcription.values\n",
        "labels = df.label.values"
      ]
    },
    {
      "cell_type": "code",
      "execution_count": 22,
      "metadata": {
        "id": "R9m_bXa6FmKM"
      },
      "outputs": [],
      "source": [
        "# sentences[0], labels[0]"
      ]
    },
    {
      "cell_type": "markdown",
      "metadata": {
        "id": "DPWF5_Jhiaa1"
      },
      "source": [
        "# Preprocessing"
      ]
    },
    {
      "cell_type": "markdown",
      "metadata": {
        "id": "vHmPzMlEiaa1"
      },
      "source": [
        "## X labels"
      ]
    },
    {
      "cell_type": "code",
      "execution_count": 23,
      "metadata": {
        "colab": {
          "base_uri": "https://localhost:8080/",
          "height": 122
        },
        "id": "yrWI938miaa1",
        "outputId": "452ca6b5-f0e3-4fa1-ab03-e96365e4d3bc"
      },
      "outputs": [
        {
          "data": {
            "text/plain": [
              "'SUBJECTIVE:,  This 23-year-old white female presents with complaint of allergies.  She used to have allergies when she lived in Seattle but she thinks they are worse here.  In the past, she has tried Claritin, and Zyrtec.  Both worked for short time but then seemed to lose effectiveness.  She has used Allegra also.  She used that last summer and she began using it again two weeks ago.  It does not appear to be working very well.  She has used over-the-counter sprays but no prescription nasal sprays.  She does have asthma but doest not require daily medication for this and does not think it is flaring up.,MEDICATIONS: , Her only medication currently is Ortho Tri-Cyclen and the Allegra.,ALLERGIES: , She has no known medicine allergies.,OBJECTIVE:,Vitals:  Weight was 130 pounds and blood pressure 124/78.,HEENT:  Her throat was mildly erythematous without exudate.  Nasal mucosa was erythematous and swollen.  Only clear drainage was seen.  TMs were clear.,Neck:  Supple without adenopathy.,Lungs:  Clear.,ASSESSMENT:,  Allergic rhinitis.,PLAN:,1.  She will try Zyrtec instead of Allegra again.  Another option will be to use loratadine.  She does not think she has prescription coverage so that might be cheaper.,2.  Samples of Nasonex two sprays in each nostril given for three weeks.  A prescription was written as well.'"
            ]
          },
          "execution_count": 23,
          "metadata": {},
          "output_type": "execute_result"
        }
      ],
      "source": [
        "# messages = df['transcription'].to_numpy()\n",
        "messages[0]"
      ]
    },
    {
      "cell_type": "code",
      "execution_count": 24,
      "metadata": {
        "colab": {
          "base_uri": "https://localhost:8080/"
        },
        "id": "f_eLLpzEiabA",
        "outputId": "47872b53-0597-4e9c-e65e-3b6890e01ec2"
      },
      "outputs": [
        {
          "name": "stderr",
          "output_type": "stream",
          "text": [
            "100%|██████████| 4073/4073 [00:03<00:00, 1159.91it/s]\n"
          ]
        }
      ],
      "source": [
        "import re\n",
        "from tqdm import tqdm\n",
        "\n",
        "def preprocess(message):\n",
        "    \"\"\"\n",
        "    This function takes a string as input, then performs these operations: \n",
        "        - lowercase\n",
        "        - remove URLs\n",
        "        - remove ticker symbols \n",
        "        - removes punctuation\n",
        "        - removes any single character tokens ?\n",
        "    Parameters\n",
        "    ----------\n",
        "        message : The text message to be preprocessed\n",
        "    Returns\n",
        "    -------\n",
        "        text: The preprocessed text\n",
        "    \"\"\" \n",
        "    # Lowercase the twit message\n",
        "    text = message.lower()\n",
        "    # Replace URLs with a space in the message\n",
        "    # text = re.sub('https?:\\/\\/[a-zA-Z0-9@:%._\\/+~#=?&;-]*', ' ', text)\n",
        "    # Replace ticker symbols with a space. The ticker symbols are any stock symbol that starts with $.\n",
        "    # text = re.sub('\\$[a-zA-Z0-9]*', ' ', text)\n",
        "    # Replace StockTwits usernames with a space. The usernames are any word that starts with @.\n",
        "    # text = re.sub('\\@[a-zA-Z0-9]*', ' ', text)\n",
        "    # Replace everything not a letter or apostrophe with a space\n",
        "    text = re.sub('[^a-zA-Z0-9/\\']', ' ', text)\n",
        "    # Remove single letter words\n",
        "    text = ' '.join( [w for w in text.split() if len(w)>1] )\n",
        "    \n",
        "    return text\n",
        "        \n",
        "# Process for all messages\n",
        "preprocessed = [preprocess(message) for message in tqdm(messages)]"
      ]
    },
    {
      "cell_type": "code",
      "execution_count": 25,
      "metadata": {
        "colab": {
          "base_uri": "https://localhost:8080/",
          "height": 122
        },
        "id": "SE1Mfx0SiabA",
        "outputId": "f9636445-228c-4fc2-de90-cb6a1a4a8639"
      },
      "outputs": [
        {
          "data": {
            "text/plain": [
              "'subjective this 23 year old white female presents with complaint of allergies she used to have allergies when she lived in seattle but she thinks they are worse here in the past she has tried claritin and zyrtec both worked for short time but then seemed to lose effectiveness she has used allegra also she used that last summer and she began using it again two weeks ago it does not appear to be working very well she has used over the counter sprays but no prescription nasal sprays she does have asthma but doest not require daily medication for this and does not think it is flaring up medications her only medication currently is ortho tri cyclen and the allegra allergies she has no known medicine allergies objective vitals weight was 130 pounds and blood pressure 124/78 heent her throat was mildly erythematous without exudate nasal mucosa was erythematous and swollen only clear drainage was seen tms were clear neck supple without adenopathy lungs clear assessment allergic rhinitis plan she will try zyrtec instead of allegra again another option will be to use loratadine she does not think she has prescription coverage so that might be cheaper samples of nasonex two sprays in each nostril given for three weeks prescription was written as well'"
            ]
          },
          "execution_count": 25,
          "metadata": {},
          "output_type": "execute_result"
        }
      ],
      "source": [
        "preprocessed[0]"
      ]
    },
    {
      "cell_type": "markdown",
      "metadata": {
        "id": "qRugZGXgiabB"
      },
      "source": [
        "## Stopword removal & Lemmatizeration"
      ]
    },
    {
      "cell_type": "code",
      "execution_count": 26,
      "metadata": {
        "id": "9Z5qdANLiabB"
      },
      "outputs": [],
      "source": [
        "# !pip install nltk"
      ]
    },
    {
      "cell_type": "code",
      "execution_count": 27,
      "metadata": {
        "colab": {
          "base_uri": "https://localhost:8080/"
        },
        "id": "KXoFFtVxiabB",
        "outputId": "01248660-f0e3-4df3-a89c-fbae01b9cacc"
      },
      "outputs": [
        {
          "name": "stderr",
          "output_type": "stream",
          "text": [
            "[nltk_data] Downloading package punkt to\n",
            "[nltk_data]     C:\\Users\\ADAWAS\\AppData\\Roaming\\nltk_data...\n",
            "[nltk_data]   Package punkt is already up-to-date!\n",
            "[nltk_data] Downloading package wordnet to\n",
            "[nltk_data]     C:\\Users\\ADAWAS\\AppData\\Roaming\\nltk_data...\n",
            "[nltk_data]   Package wordnet is already up-to-date!\n",
            "[nltk_data] Downloading package stopwords to\n",
            "[nltk_data]     C:\\Users\\ADAWAS\\AppData\\Roaming\\nltk_data...\n",
            "[nltk_data]   Package stopwords is already up-to-date!\n"
          ]
        }
      ],
      "source": [
        "from collections import Counter\n",
        "import logging as logger\n",
        "import nltk\n",
        "nltk.download('punkt')\n",
        "nltk.download('wordnet')\n",
        "nltk.download('stopwords')\n",
        "from nltk.tokenize import word_tokenize\n",
        "from nltk.corpus import stopwords\n",
        "\n",
        "def tokenize_text(text, option = 4):\n",
        "  if option == 3:\n",
        "    return [word for word in word_tokenize(text) if (word.isalpha()==1)]\n",
        "  words = [word for word in word_tokenize(text)]\n",
        "  # Remove stop words\n",
        "  stop = set(stopwords.words('english'))\n",
        "  words = [word for word in words if (word not in stop)]\n",
        "  # Lemmatize words (first noun, then verb)\n",
        "  wnl = nltk.stem.WordNetLemmatizer()\n",
        "  lemmatized = [wnl.lemmatize(wnl.lemmatize(word, 'n'), 'v') for word in words]\n",
        "  return lemmatized"
      ]
    },
    {
      "cell_type": "code",
      "execution_count": 28,
      "metadata": {
        "colab": {
          "base_uri": "https://localhost:8080/"
        },
        "id": "jc1HktdliabB",
        "outputId": "e967b34f-ca85-4b36-ee91-5130efbecb04"
      },
      "outputs": [
        {
          "name": "stderr",
          "output_type": "stream",
          "text": [
            "4073it [00:57, 71.07it/s] \n"
          ]
        }
      ],
      "source": [
        "sentences = []\n",
        "for index, message in tqdm(enumerate(preprocessed)):\n",
        "  tokens = tokenize_text(message)\n",
        "  new_sentence = ' '.join(tokens)\n",
        "  sentences.append(new_sentence)"
      ]
    },
    {
      "cell_type": "markdown",
      "metadata": {
        "id": "dxGHoI7L7bFK"
      },
      "source": [
        "# Create vocab list"
      ]
    },
    {
      "cell_type": "code",
      "execution_count": 29,
      "metadata": {
        "colab": {
          "base_uri": "https://localhost:8080/",
          "height": 1000
        },
        "id": "3HHfbmpD5WaX",
        "outputId": "752a9dc2-0fb8-4f80-edee-6c9a5ed3e959"
      },
      "outputs": [
        {
          "name": "stderr",
          "output_type": "stream",
          "text": [
            "Tokenizaing:  74%|███████▍  | 3007/4073 [00:13<00:04, 216.81it/s]\n"
          ]
        },
        {
          "ename": "KeyboardInterrupt",
          "evalue": "",
          "output_type": "error",
          "traceback": [
            "\u001b[1;31m---------------------------------------------------------------------------\u001b[0m",
            "\u001b[1;31mKeyboardInterrupt\u001b[0m                         Traceback (most recent call last)",
            "Cell \u001b[1;32mIn[29], line 48\u001b[0m\n\u001b[0;32m     44\u001b[0m         plt\u001b[39m.\u001b[39mshow()\n\u001b[0;32m     46\u001b[0m     \u001b[39mreturn\u001b[39;00m vocab\n\u001b[1;32m---> 48\u001b[0m vocab\u001b[39m=\u001b[39m create_vocab(preprocessed, \u001b[39mTrue\u001b[39;49;00m)\n",
            "Cell \u001b[1;32mIn[29], line 6\u001b[0m, in \u001b[0;36mcreate_vocab\u001b[1;34m(messages, show_graph)\u001b[0m\n\u001b[0;32m      4\u001b[0m corpus \u001b[39m=\u001b[39m []\n\u001b[0;32m      5\u001b[0m \u001b[39mfor\u001b[39;00m message \u001b[39min\u001b[39;00m tqdm(messages, desc\u001b[39m=\u001b[39m\u001b[39m\"\u001b[39m\u001b[39mTokenizaing\u001b[39m\u001b[39m\"\u001b[39m):\n\u001b[1;32m----> 6\u001b[0m     tokens \u001b[39m=\u001b[39m tokenize_text(message, \u001b[39m3\u001b[39;49m) \u001b[39m# Use option 3\u001b[39;00m\n\u001b[0;32m      7\u001b[0m     corpus\u001b[39m.\u001b[39mextend(tokens)\n\u001b[0;32m      8\u001b[0m logger\u001b[39m.\u001b[39minfo(\u001b[39m\"\u001b[39m\u001b[39mThe number of all words: \u001b[39m\u001b[39m{}\u001b[39;00m\u001b[39m\"\u001b[39m\u001b[39m.\u001b[39mformat(\u001b[39mlen\u001b[39m(corpus)))\n",
            "Cell \u001b[1;32mIn[27], line 12\u001b[0m, in \u001b[0;36mtokenize_text\u001b[1;34m(text, option)\u001b[0m\n\u001b[0;32m     10\u001b[0m \u001b[39mdef\u001b[39;00m \u001b[39mtokenize_text\u001b[39m(text, option \u001b[39m=\u001b[39m \u001b[39m4\u001b[39m):\n\u001b[0;32m     11\u001b[0m   \u001b[39mif\u001b[39;00m option \u001b[39m==\u001b[39m \u001b[39m3\u001b[39m:\n\u001b[1;32m---> 12\u001b[0m     \u001b[39mreturn\u001b[39;00m [word \u001b[39mfor\u001b[39;00m word \u001b[39min\u001b[39;00m word_tokenize(text) \u001b[39mif\u001b[39;00m (word\u001b[39m.\u001b[39misalpha()\u001b[39m==\u001b[39m\u001b[39m1\u001b[39m)]\n\u001b[0;32m     13\u001b[0m   words \u001b[39m=\u001b[39m [word \u001b[39mfor\u001b[39;00m word \u001b[39min\u001b[39;00m word_tokenize(text)]\n\u001b[0;32m     14\u001b[0m   \u001b[39m# Remove stop words\u001b[39;00m\n",
            "File \u001b[1;32mc:\\Users\\ADAWAS\\miniconda3\\envs\\pytorch\\lib\\site-packages\\nltk\\tokenize\\__init__.py:130\u001b[0m, in \u001b[0;36mword_tokenize\u001b[1;34m(text, language, preserve_line)\u001b[0m\n\u001b[0;32m    115\u001b[0m \u001b[39m\u001b[39m\u001b[39m\"\"\"\u001b[39;00m\n\u001b[0;32m    116\u001b[0m \u001b[39mReturn a tokenized copy of *text*,\u001b[39;00m\n\u001b[0;32m    117\u001b[0m \u001b[39musing NLTK's recommended word tokenizer\u001b[39;00m\n\u001b[1;32m   (...)\u001b[0m\n\u001b[0;32m    127\u001b[0m \u001b[39m:type preserve_line: bool\u001b[39;00m\n\u001b[0;32m    128\u001b[0m \u001b[39m\"\"\"\u001b[39;00m\n\u001b[0;32m    129\u001b[0m sentences \u001b[39m=\u001b[39m [text] \u001b[39mif\u001b[39;00m preserve_line \u001b[39melse\u001b[39;00m sent_tokenize(text, language)\n\u001b[1;32m--> 130\u001b[0m \u001b[39mreturn\u001b[39;00m [\n\u001b[0;32m    131\u001b[0m     token \u001b[39mfor\u001b[39;00m sent \u001b[39min\u001b[39;00m sentences \u001b[39mfor\u001b[39;00m token \u001b[39min\u001b[39;00m _treebank_word_tokenizer\u001b[39m.\u001b[39mtokenize(sent)\n\u001b[0;32m    132\u001b[0m ]\n",
            "File \u001b[1;32mc:\\Users\\ADAWAS\\miniconda3\\envs\\pytorch\\lib\\site-packages\\nltk\\tokenize\\__init__.py:131\u001b[0m, in \u001b[0;36m<listcomp>\u001b[1;34m(.0)\u001b[0m\n\u001b[0;32m    115\u001b[0m \u001b[39m\u001b[39m\u001b[39m\"\"\"\u001b[39;00m\n\u001b[0;32m    116\u001b[0m \u001b[39mReturn a tokenized copy of *text*,\u001b[39;00m\n\u001b[0;32m    117\u001b[0m \u001b[39musing NLTK's recommended word tokenizer\u001b[39;00m\n\u001b[1;32m   (...)\u001b[0m\n\u001b[0;32m    127\u001b[0m \u001b[39m:type preserve_line: bool\u001b[39;00m\n\u001b[0;32m    128\u001b[0m \u001b[39m\"\"\"\u001b[39;00m\n\u001b[0;32m    129\u001b[0m sentences \u001b[39m=\u001b[39m [text] \u001b[39mif\u001b[39;00m preserve_line \u001b[39melse\u001b[39;00m sent_tokenize(text, language)\n\u001b[0;32m    130\u001b[0m \u001b[39mreturn\u001b[39;00m [\n\u001b[1;32m--> 131\u001b[0m     token \u001b[39mfor\u001b[39;00m sent \u001b[39min\u001b[39;00m sentences \u001b[39mfor\u001b[39;00m token \u001b[39min\u001b[39;00m _treebank_word_tokenizer\u001b[39m.\u001b[39;49mtokenize(sent)\n\u001b[0;32m    132\u001b[0m ]\n",
            "File \u001b[1;32mc:\\Users\\ADAWAS\\miniconda3\\envs\\pytorch\\lib\\site-packages\\nltk\\tokenize\\destructive.py:178\u001b[0m, in \u001b[0;36mNLTKWordTokenizer.tokenize\u001b[1;34m(self, text, convert_parentheses, return_str)\u001b[0m\n\u001b[0;32m    175\u001b[0m text \u001b[39m=\u001b[39m \u001b[39m\"\u001b[39m\u001b[39m \u001b[39m\u001b[39m\"\u001b[39m \u001b[39m+\u001b[39m text \u001b[39m+\u001b[39m \u001b[39m\"\u001b[39m\u001b[39m \u001b[39m\u001b[39m\"\u001b[39m\n\u001b[0;32m    177\u001b[0m \u001b[39mfor\u001b[39;00m regexp, substitution \u001b[39min\u001b[39;00m \u001b[39mself\u001b[39m\u001b[39m.\u001b[39mENDING_QUOTES:\n\u001b[1;32m--> 178\u001b[0m     text \u001b[39m=\u001b[39m regexp\u001b[39m.\u001b[39msub(substitution, text)\n\u001b[0;32m    180\u001b[0m \u001b[39mfor\u001b[39;00m regexp \u001b[39min\u001b[39;00m \u001b[39mself\u001b[39m\u001b[39m.\u001b[39mCONTRACTIONS2:\n\u001b[0;32m    181\u001b[0m     text \u001b[39m=\u001b[39m regexp\u001b[39m.\u001b[39msub(\u001b[39mr\u001b[39m\u001b[39m\"\u001b[39m\u001b[39m \u001b[39m\u001b[39m\\\u001b[39m\u001b[39m1 \u001b[39m\u001b[39m\\\u001b[39m\u001b[39m2 \u001b[39m\u001b[39m\"\u001b[39m, text)\n",
            "\u001b[1;31mKeyboardInterrupt\u001b[0m: "
          ]
        }
      ],
      "source": [
        "# Create vocab\n",
        "import seaborn as sns\n",
        "def create_vocab(messages, show_graph=False):\n",
        "    corpus = []\n",
        "    for message in tqdm(messages, desc=\"Tokenizaing\"):\n",
        "        tokens = tokenize_text(message, 3) # Use option 3\n",
        "        corpus.extend(tokens)\n",
        "    logger.info(\"The number of all words: {}\".format(len(corpus)))\n",
        "\n",
        "    # Create Counter\n",
        "    counts = Counter(corpus)\n",
        "    logger.info(\"The number of unique words: {}\".format(len(counts)))\n",
        "\n",
        "    # Create BoW\n",
        "    bow = sorted(counts, key=counts.get, reverse=True)\n",
        "    logger.info(\"Top 40 frequent words: {}\".format(bow[:40]))\n",
        "\n",
        "    # Indexing vocabrary, starting from 1.\n",
        "    vocab = {word: ii for ii, word in enumerate(counts, 1)}\n",
        "    id2vocab = {v: k for k, v in vocab.items()}\n",
        "\n",
        "    if show_graph:\n",
        "        from wordcloud import WordCloud, STOPWORDS, ImageColorGenerator\n",
        "        # Generate Word Cloud image\n",
        "        text = \" \".join(corpus)\n",
        "        stopwords = set(STOPWORDS)\n",
        "        stopwords.update([\"will\", \"report\", \"reporting\", \"market\", \"stock\", \"share\"])\n",
        "\n",
        "        wordcloud = WordCloud(stopwords=stopwords, max_font_size=50, max_words=100, background_color=\"white\", collocations=False).generate(text)\n",
        "        plt.figure(figsize=(15,7))\n",
        "        plt.imshow(wordcloud, interpolation=\"bilinear\")\n",
        "        plt.axis(\"off\")\n",
        "        plt.show()\n",
        "\n",
        "        # Show most frequent words in a bar graph\n",
        "        most = counts.most_common()[:80]\n",
        "        x, y = [], []\n",
        "        for word, count in most:\n",
        "            if word not in stopwords:\n",
        "                x.append(word)\n",
        "                y.append(count)\n",
        "        plt.figure(figsize=(12,10))\n",
        "        sns.barplot(x=y, y=x)\n",
        "        plt.show()\n",
        "\n",
        "    return vocab\n",
        "\n",
        "vocab= create_vocab(preprocessed, True)"
      ]
    },
    {
      "cell_type": "code",
      "execution_count": null,
      "metadata": {
        "colab": {
          "base_uri": "https://localhost:8080/"
        },
        "id": "xqMLTQoGaN4x",
        "outputId": "985c035a-7d3f-4221-e37b-0c91d4d1c1bc"
      },
      "outputs": [
        {
          "data": {
            "text/plain": [
              "(20708,\n",
              " ['subjective',\n",
              "  'this',\n",
              "  'year',\n",
              "  'old',\n",
              "  'white',\n",
              "  'female',\n",
              "  'presents',\n",
              "  'with',\n",
              "  'complaint',\n",
              "  'of'])"
            ]
          },
          "execution_count": 29,
          "metadata": {},
          "output_type": "execute_result"
        }
      ],
      "source": [
        "len(vocab), list(vocab.keys())[:10]"
      ]
    },
    {
      "cell_type": "markdown",
      "metadata": {
        "id": "ex5O1eV-Pfct"
      },
      "source": [
        "# 3. Data preparation and Tokenization\n",
        "In this section, we'll transform our dataset into the format that BERT can be trained on."
      ]
    },
    {
      "cell_type": "markdown",
      "metadata": {
        "id": "-8kEDRvShcU5"
      },
      "source": [
        "## BERT Tokenizer"
      ]
    },
    {
      "cell_type": "markdown",
      "metadata": {
        "id": "bWOPOyWghJp2"
      },
      "source": [
        "\n",
        "To feed our text to BERT, it must be split into tokens, and then these tokens must be mapped to their index in the tokenizer vocabulary.\n",
        "\n",
        "The tokenization must be performed by the tokenizer included with BERT--the below cell will download this for us. We'll be using the \"uncased\" version here.\n"
      ]
    },
    {
      "cell_type": "code",
      "execution_count": null,
      "metadata": {
        "colab": {
          "base_uri": "https://localhost:8080/"
        },
        "id": "scj-ud3QK2rX",
        "outputId": "0884cc1e-4d37-40bd-c4e3-cb2a8e9c2d31"
      },
      "outputs": [
        {
          "name": "stdout",
          "output_type": "stream",
          "text": [
            "Looking in indexes: https://pypi.org/simple, https://us-python.pkg.dev/colab-wheels/public/simple/\n",
            "Requirement already satisfied: tokenizers in /usr/local/lib/python3.10/dist-packages (0.13.3)\n"
          ]
        }
      ],
      "source": [
        "!pip install tokenizers"
      ]
    },
    {
      "cell_type": "code",
      "execution_count": null,
      "metadata": {
        "id": "SJQlqSotK6qd"
      },
      "outputs": [],
      "source": [
        "from tokenizers import Tokenizer\n",
        "url = 'https://github.com/PRIMEADAWAS/CEB_Assignment/blob/main/natural%20language%20processing(NLP)/bert-medical.json'\n",
        "bert_medical_tokenizer = Tokenizer.from_file(url)"
      ]
    },
    {
      "cell_type": "code",
      "execution_count": null,
      "metadata": {
        "colab": {
          "base_uri": "https://localhost:8080/",
          "height": 130,
          "referenced_widgets": [
            "4146b7475db4425487f95af60cb09b5f",
            "af50c6be7f884828ba0b64bba50de704",
            "b0c288756f1249cabc2236ed916ffcf2",
            "3454243fbae74ebf928cfcacc5d0b34b",
            "5c235972514f40e0ab014ac3dedbf411",
            "afaa1cf7063b4e15a065f9eabe98d5b0",
            "ac8c29b8b14a4398a84d070095322b81",
            "6f932231ba8a47878a6218132d457b49",
            "d3b7eb33a3774bf2ae7340834d28b48e",
            "7f5ebcf5e46c442986679b1d4723f3d2",
            "c0dac82be6684b6d927f46551cd5b113",
            "6c89bc480f4f4adcabc907b0e20ae3b4",
            "660dc7b893a84dcdbafabccaedc6e499",
            "cd5848593c034ab6a0b935207f4253cc",
            "b9921ff56a2c4c1aae6a461a5211cb61",
            "0cb7cf21af4e40159a0f3eb120d37ab3",
            "6f949a7d73814a079fdd0b3291c1eea4",
            "d6fc9042502e450fad123d68d33b0584",
            "38c050124c2b482cbd84ea29d4f64ff9",
            "667018ce5d7c4b3387a12e3777fb09e0",
            "bb408835165d44208ede245d8d53d101",
            "4c55cb6ebc36466db525f85006f22a0a",
            "b989a543772c455db3a06d88bfb8597e",
            "2651f8d5e8b94b9f8c680931e08009ce",
            "bd23dce732da477397110dde67b2ef68",
            "98d40bce088f403f80b39068d8c609e4",
            "3bcdf4364d97445c90933eb268d9b680",
            "cede584bbc0f468dbb4b69b553363faf",
            "9bee503896394e04a5bd9778a99e7553",
            "f53c00b4c15847208a4eeb6036f5b1b1",
            "b9edbd519de54699be85738d3df0829d",
            "c0616b87107d47879453be7eb3483192",
            "a7c58136a3ba4e2a8a1610ee2015aeae"
          ]
        },
        "id": "Z474sSC6oe7A",
        "outputId": "5b20b458-0b57-464a-ff3b-50b4bc0a6520"
      },
      "outputs": [
        {
          "name": "stdout",
          "output_type": "stream",
          "text": [
            "Loading BERT tokenizer...\n"
          ]
        },
        {
          "data": {
            "application/vnd.jupyter.widget-view+json": {
              "model_id": "4146b7475db4425487f95af60cb09b5f",
              "version_major": 2,
              "version_minor": 0
            },
            "text/plain": [
              "Downloading (…)solve/main/vocab.txt:   0%|          | 0.00/226k [00:00<?, ?B/s]"
            ]
          },
          "metadata": {},
          "output_type": "display_data"
        },
        {
          "data": {
            "application/vnd.jupyter.widget-view+json": {
              "model_id": "6c89bc480f4f4adcabc907b0e20ae3b4",
              "version_major": 2,
              "version_minor": 0
            },
            "text/plain": [
              "Downloading (…)okenizer_config.json:   0%|          | 0.00/28.0 [00:00<?, ?B/s]"
            ]
          },
          "metadata": {},
          "output_type": "display_data"
        },
        {
          "data": {
            "application/vnd.jupyter.widget-view+json": {
              "model_id": "b989a543772c455db3a06d88bfb8597e",
              "version_major": 2,
              "version_minor": 0
            },
            "text/plain": [
              "Downloading (…)lve/main/config.json:   0%|          | 0.00/385 [00:00<?, ?B/s]"
            ]
          },
          "metadata": {},
          "output_type": "display_data"
        }
      ],
      "source": [
        "# Load the BERT tokenizer.\n",
        "print('Loading BERT tokenizer...')\n",
        "tokenizer = BertTokenizer.from_pretrained('microsoft/BiomedNLP-PubMedBERT-base-uncased-abstract-fulltext', tokenizer_object=bert_medical_tokenizer, do_lower_case=True)\n",
        "# tokenizer = BertTokenizer.from_pretrained('microsoft/BiomedNLP-PubMedBERT-base-uncased-abstract-fulltext', do_lower_case=True)\n",
        "# bert-base-uncased\n",
        "# microsoft/BiomedNLP-PubMedBERT-base-uncased-abstract-fulltext"
      ]
    },
    {
      "cell_type": "code",
      "execution_count": null,
      "metadata": {
        "colab": {
          "base_uri": "https://localhost:8080/"
        },
        "id": "JV2VZ1rLbgyl",
        "outputId": "7b6886a2-8f48-4254-a77c-9e23fa79909a"
      },
      "outputs": [
        {
          "name": "stdout",
          "output_type": "stream",
          "text": [
            "['cov', '##id']\n",
            "['hospitalization']\n"
          ]
        }
      ],
      "source": [
        "print(tokenizer.tokenize('COVID'))\n",
        "print(tokenizer.tokenize('hospitalization'))"
      ]
    },
    {
      "cell_type": "code",
      "execution_count": null,
      "metadata": {
        "colab": {
          "base_uri": "https://localhost:8080/"
        },
        "id": "We0LnBnkeUW7",
        "outputId": "a56784eb-08f4-46c1-81f6-7e6c3fdb65f8"
      },
      "outputs": [
        {
          "name": "stdout",
          "output_type": "stream",
          "text": [
            " Original:  subjective 23 year old white female present complaint allergy use allergy live seattle think worse past try claritin zyrtec work short time seem lose effectiveness use allegra also use last summer begin use two week ago appear work well use counter spray prescription nasal spray asthma doest require daily medication think flare medication medication currently ortho tri cyclen allegra allergy know medicine allergy objective vitals weight 130 pound blood pressure 124/78 heent throat mildly erythematous without exudate nasal mucosa erythematous swell clear drainage see tm clear neck supple without adenopathy lung clear assessment allergic rhinitis plan try zyrtec instead allegra another option use loratadine think prescription coverage might cheaper sample nasonex two spray nostril give three week prescription write well\n",
            "Tokenized:  ['subjective', '23', 'year', 'old', 'white', 'female', 'present', 'complaint', 'allergy', 'use', 'allergy', 'live', 'seattle', 'think', 'worse', 'past', 'try', 'clar', '##itin', 'z', '##yr', '##te', '##c', 'work', 'short', 'time', 'seem', 'lose', 'effectiveness', 'use', 'alle', '##gr', '##a', 'also', 'use', 'last', 'summer', 'begin', 'use', 'two', 'week', 'ago', 'appear', 'work', 'well', 'use', 'counter', 'spray', 'prescription', 'nasal', 'spray', 'asthma', 'does', '##t', 'require', 'daily', 'medication', 'think', 'flare', 'medication', 'medication', 'currently', 'ortho', 'tri', 'cycle', '##n', 'alle', '##gr', '##a', 'allergy', 'know', 'medicine', 'allergy', 'objective', 'vital', '##s', 'weight', '130', 'pou', '##nd', 'blood', 'pressure', '124', '/', '78', 'he', '##ent', 'throat', 'mildly', 'erythemat', '##ous', 'without', 'exud', '##ate', 'nasal', 'mucosa', 'erythemat', '##ous', 'swe', '##ll', 'clear', 'drainage', 'see', 'tm', 'clear', 'neck', 'supple', 'without', 'adeno', '##path', '##y', 'lung', 'clear', 'assessment', 'allergic', 'rhinitis', 'plan', 'try', 'z', '##yr', '##te', '##c', 'instead', 'alle', '##gr', '##a', 'another', 'option', 'use', 'lor', '##ata', '##dine', 'think', 'prescription', 'coverage', 'might', 'cheap', '##er', 'sample', 'nas', '##one', '##x', 'two', 'spray', 'nos', '##tr', '##il', 'give', 'three', 'week', 'prescription', 'write', 'well']\n",
            "Token IDs:  [9106, 3020, 2476, 4156, 4511, 4232, 2481, 24442, 13255, 2485, 13255, 6922, 27234, 8727, 9190, 5375, 15699, 6932, 4823, 68, 3553, 2057, 1030, 2778, 3662, 2367, 6521, 15970, 6001, 2485, 11169, 2299, 1019, 2222, 2485, 4691, 12495, 11763, 2485, 2288, 2982, 11511, 3267, 2778, 2486, 2485, 5836, 14239, 10524, 9305, 14239, 6678, 3731, 1031, 4350, 4692, 6093, 8727, 26770, 6093, 6093, 5077, 24343, 5083, 4048, 1022, 11169, 2299, 1019, 13255, 3758, 5380, 13255, 4470, 8970, 1036, 3388, 8761, 28398, 10249, 2877, 3772, 10955, 19, 5440, 2234, 1939, 23555, 20127, 19216, 2080, 2979, 18787, 2010, 9305, 9680, 19216, 2080, 9736, 11560, 4021, 12790, 3365, 5072, 4021, 7467, 12902, 2979, 29639, 9112, 1012, 3614, 4021, 4076, 10519, 21298, 4720, 15699, 68, 3553, 2057, 1030, 5974, 11169, 2299, 1019, 3741, 8297, 2485, 16394, 5499, 27099, 8727, 10524, 6745, 3284, 29047, 1915, 2983, 7312, 2290, 1039, 2288, 14239, 9291, 1997, 1970, 7031, 2559, 2982, 10524, 20673, 2486]\n"
          ]
        }
      ],
      "source": [
        "# Print the original sentence.\n",
        "print(' Original: ', sentences[0])\n",
        "\n",
        "# Print the sentence split into tokens.\n",
        "print('Tokenized: ', tokenizer.tokenize(sentences[0]))\n",
        "\n",
        "# Print the sentence mapped to token ids.\n",
        "print('Token IDs: ', tokenizer.convert_tokens_to_ids(tokenizer.tokenize(sentences[0])))"
      ]
    },
    {
      "cell_type": "code",
      "execution_count": null,
      "metadata": {
        "id": "t_vXtoVkbmv2"
      },
      "outputs": [],
      "source": [
        "# from transformers import AutoModelForMaskedLM, BertForMaskedLM\n",
        "# modelMLM = BertForMaskedLM.from_pretrained('microsoft/BiomedNLP-PubMedBERT-base-uncased-abstract-fulltext')\n",
        "# # Let's increase the vocabulary of Bert model and tokenizer\n",
        "# new_tokens = list(vocab.keys())\n",
        "# num_added_toks = tokenizer.add_tokens(new_tokens)\n",
        "# # Notice: resize_token_embeddings expect to receive the full size of the new vocabulary, i.e., the length of the tokenizer.\n",
        "# modelMLM.resize_token_embeddings(len(tokenizer))\n",
        "# print(tokenizer.tokenize('COVID'))\n",
        "# print(tokenizer.tokenize('hospitalization'))"
      ]
    },
    {
      "cell_type": "markdown",
      "metadata": {
        "id": "dFzmtleW6KmJ"
      },
      "source": [
        "Let's apply the tokenizer to one sentence just to see the output.\n"
      ]
    },
    {
      "cell_type": "code",
      "execution_count": null,
      "metadata": {
        "colab": {
          "base_uri": "https://localhost:8080/"
        },
        "id": "dLIbudgfh6F0",
        "outputId": "3ca778fa-9428-4aee-f821-e8df2bebd02f"
      },
      "outputs": [
        {
          "name": "stdout",
          "output_type": "stream",
          "text": [
            " Original:  subjective 23 year old white female present complaint allergy use allergy live seattle think worse past try claritin zyrtec work short time seem lose effectiveness use allegra also use last summer begin use two week ago appear work well use counter spray prescription nasal spray asthma doest require daily medication think flare medication medication currently ortho tri cyclen allegra allergy know medicine allergy objective vitals weight 130 pound blood pressure 124/78 heent throat mildly erythematous without exudate nasal mucosa erythematous swell clear drainage see tm clear neck supple without adenopathy lung clear assessment allergic rhinitis plan try zyrtec instead allegra another option use loratadine think prescription coverage might cheaper sample nasonex two spray nostril give three week prescription write well\n",
            "Tokenized:  ['subjective', '23', 'year', 'old', 'white', 'female', 'present', 'complaint', 'allergy', 'use', 'allergy', 'live', 'seattle', 'think', 'worse', 'past', 'try', 'clar', '##itin', 'z', '##yr', '##te', '##c', 'work', 'short', 'time', 'seem', 'lose', 'effectiveness', 'use', 'alle', '##gr', '##a', 'also', 'use', 'last', 'summer', 'begin', 'use', 'two', 'week', 'ago', 'appear', 'work', 'well', 'use', 'counter', 'spray', 'prescription', 'nasal', 'spray', 'asthma', 'does', '##t', 'require', 'daily', 'medication', 'think', 'flare', 'medication', 'medication', 'currently', 'ortho', 'tri', 'cycle', '##n', 'alle', '##gr', '##a', 'allergy', 'know', 'medicine', 'allergy', 'objective', 'vital', '##s', 'weight', '130', 'pou', '##nd', 'blood', 'pressure', '124', '/', '78', 'he', '##ent', 'throat', 'mildly', 'erythemat', '##ous', 'without', 'exud', '##ate', 'nasal', 'mucosa', 'erythemat', '##ous', 'swe', '##ll', 'clear', 'drainage', 'see', 'tm', 'clear', 'neck', 'supple', 'without', 'adeno', '##path', '##y', 'lung', 'clear', 'assessment', 'allergic', 'rhinitis', 'plan', 'try', 'z', '##yr', '##te', '##c', 'instead', 'alle', '##gr', '##a', 'another', 'option', 'use', 'lor', '##ata', '##dine', 'think', 'prescription', 'coverage', 'might', 'cheap', '##er', 'sample', 'nas', '##one', '##x', 'two', 'spray', 'nos', '##tr', '##il', 'give', 'three', 'week', 'prescription', 'write', 'well']\n",
            "Token IDs:  [9106, 3020, 2476, 4156, 4511, 4232, 2481, 24442, 13255, 2485, 13255, 6922, 27234, 8727, 9190, 5375, 15699, 6932, 4823, 68, 3553, 2057, 1030, 2778, 3662, 2367, 6521, 15970, 6001, 2485, 11169, 2299, 1019, 2222, 2485, 4691, 12495, 11763, 2485, 2288, 2982, 11511, 3267, 2778, 2486, 2485, 5836, 14239, 10524, 9305, 14239, 6678, 3731, 1031, 4350, 4692, 6093, 8727, 26770, 6093, 6093, 5077, 24343, 5083, 4048, 1022, 11169, 2299, 1019, 13255, 3758, 5380, 13255, 4470, 8970, 1036, 3388, 8761, 28398, 10249, 2877, 3772, 10955, 19, 5440, 2234, 1939, 23555, 20127, 19216, 2080, 2979, 18787, 2010, 9305, 9680, 19216, 2080, 9736, 11560, 4021, 12790, 3365, 5072, 4021, 7467, 12902, 2979, 29639, 9112, 1012, 3614, 4021, 4076, 10519, 21298, 4720, 15699, 68, 3553, 2057, 1030, 5974, 11169, 2299, 1019, 3741, 8297, 2485, 16394, 5499, 27099, 8727, 10524, 6745, 3284, 29047, 1915, 2983, 7312, 2290, 1039, 2288, 14239, 9291, 1997, 1970, 7031, 2559, 2982, 10524, 20673, 2486]\n"
          ]
        }
      ],
      "source": [
        "# Print the original sentence.\n",
        "print(' Original: ', sentences[0])\n",
        "\n",
        "# Print the sentence split into tokens.\n",
        "print('Tokenized: ', tokenizer.tokenize(sentences[0]))\n",
        "\n",
        "# Print the sentence mapped to token ids.\n",
        "print('Token IDs: ', tokenizer.convert_tokens_to_ids(tokenizer.tokenize(sentences[0])))"
      ]
    },
    {
      "cell_type": "markdown",
      "metadata": {
        "id": "WeNIc4auFUdF"
      },
      "source": [
        "When we actually convert all of our sentences, we'll use the `tokenize.encode` function to handle both steps, rather than calling `tokenize` and `convert_tokens_to_ids` separately. \n",
        "\n",
        "Before we can do that, though, we need to talk about some of BERT's formatting requirements."
      ]
    },
    {
      "cell_type": "markdown",
      "metadata": {
        "id": "viKGCCh8izww"
      },
      "source": [
        "## 3.2. Required Formatting"
      ]
    },
    {
      "cell_type": "markdown",
      "metadata": {
        "id": "yDcqNlvVhL5W"
      },
      "source": [
        "We are required to:\n",
        "1. Add special tokens to the `start` and `end` of each sentence.\n",
        "2. Pad & truncate all sentences to a specific length.\n",
        "3. Explicitly differentiate real tokens from padding tokens with the \"attention mask\".\n",
        "\n"
      ]
    },
    {
      "cell_type": "markdown",
      "metadata": {
        "id": "V6mceWWOjZnw"
      },
      "source": [
        "### Special Tokens\n"
      ]
    },
    {
      "cell_type": "markdown",
      "metadata": {
        "id": "Ykk0P9JiKtVe"
      },
      "source": [
        "\n",
        "**`[SEP]`**\n",
        "\n",
        "To determine the end of the sentence, will be useful for QA task, we need to append the special `[SEP]` token. "
      ]
    },
    {
      "cell_type": "markdown",
      "metadata": {
        "id": "86C9objaKu8f"
      },
      "source": [
        "**`[CLS]`**\n",
        "\n",
        "For classification tasks, \n",
        "the special `[CLS]` token must be added to the beginning of every sentence.\n",
        "\n",
        "BERT consists of 12 Transformer layers. Each transformer takes in a list of token embeddings, and produces the same number of embeddings on the output (but with the feature values changed, of course!).\n",
        "\n",
        "![Illustration of CLS token purpose](http://www.mccormickml.com/assets/BERT/CLS_token_500x606.png)\n",
        "\n",
        "On the output of the final (12th) transformer, *only the first embedding (corresponding to the [CLS] token) is used by the classifier*.\n"
      ]
    },
    {
      "cell_type": "markdown",
      "metadata": {
        "id": "u51v0kFxeteu"
      },
      "source": [
        "### Sentence Length & Attention Mask\n",
        "\n"
      ]
    },
    {
      "cell_type": "markdown",
      "metadata": {
        "id": "qPNuwqZVK3T6"
      },
      "source": [
        "BERT has two constraints:\n",
        "1. All sentences must be padded or truncated to a fixed length.\n",
        "2. The maximum sentence length is 512 tokens.\n",
        "\n",
        "Padding is done with a special `[PAD]` token, which is at index 0 in the BERT vocabulary. The below illustration demonstrates padding out to a \"MAX_LEN\" of 8 tokens.\n",
        "\n",
        "<img src=\"http://www.mccormickml.com/assets/BERT/padding_and_mask.png\" width=\"600\">\n",
        "\n",
        "The \"Attention Mask\" is simply an array of 1s and 0s indicating which tokens are padding and which aren't (seems kind of redundant, doesn't it?!). This mask tells the \"Self-Attention\" mechanism in BERT not to incorporate these PAD tokens into its interpretation of the sentence.\n",
        "\n",
        "The maximum length does impact training and evaluation speed, however. \n",
        "For example, with a Tesla K80:\n",
        "\n",
        "`MAX_LEN = 128  -->  Training epochs take ~5:28 each`\n",
        "\n",
        "`MAX_LEN = 64   -->  Training epochs take ~2:57 each`\n",
        "\n",
        "\n",
        "\n",
        "\n",
        "\n"
      ]
    },
    {
      "cell_type": "markdown",
      "metadata": {
        "id": "l6w8elb-58GJ"
      },
      "source": [
        "## 3.3. Tokenize Dataset"
      ]
    },
    {
      "cell_type": "markdown",
      "metadata": {
        "id": "U28qy4P-NwQ9"
      },
      "source": [
        "The transformers library provides a helpful `encode` function which will handle most of the parsing and data prep steps for us.\n",
        "\n",
        "Before we are ready to encode our text, though, we need to decide on a **maximum sentence length** for padding / truncating to.\n",
        "\n",
        "The below cell will perform one tokenization pass of the dataset in order to measure the maximum sentence length."
      ]
    },
    {
      "cell_type": "code",
      "execution_count": null,
      "metadata": {
        "id": "cKsH2sU0OCQA"
      },
      "outputs": [],
      "source": [
        "max_len = 512\n",
        "\n",
        "# # For every sentence...\n",
        "# for sent in sentences:\n",
        "\n",
        "#     # Tokenize the text and add `[CLS]` and `[SEP]` tokens.\n",
        "#     input_ids = tokenizer.encode(sent, add_special_tokens=True)\n",
        "\n",
        "#     # Update the maximum sentence length.\n",
        "#     max_len = max(max_len, len(input_ids))\n",
        "\n",
        "# print('Max sentence length: ', max_len)\n"
      ]
    },
    {
      "cell_type": "markdown",
      "metadata": {
        "id": "tIWAoWL2RK1p"
      },
      "source": [
        "Now we're ready to perform the real tokenization.\n",
        "\n",
        "The `tokenizer.encode_plus` function combines multiple steps for us:\n",
        "\n",
        "1. Split the sentence into tokens.\n",
        "2. Add the special `[CLS]` and `[SEP]` tokens.\n",
        "3. Map the tokens to their IDs.\n",
        "4. Pad or truncate all sentences to the same length.\n",
        "5. Create the attention masks which explicitly differentiate real tokens from `[PAD]` tokens.\n",
        "\n",
        "The first four features are in `tokenizer.encode`, but I'm using `tokenizer.encode_plus` to get the fifth item (attention masks). Documentation is [here](https://huggingface.co/transformers/main_classes/tokenizer.html?highlight=encode_plus#transformers.PreTrainedTokenizer.encode_plus).\n"
      ]
    },
    {
      "cell_type": "code",
      "execution_count": null,
      "metadata": {
        "id": "g8cQx0G_f8ZD"
      },
      "outputs": [],
      "source": [
        "# import tqdm for show progression\n",
        "from tqdm import tqdm\n",
        "tqdm.pandas()"
      ]
    },
    {
      "cell_type": "code",
      "execution_count": null,
      "metadata": {
        "id": "uxTaIluEr2l1"
      },
      "outputs": [],
      "source": [
        "def bertTokenizerEncodePlus(sentences, labels):\n",
        "  # Tokenize all of the sentences and map the tokens to thier word IDs.\n",
        "  input_ids = []\n",
        "  attention_masks = []\n",
        "\n",
        "  # For every sentence...\n",
        "  for index, sentence in tqdm(enumerate(sentences)):\n",
        "      # `encode_plus` will:\n",
        "      #   (1) Tokenize the sentence.\n",
        "      #   (2) Prepend the `[CLS]` token to the start.\n",
        "      #   (3) Append the `[SEP]` token to the end.\n",
        "      #   (4) Map tokens to their IDs.\n",
        "      #   (5) Pad or truncate the sentence to `max_length`\n",
        "      #   (6) Create attention masks for [PAD] tokens.\n",
        "      encoded_dict = tokenizer.encode_plus(\n",
        "                          sentence, # Sentence to encode.\n",
        "                          truncation=True, # Cut word length to maximum 512\n",
        "                          add_special_tokens = True, # Add '[CLS]' and '[SEP]'\n",
        "                          max_length = 512, # Pad & truncate all sentences.\n",
        "                          padding='max_length',\n",
        "                          return_tensors = 'pt' # Return pytorch tensors.\n",
        "                    )\n",
        "      \n",
        "      # Add the encoded sentence to the list.    \n",
        "      input_ids.append(encoded_dict['input_ids'])\n",
        "      \n",
        "      # And its attention mask (simply differentiates padding from non-padding).\n",
        "      attention_masks.append(encoded_dict['attention_mask'])\n",
        "\n",
        "  # Convert the lists into tensors.\n",
        "  input_ids = torch.cat(input_ids, dim=0)\n",
        "  attention_masks = torch.cat(attention_masks, dim=0)\n",
        "  labels = torch.tensor(labels)\n",
        "\n",
        "  # Print sentence 0, now as a list of IDs.\n",
        "  # print('Original: ', sentences[0])\n",
        "  # print('Token IDs:', input_ids[0])\n",
        "\n",
        "  return input_ids, attention_masks, labels"
      ]
    },
    {
      "cell_type": "markdown",
      "metadata": {
        "id": "aRp4O7D295d_"
      },
      "source": [
        "## 3.4. Training & Validation Split\n"
      ]
    },
    {
      "cell_type": "markdown",
      "metadata": {
        "id": "qu0ao7p8rb06"
      },
      "source": [
        "Divide up our training set to use 80% for training and 20% for validation."
      ]
    },
    {
      "cell_type": "code",
      "execution_count": null,
      "metadata": {
        "colab": {
          "base_uri": "https://localhost:8080/"
        },
        "id": "LhKVM8kusZ96",
        "outputId": "cedc424f-5b18-407b-97cb-36a91e000125"
      },
      "outputs": [
        {
          "name": "stdout",
          "output_type": "stream",
          "text": [
            "(2443,) (815,) (815,)\n"
          ]
        },
        {
          "name": "stderr",
          "output_type": "stream",
          "text": [
            "2443it [00:37, 65.67it/s] \n",
            "815it [00:05, 151.73it/s]\n",
            "815it [00:06, 117.20it/s]\n"
          ]
        }
      ],
      "source": [
        "from sklearn.model_selection import train_test_split\n",
        "\n",
        "sentences = np.array(sentences)\n",
        "# labels = Y.values\n",
        "\n",
        "train_sentences, test_sentences, train_labels, test_labels = train_test_split(sentences, labels, test_size = 0.2, stratify = labels, random_state = 6536115)\n",
        "train_sentences, val_sentences, train_labels, val_labels = train_test_split(train_sentences, train_labels, test_size = 0.25, stratify = train_labels, random_state = 6536115)\n",
        "print(train_sentences.shape, val_sentences.shape, test_sentences.shape)\n",
        "\n",
        "train_input_ids, train_attention_masks, train_labels = bertTokenizerEncodePlus(train_sentences, train_labels)\n",
        "val_input_ids, val_attention_masks, val_labels = bertTokenizerEncodePlus(val_sentences, val_labels)\n",
        "test_input_ids, test_attention_masks, test_labels = bertTokenizerEncodePlus(test_sentences, test_labels)\n",
        "\n",
        "train_dataset = TensorDataset(train_input_ids, train_attention_masks, train_labels)\n",
        "val_dataset = TensorDataset(val_input_ids, val_attention_masks, val_labels)\n",
        "test_dataset = TensorDataset(test_input_ids, test_attention_masks, test_labels)"
      ]
    },
    {
      "cell_type": "code",
      "execution_count": null,
      "metadata": {
        "colab": {
          "base_uri": "https://localhost:8080/"
        },
        "id": "GIvREVuxiabH",
        "outputId": "619aff54-892e-4884-80b1-245ebfd7279e"
      },
      "outputs": [
        {
          "data": {
            "text/plain": [
              "13    1365\n",
              "0      371\n",
              "5      370\n",
              "10     355\n",
              "3      317\n",
              "12     273\n",
              "2      224\n",
              "7      223\n",
              "8      155\n",
              "1       96\n",
              "4       90\n",
              "9       83\n",
              "6       81\n",
              "11      70\n",
              "Name: labels, dtype: int64"
            ]
          },
          "execution_count": 43,
          "metadata": {},
          "output_type": "execute_result"
        }
      ],
      "source": [
        "dc = pd.DataFrame(labels, columns=['labels'])\n",
        "dc['labels'].value_counts()"
      ]
    },
    {
      "cell_type": "code",
      "execution_count": null,
      "metadata": {
        "colab": {
          "base_uri": "https://localhost:8080/"
        },
        "id": "spDnFarliabH",
        "outputId": "d61309ed-dd7b-4b2a-f308-64220b74cd16"
      },
      "outputs": [
        {
          "data": {
            "text/plain": [
              "13    819\n",
              "0     223\n",
              "5     222\n",
              "10    213\n",
              "3     190\n",
              "12    163\n",
              "2     134\n",
              "7     133\n",
              "8      93\n",
              "1      58\n",
              "4      54\n",
              "9      50\n",
              "6      49\n",
              "11     42\n",
              "Name: labels, dtype: int64"
            ]
          },
          "execution_count": 44,
          "metadata": {},
          "output_type": "execute_result"
        }
      ],
      "source": [
        "dc = pd.DataFrame(train_labels, columns=['labels'])\n",
        "dc['labels'].value_counts()"
      ]
    },
    {
      "cell_type": "code",
      "execution_count": null,
      "metadata": {
        "colab": {
          "base_uri": "https://localhost:8080/"
        },
        "id": "5_z2DZgZiabI",
        "outputId": "e6c55cb4-b1a0-4acd-9e96-766e05b678f3"
      },
      "outputs": [
        {
          "data": {
            "text/plain": [
              "13    273\n",
              "0      74\n",
              "5      74\n",
              "10     71\n",
              "3      64\n",
              "12     55\n",
              "2      45\n",
              "7      45\n",
              "8      31\n",
              "1      19\n",
              "4      18\n",
              "9      16\n",
              "6      16\n",
              "11     14\n",
              "Name: labels, dtype: int64"
            ]
          },
          "execution_count": 45,
          "metadata": {},
          "output_type": "execute_result"
        }
      ],
      "source": [
        "dc = pd.DataFrame(val_labels, columns=['labels'])\n",
        "dc['labels'].value_counts()"
      ]
    },
    {
      "cell_type": "code",
      "execution_count": null,
      "metadata": {
        "colab": {
          "base_uri": "https://localhost:8080/"
        },
        "id": "OHWFlnEtiabI",
        "outputId": "cef82471-cde1-4867-e442-d9377b09083b"
      },
      "outputs": [
        {
          "data": {
            "text/plain": [
              "13    273\n",
              "0      74\n",
              "5      74\n",
              "10     71\n",
              "3      63\n",
              "12     55\n",
              "2      45\n",
              "7      45\n",
              "8      31\n",
              "1      19\n",
              "4      18\n",
              "9      17\n",
              "6      16\n",
              "11     14\n",
              "Name: labels, dtype: int64"
            ]
          },
          "execution_count": 46,
          "metadata": {},
          "output_type": "execute_result"
        }
      ],
      "source": [
        "dc = pd.DataFrame(test_labels, columns=['labels'])\n",
        "dc['labels'].value_counts()"
      ]
    },
    {
      "cell_type": "markdown",
      "metadata": {
        "id": "dD9i6Z2pG-sN"
      },
      "source": [
        "We'll also create an iterator for our dataset using the torch DataLoader class. This helps save on memory during training because, unlike a for loop, with an iterator the entire dataset does not need to be loaded into memory."
      ]
    },
    {
      "cell_type": "code",
      "execution_count": null,
      "metadata": {
        "id": "XGUqOCtgqGhP"
      },
      "outputs": [],
      "source": [
        "# The DataLoader needs to know our batch size for training, so we specify it \n",
        "# here. For fine-tuning BERT on a specific task, the authors recommend a batch \n",
        "# size of 16 or 32.\n",
        "batch_size = 8\n",
        "\n",
        "# Create the DataLoaders for our training and validation sets.\n",
        "# We'll take training samples in random order. \n",
        "train_dataloader = DataLoader(\n",
        "            train_dataset,  # The training samples.\n",
        "            sampler = RandomSampler(train_dataset), # Select batches randomly\n",
        "            batch_size = batch_size # Trains with this batch size.\n",
        "        )\n",
        "\n",
        "# For validation the order doesn't matter, so we'll just read them sequentially.\n",
        "validation_dataloader = DataLoader(\n",
        "            val_dataset, # The validation samples.\n",
        "            sampler = SequentialSampler(val_dataset), # Pull out batches sequentially.\n",
        "            batch_size = batch_size # Evaluate with this batch size.\n",
        "        )\n",
        "\n",
        "# For validation the order doesn't matter, so we'll just read them sequentially.\n",
        "test_dataloader = DataLoader(\n",
        "            test_dataset, # The validation samples.\n",
        "            sampler = SequentialSampler(test_dataset), # Pull out batches sequentially.\n",
        "            batch_size = batch_size # Evaluate with this batch size.\n",
        "        )"
      ]
    },
    {
      "cell_type": "markdown",
      "metadata": {
        "id": "8bwa6Rts-02-"
      },
      "source": [
        "# 4. Train Our Classification Model"
      ]
    },
    {
      "cell_type": "markdown",
      "metadata": {
        "id": "3xYQ3iLO08SX"
      },
      "source": [
        "Now that our input data is properly formatted, it's time to fine tune the BERT model. "
      ]
    },
    {
      "cell_type": "markdown",
      "metadata": {
        "id": "D6TKgyUzPIQc"
      },
      "source": [
        "## 4.1. Model"
      ]
    },
    {
      "cell_type": "markdown",
      "metadata": {
        "id": "b2jr-7zDwrtD"
      },
      "source": [
        "### BertModel"
      ]
    },
    {
      "cell_type": "markdown",
      "metadata": {
        "id": "1sjzRT1V0zwm"
      },
      "source": [
        "For this task, we first want to modify the pre-trained BERT model to give outputs for classification, and then we want to continue training the model on our dataset until that the entire model, end-to-end, is well-suited for our task. \n",
        "\n",
        "A variety of NLP tasks already pre-trained can be download from huggingface. \n",
        "Here is the current list of classes provided for fine-tuning:\n",
        "* BertModel"
      ]
    },
    {
      "cell_type": "markdown",
      "metadata": {
        "id": "BXYitPoE-cjH"
      },
      "source": [
        "\n",
        "\n",
        "We'll be using [BertForSequenceClassification](https://huggingface.co/transformers/v2.2.0/model_doc/bert.html#bertforsequenceclassification). This is the normal BERT model with an added single linear layer on top for classification that we will use as a sentence classifier. As we feed input data, the entire pre-trained BERT model and the additional untrained classification layer is trained on our specific task. \n"
      ]
    },
    {
      "cell_type": "code",
      "execution_count": null,
      "metadata": {
        "colab": {
          "base_uri": "https://localhost:8080/",
          "height": 833,
          "referenced_widgets": [
            "4550d51a109f4c978e75269b4c7279fb",
            "c36c0de8dcd14f49b4de06e971b1b43c",
            "fd2e4c6eadc749d1b4cbe85aceb38bd1",
            "144a455ee2a54b538e30560143ca089e",
            "8a969cb420f84cc793284f9b9ceea76e",
            "f0c01c2fa471431a8832e936e5f21f8d",
            "5bf6bdf72e2c4bc49f280e7fb94609de",
            "b39a4938cd0945eba6741edb2145b18f",
            "9a14b01fd219443a9d8efdbe4558c5a1",
            "17f7375b9c7145eaaa19a957f4aff164",
            "4dd536b8eeab45d1a037212ae1e3eaa2"
          ]
        },
        "id": "L8cQQLhWgNkq",
        "outputId": "6946f997-8652-47de-fa81-6d4025062205"
      },
      "outputs": [
        {
          "data": {
            "application/vnd.jupyter.widget-view+json": {
              "model_id": "4550d51a109f4c978e75269b4c7279fb",
              "version_major": 2,
              "version_minor": 0
            },
            "text/plain": [
              "Downloading pytorch_model.bin:   0%|          | 0.00/440M [00:00<?, ?B/s]"
            ]
          },
          "metadata": {},
          "output_type": "display_data"
        },
        {
          "name": "stderr",
          "output_type": "stream",
          "text": [
            "Some weights of the model checkpoint at microsoft/BiomedNLP-PubMedBERT-base-uncased-abstract-fulltext were not used when initializing BertModel: ['cls.predictions.bias', 'cls.predictions.transform.dense.weight', 'cls.seq_relationship.weight', 'cls.seq_relationship.bias', 'cls.predictions.transform.LayerNorm.bias', 'cls.predictions.decoder.bias', 'cls.predictions.transform.dense.bias', 'cls.predictions.decoder.weight', 'cls.predictions.transform.LayerNorm.weight']\n",
            "- This IS expected if you are initializing BertModel from the checkpoint of a model trained on another task or with another architecture (e.g. initializing a BertForSequenceClassification model from a BertForPreTraining model).\n",
            "- This IS NOT expected if you are initializing BertModel from the checkpoint of a model that you expect to be exactly identical (initializing a BertForSequenceClassification model from a BertForSequenceClassification model).\n"
          ]
        },
        {
          "data": {
            "text/plain": [
              "BertModel(\n",
              "  (embeddings): BertEmbeddings(\n",
              "    (word_embeddings): Embedding(30522, 768, padding_idx=0)\n",
              "    (position_embeddings): Embedding(512, 768)\n",
              "    (token_type_embeddings): Embedding(2, 768)\n",
              "    (LayerNorm): LayerNorm((768,), eps=1e-12, elementwise_affine=True)\n",
              "    (dropout): Dropout(p=0.1, inplace=False)\n",
              "  )\n",
              "  (encoder): BertEncoder(\n",
              "    (layer): ModuleList(\n",
              "      (0-11): 12 x BertLayer(\n",
              "        (attention): BertAttention(\n",
              "          (self): BertSelfAttention(\n",
              "            (query): Linear(in_features=768, out_features=768, bias=True)\n",
              "            (key): Linear(in_features=768, out_features=768, bias=True)\n",
              "            (value): Linear(in_features=768, out_features=768, bias=True)\n",
              "            (dropout): Dropout(p=0.1, inplace=False)\n",
              "          )\n",
              "          (output): BertSelfOutput(\n",
              "            (dense): Linear(in_features=768, out_features=768, bias=True)\n",
              "            (LayerNorm): LayerNorm((768,), eps=1e-12, elementwise_affine=True)\n",
              "            (dropout): Dropout(p=0.1, inplace=False)\n",
              "          )\n",
              "        )\n",
              "        (intermediate): BertIntermediate(\n",
              "          (dense): Linear(in_features=768, out_features=3072, bias=True)\n",
              "          (intermediate_act_fn): GELUActivation()\n",
              "        )\n",
              "        (output): BertOutput(\n",
              "          (dense): Linear(in_features=3072, out_features=768, bias=True)\n",
              "          (LayerNorm): LayerNorm((768,), eps=1e-12, elementwise_affine=True)\n",
              "          (dropout): Dropout(p=0.1, inplace=False)\n",
              "        )\n",
              "      )\n",
              "    )\n",
              "  )\n",
              "  (pooler): BertPooler(\n",
              "    (dense): Linear(in_features=768, out_features=768, bias=True)\n",
              "    (activation): Tanh()\n",
              "  )\n",
              ")"
            ]
          },
          "execution_count": 48,
          "metadata": {},
          "output_type": "execute_result"
        }
      ],
      "source": [
        "# Load pre-trained model (weights)\n",
        "model_wordembedding = BertModel.from_pretrained('microsoft/BiomedNLP-PubMedBERT-base-uncased-abstract-fulltext',\n",
        "                                  output_hidden_states = True, # Whether the model returns all hidden-states.\n",
        "                                  )\n",
        "\n",
        "# Put the model in \"evaluation\" mode, meaning feed-forward operation.\n",
        "model_wordembedding.to(device)\n",
        "# model_wordembedding.cuda()\n",
        "model_wordembedding.eval()"
      ]
    },
    {
      "cell_type": "code",
      "execution_count": null,
      "metadata": {
        "colab": {
          "base_uri": "https://localhost:8080/"
        },
        "id": "8PIiVlDYCtSq",
        "outputId": "c47ad308-98b6-4a63-b5b5-432d630ef1c2"
      },
      "outputs": [
        {
          "name": "stdout",
          "output_type": "stream",
          "text": [
            "The BERT model has 199 different named parameters.\n",
            "\n",
            "==== Embedding Layer ====\n",
            "\n",
            "embeddings.word_embeddings.weight                       (30522, 768)\n",
            "embeddings.position_embeddings.weight                     (512, 768)\n",
            "embeddings.token_type_embeddings.weight                     (2, 768)\n",
            "embeddings.LayerNorm.weight                                   (768,)\n",
            "embeddings.LayerNorm.bias                                     (768,)\n",
            "\n",
            "==== First Transformer ====\n",
            "\n",
            "encoder.layer.0.attention.self.query.weight               (768, 768)\n",
            "encoder.layer.0.attention.self.query.bias                     (768,)\n",
            "encoder.layer.0.attention.self.key.weight                 (768, 768)\n",
            "encoder.layer.0.attention.self.key.bias                       (768,)\n",
            "encoder.layer.0.attention.self.value.weight               (768, 768)\n",
            "encoder.layer.0.attention.self.value.bias                     (768,)\n",
            "encoder.layer.0.attention.output.dense.weight             (768, 768)\n",
            "encoder.layer.0.attention.output.dense.bias                   (768,)\n",
            "encoder.layer.0.attention.output.LayerNorm.weight             (768,)\n",
            "encoder.layer.0.attention.output.LayerNorm.bias               (768,)\n",
            "encoder.layer.0.intermediate.dense.weight                (3072, 768)\n",
            "encoder.layer.0.intermediate.dense.bias                      (3072,)\n",
            "encoder.layer.0.output.dense.weight                      (768, 3072)\n",
            "encoder.layer.0.output.dense.bias                             (768,)\n",
            "encoder.layer.0.output.LayerNorm.weight                       (768,)\n",
            "encoder.layer.0.output.LayerNorm.bias                         (768,)\n",
            "\n",
            "==== Output Layer ====\n",
            "\n",
            "encoder.layer.11.output.LayerNorm.weight                      (768,)\n",
            "encoder.layer.11.output.LayerNorm.bias                        (768,)\n",
            "pooler.dense.weight                                       (768, 768)\n",
            "pooler.dense.bias                                             (768,)\n"
          ]
        }
      ],
      "source": [
        "# Get all of the model's parameters as a list of tuples.\n",
        "params = list(model_wordembedding.named_parameters())\n",
        "\n",
        "print('The BERT model has {:} different named parameters.\\n'.format(len(params)))\n",
        "\n",
        "print('==== Embedding Layer ====\\n')\n",
        "\n",
        "for p in params[0:5]:\n",
        "    print(\"{:<55} {:>12}\".format(p[0], str(tuple(p[1].size()))))\n",
        "\n",
        "print('\\n==== First Transformer ====\\n')\n",
        "\n",
        "for p in params[5:21]:\n",
        "    print(\"{:<55} {:>12}\".format(p[0], str(tuple(p[1].size()))))\n",
        "\n",
        "print('\\n==== Output Layer ====\\n')\n",
        "\n",
        "for p in params[-4:]:\n",
        "    print(\"{:<55} {:>12}\".format(p[0], str(tuple(p[1].size()))))"
      ]
    },
    {
      "cell_type": "markdown",
      "metadata": {
        "id": "iKZobj2Qwv7j"
      },
      "source": [
        "### LSTM model"
      ]
    },
    {
      "cell_type": "code",
      "execution_count": null,
      "metadata": {
        "colab": {
          "base_uri": "https://localhost:8080/"
        },
        "id": "7YCvKUt9wz07",
        "outputId": "9ad4641a-d008-4bdf-822b-2fffc70aa7d8"
      },
      "outputs": [
        {
          "data": {
            "text/plain": [
              "LSTM(\n",
              "  (dropout): Dropout(p=0.2, inplace=False)\n",
              "  (lstm): LSTM(768, 256, batch_first=True, bidirectional=True)\n",
              "  (fc_one): Linear(in_features=256, out_features=14, bias=True)\n",
              "  (fc_bi): Linear(in_features=512, out_features=14, bias=True)\n",
              ")"
            ]
          },
          "execution_count": 50,
          "metadata": {},
          "output_type": "execute_result"
        }
      ],
      "source": [
        "from torch import nn\n",
        "import torch.nn.functional as F\n",
        "from torch.nn.utils.rnn import pack_padded_sequence, pad_packed_sequence\n",
        "\n",
        "class LSTM(torch.nn.Module):\n",
        "    def __init__(self, embed_dim, hidden_dim, class_num, bidirectional = True):\n",
        "    # def __init__(self, embed_dim, hidden_dim, n_layers, class_num, dropout, drop_prob, bidirectional = False):\n",
        "        super(LSTM, self).__init__()\n",
        "\n",
        "        self.dropout = nn.Dropout(0.2)       \n",
        "        self.bidirectional = bidirectional\n",
        "        self.lstm = nn.LSTM(embed_dim, hidden_dim, num_layers=1, batch_first=True, bidirectional=self.bidirectional)\n",
        "        self.fc_one = nn.Linear(hidden_dim, class_num)\n",
        "        # self.linear = nn.Linear(hidden_dim, class_num)\n",
        "        self.fc_bi = nn.Linear(hidden_dim*2, class_num)\n",
        "\n",
        "    def forward(self, x):\n",
        "        # x = self.dropout(x)\n",
        "        lstm_out, (ht, ct) = self.lstm(x)\n",
        "        # print(lstm_out.shape, lstm_out[-1].shape, ht.shape, ht[-1].shape, ct.shape)   \n",
        "        if  self.bidirectional == True:\n",
        "          h_bilat = torch.concat([ht[0],ht[-1]],dim=1)   \n",
        "          # print(h_bilat.shape) \n",
        "          return self.fc_bi(h_bilat)\n",
        "        else:\n",
        "          return self.fc_one(ht[-1])\n",
        "    \n",
        "\n",
        "model = LSTM(embed_dim = 768, hidden_dim = 256, class_num = df['medical_specialty'].nunique())\n",
        "model.to(device)"
      ]
    },
    {
      "cell_type": "markdown",
      "metadata": {
        "id": "qRWT-D4U_Pvx"
      },
      "source": [
        "## 4.2. Loss function, Optimizer & Learning Rate Scheduler"
      ]
    },
    {
      "cell_type": "markdown",
      "metadata": {
        "id": "8o-VEBobKwHk"
      },
      "source": [
        "Now that we have our model loaded we need to grab the training hyperparameters from within the stored model.\n",
        "\n",
        "For the purposes of fine-tuning, the authors recommend choosing from the following values (from Appendix A.3 of the [BERT paper](https://arxiv.org/pdf/1810.04805.pdf)):\n",
        "\n",
        ">- **Batch size:** 16, 32  \n",
        "- **Learning rate (Adam):** 5e-5, 3e-5, 2e-5  \n",
        "- **Number of epochs:** 2, 3, 4 \n",
        "\n",
        "We chose:\n",
        "* Batch size: 16 (set when creating our DataLoaders)\n",
        "* Learning rate: 5e-5\n",
        "* Epochs: 4 (we'll see that this is probably too many...)\n",
        "\n",
        "The epsilon parameter `eps = 1e-8` is \"a very small number to prevent any division by zero in the implementation\" (from [here](https://machinelearningmastery.com/adam-optimization-algorithm-for-deep-learning/)).\n",
        "\n",
        "You can find the creation of the AdamW optimizer in `run_glue.py` [here](https://github.com/huggingface/transformers/blob/5bfcd0485ece086ebcbed2d008813037968a9e58/examples/run_glue.py#L109)."
      ]
    },
    {
      "cell_type": "code",
      "execution_count": null,
      "metadata": {
        "id": "UyrT09nFMFUp"
      },
      "outputs": [],
      "source": [
        "loss_fn = nn.CrossEntropyLoss()"
      ]
    },
    {
      "cell_type": "code",
      "execution_count": null,
      "metadata": {
        "colab": {
          "base_uri": "https://localhost:8080/"
        },
        "id": "GLs72DuMODJO",
        "outputId": "317a8cd6-a6e9-448b-e293-418aabcc4305"
      },
      "outputs": [
        {
          "name": "stderr",
          "output_type": "stream",
          "text": [
            "/usr/local/lib/python3.10/dist-packages/transformers/optimization.py:407: FutureWarning: This implementation of AdamW is deprecated and will be removed in a future version. Use the PyTorch implementation torch.optim.AdamW instead, or set `no_deprecation_warning=True` to disable this warning\n",
            "  warnings.warn(\n"
          ]
        }
      ],
      "source": [
        "# Note: AdamW is a class from the huggingface library (as opposed to pytorch) \n",
        "# I believe the 'W' stands for 'Weight Decay fix\"\n",
        "optimizer = AdamW(model.parameters(),\n",
        "                  lr = 5e-5, # args.learning_rate - default is 5e-5\n",
        "                  eps = 1e-8 # args.adam_epsilon  - default is 1e-8\n",
        "                )"
      ]
    },
    {
      "cell_type": "code",
      "execution_count": null,
      "metadata": {
        "id": "-p0upAhhRiIx"
      },
      "outputs": [],
      "source": [
        "# Number of training epochs. The BERT authors recommend between 2 and 4. \n",
        "# We chose to run for 4, but we'll see later that this may be over-fitting the\n",
        "# training data.\n",
        "epochs = 4\n",
        "\n",
        "# Total number of training steps is [number of batches] x [number of epochs]. \n",
        "# (Note that this is not the same as the number of training samples).\n",
        "total_steps = len(train_dataloader) * epochs\n",
        "\n",
        "# Create the learning rate scheduler.\n",
        "scheduler = get_linear_schedule_with_warmup(optimizer, \n",
        "                                            num_warmup_steps = 0, # Default value in run_glue.py\n",
        "                                            num_training_steps = total_steps)"
      ]
    },
    {
      "cell_type": "markdown",
      "metadata": {
        "id": "RqfmWwUR_Sox"
      },
      "source": [
        "## 4.3. Training Loop"
      ]
    },
    {
      "cell_type": "markdown",
      "metadata": {
        "id": "_QXZhFb4LnV5"
      },
      "source": [
        "Below is our training loop. There's a lot going on, but fundamentally for each pass in our loop we have a trianing phase and a validation phase. \n",
        "\n",
        "**Training:**\n",
        "- Unpack our data inputs and labels\n",
        "- Load data onto the GPU\n",
        "- Clear out the gradients in the previous pass. \n",
        "- Forward pass\n",
        "- Backward pass (backpropagation)\n",
        "- Update parameters with optimizer.step()\n",
        "- Monitor progress\n",
        "\n",
        "**Evalution:**\n",
        "- Unpack our data inputs and labels\n",
        "- Load data onto the GPU\n",
        "- Forward pass\n",
        "- Compute loss on our validation data\n",
        "- Monotor progress\n"
      ]
    },
    {
      "cell_type": "markdown",
      "metadata": {
        "id": "KNhRtWPXH9C3"
      },
      "source": [
        "Helper function for formatting elapsed times as `hh:mm:ss`\n"
      ]
    },
    {
      "cell_type": "code",
      "execution_count": null,
      "metadata": {
        "id": "gpt6tR83keZD"
      },
      "outputs": [],
      "source": [
        "def format_time(elapsed):\n",
        "    '''\n",
        "    Takes a time in seconds and returns a string hh:mm:ss\n",
        "    '''\n",
        "    # Round to the nearest second.\n",
        "    elapsed_rounded = int(round((elapsed)))\n",
        "    \n",
        "    # Format as hh:mm:ss\n",
        "    return str(datetime.timedelta(seconds=elapsed_rounded))"
      ]
    },
    {
      "cell_type": "code",
      "execution_count": null,
      "metadata": {
        "id": "h7ztotGtRDOB"
      },
      "outputs": [],
      "source": [
        "# Function to calculate the accuracy of our predictions vs labels\n",
        "def flat_accuracy(preds, labels):\n",
        "    # print(\"preds: \",preds)\n",
        "    pred_flat = np.argmax(preds, axis=1).flatten()\n",
        "    # print(\"pred_flat: \",pred_flat)\n",
        "    labels_flat = labels.flatten()\n",
        "    # print(\"labels_flat: \",labels_flat)\n",
        "    return np.sum(pred_flat == labels_flat) / len(labels_flat)"
      ]
    },
    {
      "cell_type": "markdown",
      "metadata": {
        "id": "cfNIhN19te3N"
      },
      "source": [
        "We're ready to kick off the training!"
      ]
    },
    {
      "cell_type": "code",
      "execution_count": null,
      "metadata": {
        "colab": {
          "base_uri": "https://localhost:8080/"
        },
        "id": "9vLI8TltiCUR",
        "outputId": "59c082c3-9209-4f20-f3e9-d3a9cbf4f33b"
      },
      "outputs": [
        {
          "name": "stdout",
          "output_type": "stream",
          "text": [
            "\n",
            "======== Epoch 1 / 4 ========\n",
            "Training...\n",
            "  Batch    40  of    306.    Elapsed: 0:00:13.\n",
            "  Batch    80  of    306.    Elapsed: 0:00:24.\n",
            "  Batch   120  of    306.    Elapsed: 0:00:36.\n",
            "  Batch   160  of    306.    Elapsed: 0:00:48.\n",
            "  Batch   200  of    306.    Elapsed: 0:01:00.\n",
            "  Batch   240  of    306.    Elapsed: 0:01:12.\n",
            "  Batch   280  of    306.    Elapsed: 0:01:25.\n",
            "\n",
            "  Average training loss: 2.16\n",
            "  Training epcoh took: 0:01:34\n",
            "\n",
            "Running Validation...\n",
            "  Accuracy: 0.42\n",
            "  Validation Loss: 1.98\n",
            "  Validation took: 0:00:32\n",
            "\n",
            "======== Epoch 2 / 4 ========\n",
            "Training...\n",
            "  Batch    40  of    306.    Elapsed: 0:00:14.\n",
            "  Batch    80  of    306.    Elapsed: 0:00:28.\n",
            "  Batch   120  of    306.    Elapsed: 0:00:41.\n",
            "  Batch   160  of    306.    Elapsed: 0:00:55.\n",
            "  Batch   200  of    306.    Elapsed: 0:01:09.\n",
            "  Batch   240  of    306.    Elapsed: 0:01:22.\n",
            "  Batch   280  of    306.    Elapsed: 0:01:36.\n",
            "\n",
            "  Average training loss: 1.85\n",
            "  Training epcoh took: 0:01:45\n",
            "\n",
            "Running Validation...\n",
            "  Accuracy: 0.46\n",
            "  Validation Loss: 1.77\n",
            "  Validation took: 0:00:33\n",
            "\n",
            "======== Epoch 3 / 4 ========\n",
            "Training...\n",
            "  Batch    40  of    306.    Elapsed: 0:00:14.\n",
            "  Batch    80  of    306.    Elapsed: 0:00:27.\n",
            "  Batch   120  of    306.    Elapsed: 0:00:41.\n",
            "  Batch   160  of    306.    Elapsed: 0:00:55.\n",
            "  Batch   200  of    306.    Elapsed: 0:01:08.\n",
            "  Batch   240  of    306.    Elapsed: 0:01:22.\n",
            "  Batch   280  of    306.    Elapsed: 0:01:36.\n",
            "\n",
            "  Average training loss: 1.68\n",
            "  Training epcoh took: 0:01:44\n",
            "\n",
            "Running Validation...\n",
            "  Accuracy: 0.46\n",
            "  Validation Loss: 1.68\n",
            "  Validation took: 0:00:32\n",
            "\n",
            "======== Epoch 4 / 4 ========\n",
            "Training...\n",
            "  Batch    40  of    306.    Elapsed: 0:00:14.\n",
            "  Batch    80  of    306.    Elapsed: 0:00:27.\n",
            "  Batch   120  of    306.    Elapsed: 0:00:41.\n",
            "  Batch   160  of    306.    Elapsed: 0:00:54.\n",
            "  Batch   200  of    306.    Elapsed: 0:01:08.\n",
            "  Batch   240  of    306.    Elapsed: 0:01:22.\n",
            "  Batch   280  of    306.    Elapsed: 0:01:35.\n",
            "\n",
            "  Average training loss: 1.59\n",
            "  Training epcoh took: 0:01:44\n",
            "\n",
            "Running Validation...\n",
            "  Accuracy: 0.48\n",
            "  Validation Loss: 1.65\n",
            "  Validation took: 0:00:33\n",
            "\n",
            "Training complete!\n",
            "Total training took 0:08:55 (h:mm:ss)\n"
          ]
        }
      ],
      "source": [
        "#acculmulate validation accuracy, and timings on stats list.\n",
        "training_stats = []\n",
        "# Measure the total training time for the whole run.\n",
        "total_t0 = time.time()\n",
        "\n",
        "# For each epoch...\n",
        "for epoch_i in range(0,epochs):\n",
        "\n",
        "    # ========================================\n",
        "    #               Training\n",
        "    # ========================================\n",
        "\n",
        "    print(\"\")\n",
        "    print('======== Epoch {:} / {:} ========'.format(epoch_i + 1, epochs))\n",
        "    print('Training...')\n",
        "\n",
        "    # Measure how long the training epoch takes.\n",
        "    t0 = time.time()\n",
        "\n",
        "    # Reset the total loss for this epoch.\n",
        "    total_train_loss = 0\n",
        "    \n",
        "    model_wordembedding.eval() \n",
        "    # model_wordembedding.train()\n",
        "\n",
        "    for step, batch in enumerate(train_dataloader):\n",
        "        word_embedding = [] # our word embedding input for the actual model\n",
        "        b_labels = batch[2].type(torch.LongTensor).to(device) # labels (n = batch_size)\n",
        "\n",
        "        # Progress update every 40 batches.\n",
        "        if step > 0 and step % 40 == 0:\n",
        "            # Calculate elapsed time in minutes.\n",
        "            elapsed = format_time(time.time() - t0)\n",
        "            # Report progress.\n",
        "            print('  Batch {:>5,}  of  {:>5,}.    Elapsed: {:}.'.format(step, len(train_dataloader), elapsed))\n",
        "\n",
        "        ## extract emb from BERT need model.eval and with torch.no_grad()\n",
        "        for i in range(len(batch[0])):\n",
        "          # b_input_ids = batch[0][i].to(device)\n",
        "          # b_input_mask = batch[1][i].to(device)\n",
        "          b_input_ids = batch[0][i].view(1,len(batch[0][i])).to(device)\n",
        "          b_input_mask = batch[1][i].view(1,len(batch[1][i])).to(device)\n",
        "          \n",
        "          # Run the text through BERT, and collect all of the hidden states produced\n",
        "          with torch.no_grad():\n",
        "            # BERT output (n_batch,maxlen,768)\n",
        "            outputs = model_wordembedding(input_ids = b_input_ids, attention_mask = b_input_mask)\n",
        "            emb = outputs.last_hidden_state[0]\n",
        "            word_embedding.append(emb)\n",
        "\n",
        "        # stack list of sample tensor to batch tensor (batch_size, max_chunk*maxlen, 768)\n",
        "        word_embedding = torch.stack(word_embedding)   \n",
        "                \n",
        "        ## train main model\n",
        "        # set to train mode\n",
        "        model.train()\n",
        "\n",
        "        # reset gradient\n",
        "        model.zero_grad()\n",
        "        # enable gradient back from the previous torch.no_grad()\n",
        "        # with torch.enable_grad():\n",
        "        out = model(word_embedding)\n",
        "        loss = loss_fn(out,b_labels)\n",
        "\n",
        "        total_train_loss += loss\n",
        "\n",
        "        loss.backward()\n",
        "\n",
        "        # Clip the norm to help prevent the \"exploding gradients\" problem.\n",
        "        torch.nn.utils.clip_grad_norm_(model.parameters(), 1.0)\n",
        "        # update weight\n",
        "        optimizer.step()\n",
        "        scheduler.step()\n",
        "\n",
        "    # Calculate the average loss over all of the batches.\n",
        "    avg_train_loss = total_train_loss / len(train_dataloader)            \n",
        "    \n",
        "    # Measure how long this epoch took.\n",
        "    training_time = format_time(time.time() - t0)\n",
        "\n",
        "    print(\"\")\n",
        "    print(\"  Average training loss: {0:.2f}\".format(avg_train_loss))\n",
        "    print(\"  Training epcoh took: {:}\".format(training_time))\n",
        "\n",
        "    # ========================================\n",
        "    #               Validation\n",
        "    # ========================================\n",
        "    # After the completion of each training epoch, measure our performance on\n",
        "    # our validation set.\n",
        "    print(\"\")\n",
        "    print(\"Running Validation...\")\n",
        "\n",
        "    t0 = time.time()\n",
        "\n",
        "    # Put the model in evaluation mode--the dropout layers behave differently\n",
        "    # during evaluation.\n",
        "    model.eval()\n",
        "    # model_wordembedding.eval()\n",
        "\n",
        "    # Tracking variables \n",
        "    total_eval_accuracy = 0\n",
        "    total_eval_loss = 0\n",
        "    nb_eval_steps = 0\n",
        "\n",
        "    # Evaluate data for one epoch\n",
        "    for batch in validation_dataloader:\n",
        "        word_embedding = [] # our word embedding input for the actual model\n",
        "        b_labels = batch[2].type(torch.LongTensor).to(device) # labels (n = batch_size)\n",
        "        \n",
        "        # Tell pytorch not to bother with constructing the compute graph during\n",
        "        # the forward pass, since this is only needed for backprop (training).\n",
        "        with torch.no_grad():     \n",
        "          ## extract emb from BERT need model.eval and with torch.no_grad()\n",
        "          for i in range(len(batch[0])):\n",
        "            b_input_ids = batch[0][i].view(1,len(batch[0][i])).to(device)\n",
        "            b_input_mask = batch[1][i].view(1,len(batch[1][i])).to(device)\n",
        "            \n",
        "            # Run the text through BERT, and collect all of the hidden states produced\n",
        "            outputs = model_wordembedding(input_ids = b_input_ids, attention_mask = b_input_mask)\n",
        "            # BERT output (n_batch,maxlen,768)\n",
        "            emb = outputs.last_hidden_state[0]\n",
        "            word_embedding.append(emb)\n",
        "\n",
        "        # stack list of sample tensor to batch tensor (batch_size, max_chunk*maxlen, 768)\n",
        "        word_embedding = torch.stack(word_embedding)   \n",
        "\n",
        "        # reset gradient\n",
        "        model.zero_grad()\n",
        "\n",
        "        # run model\n",
        "        out = model(word_embedding)\n",
        "        \n",
        "        # calculate loss\n",
        "        loss = loss_fn(out,b_labels)\n",
        "            \n",
        "        # Accumulate the validation loss.\n",
        "        total_eval_loss += loss\n",
        "\n",
        "        # Move logits and labels to CPU\n",
        "        logits = out.detach().cpu().numpy()\n",
        "        label_ids = b_labels.to('cpu').numpy()\n",
        "\n",
        "        # Calculate the accuracy for this batch of test sentences, and\n",
        "        # accumulate it over all batches.\n",
        "        total_eval_accuracy += flat_accuracy(logits, label_ids)\n",
        "        \n",
        "\n",
        "    # Report the final accuracy for this validation run.\n",
        "    avg_val_accuracy = total_eval_accuracy / len(validation_dataloader)\n",
        "    print(\"  Accuracy: {0:.2f}\".format(avg_val_accuracy))\n",
        "\n",
        "    # Calculate the average loss over all of the batches.\n",
        "    avg_val_loss = total_eval_loss / len(validation_dataloader)\n",
        "    \n",
        "    # Measure how long the validation run took.\n",
        "    validation_time = format_time(time.time() - t0)\n",
        "    \n",
        "    print(\"  Validation Loss: {0:.2f}\".format(avg_val_loss))\n",
        "    print(\"  Validation took: {:}\".format(validation_time))\n",
        "\n",
        "    # Record all statistics from this epoch.\n",
        "    training_stats.append(\n",
        "        {\n",
        "            'epoch': epoch_i + 1,\n",
        "            'Training Loss': avg_train_loss,\n",
        "            'Valid. Loss': avg_val_loss,\n",
        "            'Valid. Accur.': avg_val_accuracy,\n",
        "            'Training Time': training_time,\n",
        "            'Validation Time': validation_time\n",
        "        }\n",
        "    )\n",
        "\n",
        "print(\"\")\n",
        "print(\"Training complete!\")\n",
        "\n",
        "print(\"Total training took {:} (h:mm:ss)\".format(format_time(time.time()-total_t0)))"
      ]
    },
    {
      "cell_type": "markdown",
      "metadata": {
        "id": "VQTvJ1vRP7u4"
      },
      "source": [
        "Let's view the summary of the training process."
      ]
    },
    {
      "cell_type": "code",
      "execution_count": null,
      "metadata": {
        "colab": {
          "base_uri": "https://localhost:8080/",
          "height": 206
        },
        "id": "6O_NbXFGMukX",
        "outputId": "32ea3356-f7f5-41d9-cd9f-50a62eab2e3d"
      },
      "outputs": [
        {
          "data": {
            "text/html": [
              "\n",
              "  <div id=\"df-94b2c295-fcc0-4731-bb9c-24b399eb41c1\">\n",
              "    <div class=\"colab-df-container\">\n",
              "      <div>\n",
              "<style scoped>\n",
              "    .dataframe tbody tr th:only-of-type {\n",
              "        vertical-align: middle;\n",
              "    }\n",
              "\n",
              "    .dataframe tbody tr th {\n",
              "        vertical-align: top;\n",
              "    }\n",
              "\n",
              "    .dataframe thead th {\n",
              "        text-align: right;\n",
              "    }\n",
              "</style>\n",
              "<table border=\"1\" class=\"dataframe\">\n",
              "  <thead>\n",
              "    <tr style=\"text-align: right;\">\n",
              "      <th></th>\n",
              "      <th>Training Loss</th>\n",
              "      <th>Valid. Loss</th>\n",
              "      <th>Valid. Accur.</th>\n",
              "      <th>Training Time</th>\n",
              "      <th>Validation Time</th>\n",
              "    </tr>\n",
              "    <tr>\n",
              "      <th>epoch</th>\n",
              "      <th></th>\n",
              "      <th></th>\n",
              "      <th></th>\n",
              "      <th></th>\n",
              "      <th></th>\n",
              "    </tr>\n",
              "  </thead>\n",
              "  <tbody>\n",
              "    <tr>\n",
              "      <th>1</th>\n",
              "      <td>tensor(2.1616, device='cuda:0', grad_fn=&lt;DivBa...</td>\n",
              "      <td>tensor(1.9803, device='cuda:0', grad_fn=&lt;DivBa...</td>\n",
              "      <td>0.421919</td>\n",
              "      <td>0:01:34</td>\n",
              "      <td>0:00:32</td>\n",
              "    </tr>\n",
              "    <tr>\n",
              "      <th>2</th>\n",
              "      <td>tensor(1.8469, device='cuda:0', grad_fn=&lt;DivBa...</td>\n",
              "      <td>tensor(1.7726, device='cuda:0', grad_fn=&lt;DivBa...</td>\n",
              "      <td>0.456232</td>\n",
              "      <td>0:01:45</td>\n",
              "      <td>0:00:33</td>\n",
              "    </tr>\n",
              "    <tr>\n",
              "      <th>3</th>\n",
              "      <td>tensor(1.6769, device='cuda:0', grad_fn=&lt;DivBa...</td>\n",
              "      <td>tensor(1.6790, device='cuda:0', grad_fn=&lt;DivBa...</td>\n",
              "      <td>0.464811</td>\n",
              "      <td>0:01:44</td>\n",
              "      <td>0:00:32</td>\n",
              "    </tr>\n",
              "    <tr>\n",
              "      <th>4</th>\n",
              "      <td>tensor(1.5881, device='cuda:0', grad_fn=&lt;DivBa...</td>\n",
              "      <td>tensor(1.6461, device='cuda:0', grad_fn=&lt;DivBa...</td>\n",
              "      <td>0.480917</td>\n",
              "      <td>0:01:44</td>\n",
              "      <td>0:00:33</td>\n",
              "    </tr>\n",
              "  </tbody>\n",
              "</table>\n",
              "</div>\n",
              "      <button class=\"colab-df-convert\" onclick=\"convertToInteractive('df-94b2c295-fcc0-4731-bb9c-24b399eb41c1')\"\n",
              "              title=\"Convert this dataframe to an interactive table.\"\n",
              "              style=\"display:none;\">\n",
              "        \n",
              "  <svg xmlns=\"http://www.w3.org/2000/svg\" height=\"24px\"viewBox=\"0 0 24 24\"\n",
              "       width=\"24px\">\n",
              "    <path d=\"M0 0h24v24H0V0z\" fill=\"none\"/>\n",
              "    <path d=\"M18.56 5.44l.94 2.06.94-2.06 2.06-.94-2.06-.94-.94-2.06-.94 2.06-2.06.94zm-11 1L8.5 8.5l.94-2.06 2.06-.94-2.06-.94L8.5 2.5l-.94 2.06-2.06.94zm10 10l.94 2.06.94-2.06 2.06-.94-2.06-.94-.94-2.06-.94 2.06-2.06.94z\"/><path d=\"M17.41 7.96l-1.37-1.37c-.4-.4-.92-.59-1.43-.59-.52 0-1.04.2-1.43.59L10.3 9.45l-7.72 7.72c-.78.78-.78 2.05 0 2.83L4 21.41c.39.39.9.59 1.41.59.51 0 1.02-.2 1.41-.59l7.78-7.78 2.81-2.81c.8-.78.8-2.07 0-2.86zM5.41 20L4 18.59l7.72-7.72 1.47 1.35L5.41 20z\"/>\n",
              "  </svg>\n",
              "      </button>\n",
              "      \n",
              "  <style>\n",
              "    .colab-df-container {\n",
              "      display:flex;\n",
              "      flex-wrap:wrap;\n",
              "      gap: 12px;\n",
              "    }\n",
              "\n",
              "    .colab-df-convert {\n",
              "      background-color: #E8F0FE;\n",
              "      border: none;\n",
              "      border-radius: 50%;\n",
              "      cursor: pointer;\n",
              "      display: none;\n",
              "      fill: #1967D2;\n",
              "      height: 32px;\n",
              "      padding: 0 0 0 0;\n",
              "      width: 32px;\n",
              "    }\n",
              "\n",
              "    .colab-df-convert:hover {\n",
              "      background-color: #E2EBFA;\n",
              "      box-shadow: 0px 1px 2px rgba(60, 64, 67, 0.3), 0px 1px 3px 1px rgba(60, 64, 67, 0.15);\n",
              "      fill: #174EA6;\n",
              "    }\n",
              "\n",
              "    [theme=dark] .colab-df-convert {\n",
              "      background-color: #3B4455;\n",
              "      fill: #D2E3FC;\n",
              "    }\n",
              "\n",
              "    [theme=dark] .colab-df-convert:hover {\n",
              "      background-color: #434B5C;\n",
              "      box-shadow: 0px 1px 3px 1px rgba(0, 0, 0, 0.15);\n",
              "      filter: drop-shadow(0px 1px 2px rgba(0, 0, 0, 0.3));\n",
              "      fill: #FFFFFF;\n",
              "    }\n",
              "  </style>\n",
              "\n",
              "      <script>\n",
              "        const buttonEl =\n",
              "          document.querySelector('#df-94b2c295-fcc0-4731-bb9c-24b399eb41c1 button.colab-df-convert');\n",
              "        buttonEl.style.display =\n",
              "          google.colab.kernel.accessAllowed ? 'block' : 'none';\n",
              "\n",
              "        async function convertToInteractive(key) {\n",
              "          const element = document.querySelector('#df-94b2c295-fcc0-4731-bb9c-24b399eb41c1');\n",
              "          const dataTable =\n",
              "            await google.colab.kernel.invokeFunction('convertToInteractive',\n",
              "                                                     [key], {});\n",
              "          if (!dataTable) return;\n",
              "\n",
              "          const docLinkHtml = 'Like what you see? Visit the ' +\n",
              "            '<a target=\"_blank\" href=https://colab.research.google.com/notebooks/data_table.ipynb>data table notebook</a>'\n",
              "            + ' to learn more about interactive tables.';\n",
              "          element.innerHTML = '';\n",
              "          dataTable['output_type'] = 'display_data';\n",
              "          await google.colab.output.renderOutput(dataTable, element);\n",
              "          const docLink = document.createElement('div');\n",
              "          docLink.innerHTML = docLinkHtml;\n",
              "          element.appendChild(docLink);\n",
              "        }\n",
              "      </script>\n",
              "    </div>\n",
              "  </div>\n",
              "  "
            ],
            "text/plain": [
              "                                           Training Loss  \\\n",
              "epoch                                                      \n",
              "1      tensor(2.1616, device='cuda:0', grad_fn=<DivBa...   \n",
              "2      tensor(1.8469, device='cuda:0', grad_fn=<DivBa...   \n",
              "3      tensor(1.6769, device='cuda:0', grad_fn=<DivBa...   \n",
              "4      tensor(1.5881, device='cuda:0', grad_fn=<DivBa...   \n",
              "\n",
              "                                             Valid. Loss  Valid. Accur.  \\\n",
              "epoch                                                                     \n",
              "1      tensor(1.9803, device='cuda:0', grad_fn=<DivBa...       0.421919   \n",
              "2      tensor(1.7726, device='cuda:0', grad_fn=<DivBa...       0.456232   \n",
              "3      tensor(1.6790, device='cuda:0', grad_fn=<DivBa...       0.464811   \n",
              "4      tensor(1.6461, device='cuda:0', grad_fn=<DivBa...       0.480917   \n",
              "\n",
              "      Training Time Validation Time  \n",
              "epoch                                \n",
              "1           0:01:34         0:00:32  \n",
              "2           0:01:45         0:00:33  \n",
              "3           0:01:44         0:00:32  \n",
              "4           0:01:44         0:00:33  "
            ]
          },
          "execution_count": 57,
          "metadata": {},
          "output_type": "execute_result"
        }
      ],
      "source": [
        "# Create a DataFrame from our training statistics.\n",
        "df_stats = pd.DataFrame(data=training_stats)\n",
        "\n",
        "# Use the 'epoch' as the row index.\n",
        "df_stats = df_stats.set_index('epoch')\n",
        "\n",
        "# Display the table.\n",
        "df_stats"
      ]
    },
    {
      "cell_type": "markdown",
      "metadata": {
        "id": "1-G03mmwH3aI"
      },
      "source": [
        "Notice that, while the the training loss is going down with each epoch, the validation loss is increasing! This suggests that we are training our model too long, and it's over-fitting on the training data. \n",
        "\n",
        "(For reference, we are using 7,695 training samples and 856 validation samples).\n",
        "\n",
        "Validation Loss is a more precise measure than accuracy, because with accuracy we don't care about the exact output value, but just which side of a threshold it falls on. \n",
        "\n",
        "If we are predicting the correct answer, but with less confidence, then validation loss will catch this, while accuracy will not."
      ]
    },
    {
      "cell_type": "code",
      "execution_count": null,
      "metadata": {
        "colab": {
          "base_uri": "https://localhost:8080/",
          "height": 592
        },
        "id": "68xreA9JAmG5",
        "outputId": "8e09e483-373d-4a14-d5d8-c7fa5c04a2de"
      },
      "outputs": [
        {
          "data": {
            "image/png": "[encoded data removed]",
            "text/plain": [
              "<Figure size 1200x600 with 1 Axes>"
            ]
          },
          "metadata": {},
          "output_type": "display_data"
        }
      ],
      "source": [
        "# Use plot styling from seaborn.\n",
        "sns.set(style='darkgrid')\n",
        "\n",
        "# Increase the plot size and font size.\n",
        "sns.set(font_scale=1.5)\n",
        "plt.rcParams[\"figure.figsize\"] = (12,6)\n",
        "\n",
        "# Plot the learning curve.\n",
        "plt.plot(df_stats['Training Loss'], 'b-o', label=\"Training\")\n",
        "plt.plot(df_stats['Valid. Loss'], 'g-o', label=\"Validation\")\n",
        "\n",
        "# Label the plot.\n",
        "plt.title(\"Training & Validation Loss\")\n",
        "plt.xlabel(\"Epoch\")\n",
        "plt.ylabel(\"Loss\")\n",
        "plt.legend()\n",
        "plt.xticks([1, 2, 3, 4])\n",
        "\n",
        "plt.show()"
      ]
    },
    {
      "cell_type": "markdown",
      "metadata": {
        "id": "mkyubuJSOzg3"
      },
      "source": [
        "# 5. Performance On Test Set"
      ]
    },
    {
      "cell_type": "markdown",
      "metadata": {
        "id": "rhR99IISNMg9"
      },
      "source": [
        "\n",
        "With the test set prepared, we can apply our fine-tuned model to generate predictions on the test set."
      ]
    },
    {
      "cell_type": "code",
      "execution_count": null,
      "metadata": {
        "id": "6ELI4YYqDnLV"
      },
      "outputs": [],
      "source": [
        "model.eval()"
      ]
    },
    {
      "cell_type": "code",
      "execution_count": null,
      "metadata": {
        "colab": {
          "base_uri": "https://localhost:8080/",
          "height": 235
        },
        "id": "Hba10sXR7Xi6",
        "outputId": "32dace76-d054-435c-c426-1fedf845c41f"
      },
      "outputs": [
        {
          "ename": "TypeError",
          "evalue": "ignored",
          "output_type": "error",
          "traceback": [
            "\u001b[0;31m---------------------------------------------------------------------------\u001b[0m",
            "\u001b[0;31mTypeError\u001b[0m                                 Traceback (most recent call last)",
            "\u001b[0;32m<ipython-input-130-daf7341c9753>\u001b[0m in \u001b[0;36m<cell line: 13>\u001b[0;34m()\u001b[0m\n\u001b[1;32m     33\u001b[0m   \u001b[0mword_embedding\u001b[0m \u001b[0;34m=\u001b[0m \u001b[0mtorch\u001b[0m\u001b[0;34m.\u001b[0m\u001b[0mstack\u001b[0m\u001b[0;34m(\u001b[0m\u001b[0mword_embedding\u001b[0m\u001b[0;34m)\u001b[0m\u001b[0;34m\u001b[0m\u001b[0;34m\u001b[0m\u001b[0m\n\u001b[1;32m     34\u001b[0m \u001b[0;34m\u001b[0m\u001b[0m\n\u001b[0;32m---> 35\u001b[0;31m   \u001b[0mout\u001b[0m \u001b[0;34m=\u001b[0m \u001b[0mmodel\u001b[0m\u001b[0;34m(\u001b[0m\u001b[0mword_embedding\u001b[0m\u001b[0;34m)\u001b[0m\u001b[0;34m\u001b[0m\u001b[0;34m\u001b[0m\u001b[0m\n\u001b[0m\u001b[1;32m     36\u001b[0m \u001b[0;34m\u001b[0m\u001b[0m\n\u001b[1;32m     37\u001b[0m   \u001b[0;31m# Move logits and labels to CPU\u001b[0m\u001b[0;34m\u001b[0m\u001b[0;34m\u001b[0m\u001b[0m\n",
            "\u001b[0;31mTypeError\u001b[0m: 'collections.OrderedDict' object is not callable"
          ]
        }
      ],
      "source": [
        "# Prediction on test set\n",
        "\n",
        "# print('Predicting labels for {:,} test sentences...'.format(len(input_ids)))\n",
        "\n",
        "# Put model in evaluation mode\n",
        "# model.eval()\n",
        "model_wordembedding.eval()\n",
        "\n",
        "# Tracking variables \n",
        "predictions , true_labels = [], []\n",
        "\n",
        "# Predict \n",
        "for batch in test_dataloader:\n",
        "  # Add batch to GPU\n",
        "  word_embedding = [] # our word embedding input for the actual model\n",
        "  b_labels = batch[2].type(torch.LongTensor).to(device) # labels (n = batch_size)\n",
        "\n",
        "  # Tell pytorch not to bother with constructing the compute graph during\n",
        "  # the forward pass, since this is only needed for backprop (training).\n",
        "  with torch.no_grad():     \n",
        "    ## extract emb from BERT need model.eval and with torch.no_grad()\n",
        "    for i in range(len(batch[0])):\n",
        "      b_input_ids = batch[0][i].view(1,len(batch[0][i])).to(device)\n",
        "      b_input_mask = batch[1][i].view(1,len(batch[1][i])).to(device)\n",
        "      \n",
        "      # Run the text through BERT, and collect all of the hidden states produced\n",
        "      outputs = model_wordembedding(input_ids = b_input_ids, attention_mask = b_input_mask)\n",
        "      # BERT output (n_batch,maxlen,768)\n",
        "      emb = outputs.last_hidden_state[0]\n",
        "      word_embedding.append(emb)\n",
        "\n",
        "  # stack list of sample tensor to batch tensor (batch_size, max_chunk*maxlen, 768)\n",
        "  word_embedding = torch.stack(word_embedding)  \n",
        "\n",
        "  out = model(word_embedding)\n",
        "\n",
        "  # Move logits and labels to CPU\n",
        "  logits = out.detach().cpu().numpy()\n",
        "  label_ids = b_labels.to('cpu').numpy()\n",
        "  \n",
        "  # Store predictions and true labels\n",
        "  predictions.append(logits)\n",
        "  true_labels.append(label_ids)\n",
        "\n",
        "print('    DONE.')"
      ]
    },
    {
      "cell_type": "code",
      "execution_count": null,
      "metadata": {
        "id": "4xvZvNe0hlZA"
      },
      "outputs": [],
      "source": [
        "flat_true_labels = np.concatenate(true_labels, axis=0)\n",
        "flat_predictions = np.concatenate(predictions, axis=0)"
      ]
    },
    {
      "cell_type": "code",
      "execution_count": null,
      "metadata": {
        "colab": {
          "base_uri": "https://localhost:8080/"
        },
        "id": "zo23ug8WjH4i",
        "outputId": "c8066c69-947c-4268-96d7-28889072942c"
      },
      "outputs": [
        {
          "data": {
            "text/plain": [
              "(815, 14)"
            ]
          },
          "execution_count": 61,
          "metadata": {},
          "output_type": "execute_result"
        }
      ],
      "source": [
        "flat_predictions.shape"
      ]
    },
    {
      "cell_type": "code",
      "execution_count": null,
      "metadata": {
        "colab": {
          "base_uri": "https://localhost:8080/"
        },
        "id": "PhjEFOWMjPHc",
        "outputId": "0b78b797-0df0-4e98-891d-6b0197c89038"
      },
      "outputs": [
        {
          "data": {
            "text/plain": [
              "(815,)"
            ]
          },
          "execution_count": 62,
          "metadata": {},
          "output_type": "execute_result"
        }
      ],
      "source": [
        "flat_true_labels.shape"
      ]
    },
    {
      "cell_type": "code",
      "execution_count": null,
      "metadata": {
        "id": "D8Dl7LGqf593"
      },
      "outputs": [],
      "source": [
        "from sklearn.metrics import f1_score, accuracy_score"
      ]
    },
    {
      "cell_type": "code",
      "execution_count": null,
      "metadata": {
        "id": "sdBF7duPj933"
      },
      "outputs": [],
      "source": [
        "def f1_score_func(preds, labels):\n",
        "    preds_flat = np.argmax(preds, axis=1).flatten()\n",
        "    labels_flat = labels.flatten()\n",
        "    return f1_score(labels_flat, preds_flat, average='macro')"
      ]
    },
    {
      "cell_type": "code",
      "execution_count": null,
      "metadata": {
        "colab": {
          "base_uri": "https://localhost:8080/"
        },
        "id": "1Iyks9iDiTxK",
        "outputId": "7b49987a-8eb2-4f37-8688-c8b1747322e2"
      },
      "outputs": [
        {
          "name": "stdout",
          "output_type": "stream",
          "text": [
            "f1 score = 0.1884798896974722\n",
            "accuracy score = 0.43558282208588955\n"
          ]
        }
      ],
      "source": [
        "print('f1 score =',f1_score_func(flat_predictions, flat_true_labels))\n",
        "print('accuracy score =',flat_accuracy(flat_predictions, flat_true_labels))"
      ]
    },
    {
      "cell_type": "markdown",
      "metadata": {
        "id": "xcehOgxYOkXm"
      },
      "source": [
        "# Result"
      ]
    },
    {
      "cell_type": "code",
      "execution_count": null,
      "metadata": {
        "colab": {
          "base_uri": "https://localhost:8080/",
          "height": 165
        },
        "id": "Euy8tdbRABFA",
        "outputId": "b3e569aa-038f-4a36-eac8-0862c1de421d"
      },
      "outputs": [
        {
          "ename": "AxisError",
          "evalue": "ignored",
          "output_type": "error",
          "traceback": [
            "\u001b[0;31m---------------------------------------------------------------------------\u001b[0m",
            "\u001b[0;31mAxisError\u001b[0m                                 Traceback (most recent call last)",
            "\u001b[0;32m<ipython-input-94-be3b9e03b323>\u001b[0m in \u001b[0;36m<cell line: 1>\u001b[0;34m()\u001b[0m\n\u001b[0;32m----> 1\u001b[0;31m \u001b[0mflat_predictions\u001b[0m \u001b[0;34m=\u001b[0m \u001b[0mflat_predictions\u001b[0m\u001b[0;34m.\u001b[0m\u001b[0margmax\u001b[0m\u001b[0;34m(\u001b[0m\u001b[0;36m1\u001b[0m\u001b[0;34m)\u001b[0m\u001b[0;34m.\u001b[0m\u001b[0mflatten\u001b[0m\u001b[0;34m(\u001b[0m\u001b[0;34m)\u001b[0m\u001b[0;34m\u001b[0m\u001b[0;34m\u001b[0m\u001b[0m\n\u001b[0m",
            "\u001b[0;31mAxisError\u001b[0m: axis 1 is out of bounds for array of dimension 1"
          ]
        }
      ],
      "source": [
        "flat_predictions = flat_predictions.argmax(1).flatten()"
      ]
    },
    {
      "cell_type": "code",
      "execution_count": null,
      "metadata": {
        "colab": {
          "base_uri": "https://localhost:8080/"
        },
        "id": "WqZjDqesAEev",
        "outputId": "b030f113-97d2-4cbb-a5cd-121b629470f5"
      },
      "outputs": [
        {
          "data": {
            "text/plain": [
              "array([ 4,  3,  2,  1, 10, 12, 10, 11,  3, 13])"
            ]
          },
          "execution_count": 95,
          "metadata": {},
          "output_type": "execute_result"
        }
      ],
      "source": [
        "flat_true_labels[:10]"
      ]
    },
    {
      "cell_type": "code",
      "execution_count": null,
      "metadata": {
        "id": "wZaftxgDPK5s"
      },
      "outputs": [],
      "source": [
        "def flat_accuracy(preds, labels):\n",
        "    # pred_flat = np.argmax(preds, axis=1).flatten()\n",
        "    pred_flat = preds.flatten()\n",
        "    labels_flat = labels.flatten()\n",
        "    return np.sum(pred_flat == labels_flat) / len(labels_flat)"
      ]
    },
    {
      "cell_type": "code",
      "execution_count": null,
      "metadata": {
        "colab": {
          "base_uri": "https://localhost:8080/"
        },
        "id": "nnyGTr3cN1ru",
        "outputId": "d2968624-fc3b-4f35-b256-09ec021c609c"
      },
      "outputs": [
        {
          "name": "stdout",
          "output_type": "stream",
          "text": [
            "Accuracy of prediction on test set :  0.43558282208588955\n"
          ]
        }
      ],
      "source": [
        "print(\"Accuracy of prediction on test set : \", flat_accuracy(flat_predictions, flat_true_labels))"
      ]
    },
    {
      "cell_type": "code",
      "execution_count": null,
      "metadata": {
        "colab": {
          "base_uri": "https://localhost:8080/"
        },
        "id": "i5AEDe0HzkHO",
        "outputId": "5f6e4a71-de91-4642-850a-9d0df5e1da93"
      },
      "outputs": [
        {
          "data": {
            "text/plain": [
              "array(['Cardiovascular / Pulmonary', 'ENT - Otolaryngology',\n",
              "       'Gastroenterology', 'General Medicine', 'Hematology - Oncology',\n",
              "       'Minor', 'Nephrology', 'Neurology', 'Obstetrics / Gynecology',\n",
              "       'Ophthalmology', 'Orthopedic', 'Pediatrics - Neonatal',\n",
              "       'Radiology', 'Surgery'], dtype=object)"
            ]
          },
          "execution_count": 98,
          "metadata": {},
          "output_type": "execute_result"
        }
      ],
      "source": [
        "labelencoder.classes_"
      ]
    },
    {
      "cell_type": "code",
      "execution_count": null,
      "metadata": {
        "colab": {
          "base_uri": "https://localhost:8080/"
        },
        "id": "HUhIv1iTNhOy",
        "outputId": "cb223cf8-4d7d-4400-f0ee-574cd8ed0668"
      },
      "outputs": [
        {
          "data": {
            "text/plain": [
              "{0: 'Cardiovascular / Pulmonary',\n",
              " 1: 'ENT - Otolaryngology',\n",
              " 2: 'Gastroenterology',\n",
              " 3: 'General Medicine',\n",
              " 4: 'Hematology - Oncology',\n",
              " 5: 'Minor',\n",
              " 6: 'Nephrology',\n",
              " 7: 'Neurology',\n",
              " 8: 'Obstetrics / Gynecology',\n",
              " 9: 'Ophthalmology',\n",
              " 10: 'Orthopedic',\n",
              " 11: 'Pediatrics - Neonatal',\n",
              " 12: 'Radiology',\n",
              " 13: 'Surgery'}"
            ]
          },
          "execution_count": 99,
          "metadata": {},
          "output_type": "execute_result"
        }
      ],
      "source": [
        "label_map = dict(zip(labelencoder.transform(labelencoder.classes_), labelencoder.classes_))\n",
        "label_map"
      ]
    },
    {
      "cell_type": "code",
      "execution_count": null,
      "metadata": {
        "id": "qg15o5mzKvlZ"
      },
      "outputs": [],
      "source": [
        "pred_labels = [label_map[i] for i in flat_predictions]\n",
        "test_labels = [label_map[i] for i in flat_true_labels]"
      ]
    },
    {
      "cell_type": "code",
      "execution_count": null,
      "metadata": {
        "id": "xGJ5qfQzpeNW"
      },
      "outputs": [],
      "source": [
        "from sklearn.metrics import confusion_matrix,classification_report\n",
        "category_list = list(label_map.values())\n",
        "cm = confusion_matrix(pred_labels, test_labels)"
      ]
    },
    {
      "cell_type": "code",
      "execution_count": null,
      "metadata": {
        "colab": {
          "base_uri": "https://localhost:8080/",
          "height": 1000
        },
        "id": "hq8_sFBaxmI4",
        "outputId": "a87b2769-0b68-443e-ea9e-3f7a5d751d27"
      },
      "outputs": [
        {
          "data": {
            "image/png": "[encoded data removed]",
            "text/plain": [
              "<Figure size 1500x1500 with 2 Axes>"
            ]
          },
          "metadata": {},
          "output_type": "display_data"
        }
      ],
      "source": [
        "fig = plt.figure(figsize=(15,15))\n",
        "ax= fig.add_subplot(1,1,1)\n",
        "sns.heatmap(cm, annot=True, cmap=\"Blues\",ax = ax,fmt='g'); #annot=True to annotate cells\n",
        "\n",
        "# labels, title and ticks\n",
        "ax.set_xlabel('Predicted labels');ax.set_ylabel('True labels'); \n",
        "ax.set_title('Confusion Matrix'); \n",
        "ax.xaxis.set_ticklabels(category_list); ax.yaxis.set_ticklabels(category_list);\n",
        "plt.setp(ax.get_yticklabels(), rotation=0, horizontalalignment='right')\n",
        "plt.setp(ax.get_xticklabels(), rotation=30, horizontalalignment='right')     \n",
        "plt.show()"
      ]
    },
    {
      "cell_type": "code",
      "execution_count": null,
      "metadata": {
        "colab": {
          "base_uri": "https://localhost:8080/"
        },
        "id": "MT60PORBMHjk",
        "outputId": "5451e2e6-52c9-4d75-c0bc-ea5129bbcc21"
      },
      "outputs": [
        {
          "name": "stdout",
          "output_type": "stream",
          "text": [
            "                            precision    recall  f1-score   support\n",
            "\n",
            "Cardiovascular / Pulmonary       0.36      0.36      0.36        74\n",
            "      ENT - Otolaryngology       0.00      0.00      0.00        19\n",
            "          Gastroenterology       0.33      0.02      0.04        45\n",
            "          General Medicine       0.32      0.59      0.41        63\n",
            "     Hematology - Oncology       0.00      0.00      0.00        18\n",
            "                     Minor       0.32      0.35      0.34        74\n",
            "                Nephrology       0.00      0.00      0.00        16\n",
            "                 Neurology       0.43      0.22      0.29        45\n",
            "   Obstetrics / Gynecology       0.00      0.00      0.00        31\n",
            "             Ophthalmology       0.00      0.00      0.00        17\n",
            "                Orthopedic       0.32      0.21      0.25        71\n",
            "     Pediatrics - Neonatal       0.00      0.00      0.00        14\n",
            "                 Radiology       0.31      0.27      0.29        55\n",
            "                   Surgery       0.53      0.82      0.64       273\n",
            "\n",
            "                  accuracy                           0.44       815\n",
            "                 macro avg       0.21      0.20      0.19       815\n",
            "              weighted avg       0.36      0.44      0.37       815\n",
            "\n"
          ]
        },
        {
          "name": "stderr",
          "output_type": "stream",
          "text": [
            "/usr/local/lib/python3.10/dist-packages/sklearn/metrics/_classification.py:1344: UndefinedMetricWarning: Precision and F-score are ill-defined and being set to 0.0 in labels with no predicted samples. Use `zero_division` parameter to control this behavior.\n",
            "  _warn_prf(average, modifier, msg_start, len(result))\n",
            "/usr/local/lib/python3.10/dist-packages/sklearn/metrics/_classification.py:1344: UndefinedMetricWarning: Precision and F-score are ill-defined and being set to 0.0 in labels with no predicted samples. Use `zero_division` parameter to control this behavior.\n",
            "  _warn_prf(average, modifier, msg_start, len(result))\n",
            "/usr/local/lib/python3.10/dist-packages/sklearn/metrics/_classification.py:1344: UndefinedMetricWarning: Precision and F-score are ill-defined and being set to 0.0 in labels with no predicted samples. Use `zero_division` parameter to control this behavior.\n",
            "  _warn_prf(average, modifier, msg_start, len(result))\n"
          ]
        }
      ],
      "source": [
        "print(classification_report(test_labels, pred_labels, labels = category_list))"
      ]
    },
    {
      "cell_type": "markdown",
      "metadata": {
        "id": "GfjYoa6WmkN6"
      },
      "source": [
        "# Conclusion"
      ]
    },
    {
      "cell_type": "markdown",
      "metadata": {
        "id": "xlQG7qgkmf4n"
      },
      "source": [
        "This post demonstrates that with a pre-trained BERT model you can quickly and effectively create a high quality model with minimal effort and training time using the pytorch interface, regardless of the specific NLP task you are interested in."
      ]
    },
    {
      "cell_type": "markdown",
      "metadata": {
        "id": "YUmsUOIv8EUO"
      },
      "source": [
        "# Appendix\n"
      ]
    },
    {
      "cell_type": "code",
      "execution_count": null,
      "metadata": {
        "id": "Qt9DPCuLCYQZ"
      },
      "outputs": [],
      "source": [
        "torch.save(model, \"mt.pth\")"
      ]
    },
    {
      "cell_type": "code",
      "execution_count": null,
      "metadata": {
        "id": "LLmc_epHDTVN"
      },
      "outputs": [],
      "source": [
        "# Load model\n",
        "loadmodel = torch.load(\"mt.pth\")"
      ]
    },
    {
      "cell_type": "code",
      "execution_count": null,
      "metadata": {
        "colab": {
          "base_uri": "https://localhost:8080/",
          "height": 165
        },
        "id": "MsWEBFRpEHbH",
        "outputId": "205e63b2-64f7-4c61-b738-437f7928c3bf"
      },
      "outputs": [
        {
          "ename": "AttributeError",
          "evalue": "ignored",
          "output_type": "error",
          "traceback": [
            "\u001b[0;31m---------------------------------------------------------------------------\u001b[0m",
            "\u001b[0;31mAttributeError\u001b[0m                            Traceback (most recent call last)",
            "\u001b[0;32m<ipython-input-127-67f96fad7f04>\u001b[0m in \u001b[0;36m<cell line: 1>\u001b[0;34m()\u001b[0m\n\u001b[0;32m----> 1\u001b[0;31m \u001b[0mmodel\u001b[0m\u001b[0;34m.\u001b[0m\u001b[0meval\u001b[0m\u001b[0;34m(\u001b[0m\u001b[0;34m)\u001b[0m\u001b[0;34m\u001b[0m\u001b[0;34m\u001b[0m\u001b[0m\n\u001b[0m",
            "\u001b[0;31mAttributeError\u001b[0m: 'collections.OrderedDict' object has no attribute 'eval'"
          ]
        }
      ],
      "source": [
        "loadmodel.eval()"
      ]
    },
    {
      "cell_type": "markdown",
      "metadata": {
        "id": "q2079Qyn8Mt8"
      },
      "source": [
        "## A1. Saving & Loading Fine-Tuned Model\n",
        "\n",
        "This first cell (taken from `run_glue.py` [here](https://github.com/huggingface/transformers/blob/35ff345fc9df9e777b27903f11fa213e4052595b/examples/run_glue.py#L495)) writes the model and tokenizer out to disk."
      ]
    },
    {
      "cell_type": "code",
      "execution_count": null,
      "metadata": {
        "colab": {
          "base_uri": "https://localhost:8080/",
          "height": 397
        },
        "id": "6ulTWaOr8QNY",
        "outputId": "08cdd458-fb13-4b36-ee44-85ab79d57775"
      },
      "outputs": [
        {
          "name": "stdout",
          "output_type": "stream",
          "text": [
            "Saving model to ./model_save/\n"
          ]
        },
        {
          "ename": "TypeError",
          "evalue": "ignored",
          "output_type": "error",
          "traceback": [
            "\u001b[0;31m---------------------------------------------------------------------------\u001b[0m",
            "\u001b[0;31mTypeError\u001b[0m                                 Traceback (most recent call last)",
            "\u001b[0;32m<ipython-input-110-f661275216f7>\u001b[0m in \u001b[0;36m<cell line: 15>\u001b[0;34m()\u001b[0m\n\u001b[1;32m     13\u001b[0m \u001b[0mmodel_to_save\u001b[0m \u001b[0;34m=\u001b[0m \u001b[0mmodel\u001b[0m\u001b[0;34m.\u001b[0m\u001b[0mmodule\u001b[0m \u001b[0;32mif\u001b[0m \u001b[0mhasattr\u001b[0m\u001b[0;34m(\u001b[0m\u001b[0mmodel\u001b[0m\u001b[0;34m,\u001b[0m \u001b[0;34m'module'\u001b[0m\u001b[0;34m)\u001b[0m \u001b[0;32melse\u001b[0m \u001b[0mmodel\u001b[0m  \u001b[0;31m# Take care of distributed/parallel training\u001b[0m\u001b[0;34m\u001b[0m\u001b[0;34m\u001b[0m\u001b[0m\n\u001b[1;32m     14\u001b[0m \u001b[0;31m# model_to_save.save_pretrained(output_dir)\u001b[0m\u001b[0;34m\u001b[0m\u001b[0;34m\u001b[0m\u001b[0m\n\u001b[0;32m---> 15\u001b[0;31m \u001b[0mtokenizer\u001b[0m\u001b[0;34m.\u001b[0m\u001b[0msave_pretrained\u001b[0m\u001b[0;34m(\u001b[0m\u001b[0moutput_dir\u001b[0m\u001b[0;34m)\u001b[0m\u001b[0;34m\u001b[0m\u001b[0;34m\u001b[0m\u001b[0m\n\u001b[0m\u001b[1;32m     16\u001b[0m \u001b[0;34m\u001b[0m\u001b[0m\n\u001b[1;32m     17\u001b[0m \u001b[0;31m# Good practice: save your training arguments together with the trained model\u001b[0m\u001b[0;34m\u001b[0m\u001b[0;34m\u001b[0m\u001b[0m\n",
            "\u001b[0;32m/usr/local/lib/python3.10/dist-packages/transformers/tokenization_utils_base.py\u001b[0m in \u001b[0;36msave_pretrained\u001b[0;34m(self, save_directory, legacy_format, filename_prefix, push_to_hub, **kwargs)\u001b[0m\n\u001b[1;32m   2177\u001b[0m \u001b[0;34m\u001b[0m\u001b[0m\n\u001b[1;32m   2178\u001b[0m         \u001b[0;32mwith\u001b[0m \u001b[0mopen\u001b[0m\u001b[0;34m(\u001b[0m\u001b[0mtokenizer_config_file\u001b[0m\u001b[0;34m,\u001b[0m \u001b[0;34m\"w\"\u001b[0m\u001b[0;34m,\u001b[0m \u001b[0mencoding\u001b[0m\u001b[0;34m=\u001b[0m\u001b[0;34m\"utf-8\"\u001b[0m\u001b[0;34m)\u001b[0m \u001b[0;32mas\u001b[0m \u001b[0mf\u001b[0m\u001b[0;34m:\u001b[0m\u001b[0;34m\u001b[0m\u001b[0;34m\u001b[0m\u001b[0m\n\u001b[0;32m-> 2179\u001b[0;31m             \u001b[0mout_str\u001b[0m \u001b[0;34m=\u001b[0m \u001b[0mjson\u001b[0m\u001b[0;34m.\u001b[0m\u001b[0mdumps\u001b[0m\u001b[0;34m(\u001b[0m\u001b[0mtokenizer_config\u001b[0m\u001b[0;34m,\u001b[0m \u001b[0mindent\u001b[0m\u001b[0;34m=\u001b[0m\u001b[0;36m2\u001b[0m\u001b[0;34m,\u001b[0m \u001b[0msort_keys\u001b[0m\u001b[0;34m=\u001b[0m\u001b[0;32mTrue\u001b[0m\u001b[0;34m,\u001b[0m \u001b[0mensure_ascii\u001b[0m\u001b[0;34m=\u001b[0m\u001b[0;32mFalse\u001b[0m\u001b[0;34m)\u001b[0m \u001b[0;34m+\u001b[0m \u001b[0;34m\"\\n\"\u001b[0m\u001b[0;34m\u001b[0m\u001b[0;34m\u001b[0m\u001b[0m\n\u001b[0m\u001b[1;32m   2180\u001b[0m             \u001b[0mf\u001b[0m\u001b[0;34m.\u001b[0m\u001b[0mwrite\u001b[0m\u001b[0;34m(\u001b[0m\u001b[0mout_str\u001b[0m\u001b[0;34m)\u001b[0m\u001b[0;34m\u001b[0m\u001b[0;34m\u001b[0m\u001b[0m\n\u001b[1;32m   2181\u001b[0m         \u001b[0mlogger\u001b[0m\u001b[0;34m.\u001b[0m\u001b[0minfo\u001b[0m\u001b[0;34m(\u001b[0m\u001b[0;34mf\"tokenizer config file saved in {tokenizer_config_file}\"\u001b[0m\u001b[0;34m)\u001b[0m\u001b[0;34m\u001b[0m\u001b[0;34m\u001b[0m\u001b[0m\n",
            "\u001b[0;32m/usr/lib/python3.10/json/__init__.py\u001b[0m in \u001b[0;36mdumps\u001b[0;34m(obj, skipkeys, ensure_ascii, check_circular, allow_nan, cls, indent, separators, default, sort_keys, **kw)\u001b[0m\n\u001b[1;32m    236\u001b[0m         \u001b[0mcheck_circular\u001b[0m\u001b[0;34m=\u001b[0m\u001b[0mcheck_circular\u001b[0m\u001b[0;34m,\u001b[0m \u001b[0mallow_nan\u001b[0m\u001b[0;34m=\u001b[0m\u001b[0mallow_nan\u001b[0m\u001b[0;34m,\u001b[0m \u001b[0mindent\u001b[0m\u001b[0;34m=\u001b[0m\u001b[0mindent\u001b[0m\u001b[0;34m,\u001b[0m\u001b[0;34m\u001b[0m\u001b[0;34m\u001b[0m\u001b[0m\n\u001b[1;32m    237\u001b[0m         \u001b[0mseparators\u001b[0m\u001b[0;34m=\u001b[0m\u001b[0mseparators\u001b[0m\u001b[0;34m,\u001b[0m \u001b[0mdefault\u001b[0m\u001b[0;34m=\u001b[0m\u001b[0mdefault\u001b[0m\u001b[0;34m,\u001b[0m \u001b[0msort_keys\u001b[0m\u001b[0;34m=\u001b[0m\u001b[0msort_keys\u001b[0m\u001b[0;34m,\u001b[0m\u001b[0;34m\u001b[0m\u001b[0;34m\u001b[0m\u001b[0m\n\u001b[0;32m--> 238\u001b[0;31m         **kw).encode(obj)\n\u001b[0m\u001b[1;32m    239\u001b[0m \u001b[0;34m\u001b[0m\u001b[0m\n\u001b[1;32m    240\u001b[0m \u001b[0;34m\u001b[0m\u001b[0m\n",
            "\u001b[0;32m/usr/lib/python3.10/json/encoder.py\u001b[0m in \u001b[0;36mencode\u001b[0;34m(self, o)\u001b[0m\n\u001b[1;32m    199\u001b[0m         \u001b[0mchunks\u001b[0m \u001b[0;34m=\u001b[0m \u001b[0mself\u001b[0m\u001b[0;34m.\u001b[0m\u001b[0miterencode\u001b[0m\u001b[0;34m(\u001b[0m\u001b[0mo\u001b[0m\u001b[0;34m,\u001b[0m \u001b[0m_one_shot\u001b[0m\u001b[0;34m=\u001b[0m\u001b[0;32mTrue\u001b[0m\u001b[0;34m)\u001b[0m\u001b[0;34m\u001b[0m\u001b[0;34m\u001b[0m\u001b[0m\n\u001b[1;32m    200\u001b[0m         \u001b[0;32mif\u001b[0m \u001b[0;32mnot\u001b[0m \u001b[0misinstance\u001b[0m\u001b[0;34m(\u001b[0m\u001b[0mchunks\u001b[0m\u001b[0;34m,\u001b[0m \u001b[0;34m(\u001b[0m\u001b[0mlist\u001b[0m\u001b[0;34m,\u001b[0m \u001b[0mtuple\u001b[0m\u001b[0;34m)\u001b[0m\u001b[0;34m)\u001b[0m\u001b[0;34m:\u001b[0m\u001b[0;34m\u001b[0m\u001b[0;34m\u001b[0m\u001b[0m\n\u001b[0;32m--> 201\u001b[0;31m             \u001b[0mchunks\u001b[0m \u001b[0;34m=\u001b[0m \u001b[0mlist\u001b[0m\u001b[0;34m(\u001b[0m\u001b[0mchunks\u001b[0m\u001b[0;34m)\u001b[0m\u001b[0;34m\u001b[0m\u001b[0;34m\u001b[0m\u001b[0m\n\u001b[0m\u001b[1;32m    202\u001b[0m         \u001b[0;32mreturn\u001b[0m \u001b[0;34m''\u001b[0m\u001b[0;34m.\u001b[0m\u001b[0mjoin\u001b[0m\u001b[0;34m(\u001b[0m\u001b[0mchunks\u001b[0m\u001b[0;34m)\u001b[0m\u001b[0;34m\u001b[0m\u001b[0;34m\u001b[0m\u001b[0m\n\u001b[1;32m    203\u001b[0m \u001b[0;34m\u001b[0m\u001b[0m\n",
            "\u001b[0;32m/usr/lib/python3.10/json/encoder.py\u001b[0m in \u001b[0;36m_iterencode\u001b[0;34m(o, _current_indent_level)\u001b[0m\n\u001b[1;32m    429\u001b[0m             \u001b[0;32myield\u001b[0m \u001b[0;32mfrom\u001b[0m \u001b[0m_iterencode_list\u001b[0m\u001b[0;34m(\u001b[0m\u001b[0mo\u001b[0m\u001b[0;34m,\u001b[0m \u001b[0m_current_indent_level\u001b[0m\u001b[0;34m)\u001b[0m\u001b[0;34m\u001b[0m\u001b[0;34m\u001b[0m\u001b[0m\n\u001b[1;32m    430\u001b[0m         \u001b[0;32melif\u001b[0m \u001b[0misinstance\u001b[0m\u001b[0;34m(\u001b[0m\u001b[0mo\u001b[0m\u001b[0;34m,\u001b[0m \u001b[0mdict\u001b[0m\u001b[0;34m)\u001b[0m\u001b[0;34m:\u001b[0m\u001b[0;34m\u001b[0m\u001b[0;34m\u001b[0m\u001b[0m\n\u001b[0;32m--> 431\u001b[0;31m             \u001b[0;32myield\u001b[0m \u001b[0;32mfrom\u001b[0m \u001b[0m_iterencode_dict\u001b[0m\u001b[0;34m(\u001b[0m\u001b[0mo\u001b[0m\u001b[0;34m,\u001b[0m \u001b[0m_current_indent_level\u001b[0m\u001b[0;34m)\u001b[0m\u001b[0;34m\u001b[0m\u001b[0;34m\u001b[0m\u001b[0m\n\u001b[0m\u001b[1;32m    432\u001b[0m         \u001b[0;32melse\u001b[0m\u001b[0;34m:\u001b[0m\u001b[0;34m\u001b[0m\u001b[0;34m\u001b[0m\u001b[0m\n\u001b[1;32m    433\u001b[0m             \u001b[0;32mif\u001b[0m \u001b[0mmarkers\u001b[0m \u001b[0;32mis\u001b[0m \u001b[0;32mnot\u001b[0m \u001b[0;32mNone\u001b[0m\u001b[0;34m:\u001b[0m\u001b[0;34m\u001b[0m\u001b[0;34m\u001b[0m\u001b[0m\n",
            "\u001b[0;32m/usr/lib/python3.10/json/encoder.py\u001b[0m in \u001b[0;36m_iterencode_dict\u001b[0;34m(dct, _current_indent_level)\u001b[0m\n\u001b[1;32m    403\u001b[0m                 \u001b[0;32melse\u001b[0m\u001b[0;34m:\u001b[0m\u001b[0;34m\u001b[0m\u001b[0;34m\u001b[0m\u001b[0m\n\u001b[1;32m    404\u001b[0m                     \u001b[0mchunks\u001b[0m \u001b[0;34m=\u001b[0m \u001b[0m_iterencode\u001b[0m\u001b[0;34m(\u001b[0m\u001b[0mvalue\u001b[0m\u001b[0;34m,\u001b[0m \u001b[0m_current_indent_level\u001b[0m\u001b[0;34m)\u001b[0m\u001b[0;34m\u001b[0m\u001b[0;34m\u001b[0m\u001b[0m\n\u001b[0;32m--> 405\u001b[0;31m                 \u001b[0;32myield\u001b[0m \u001b[0;32mfrom\u001b[0m \u001b[0mchunks\u001b[0m\u001b[0;34m\u001b[0m\u001b[0;34m\u001b[0m\u001b[0m\n\u001b[0m\u001b[1;32m    406\u001b[0m         \u001b[0;32mif\u001b[0m \u001b[0mnewline_indent\u001b[0m \u001b[0;32mis\u001b[0m \u001b[0;32mnot\u001b[0m \u001b[0;32mNone\u001b[0m\u001b[0;34m:\u001b[0m\u001b[0;34m\u001b[0m\u001b[0;34m\u001b[0m\u001b[0m\n\u001b[1;32m    407\u001b[0m             \u001b[0m_current_indent_level\u001b[0m \u001b[0;34m-=\u001b[0m \u001b[0;36m1\u001b[0m\u001b[0;34m\u001b[0m\u001b[0;34m\u001b[0m\u001b[0m\n",
            "\u001b[0;32m/usr/lib/python3.10/json/encoder.py\u001b[0m in \u001b[0;36m_iterencode\u001b[0;34m(o, _current_indent_level)\u001b[0m\n\u001b[1;32m    436\u001b[0m                     \u001b[0;32mraise\u001b[0m \u001b[0mValueError\u001b[0m\u001b[0;34m(\u001b[0m\u001b[0;34m\"Circular reference detected\"\u001b[0m\u001b[0;34m)\u001b[0m\u001b[0;34m\u001b[0m\u001b[0;34m\u001b[0m\u001b[0m\n\u001b[1;32m    437\u001b[0m                 \u001b[0mmarkers\u001b[0m\u001b[0;34m[\u001b[0m\u001b[0mmarkerid\u001b[0m\u001b[0;34m]\u001b[0m \u001b[0;34m=\u001b[0m \u001b[0mo\u001b[0m\u001b[0;34m\u001b[0m\u001b[0;34m\u001b[0m\u001b[0m\n\u001b[0;32m--> 438\u001b[0;31m             \u001b[0mo\u001b[0m \u001b[0;34m=\u001b[0m \u001b[0m_default\u001b[0m\u001b[0;34m(\u001b[0m\u001b[0mo\u001b[0m\u001b[0;34m)\u001b[0m\u001b[0;34m\u001b[0m\u001b[0;34m\u001b[0m\u001b[0m\n\u001b[0m\u001b[1;32m    439\u001b[0m             \u001b[0;32myield\u001b[0m \u001b[0;32mfrom\u001b[0m \u001b[0m_iterencode\u001b[0m\u001b[0;34m(\u001b[0m\u001b[0mo\u001b[0m\u001b[0;34m,\u001b[0m \u001b[0m_current_indent_level\u001b[0m\u001b[0;34m)\u001b[0m\u001b[0;34m\u001b[0m\u001b[0;34m\u001b[0m\u001b[0m\n\u001b[1;32m    440\u001b[0m             \u001b[0;32mif\u001b[0m \u001b[0mmarkers\u001b[0m \u001b[0;32mis\u001b[0m \u001b[0;32mnot\u001b[0m \u001b[0;32mNone\u001b[0m\u001b[0;34m:\u001b[0m\u001b[0;34m\u001b[0m\u001b[0;34m\u001b[0m\u001b[0m\n",
            "\u001b[0;32m/usr/lib/python3.10/json/encoder.py\u001b[0m in \u001b[0;36mdefault\u001b[0;34m(self, o)\u001b[0m\n\u001b[1;32m    177\u001b[0m \u001b[0;34m\u001b[0m\u001b[0m\n\u001b[1;32m    178\u001b[0m         \"\"\"\n\u001b[0;32m--> 179\u001b[0;31m         raise TypeError(f'Object of type {o.__class__.__name__} '\n\u001b[0m\u001b[1;32m    180\u001b[0m                         f'is not JSON serializable')\n\u001b[1;32m    181\u001b[0m \u001b[0;34m\u001b[0m\u001b[0m\n",
            "\u001b[0;31mTypeError\u001b[0m: Object of type Tokenizer is not JSON serializable"
          ]
        }
      ],
      "source": [
        "# Saving best-practices: if you use defaults names for the model, you can reload it using from_pretrained()\n",
        "\n",
        "output_dir = './model_save/'\n",
        "\n",
        "# Create output directory if needed\n",
        "if not os.path.exists(output_dir):\n",
        "    os.makedirs(output_dir)\n",
        "\n",
        "print(\"Saving model to %s\" % output_dir)\n",
        "\n",
        "# Save a trained model, configuration and tokenizer using `save_pretrained()`.\n",
        "# They can then be reloaded using `from_pretrained()`\n",
        "model_to_save = model.module if hasattr(model, 'module') else model  # Take care of distributed/parallel training\n",
        "# model_to_save.save_pretrained(output_dir)\n",
        "tokenizer.save_pretrained(output_dir)\n",
        "\n",
        "# Good practice: save your training arguments together with the trained model\n",
        "# torch.save(args, os.path.join(output_dir, 'training_args.bin'))\n"
      ]
    },
    {
      "cell_type": "markdown",
      "metadata": {
        "id": "Z-tjHkR7lc1I"
      },
      "source": [
        "Let's check out the file sizes, out of curiosity."
      ]
    },
    {
      "cell_type": "code",
      "execution_count": null,
      "metadata": {
        "id": "mqMzI3VTCZo5"
      },
      "outputs": [],
      "source": [
        "!ls -l --block-size=K ./model_save/"
      ]
    },
    {
      "cell_type": "markdown",
      "metadata": {
        "id": "fr_bt2rFlgDn"
      },
      "source": [
        "The largest file is the model weights, at around 418 megabytes."
      ]
    },
    {
      "cell_type": "code",
      "execution_count": null,
      "metadata": {
        "id": "-WUFUIQ8Cu8D"
      },
      "outputs": [],
      "source": [
        "!ls -l --block-size=M ./model_save/pytorch_model.bin"
      ]
    },
    {
      "cell_type": "markdown",
      "metadata": {
        "id": "4JbQOSl5g_HG"
      },
      "source": [
        "To save your model across Colab Notebook sessions, download it to your local machine, or ideally copy it to your Google Drive."
      ]
    },
    {
      "cell_type": "code",
      "execution_count": null,
      "metadata": {
        "colab": {
          "base_uri": "https://localhost:8080/",
          "height": 345
        },
        "id": "nsniVLOnk7qb",
        "outputId": "4dfb4e3f-0c78-4a44-9565-6a9c3fc535fd"
      },
      "outputs": [
        {
          "ename": "MessageError",
          "evalue": "ignored",
          "output_type": "error",
          "traceback": [
            "\u001b[0;31m---------------------------------------------------------------------------\u001b[0m",
            "\u001b[0;31mMessageError\u001b[0m                              Traceback (most recent call last)",
            "\u001b[0;32m<ipython-input-113-b484c3b6eed3>\u001b[0m in \u001b[0;36m<cell line: 3>\u001b[0;34m()\u001b[0m\n\u001b[1;32m      1\u001b[0m \u001b[0;31m# Mount Google Drive to this Notebook instance.\u001b[0m\u001b[0;34m\u001b[0m\u001b[0;34m\u001b[0m\u001b[0m\n\u001b[1;32m      2\u001b[0m \u001b[0;32mfrom\u001b[0m \u001b[0mgoogle\u001b[0m\u001b[0;34m.\u001b[0m\u001b[0mcolab\u001b[0m \u001b[0;32mimport\u001b[0m \u001b[0mdrive\u001b[0m\u001b[0;34m\u001b[0m\u001b[0;34m\u001b[0m\u001b[0m\n\u001b[0;32m----> 3\u001b[0;31m \u001b[0mdrive\u001b[0m\u001b[0;34m.\u001b[0m\u001b[0mmount\u001b[0m\u001b[0;34m(\u001b[0m\u001b[0;34m'/content/drive'\u001b[0m\u001b[0;34m)\u001b[0m\u001b[0;34m\u001b[0m\u001b[0;34m\u001b[0m\u001b[0m\n\u001b[0m",
            "\u001b[0;32m/usr/local/lib/python3.10/dist-packages/google/colab/drive.py\u001b[0m in \u001b[0;36mmount\u001b[0;34m(mountpoint, force_remount, timeout_ms, readonly)\u001b[0m\n\u001b[1;32m    101\u001b[0m \u001b[0;32mdef\u001b[0m \u001b[0mmount\u001b[0m\u001b[0;34m(\u001b[0m\u001b[0mmountpoint\u001b[0m\u001b[0;34m,\u001b[0m \u001b[0mforce_remount\u001b[0m\u001b[0;34m=\u001b[0m\u001b[0;32mFalse\u001b[0m\u001b[0;34m,\u001b[0m \u001b[0mtimeout_ms\u001b[0m\u001b[0;34m=\u001b[0m\u001b[0;36m120000\u001b[0m\u001b[0;34m,\u001b[0m \u001b[0mreadonly\u001b[0m\u001b[0;34m=\u001b[0m\u001b[0;32mFalse\u001b[0m\u001b[0;34m)\u001b[0m\u001b[0;34m:\u001b[0m\u001b[0;34m\u001b[0m\u001b[0;34m\u001b[0m\u001b[0m\n\u001b[1;32m    102\u001b[0m   \u001b[0;34m\"\"\"Mount your Google Drive at the specified mountpoint path.\"\"\"\u001b[0m\u001b[0;34m\u001b[0m\u001b[0;34m\u001b[0m\u001b[0m\n\u001b[0;32m--> 103\u001b[0;31m   return _mount(\n\u001b[0m\u001b[1;32m    104\u001b[0m       \u001b[0mmountpoint\u001b[0m\u001b[0;34m,\u001b[0m\u001b[0;34m\u001b[0m\u001b[0;34m\u001b[0m\u001b[0m\n\u001b[1;32m    105\u001b[0m       \u001b[0mforce_remount\u001b[0m\u001b[0;34m=\u001b[0m\u001b[0mforce_remount\u001b[0m\u001b[0;34m,\u001b[0m\u001b[0;34m\u001b[0m\u001b[0;34m\u001b[0m\u001b[0m\n",
            "\u001b[0;32m/usr/local/lib/python3.10/dist-packages/google/colab/drive.py\u001b[0m in \u001b[0;36m_mount\u001b[0;34m(mountpoint, force_remount, timeout_ms, ephemeral, readonly)\u001b[0m\n\u001b[1;32m    130\u001b[0m   )\n\u001b[1;32m    131\u001b[0m   \u001b[0;32mif\u001b[0m \u001b[0mephemeral\u001b[0m\u001b[0;34m:\u001b[0m\u001b[0;34m\u001b[0m\u001b[0;34m\u001b[0m\u001b[0m\n\u001b[0;32m--> 132\u001b[0;31m     _message.blocking_request(\n\u001b[0m\u001b[1;32m    133\u001b[0m         \u001b[0;34m'request_auth'\u001b[0m\u001b[0;34m,\u001b[0m \u001b[0mrequest\u001b[0m\u001b[0;34m=\u001b[0m\u001b[0;34m{\u001b[0m\u001b[0;34m'authType'\u001b[0m\u001b[0;34m:\u001b[0m \u001b[0;34m'dfs_ephemeral'\u001b[0m\u001b[0;34m}\u001b[0m\u001b[0;34m,\u001b[0m \u001b[0mtimeout_sec\u001b[0m\u001b[0;34m=\u001b[0m\u001b[0;32mNone\u001b[0m\u001b[0;34m\u001b[0m\u001b[0;34m\u001b[0m\u001b[0m\n\u001b[1;32m    134\u001b[0m     )\n",
            "\u001b[0;32m/usr/local/lib/python3.10/dist-packages/google/colab/_message.py\u001b[0m in \u001b[0;36mblocking_request\u001b[0;34m(request_type, request, timeout_sec, parent)\u001b[0m\n\u001b[1;32m    174\u001b[0m       \u001b[0mrequest_type\u001b[0m\u001b[0;34m,\u001b[0m \u001b[0mrequest\u001b[0m\u001b[0;34m,\u001b[0m \u001b[0mparent\u001b[0m\u001b[0;34m=\u001b[0m\u001b[0mparent\u001b[0m\u001b[0;34m,\u001b[0m \u001b[0mexpect_reply\u001b[0m\u001b[0;34m=\u001b[0m\u001b[0;32mTrue\u001b[0m\u001b[0;34m\u001b[0m\u001b[0;34m\u001b[0m\u001b[0m\n\u001b[1;32m    175\u001b[0m   )\n\u001b[0;32m--> 176\u001b[0;31m   \u001b[0;32mreturn\u001b[0m \u001b[0mread_reply_from_input\u001b[0m\u001b[0;34m(\u001b[0m\u001b[0mrequest_id\u001b[0m\u001b[0;34m,\u001b[0m \u001b[0mtimeout_sec\u001b[0m\u001b[0;34m)\u001b[0m\u001b[0;34m\u001b[0m\u001b[0;34m\u001b[0m\u001b[0m\n\u001b[0m",
            "\u001b[0;32m/usr/local/lib/python3.10/dist-packages/google/colab/_message.py\u001b[0m in \u001b[0;36mread_reply_from_input\u001b[0;34m(message_id, timeout_sec)\u001b[0m\n\u001b[1;32m    101\u001b[0m     ):\n\u001b[1;32m    102\u001b[0m       \u001b[0;32mif\u001b[0m \u001b[0;34m'error'\u001b[0m \u001b[0;32min\u001b[0m \u001b[0mreply\u001b[0m\u001b[0;34m:\u001b[0m\u001b[0;34m\u001b[0m\u001b[0;34m\u001b[0m\u001b[0m\n\u001b[0;32m--> 103\u001b[0;31m         \u001b[0;32mraise\u001b[0m \u001b[0mMessageError\u001b[0m\u001b[0;34m(\u001b[0m\u001b[0mreply\u001b[0m\u001b[0;34m[\u001b[0m\u001b[0;34m'error'\u001b[0m\u001b[0;34m]\u001b[0m\u001b[0;34m)\u001b[0m\u001b[0;34m\u001b[0m\u001b[0;34m\u001b[0m\u001b[0m\n\u001b[0m\u001b[1;32m    104\u001b[0m       \u001b[0;32mreturn\u001b[0m \u001b[0mreply\u001b[0m\u001b[0;34m.\u001b[0m\u001b[0mget\u001b[0m\u001b[0;34m(\u001b[0m\u001b[0;34m'data'\u001b[0m\u001b[0;34m,\u001b[0m \u001b[0;32mNone\u001b[0m\u001b[0;34m)\u001b[0m\u001b[0;34m\u001b[0m\u001b[0;34m\u001b[0m\u001b[0m\n\u001b[1;32m    105\u001b[0m \u001b[0;34m\u001b[0m\u001b[0m\n",
            "\u001b[0;31mMessageError\u001b[0m: Error: credential propagation was unsuccessful"
          ]
        }
      ],
      "source": [
        "# Mount Google Drive to this Notebook instance.\n",
        "from google.colab import drive\n",
        "# drive.mount('/content/drive')"
      ]
    },
    {
      "cell_type": "code",
      "execution_count": null,
      "metadata": {
        "id": "JHNhHUMBhCeH"
      },
      "outputs": [],
      "source": [
        "# Copy the model files to a directory in your Google Drive.\n",
        "!cp -r ./model_save/ \"./drive/MyDrive/BERT/\""
      ]
    },
    {
      "cell_type": "code",
      "execution_count": null,
      "metadata": {
        "id": "uIzDQ_a7hL3I"
      },
      "outputs": [],
      "source": [
        "# Load a trained model and vocabulary that you have fine-tuned\n",
        "model = model.from_pretrained(output_dir)\n",
        "tokenizer = tokenizer.from_pretrained(output_dir)\n",
        "\n",
        "# Copy the model to the GPU.\n",
        "model.to(device)"
      ]
    },
    {
      "cell_type": "code",
      "execution_count": null,
      "metadata": {
        "id": "gLYUzlZ3ljKX"
      },
      "outputs": [],
      "source": []
    }
  ],
  "metadata": {
    "accelerator": "GPU",
    "colab": {
      "collapsed_sections": [
        "qRWT-D4U_Pvx"
      ],
      "gpuType": "T4",
      "provenance": [],
      "toc_visible": true
    },
    "kernelspec": {
      "display_name": "Python 3",
      "name": "python3"
    },
    "language_info": {
      "codemirror_mode": {
        "name": "ipython",
        "version": 3
      },
      "file_extension": ".py",
      "mimetype": "text/x-python",
      "name": "python",
      "nbconvert_exporter": "python",
      "pygments_lexer": "ipython3",
      "version": "3.9.16"
    },
    "widgets": {
      "application/vnd.jupyter.widget-state+json": {
        "0cb7cf21af4e40159a0f3eb120d37ab3": {
          "model_module": "@jupyter-widgets/base",
          "model_module_version": "1.2.0",
          "model_name": "LayoutModel",
          "state": {
            "_model_module": "@jupyter-widgets/base",
            "_model_module_version": "1.2.0",
            "_model_name": "LayoutModel",
            "_view_count": null,
            "_view_module": "@jupyter-widgets/base",
            "_view_module_version": "1.2.0",
            "_view_name": "LayoutView",
            "align_content": null,
            "align_items": null,
            "align_self": null,
            "border": null,
            "bottom": null,
            "display": null,
            "flex": null,
            "flex_flow": null,
            "grid_area": null,
            "grid_auto_columns": null,
            "grid_auto_flow": null,
            "grid_auto_rows": null,
            "grid_column": null,
            "grid_gap": null,
            "grid_row": null,
            "grid_template_areas": null,
            "grid_template_columns": null,
            "grid_template_rows": null,
            "height": null,
            "justify_content": null,
            "justify_items": null,
            "left": null,
            "margin": null,
            "max_height": null,
            "max_width": null,
            "min_height": null,
            "min_width": null,
            "object_fit": null,
            "object_position": null,
            "order": null,
            "overflow": null,
            "overflow_x": null,
            "overflow_y": null,
            "padding": null,
            "right": null,
            "top": null,
            "visibility": null,
            "width": null
          }
        },
        "144a455ee2a54b538e30560143ca089e": {
          "model_module": "@jupyter-widgets/controls",
          "model_module_version": "1.5.0",
          "model_name": "HTMLModel",
          "state": {
            "_dom_classes": [],
            "_model_module": "@jupyter-widgets/controls",
            "_model_module_version": "1.5.0",
            "_model_name": "HTMLModel",
            "_view_count": null,
            "_view_module": "@jupyter-widgets/controls",
            "_view_module_version": "1.5.0",
            "_view_name": "HTMLView",
            "description": "",
            "description_tooltip": null,
            "layout": "IPY_MODEL_17f7375b9c7145eaaa19a957f4aff164",
            "placeholder": "​",
            "style": "IPY_MODEL_4dd536b8eeab45d1a037212ae1e3eaa2",
            "value": " 440M/440M [00:06&lt;00:00, 76.1MB/s]"
          }
        },
        "17f7375b9c7145eaaa19a957f4aff164": {
          "model_module": "@jupyter-widgets/base",
          "model_module_version": "1.2.0",
          "model_name": "LayoutModel",
          "state": {
            "_model_module": "@jupyter-widgets/base",
            "_model_module_version": "1.2.0",
            "_model_name": "LayoutModel",
            "_view_count": null,
            "_view_module": "@jupyter-widgets/base",
            "_view_module_version": "1.2.0",
            "_view_name": "LayoutView",
            "align_content": null,
            "align_items": null,
            "align_self": null,
            "border": null,
            "bottom": null,
            "display": null,
            "flex": null,
            "flex_flow": null,
            "grid_area": null,
            "grid_auto_columns": null,
            "grid_auto_flow": null,
            "grid_auto_rows": null,
            "grid_column": null,
            "grid_gap": null,
            "grid_row": null,
            "grid_template_areas": null,
            "grid_template_columns": null,
            "grid_template_rows": null,
            "height": null,
            "justify_content": null,
            "justify_items": null,
            "left": null,
            "margin": null,
            "max_height": null,
            "max_width": null,
            "min_height": null,
            "min_width": null,
            "object_fit": null,
            "object_position": null,
            "order": null,
            "overflow": null,
            "overflow_x": null,
            "overflow_y": null,
            "padding": null,
            "right": null,
            "top": null,
            "visibility": null,
            "width": null
          }
        },
        "2651f8d5e8b94b9f8c680931e08009ce": {
          "model_module": "@jupyter-widgets/controls",
          "model_module_version": "1.5.0",
          "model_name": "HTMLModel",
          "state": {
            "_dom_classes": [],
            "_model_module": "@jupyter-widgets/controls",
            "_model_module_version": "1.5.0",
            "_model_name": "HTMLModel",
            "_view_count": null,
            "_view_module": "@jupyter-widgets/controls",
            "_view_module_version": "1.5.0",
            "_view_name": "HTMLView",
            "description": "",
            "description_tooltip": null,
            "layout": "IPY_MODEL_cede584bbc0f468dbb4b69b553363faf",
            "placeholder": "​",
            "style": "IPY_MODEL_9bee503896394e04a5bd9778a99e7553",
            "value": "Downloading (…)lve/main/config.json: 100%"
          }
        },
        "3454243fbae74ebf928cfcacc5d0b34b": {
          "model_module": "@jupyter-widgets/controls",
          "model_module_version": "1.5.0",
          "model_name": "HTMLModel",
          "state": {
            "_dom_classes": [],
            "_model_module": "@jupyter-widgets/controls",
            "_model_module_version": "1.5.0",
            "_model_name": "HTMLModel",
            "_view_count": null,
            "_view_module": "@jupyter-widgets/controls",
            "_view_module_version": "1.5.0",
            "_view_name": "HTMLView",
            "description": "",
            "description_tooltip": null,
            "layout": "IPY_MODEL_7f5ebcf5e46c442986679b1d4723f3d2",
            "placeholder": "​",
            "style": "IPY_MODEL_c0dac82be6684b6d927f46551cd5b113",
            "value": " 226k/226k [00:00&lt;00:00, 3.98MB/s]"
          }
        },
        "38c050124c2b482cbd84ea29d4f64ff9": {
          "model_module": "@jupyter-widgets/base",
          "model_module_version": "1.2.0",
          "model_name": "LayoutModel",
          "state": {
            "_model_module": "@jupyter-widgets/base",
            "_model_module_version": "1.2.0",
            "_model_name": "LayoutModel",
            "_view_count": null,
            "_view_module": "@jupyter-widgets/base",
            "_view_module_version": "1.2.0",
            "_view_name": "LayoutView",
            "align_content": null,
            "align_items": null,
            "align_self": null,
            "border": null,
            "bottom": null,
            "display": null,
            "flex": null,
            "flex_flow": null,
            "grid_area": null,
            "grid_auto_columns": null,
            "grid_auto_flow": null,
            "grid_auto_rows": null,
            "grid_column": null,
            "grid_gap": null,
            "grid_row": null,
            "grid_template_areas": null,
            "grid_template_columns": null,
            "grid_template_rows": null,
            "height": null,
            "justify_content": null,
            "justify_items": null,
            "left": null,
            "margin": null,
            "max_height": null,
            "max_width": null,
            "min_height": null,
            "min_width": null,
            "object_fit": null,
            "object_position": null,
            "order": null,
            "overflow": null,
            "overflow_x": null,
            "overflow_y": null,
            "padding": null,
            "right": null,
            "top": null,
            "visibility": null,
            "width": null
          }
        },
        "3bcdf4364d97445c90933eb268d9b680": {
          "model_module": "@jupyter-widgets/base",
          "model_module_version": "1.2.0",
          "model_name": "LayoutModel",
          "state": {
            "_model_module": "@jupyter-widgets/base",
            "_model_module_version": "1.2.0",
            "_model_name": "LayoutModel",
            "_view_count": null,
            "_view_module": "@jupyter-widgets/base",
            "_view_module_version": "1.2.0",
            "_view_name": "LayoutView",
            "align_content": null,
            "align_items": null,
            "align_self": null,
            "border": null,
            "bottom": null,
            "display": null,
            "flex": null,
            "flex_flow": null,
            "grid_area": null,
            "grid_auto_columns": null,
            "grid_auto_flow": null,
            "grid_auto_rows": null,
            "grid_column": null,
            "grid_gap": null,
            "grid_row": null,
            "grid_template_areas": null,
            "grid_template_columns": null,
            "grid_template_rows": null,
            "height": null,
            "justify_content": null,
            "justify_items": null,
            "left": null,
            "margin": null,
            "max_height": null,
            "max_width": null,
            "min_height": null,
            "min_width": null,
            "object_fit": null,
            "object_position": null,
            "order": null,
            "overflow": null,
            "overflow_x": null,
            "overflow_y": null,
            "padding": null,
            "right": null,
            "top": null,
            "visibility": null,
            "width": null
          }
        },
        "4146b7475db4425487f95af60cb09b5f": {
          "model_module": "@jupyter-widgets/controls",
          "model_module_version": "1.5.0",
          "model_name": "HBoxModel",
          "state": {
            "_dom_classes": [],
            "_model_module": "@jupyter-widgets/controls",
            "_model_module_version": "1.5.0",
            "_model_name": "HBoxModel",
            "_view_count": null,
            "_view_module": "@jupyter-widgets/controls",
            "_view_module_version": "1.5.0",
            "_view_name": "HBoxView",
            "box_style": "",
            "children": [
              "IPY_MODEL_af50c6be7f884828ba0b64bba50de704",
              "IPY_MODEL_b0c288756f1249cabc2236ed916ffcf2",
              "IPY_MODEL_3454243fbae74ebf928cfcacc5d0b34b"
            ],
            "layout": "IPY_MODEL_5c235972514f40e0ab014ac3dedbf411"
          }
        },
        "4550d51a109f4c978e75269b4c7279fb": {
          "model_module": "@jupyter-widgets/controls",
          "model_module_version": "1.5.0",
          "model_name": "HBoxModel",
          "state": {
            "_dom_classes": [],
            "_model_module": "@jupyter-widgets/controls",
            "_model_module_version": "1.5.0",
            "_model_name": "HBoxModel",
            "_view_count": null,
            "_view_module": "@jupyter-widgets/controls",
            "_view_module_version": "1.5.0",
            "_view_name": "HBoxView",
            "box_style": "",
            "children": [
              "IPY_MODEL_c36c0de8dcd14f49b4de06e971b1b43c",
              "IPY_MODEL_fd2e4c6eadc749d1b4cbe85aceb38bd1",
              "IPY_MODEL_144a455ee2a54b538e30560143ca089e"
            ],
            "layout": "IPY_MODEL_8a969cb420f84cc793284f9b9ceea76e"
          }
        },
        "4c55cb6ebc36466db525f85006f22a0a": {
          "model_module": "@jupyter-widgets/controls",
          "model_module_version": "1.5.0",
          "model_name": "DescriptionStyleModel",
          "state": {
            "_model_module": "@jupyter-widgets/controls",
            "_model_module_version": "1.5.0",
            "_model_name": "DescriptionStyleModel",
            "_view_count": null,
            "_view_module": "@jupyter-widgets/base",
            "_view_module_version": "1.2.0",
            "_view_name": "StyleView",
            "description_width": ""
          }
        },
        "4dd536b8eeab45d1a037212ae1e3eaa2": {
          "model_module": "@jupyter-widgets/controls",
          "model_module_version": "1.5.0",
          "model_name": "DescriptionStyleModel",
          "state": {
            "_model_module": "@jupyter-widgets/controls",
            "_model_module_version": "1.5.0",
            "_model_name": "DescriptionStyleModel",
            "_view_count": null,
            "_view_module": "@jupyter-widgets/base",
            "_view_module_version": "1.2.0",
            "_view_name": "StyleView",
            "description_width": ""
          }
        },
        "5bf6bdf72e2c4bc49f280e7fb94609de": {
          "model_module": "@jupyter-widgets/controls",
          "model_module_version": "1.5.0",
          "model_name": "DescriptionStyleModel",
          "state": {
            "_model_module": "@jupyter-widgets/controls",
            "_model_module_version": "1.5.0",
            "_model_name": "DescriptionStyleModel",
            "_view_count": null,
            "_view_module": "@jupyter-widgets/base",
            "_view_module_version": "1.2.0",
            "_view_name": "StyleView",
            "description_width": ""
          }
        },
        "5c235972514f40e0ab014ac3dedbf411": {
          "model_module": "@jupyter-widgets/base",
          "model_module_version": "1.2.0",
          "model_name": "LayoutModel",
          "state": {
            "_model_module": "@jupyter-widgets/base",
            "_model_module_version": "1.2.0",
            "_model_name": "LayoutModel",
            "_view_count": null,
            "_view_module": "@jupyter-widgets/base",
            "_view_module_version": "1.2.0",
            "_view_name": "LayoutView",
            "align_content": null,
            "align_items": null,
            "align_self": null,
            "border": null,
            "bottom": null,
            "display": null,
            "flex": null,
            "flex_flow": null,
            "grid_area": null,
            "grid_auto_columns": null,
            "grid_auto_flow": null,
            "grid_auto_rows": null,
            "grid_column": null,
            "grid_gap": null,
            "grid_row": null,
            "grid_template_areas": null,
            "grid_template_columns": null,
            "grid_template_rows": null,
            "height": null,
            "justify_content": null,
            "justify_items": null,
            "left": null,
            "margin": null,
            "max_height": null,
            "max_width": null,
            "min_height": null,
            "min_width": null,
            "object_fit": null,
            "object_position": null,
            "order": null,
            "overflow": null,
            "overflow_x": null,
            "overflow_y": null,
            "padding": null,
            "right": null,
            "top": null,
            "visibility": null,
            "width": null
          }
        },
        "660dc7b893a84dcdbafabccaedc6e499": {
          "model_module": "@jupyter-widgets/controls",
          "model_module_version": "1.5.0",
          "model_name": "HTMLModel",
          "state": {
            "_dom_classes": [],
            "_model_module": "@jupyter-widgets/controls",
            "_model_module_version": "1.5.0",
            "_model_name": "HTMLModel",
            "_view_count": null,
            "_view_module": "@jupyter-widgets/controls",
            "_view_module_version": "1.5.0",
            "_view_name": "HTMLView",
            "description": "",
            "description_tooltip": null,
            "layout": "IPY_MODEL_6f949a7d73814a079fdd0b3291c1eea4",
            "placeholder": "​",
            "style": "IPY_MODEL_d6fc9042502e450fad123d68d33b0584",
            "value": "Downloading (…)okenizer_config.json: 100%"
          }
        },
        "667018ce5d7c4b3387a12e3777fb09e0": {
          "model_module": "@jupyter-widgets/controls",
          "model_module_version": "1.5.0",
          "model_name": "ProgressStyleModel",
          "state": {
            "_model_module": "@jupyter-widgets/controls",
            "_model_module_version": "1.5.0",
            "_model_name": "ProgressStyleModel",
            "_view_count": null,
            "_view_module": "@jupyter-widgets/base",
            "_view_module_version": "1.2.0",
            "_view_name": "StyleView",
            "bar_color": null,
            "description_width": ""
          }
        },
        "6c89bc480f4f4adcabc907b0e20ae3b4": {
          "model_module": "@jupyter-widgets/controls",
          "model_module_version": "1.5.0",
          "model_name": "HBoxModel",
          "state": {
            "_dom_classes": [],
            "_model_module": "@jupyter-widgets/controls",
            "_model_module_version": "1.5.0",
            "_model_name": "HBoxModel",
            "_view_count": null,
            "_view_module": "@jupyter-widgets/controls",
            "_view_module_version": "1.5.0",
            "_view_name": "HBoxView",
            "box_style": "",
            "children": [
              "IPY_MODEL_660dc7b893a84dcdbafabccaedc6e499",
              "IPY_MODEL_cd5848593c034ab6a0b935207f4253cc",
              "IPY_MODEL_b9921ff56a2c4c1aae6a461a5211cb61"
            ],
            "layout": "IPY_MODEL_0cb7cf21af4e40159a0f3eb120d37ab3"
          }
        },
        "6f932231ba8a47878a6218132d457b49": {
          "model_module": "@jupyter-widgets/base",
          "model_module_version": "1.2.0",
          "model_name": "LayoutModel",
          "state": {
            "_model_module": "@jupyter-widgets/base",
            "_model_module_version": "1.2.0",
            "_model_name": "LayoutModel",
            "_view_count": null,
            "_view_module": "@jupyter-widgets/base",
            "_view_module_version": "1.2.0",
            "_view_name": "LayoutView",
            "align_content": null,
            "align_items": null,
            "align_self": null,
            "border": null,
            "bottom": null,
            "display": null,
            "flex": null,
            "flex_flow": null,
            "grid_area": null,
            "grid_auto_columns": null,
            "grid_auto_flow": null,
            "grid_auto_rows": null,
            "grid_column": null,
            "grid_gap": null,
            "grid_row": null,
            "grid_template_areas": null,
            "grid_template_columns": null,
            "grid_template_rows": null,
            "height": null,
            "justify_content": null,
            "justify_items": null,
            "left": null,
            "margin": null,
            "max_height": null,
            "max_width": null,
            "min_height": null,
            "min_width": null,
            "object_fit": null,
            "object_position": null,
            "order": null,
            "overflow": null,
            "overflow_x": null,
            "overflow_y": null,
            "padding": null,
            "right": null,
            "top": null,
            "visibility": null,
            "width": null
          }
        },
        "6f949a7d73814a079fdd0b3291c1eea4": {
          "model_module": "@jupyter-widgets/base",
          "model_module_version": "1.2.0",
          "model_name": "LayoutModel",
          "state": {
            "_model_module": "@jupyter-widgets/base",
            "_model_module_version": "1.2.0",
            "_model_name": "LayoutModel",
            "_view_count": null,
            "_view_module": "@jupyter-widgets/base",
            "_view_module_version": "1.2.0",
            "_view_name": "LayoutView",
            "align_content": null,
            "align_items": null,
            "align_self": null,
            "border": null,
            "bottom": null,
            "display": null,
            "flex": null,
            "flex_flow": null,
            "grid_area": null,
            "grid_auto_columns": null,
            "grid_auto_flow": null,
            "grid_auto_rows": null,
            "grid_column": null,
            "grid_gap": null,
            "grid_row": null,
            "grid_template_areas": null,
            "grid_template_columns": null,
            "grid_template_rows": null,
            "height": null,
            "justify_content": null,
            "justify_items": null,
            "left": null,
            "margin": null,
            "max_height": null,
            "max_width": null,
            "min_height": null,
            "min_width": null,
            "object_fit": null,
            "object_position": null,
            "order": null,
            "overflow": null,
            "overflow_x": null,
            "overflow_y": null,
            "padding": null,
            "right": null,
            "top": null,
            "visibility": null,
            "width": null
          }
        },
        "7f5ebcf5e46c442986679b1d4723f3d2": {
          "model_module": "@jupyter-widgets/base",
          "model_module_version": "1.2.0",
          "model_name": "LayoutModel",
          "state": {
            "_model_module": "@jupyter-widgets/base",
            "_model_module_version": "1.2.0",
            "_model_name": "LayoutModel",
            "_view_count": null,
            "_view_module": "@jupyter-widgets/base",
            "_view_module_version": "1.2.0",
            "_view_name": "LayoutView",
            "align_content": null,
            "align_items": null,
            "align_self": null,
            "border": null,
            "bottom": null,
            "display": null,
            "flex": null,
            "flex_flow": null,
            "grid_area": null,
            "grid_auto_columns": null,
            "grid_auto_flow": null,
            "grid_auto_rows": null,
            "grid_column": null,
            "grid_gap": null,
            "grid_row": null,
            "grid_template_areas": null,
            "grid_template_columns": null,
            "grid_template_rows": null,
            "height": null,
            "justify_content": null,
            "justify_items": null,
            "left": null,
            "margin": null,
            "max_height": null,
            "max_width": null,
            "min_height": null,
            "min_width": null,
            "object_fit": null,
            "object_position": null,
            "order": null,
            "overflow": null,
            "overflow_x": null,
            "overflow_y": null,
            "padding": null,
            "right": null,
            "top": null,
            "visibility": null,
            "width": null
          }
        },
        "8a969cb420f84cc793284f9b9ceea76e": {
          "model_module": "@jupyter-widgets/base",
          "model_module_version": "1.2.0",
          "model_name": "LayoutModel",
          "state": {
            "_model_module": "@jupyter-widgets/base",
            "_model_module_version": "1.2.0",
            "_model_name": "LayoutModel",
            "_view_count": null,
            "_view_module": "@jupyter-widgets/base",
            "_view_module_version": "1.2.0",
            "_view_name": "LayoutView",
            "align_content": null,
            "align_items": null,
            "align_self": null,
            "border": null,
            "bottom": null,
            "display": null,
            "flex": null,
            "flex_flow": null,
            "grid_area": null,
            "grid_auto_columns": null,
            "grid_auto_flow": null,
            "grid_auto_rows": null,
            "grid_column": null,
            "grid_gap": null,
            "grid_row": null,
            "grid_template_areas": null,
            "grid_template_columns": null,
            "grid_template_rows": null,
            "height": null,
            "justify_content": null,
            "justify_items": null,
            "left": null,
            "margin": null,
            "max_height": null,
            "max_width": null,
            "min_height": null,
            "min_width": null,
            "object_fit": null,
            "object_position": null,
            "order": null,
            "overflow": null,
            "overflow_x": null,
            "overflow_y": null,
            "padding": null,
            "right": null,
            "top": null,
            "visibility": null,
            "width": null
          }
        },
        "98d40bce088f403f80b39068d8c609e4": {
          "model_module": "@jupyter-widgets/controls",
          "model_module_version": "1.5.0",
          "model_name": "HTMLModel",
          "state": {
            "_dom_classes": [],
            "_model_module": "@jupyter-widgets/controls",
            "_model_module_version": "1.5.0",
            "_model_name": "HTMLModel",
            "_view_count": null,
            "_view_module": "@jupyter-widgets/controls",
            "_view_module_version": "1.5.0",
            "_view_name": "HTMLView",
            "description": "",
            "description_tooltip": null,
            "layout": "IPY_MODEL_c0616b87107d47879453be7eb3483192",
            "placeholder": "​",
            "style": "IPY_MODEL_a7c58136a3ba4e2a8a1610ee2015aeae",
            "value": " 385/385 [00:00&lt;00:00, 10.7kB/s]"
          }
        },
        "9a14b01fd219443a9d8efdbe4558c5a1": {
          "model_module": "@jupyter-widgets/controls",
          "model_module_version": "1.5.0",
          "model_name": "ProgressStyleModel",
          "state": {
            "_model_module": "@jupyter-widgets/controls",
            "_model_module_version": "1.5.0",
            "_model_name": "ProgressStyleModel",
            "_view_count": null,
            "_view_module": "@jupyter-widgets/base",
            "_view_module_version": "1.2.0",
            "_view_name": "StyleView",
            "bar_color": null,
            "description_width": ""
          }
        },
        "9bee503896394e04a5bd9778a99e7553": {
          "model_module": "@jupyter-widgets/controls",
          "model_module_version": "1.5.0",
          "model_name": "DescriptionStyleModel",
          "state": {
            "_model_module": "@jupyter-widgets/controls",
            "_model_module_version": "1.5.0",
            "_model_name": "DescriptionStyleModel",
            "_view_count": null,
            "_view_module": "@jupyter-widgets/base",
            "_view_module_version": "1.2.0",
            "_view_name": "StyleView",
            "description_width": ""
          }
        },
        "a7c58136a3ba4e2a8a1610ee2015aeae": {
          "model_module": "@jupyter-widgets/controls",
          "model_module_version": "1.5.0",
          "model_name": "DescriptionStyleModel",
          "state": {
            "_model_module": "@jupyter-widgets/controls",
            "_model_module_version": "1.5.0",
            "_model_name": "DescriptionStyleModel",
            "_view_count": null,
            "_view_module": "@jupyter-widgets/base",
            "_view_module_version": "1.2.0",
            "_view_name": "StyleView",
            "description_width": ""
          }
        },
        "ac8c29b8b14a4398a84d070095322b81": {
          "model_module": "@jupyter-widgets/controls",
          "model_module_version": "1.5.0",
          "model_name": "DescriptionStyleModel",
          "state": {
            "_model_module": "@jupyter-widgets/controls",
            "_model_module_version": "1.5.0",
            "_model_name": "DescriptionStyleModel",
            "_view_count": null,
            "_view_module": "@jupyter-widgets/base",
            "_view_module_version": "1.2.0",
            "_view_name": "StyleView",
            "description_width": ""
          }
        },
        "af50c6be7f884828ba0b64bba50de704": {
          "model_module": "@jupyter-widgets/controls",
          "model_module_version": "1.5.0",
          "model_name": "HTMLModel",
          "state": {
            "_dom_classes": [],
            "_model_module": "@jupyter-widgets/controls",
            "_model_module_version": "1.5.0",
            "_model_name": "HTMLModel",
            "_view_count": null,
            "_view_module": "@jupyter-widgets/controls",
            "_view_module_version": "1.5.0",
            "_view_name": "HTMLView",
            "description": "",
            "description_tooltip": null,
            "layout": "IPY_MODEL_afaa1cf7063b4e15a065f9eabe98d5b0",
            "placeholder": "​",
            "style": "IPY_MODEL_ac8c29b8b14a4398a84d070095322b81",
            "value": "Downloading (…)solve/main/vocab.txt: 100%"
          }
        },
        "afaa1cf7063b4e15a065f9eabe98d5b0": {
          "model_module": "@jupyter-widgets/base",
          "model_module_version": "1.2.0",
          "model_name": "LayoutModel",
          "state": {
            "_model_module": "@jupyter-widgets/base",
            "_model_module_version": "1.2.0",
            "_model_name": "LayoutModel",
            "_view_count": null,
            "_view_module": "@jupyter-widgets/base",
            "_view_module_version": "1.2.0",
            "_view_name": "LayoutView",
            "align_content": null,
            "align_items": null,
            "align_self": null,
            "border": null,
            "bottom": null,
            "display": null,
            "flex": null,
            "flex_flow": null,
            "grid_area": null,
            "grid_auto_columns": null,
            "grid_auto_flow": null,
            "grid_auto_rows": null,
            "grid_column": null,
            "grid_gap": null,
            "grid_row": null,
            "grid_template_areas": null,
            "grid_template_columns": null,
            "grid_template_rows": null,
            "height": null,
            "justify_content": null,
            "justify_items": null,
            "left": null,
            "margin": null,
            "max_height": null,
            "max_width": null,
            "min_height": null,
            "min_width": null,
            "object_fit": null,
            "object_position": null,
            "order": null,
            "overflow": null,
            "overflow_x": null,
            "overflow_y": null,
            "padding": null,
            "right": null,
            "top": null,
            "visibility": null,
            "width": null
          }
        },
        "b0c288756f1249cabc2236ed916ffcf2": {
          "model_module": "@jupyter-widgets/controls",
          "model_module_version": "1.5.0",
          "model_name": "FloatProgressModel",
          "state": {
            "_dom_classes": [],
            "_model_module": "@jupyter-widgets/controls",
            "_model_module_version": "1.5.0",
            "_model_name": "FloatProgressModel",
            "_view_count": null,
            "_view_module": "@jupyter-widgets/controls",
            "_view_module_version": "1.5.0",
            "_view_name": "ProgressView",
            "bar_style": "success",
            "description": "",
            "description_tooltip": null,
            "layout": "IPY_MODEL_6f932231ba8a47878a6218132d457b49",
            "max": 226150,
            "min": 0,
            "orientation": "horizontal",
            "style": "IPY_MODEL_d3b7eb33a3774bf2ae7340834d28b48e",
            "value": 226150
          }
        },
        "b39a4938cd0945eba6741edb2145b18f": {
          "model_module": "@jupyter-widgets/base",
          "model_module_version": "1.2.0",
          "model_name": "LayoutModel",
          "state": {
            "_model_module": "@jupyter-widgets/base",
            "_model_module_version": "1.2.0",
            "_model_name": "LayoutModel",
            "_view_count": null,
            "_view_module": "@jupyter-widgets/base",
            "_view_module_version": "1.2.0",
            "_view_name": "LayoutView",
            "align_content": null,
            "align_items": null,
            "align_self": null,
            "border": null,
            "bottom": null,
            "display": null,
            "flex": null,
            "flex_flow": null,
            "grid_area": null,
            "grid_auto_columns": null,
            "grid_auto_flow": null,
            "grid_auto_rows": null,
            "grid_column": null,
            "grid_gap": null,
            "grid_row": null,
            "grid_template_areas": null,
            "grid_template_columns": null,
            "grid_template_rows": null,
            "height": null,
            "justify_content": null,
            "justify_items": null,
            "left": null,
            "margin": null,
            "max_height": null,
            "max_width": null,
            "min_height": null,
            "min_width": null,
            "object_fit": null,
            "object_position": null,
            "order": null,
            "overflow": null,
            "overflow_x": null,
            "overflow_y": null,
            "padding": null,
            "right": null,
            "top": null,
            "visibility": null,
            "width": null
          }
        },
        "b989a543772c455db3a06d88bfb8597e": {
          "model_module": "@jupyter-widgets/controls",
          "model_module_version": "1.5.0",
          "model_name": "HBoxModel",
          "state": {
            "_dom_classes": [],
            "_model_module": "@jupyter-widgets/controls",
            "_model_module_version": "1.5.0",
            "_model_name": "HBoxModel",
            "_view_count": null,
            "_view_module": "@jupyter-widgets/controls",
            "_view_module_version": "1.5.0",
            "_view_name": "HBoxView",
            "box_style": "",
            "children": [
              "IPY_MODEL_2651f8d5e8b94b9f8c680931e08009ce",
              "IPY_MODEL_bd23dce732da477397110dde67b2ef68",
              "IPY_MODEL_98d40bce088f403f80b39068d8c609e4"
            ],
            "layout": "IPY_MODEL_3bcdf4364d97445c90933eb268d9b680"
          }
        },
        "b9921ff56a2c4c1aae6a461a5211cb61": {
          "model_module": "@jupyter-widgets/controls",
          "model_module_version": "1.5.0",
          "model_name": "HTMLModel",
          "state": {
            "_dom_classes": [],
            "_model_module": "@jupyter-widgets/controls",
            "_model_module_version": "1.5.0",
            "_model_name": "HTMLModel",
            "_view_count": null,
            "_view_module": "@jupyter-widgets/controls",
            "_view_module_version": "1.5.0",
            "_view_name": "HTMLView",
            "description": "",
            "description_tooltip": null,
            "layout": "IPY_MODEL_bb408835165d44208ede245d8d53d101",
            "placeholder": "​",
            "style": "IPY_MODEL_4c55cb6ebc36466db525f85006f22a0a",
            "value": " 28.0/28.0 [00:00&lt;00:00, 790B/s]"
          }
        },
        "b9edbd519de54699be85738d3df0829d": {
          "model_module": "@jupyter-widgets/controls",
          "model_module_version": "1.5.0",
          "model_name": "ProgressStyleModel",
          "state": {
            "_model_module": "@jupyter-widgets/controls",
            "_model_module_version": "1.5.0",
            "_model_name": "ProgressStyleModel",
            "_view_count": null,
            "_view_module": "@jupyter-widgets/base",
            "_view_module_version": "1.2.0",
            "_view_name": "StyleView",
            "bar_color": null,
            "description_width": ""
          }
        },
        "bb408835165d44208ede245d8d53d101": {
          "model_module": "@jupyter-widgets/base",
          "model_module_version": "1.2.0",
          "model_name": "LayoutModel",
          "state": {
            "_model_module": "@jupyter-widgets/base",
            "_model_module_version": "1.2.0",
            "_model_name": "LayoutModel",
            "_view_count": null,
            "_view_module": "@jupyter-widgets/base",
            "_view_module_version": "1.2.0",
            "_view_name": "LayoutView",
            "align_content": null,
            "align_items": null,
            "align_self": null,
            "border": null,
            "bottom": null,
            "display": null,
            "flex": null,
            "flex_flow": null,
            "grid_area": null,
            "grid_auto_columns": null,
            "grid_auto_flow": null,
            "grid_auto_rows": null,
            "grid_column": null,
            "grid_gap": null,
            "grid_row": null,
            "grid_template_areas": null,
            "grid_template_columns": null,
            "grid_template_rows": null,
            "height": null,
            "justify_content": null,
            "justify_items": null,
            "left": null,
            "margin": null,
            "max_height": null,
            "max_width": null,
            "min_height": null,
            "min_width": null,
            "object_fit": null,
            "object_position": null,
            "order": null,
            "overflow": null,
            "overflow_x": null,
            "overflow_y": null,
            "padding": null,
            "right": null,
            "top": null,
            "visibility": null,
            "width": null
          }
        },
        "bd23dce732da477397110dde67b2ef68": {
          "model_module": "@jupyter-widgets/controls",
          "model_module_version": "1.5.0",
          "model_name": "FloatProgressModel",
          "state": {
            "_dom_classes": [],
            "_model_module": "@jupyter-widgets/controls",
            "_model_module_version": "1.5.0",
            "_model_name": "FloatProgressModel",
            "_view_count": null,
            "_view_module": "@jupyter-widgets/controls",
            "_view_module_version": "1.5.0",
            "_view_name": "ProgressView",
            "bar_style": "success",
            "description": "",
            "description_tooltip": null,
            "layout": "IPY_MODEL_f53c00b4c15847208a4eeb6036f5b1b1",
            "max": 385,
            "min": 0,
            "orientation": "horizontal",
            "style": "IPY_MODEL_b9edbd519de54699be85738d3df0829d",
            "value": 385
          }
        },
        "c0616b87107d47879453be7eb3483192": {
          "model_module": "@jupyter-widgets/base",
          "model_module_version": "1.2.0",
          "model_name": "LayoutModel",
          "state": {
            "_model_module": "@jupyter-widgets/base",
            "_model_module_version": "1.2.0",
            "_model_name": "LayoutModel",
            "_view_count": null,
            "_view_module": "@jupyter-widgets/base",
            "_view_module_version": "1.2.0",
            "_view_name": "LayoutView",
            "align_content": null,
            "align_items": null,
            "align_self": null,
            "border": null,
            "bottom": null,
            "display": null,
            "flex": null,
            "flex_flow": null,
            "grid_area": null,
            "grid_auto_columns": null,
            "grid_auto_flow": null,
            "grid_auto_rows": null,
            "grid_column": null,
            "grid_gap": null,
            "grid_row": null,
            "grid_template_areas": null,
            "grid_template_columns": null,
            "grid_template_rows": null,
            "height": null,
            "justify_content": null,
            "justify_items": null,
            "left": null,
            "margin": null,
            "max_height": null,
            "max_width": null,
            "min_height": null,
            "min_width": null,
            "object_fit": null,
            "object_position": null,
            "order": null,
            "overflow": null,
            "overflow_x": null,
            "overflow_y": null,
            "padding": null,
            "right": null,
            "top": null,
            "visibility": null,
            "width": null
          }
        },
        "c0dac82be6684b6d927f46551cd5b113": {
          "model_module": "@jupyter-widgets/controls",
          "model_module_version": "1.5.0",
          "model_name": "DescriptionStyleModel",
          "state": {
            "_model_module": "@jupyter-widgets/controls",
            "_model_module_version": "1.5.0",
            "_model_name": "DescriptionStyleModel",
            "_view_count": null,
            "_view_module": "@jupyter-widgets/base",
            "_view_module_version": "1.2.0",
            "_view_name": "StyleView",
            "description_width": ""
          }
        },
        "c36c0de8dcd14f49b4de06e971b1b43c": {
          "model_module": "@jupyter-widgets/controls",
          "model_module_version": "1.5.0",
          "model_name": "HTMLModel",
          "state": {
            "_dom_classes": [],
            "_model_module": "@jupyter-widgets/controls",
            "_model_module_version": "1.5.0",
            "_model_name": "HTMLModel",
            "_view_count": null,
            "_view_module": "@jupyter-widgets/controls",
            "_view_module_version": "1.5.0",
            "_view_name": "HTMLView",
            "description": "",
            "description_tooltip": null,
            "layout": "IPY_MODEL_f0c01c2fa471431a8832e936e5f21f8d",
            "placeholder": "​",
            "style": "IPY_MODEL_5bf6bdf72e2c4bc49f280e7fb94609de",
            "value": "Downloading pytorch_model.bin: 100%"
          }
        },
        "cd5848593c034ab6a0b935207f4253cc": {
          "model_module": "@jupyter-widgets/controls",
          "model_module_version": "1.5.0",
          "model_name": "FloatProgressModel",
          "state": {
            "_dom_classes": [],
            "_model_module": "@jupyter-widgets/controls",
            "_model_module_version": "1.5.0",
            "_model_name": "FloatProgressModel",
            "_view_count": null,
            "_view_module": "@jupyter-widgets/controls",
            "_view_module_version": "1.5.0",
            "_view_name": "ProgressView",
            "bar_style": "success",
            "description": "",
            "description_tooltip": null,
            "layout": "IPY_MODEL_38c050124c2b482cbd84ea29d4f64ff9",
            "max": 28,
            "min": 0,
            "orientation": "horizontal",
            "style": "IPY_MODEL_667018ce5d7c4b3387a12e3777fb09e0",
            "value": 28
          }
        },
        "cede584bbc0f468dbb4b69b553363faf": {
          "model_module": "@jupyter-widgets/base",
          "model_module_version": "1.2.0",
          "model_name": "LayoutModel",
          "state": {
            "_model_module": "@jupyter-widgets/base",
            "_model_module_version": "1.2.0",
            "_model_name": "LayoutModel",
            "_view_count": null,
            "_view_module": "@jupyter-widgets/base",
            "_view_module_version": "1.2.0",
            "_view_name": "LayoutView",
            "align_content": null,
            "align_items": null,
            "align_self": null,
            "border": null,
            "bottom": null,
            "display": null,
            "flex": null,
            "flex_flow": null,
            "grid_area": null,
            "grid_auto_columns": null,
            "grid_auto_flow": null,
            "grid_auto_rows": null,
            "grid_column": null,
            "grid_gap": null,
            "grid_row": null,
            "grid_template_areas": null,
            "grid_template_columns": null,
            "grid_template_rows": null,
            "height": null,
            "justify_content": null,
            "justify_items": null,
            "left": null,
            "margin": null,
            "max_height": null,
            "max_width": null,
            "min_height": null,
            "min_width": null,
            "object_fit": null,
            "object_position": null,
            "order": null,
            "overflow": null,
            "overflow_x": null,
            "overflow_y": null,
            "padding": null,
            "right": null,
            "top": null,
            "visibility": null,
            "width": null
          }
        },
        "d3b7eb33a3774bf2ae7340834d28b48e": {
          "model_module": "@jupyter-widgets/controls",
          "model_module_version": "1.5.0",
          "model_name": "ProgressStyleModel",
          "state": {
            "_model_module": "@jupyter-widgets/controls",
            "_model_module_version": "1.5.0",
            "_model_name": "ProgressStyleModel",
            "_view_count": null,
            "_view_module": "@jupyter-widgets/base",
            "_view_module_version": "1.2.0",
            "_view_name": "StyleView",
            "bar_color": null,
            "description_width": ""
          }
        },
        "d6fc9042502e450fad123d68d33b0584": {
          "model_module": "@jupyter-widgets/controls",
          "model_module_version": "1.5.0",
          "model_name": "DescriptionStyleModel",
          "state": {
            "_model_module": "@jupyter-widgets/controls",
            "_model_module_version": "1.5.0",
            "_model_name": "DescriptionStyleModel",
            "_view_count": null,
            "_view_module": "@jupyter-widgets/base",
            "_view_module_version": "1.2.0",
            "_view_name": "StyleView",
            "description_width": ""
          }
        },
        "f0c01c2fa471431a8832e936e5f21f8d": {
          "model_module": "@jupyter-widgets/base",
          "model_module_version": "1.2.0",
          "model_name": "LayoutModel",
          "state": {
            "_model_module": "@jupyter-widgets/base",
            "_model_module_version": "1.2.0",
            "_model_name": "LayoutModel",
            "_view_count": null,
            "_view_module": "@jupyter-widgets/base",
            "_view_module_version": "1.2.0",
            "_view_name": "LayoutView",
            "align_content": null,
            "align_items": null,
            "align_self": null,
            "border": null,
            "bottom": null,
            "display": null,
            "flex": null,
            "flex_flow": null,
            "grid_area": null,
            "grid_auto_columns": null,
            "grid_auto_flow": null,
            "grid_auto_rows": null,
            "grid_column": null,
            "grid_gap": null,
            "grid_row": null,
            "grid_template_areas": null,
            "grid_template_columns": null,
            "grid_template_rows": null,
            "height": null,
            "justify_content": null,
            "justify_items": null,
            "left": null,
            "margin": null,
            "max_height": null,
            "max_width": null,
            "min_height": null,
            "min_width": null,
            "object_fit": null,
            "object_position": null,
            "order": null,
            "overflow": null,
            "overflow_x": null,
            "overflow_y": null,
            "padding": null,
            "right": null,
            "top": null,
            "visibility": null,
            "width": null
          }
        },
        "f53c00b4c15847208a4eeb6036f5b1b1": {
          "model_module": "@jupyter-widgets/base",
          "model_module_version": "1.2.0",
          "model_name": "LayoutModel",
          "state": {
            "_model_module": "@jupyter-widgets/base",
            "_model_module_version": "1.2.0",
            "_model_name": "LayoutModel",
            "_view_count": null,
            "_view_module": "@jupyter-widgets/base",
            "_view_module_version": "1.2.0",
            "_view_name": "LayoutView",
            "align_content": null,
            "align_items": null,
            "align_self": null,
            "border": null,
            "bottom": null,
            "display": null,
            "flex": null,
            "flex_flow": null,
            "grid_area": null,
            "grid_auto_columns": null,
            "grid_auto_flow": null,
            "grid_auto_rows": null,
            "grid_column": null,
            "grid_gap": null,
            "grid_row": null,
            "grid_template_areas": null,
            "grid_template_columns": null,
            "grid_template_rows": null,
            "height": null,
            "justify_content": null,
            "justify_items": null,
            "left": null,
            "margin": null,
            "max_height": null,
            "max_width": null,
            "min_height": null,
            "min_width": null,
            "object_fit": null,
            "object_position": null,
            "order": null,
            "overflow": null,
            "overflow_x": null,
            "overflow_y": null,
            "padding": null,
            "right": null,
            "top": null,
            "visibility": null,
            "width": null
          }
        },
        "fd2e4c6eadc749d1b4cbe85aceb38bd1": {
          "model_module": "@jupyter-widgets/controls",
          "model_module_version": "1.5.0",
          "model_name": "FloatProgressModel",
          "state": {
            "_dom_classes": [],
            "_model_module": "@jupyter-widgets/controls",
            "_model_module_version": "1.5.0",
            "_model_name": "FloatProgressModel",
            "_view_count": null,
            "_view_module": "@jupyter-widgets/controls",
            "_view_module_version": "1.5.0",
            "_view_name": "ProgressView",
            "bar_style": "success",
            "description": "",
            "description_tooltip": null,
            "layout": "IPY_MODEL_b39a4938cd0945eba6741edb2145b18f",
            "max": 440474434,
            "min": 0,
            "orientation": "horizontal",
            "style": "IPY_MODEL_9a14b01fd219443a9d8efdbe4558c5a1",
            "value": 440474434
          }
        }
      }
    }
  },
  "nbformat": 4,
  "nbformat_minor": 0
}
