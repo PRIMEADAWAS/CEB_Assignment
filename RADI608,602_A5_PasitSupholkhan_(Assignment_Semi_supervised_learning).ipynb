{
  "nbformat": 4,
  "nbformat_minor": 0,
  "metadata": {
    "colab": {
      "provenance": [],
      "toc_visible": true,
      "authorship_tag": "ABX9TyPbNEA18r6IKS27j1OxSsDp",
      "include_colab_link": true
    },
    "kernelspec": {
      "name": "python3",
      "display_name": "Python 3"
    },
    "language_info": {
      "name": "python"
    }
  },
  "cells": [
    {
      "cell_type": "markdown",
      "metadata": {
        "id": "view-in-github",
        "colab_type": "text"
      },
      "source": [
        "<a href=\"https://colab.research.google.com/github/PRIMEADAWAS/CEB_Assignment/blob/main/RADI608%2C602_A5_PasitSupholkhan_(Assignment_Semi_supervised_learning).ipynb\" target=\"_parent\"><img src=\"https://colab.research.google.com/assets/colab-badge.svg\" alt=\"Open In Colab\"/></a>"
      ]
    },
    {
      "cell_type": "markdown",
      "source": [
        "# RADI608,602_A5_PasitSupholkhan 6536115 (Assignment : Semi-supervised learning)"
      ],
      "metadata": {
        "id": "GJo47SRDfB3g"
      }
    },
    {
      "cell_type": "markdown",
      "source": [
        "**Assignment : Semi-supervised learning**"
      ],
      "metadata": {
        "id": "54C1R1rn-JAE"
      }
    },
    {
      "cell_type": "markdown",
      "source": [
        "RADI 608, 602: Data Mining and Machine Learning 2022"
      ],
      "metadata": {
        "id": "270VSmO5-D_P"
      }
    },
    {
      "cell_type": "markdown",
      "source": [
        "# a) (6 points) \n"
      ],
      "metadata": {
        "id": "NoDwZqfAOf_C"
      }
    },
    {
      "cell_type": "markdown",
      "source": [
        "## 1) From colon.csv, please reduce data dimension by using 2 features (column’s name or gene#: T62947 and H64807).\n"
      ],
      "metadata": {
        "id": "uEWj5MRURnqL"
      }
    },
    {
      "cell_type": "code",
      "execution_count": 2,
      "metadata": {
        "colab": {
          "base_uri": "https://localhost:8080/"
        },
        "id": "xho9gmZyTLR4",
        "outputId": "993d83f8-ea90-465b-8f58-76a157798974"
      },
      "outputs": [
        {
          "output_type": "stream",
          "name": "stdout",
          "text": [
            "Pandas version : 1.3.5\n",
            "Numpy version : 1.21.6\n",
            "Matplotlib version : 3.2.2\n"
          ]
        }
      ],
      "source": [
        "import pandas as pd\n",
        "import numpy as np\n",
        "import matplotlib as mpl\n",
        "import matplotlib.pyplot as plt\n",
        "print('Pandas version :',pd.__version__)\n",
        "print('Numpy version :',np.__version__)\n",
        "print('Matplotlib version :',mpl.__version__)"
      ]
    },
    {
      "cell_type": "code",
      "source": [
        "# import colonData\n",
        "url ='https://raw.githubusercontent.com/ViktorHexCore/R_CEB/main/DataForRpartOne/colon.csv'\n",
        "# url =r'/content/drive/MyDrive/Dataset/Assignment/colon.csv'\n",
        "df_colon = pd.read_csv(url)\n",
        "df_colon.head()"
      ],
      "metadata": {
        "colab": {
          "base_uri": "https://localhost:8080/",
          "height": 236
        },
        "id": "MEwFb2W6OikP",
        "outputId": "cc827b17-afe1-466c-e643-499432989c4f"
      },
      "execution_count": 7,
      "outputs": [
        {
          "output_type": "execute_result",
          "data": {
            "text/plain": [
              "   H55933  R39465  R39465.1  R85482    U14973  R02593    T51496  H80240  \\\n",
              "0    3.62    3.31  2.986154    2.71  2.091310    3.12  2.745517    2.42   \n",
              "1    3.47    3.68  3.425553    3.05  2.402400    2.46  2.150405    2.26   \n",
              "2    3.02    2.78  2.569772    3.21  2.707560    2.63  2.385288    3.00   \n",
              "3    3.10    2.86  2.772942    3.19  2.354082    2.76  2.103475    2.93   \n",
              "4    3.01    2.91  2.560548    3.25  2.336800    3.04  2.881109    2.55   \n",
              "\n",
              "     T65938  T55131  ...  R70790    L11706  T90549    D17390  M33210  \\\n",
              "0  3.352726    2.97  ...  -1.030 -0.983356  -0.531 -1.142698  -1.110   \n",
              "1  3.020793    3.26  ...  -1.230 -3.063926   0.156 -0.687025  -0.777   \n",
              "2  2.633958    2.40  ...  -0.758  0.318488  -1.250 -1.099859  -0.131   \n",
              "3  3.176524    2.84  ...  -1.180  0.079492  -1.070 -0.465491  -0.455   \n",
              "4  2.852425    2.57  ...  -0.491 -0.081214  -1.160 -0.889998  -0.528   \n",
              "\n",
              "     H18490  H40891    R77780  T49647  Class  \n",
              "0 -0.520386  -0.315 -1.764190   -2.75      1  \n",
              "1 -1.093455  -1.210 -1.062064   -2.13      1  \n",
              "2 -2.748068  -1.010 -2.260031   -1.50      1  \n",
              "3 -1.804783  -1.610 -1.223450   -1.07      1  \n",
              "4 -1.636024  -1.210 -1.232686   -1.62      1  \n",
              "\n",
              "[5 rows x 2001 columns]"
            ],
            "text/html": [
              "\n",
              "  <div id=\"df-ef26365e-c7b7-4879-aa60-81319df6a3b7\">\n",
              "    <div class=\"colab-df-container\">\n",
              "      <div>\n",
              "<style scoped>\n",
              "    .dataframe tbody tr th:only-of-type {\n",
              "        vertical-align: middle;\n",
              "    }\n",
              "\n",
              "    .dataframe tbody tr th {\n",
              "        vertical-align: top;\n",
              "    }\n",
              "\n",
              "    .dataframe thead th {\n",
              "        text-align: right;\n",
              "    }\n",
              "</style>\n",
              "<table border=\"1\" class=\"dataframe\">\n",
              "  <thead>\n",
              "    <tr style=\"text-align: right;\">\n",
              "      <th></th>\n",
              "      <th>H55933</th>\n",
              "      <th>R39465</th>\n",
              "      <th>R39465.1</th>\n",
              "      <th>R85482</th>\n",
              "      <th>U14973</th>\n",
              "      <th>R02593</th>\n",
              "      <th>T51496</th>\n",
              "      <th>H80240</th>\n",
              "      <th>T65938</th>\n",
              "      <th>T55131</th>\n",
              "      <th>...</th>\n",
              "      <th>R70790</th>\n",
              "      <th>L11706</th>\n",
              "      <th>T90549</th>\n",
              "      <th>D17390</th>\n",
              "      <th>M33210</th>\n",
              "      <th>H18490</th>\n",
              "      <th>H40891</th>\n",
              "      <th>R77780</th>\n",
              "      <th>T49647</th>\n",
              "      <th>Class</th>\n",
              "    </tr>\n",
              "  </thead>\n",
              "  <tbody>\n",
              "    <tr>\n",
              "      <th>0</th>\n",
              "      <td>3.62</td>\n",
              "      <td>3.31</td>\n",
              "      <td>2.986154</td>\n",
              "      <td>2.71</td>\n",
              "      <td>2.091310</td>\n",
              "      <td>3.12</td>\n",
              "      <td>2.745517</td>\n",
              "      <td>2.42</td>\n",
              "      <td>3.352726</td>\n",
              "      <td>2.97</td>\n",
              "      <td>...</td>\n",
              "      <td>-1.030</td>\n",
              "      <td>-0.983356</td>\n",
              "      <td>-0.531</td>\n",
              "      <td>-1.142698</td>\n",
              "      <td>-1.110</td>\n",
              "      <td>-0.520386</td>\n",
              "      <td>-0.315</td>\n",
              "      <td>-1.764190</td>\n",
              "      <td>-2.75</td>\n",
              "      <td>1</td>\n",
              "    </tr>\n",
              "    <tr>\n",
              "      <th>1</th>\n",
              "      <td>3.47</td>\n",
              "      <td>3.68</td>\n",
              "      <td>3.425553</td>\n",
              "      <td>3.05</td>\n",
              "      <td>2.402400</td>\n",
              "      <td>2.46</td>\n",
              "      <td>2.150405</td>\n",
              "      <td>2.26</td>\n",
              "      <td>3.020793</td>\n",
              "      <td>3.26</td>\n",
              "      <td>...</td>\n",
              "      <td>-1.230</td>\n",
              "      <td>-3.063926</td>\n",
              "      <td>0.156</td>\n",
              "      <td>-0.687025</td>\n",
              "      <td>-0.777</td>\n",
              "      <td>-1.093455</td>\n",
              "      <td>-1.210</td>\n",
              "      <td>-1.062064</td>\n",
              "      <td>-2.13</td>\n",
              "      <td>1</td>\n",
              "    </tr>\n",
              "    <tr>\n",
              "      <th>2</th>\n",
              "      <td>3.02</td>\n",
              "      <td>2.78</td>\n",
              "      <td>2.569772</td>\n",
              "      <td>3.21</td>\n",
              "      <td>2.707560</td>\n",
              "      <td>2.63</td>\n",
              "      <td>2.385288</td>\n",
              "      <td>3.00</td>\n",
              "      <td>2.633958</td>\n",
              "      <td>2.40</td>\n",
              "      <td>...</td>\n",
              "      <td>-0.758</td>\n",
              "      <td>0.318488</td>\n",
              "      <td>-1.250</td>\n",
              "      <td>-1.099859</td>\n",
              "      <td>-0.131</td>\n",
              "      <td>-2.748068</td>\n",
              "      <td>-1.010</td>\n",
              "      <td>-2.260031</td>\n",
              "      <td>-1.50</td>\n",
              "      <td>1</td>\n",
              "    </tr>\n",
              "    <tr>\n",
              "      <th>3</th>\n",
              "      <td>3.10</td>\n",
              "      <td>2.86</td>\n",
              "      <td>2.772942</td>\n",
              "      <td>3.19</td>\n",
              "      <td>2.354082</td>\n",
              "      <td>2.76</td>\n",
              "      <td>2.103475</td>\n",
              "      <td>2.93</td>\n",
              "      <td>3.176524</td>\n",
              "      <td>2.84</td>\n",
              "      <td>...</td>\n",
              "      <td>-1.180</td>\n",
              "      <td>0.079492</td>\n",
              "      <td>-1.070</td>\n",
              "      <td>-0.465491</td>\n",
              "      <td>-0.455</td>\n",
              "      <td>-1.804783</td>\n",
              "      <td>-1.610</td>\n",
              "      <td>-1.223450</td>\n",
              "      <td>-1.07</td>\n",
              "      <td>1</td>\n",
              "    </tr>\n",
              "    <tr>\n",
              "      <th>4</th>\n",
              "      <td>3.01</td>\n",
              "      <td>2.91</td>\n",
              "      <td>2.560548</td>\n",
              "      <td>3.25</td>\n",
              "      <td>2.336800</td>\n",
              "      <td>3.04</td>\n",
              "      <td>2.881109</td>\n",
              "      <td>2.55</td>\n",
              "      <td>2.852425</td>\n",
              "      <td>2.57</td>\n",
              "      <td>...</td>\n",
              "      <td>-0.491</td>\n",
              "      <td>-0.081214</td>\n",
              "      <td>-1.160</td>\n",
              "      <td>-0.889998</td>\n",
              "      <td>-0.528</td>\n",
              "      <td>-1.636024</td>\n",
              "      <td>-1.210</td>\n",
              "      <td>-1.232686</td>\n",
              "      <td>-1.62</td>\n",
              "      <td>1</td>\n",
              "    </tr>\n",
              "  </tbody>\n",
              "</table>\n",
              "<p>5 rows × 2001 columns</p>\n",
              "</div>\n",
              "      <button class=\"colab-df-convert\" onclick=\"convertToInteractive('df-ef26365e-c7b7-4879-aa60-81319df6a3b7')\"\n",
              "              title=\"Convert this dataframe to an interactive table.\"\n",
              "              style=\"display:none;\">\n",
              "        \n",
              "  <svg xmlns=\"http://www.w3.org/2000/svg\" height=\"24px\"viewBox=\"0 0 24 24\"\n",
              "       width=\"24px\">\n",
              "    <path d=\"M0 0h24v24H0V0z\" fill=\"none\"/>\n",
              "    <path d=\"M18.56 5.44l.94 2.06.94-2.06 2.06-.94-2.06-.94-.94-2.06-.94 2.06-2.06.94zm-11 1L8.5 8.5l.94-2.06 2.06-.94-2.06-.94L8.5 2.5l-.94 2.06-2.06.94zm10 10l.94 2.06.94-2.06 2.06-.94-2.06-.94-.94-2.06-.94 2.06-2.06.94z\"/><path d=\"M17.41 7.96l-1.37-1.37c-.4-.4-.92-.59-1.43-.59-.52 0-1.04.2-1.43.59L10.3 9.45l-7.72 7.72c-.78.78-.78 2.05 0 2.83L4 21.41c.39.39.9.59 1.41.59.51 0 1.02-.2 1.41-.59l7.78-7.78 2.81-2.81c.8-.78.8-2.07 0-2.86zM5.41 20L4 18.59l7.72-7.72 1.47 1.35L5.41 20z\"/>\n",
              "  </svg>\n",
              "      </button>\n",
              "      \n",
              "  <style>\n",
              "    .colab-df-container {\n",
              "      display:flex;\n",
              "      flex-wrap:wrap;\n",
              "      gap: 12px;\n",
              "    }\n",
              "\n",
              "    .colab-df-convert {\n",
              "      background-color: #E8F0FE;\n",
              "      border: none;\n",
              "      border-radius: 50%;\n",
              "      cursor: pointer;\n",
              "      display: none;\n",
              "      fill: #1967D2;\n",
              "      height: 32px;\n",
              "      padding: 0 0 0 0;\n",
              "      width: 32px;\n",
              "    }\n",
              "\n",
              "    .colab-df-convert:hover {\n",
              "      background-color: #E2EBFA;\n",
              "      box-shadow: 0px 1px 2px rgba(60, 64, 67, 0.3), 0px 1px 3px 1px rgba(60, 64, 67, 0.15);\n",
              "      fill: #174EA6;\n",
              "    }\n",
              "\n",
              "    [theme=dark] .colab-df-convert {\n",
              "      background-color: #3B4455;\n",
              "      fill: #D2E3FC;\n",
              "    }\n",
              "\n",
              "    [theme=dark] .colab-df-convert:hover {\n",
              "      background-color: #434B5C;\n",
              "      box-shadow: 0px 1px 3px 1px rgba(0, 0, 0, 0.15);\n",
              "      filter: drop-shadow(0px 1px 2px rgba(0, 0, 0, 0.3));\n",
              "      fill: #FFFFFF;\n",
              "    }\n",
              "  </style>\n",
              "\n",
              "      <script>\n",
              "        const buttonEl =\n",
              "          document.querySelector('#df-ef26365e-c7b7-4879-aa60-81319df6a3b7 button.colab-df-convert');\n",
              "        buttonEl.style.display =\n",
              "          google.colab.kernel.accessAllowed ? 'block' : 'none';\n",
              "\n",
              "        async function convertToInteractive(key) {\n",
              "          const element = document.querySelector('#df-ef26365e-c7b7-4879-aa60-81319df6a3b7');\n",
              "          const dataTable =\n",
              "            await google.colab.kernel.invokeFunction('convertToInteractive',\n",
              "                                                     [key], {});\n",
              "          if (!dataTable) return;\n",
              "\n",
              "          const docLinkHtml = 'Like what you see? Visit the ' +\n",
              "            '<a target=\"_blank\" href=https://colab.research.google.com/notebooks/data_table.ipynb>data table notebook</a>'\n",
              "            + ' to learn more about interactive tables.';\n",
              "          element.innerHTML = '';\n",
              "          dataTable['output_type'] = 'display_data';\n",
              "          await google.colab.output.renderOutput(dataTable, element);\n",
              "          const docLink = document.createElement('div');\n",
              "          docLink.innerHTML = docLinkHtml;\n",
              "          element.appendChild(docLink);\n",
              "        }\n",
              "      </script>\n",
              "    </div>\n",
              "  </div>\n",
              "  "
            ]
          },
          "metadata": {},
          "execution_count": 7
        }
      ]
    },
    {
      "cell_type": "code",
      "source": [
        "df_colon.shape"
      ],
      "metadata": {
        "colab": {
          "base_uri": "https://localhost:8080/"
        },
        "id": "Tbqf9kiyXIw5",
        "outputId": "4357e412-e03a-4e66-a7ce-fb0f2c13b0a3"
      },
      "execution_count": 8,
      "outputs": [
        {
          "output_type": "execute_result",
          "data": {
            "text/plain": [
              "(62, 2001)"
            ]
          },
          "metadata": {},
          "execution_count": 8
        }
      ]
    },
    {
      "cell_type": "code",
      "source": [
        "# get only two column 'T62947','H64807'\n",
        "X = df_colon[['T62947','H64807']]\n",
        "y = df_colon['Class']\n",
        "X.head()"
      ],
      "metadata": {
        "colab": {
          "base_uri": "https://localhost:8080/",
          "height": 206
        },
        "id": "Ra5_b6AVXJnY",
        "outputId": "4d455cd8-79b9-4229-93a9-51fed91465f7"
      },
      "execution_count": 9,
      "outputs": [
        {
          "output_type": "execute_result",
          "data": {
            "text/plain": [
              "   T62947  H64807\n",
              "0  -1.360  -1.470\n",
              "1  -1.130  -0.830\n",
              "2  -0.377  -0.147\n",
              "3  -1.240  -0.173\n",
              "4  -0.745  -0.420"
            ],
            "text/html": [
              "\n",
              "  <div id=\"df-643703e9-ac34-4e89-a3c2-b0827a153375\">\n",
              "    <div class=\"colab-df-container\">\n",
              "      <div>\n",
              "<style scoped>\n",
              "    .dataframe tbody tr th:only-of-type {\n",
              "        vertical-align: middle;\n",
              "    }\n",
              "\n",
              "    .dataframe tbody tr th {\n",
              "        vertical-align: top;\n",
              "    }\n",
              "\n",
              "    .dataframe thead th {\n",
              "        text-align: right;\n",
              "    }\n",
              "</style>\n",
              "<table border=\"1\" class=\"dataframe\">\n",
              "  <thead>\n",
              "    <tr style=\"text-align: right;\">\n",
              "      <th></th>\n",
              "      <th>T62947</th>\n",
              "      <th>H64807</th>\n",
              "    </tr>\n",
              "  </thead>\n",
              "  <tbody>\n",
              "    <tr>\n",
              "      <th>0</th>\n",
              "      <td>-1.360</td>\n",
              "      <td>-1.470</td>\n",
              "    </tr>\n",
              "    <tr>\n",
              "      <th>1</th>\n",
              "      <td>-1.130</td>\n",
              "      <td>-0.830</td>\n",
              "    </tr>\n",
              "    <tr>\n",
              "      <th>2</th>\n",
              "      <td>-0.377</td>\n",
              "      <td>-0.147</td>\n",
              "    </tr>\n",
              "    <tr>\n",
              "      <th>3</th>\n",
              "      <td>-1.240</td>\n",
              "      <td>-0.173</td>\n",
              "    </tr>\n",
              "    <tr>\n",
              "      <th>4</th>\n",
              "      <td>-0.745</td>\n",
              "      <td>-0.420</td>\n",
              "    </tr>\n",
              "  </tbody>\n",
              "</table>\n",
              "</div>\n",
              "      <button class=\"colab-df-convert\" onclick=\"convertToInteractive('df-643703e9-ac34-4e89-a3c2-b0827a153375')\"\n",
              "              title=\"Convert this dataframe to an interactive table.\"\n",
              "              style=\"display:none;\">\n",
              "        \n",
              "  <svg xmlns=\"http://www.w3.org/2000/svg\" height=\"24px\"viewBox=\"0 0 24 24\"\n",
              "       width=\"24px\">\n",
              "    <path d=\"M0 0h24v24H0V0z\" fill=\"none\"/>\n",
              "    <path d=\"M18.56 5.44l.94 2.06.94-2.06 2.06-.94-2.06-.94-.94-2.06-.94 2.06-2.06.94zm-11 1L8.5 8.5l.94-2.06 2.06-.94-2.06-.94L8.5 2.5l-.94 2.06-2.06.94zm10 10l.94 2.06.94-2.06 2.06-.94-2.06-.94-.94-2.06-.94 2.06-2.06.94z\"/><path d=\"M17.41 7.96l-1.37-1.37c-.4-.4-.92-.59-1.43-.59-.52 0-1.04.2-1.43.59L10.3 9.45l-7.72 7.72c-.78.78-.78 2.05 0 2.83L4 21.41c.39.39.9.59 1.41.59.51 0 1.02-.2 1.41-.59l7.78-7.78 2.81-2.81c.8-.78.8-2.07 0-2.86zM5.41 20L4 18.59l7.72-7.72 1.47 1.35L5.41 20z\"/>\n",
              "  </svg>\n",
              "      </button>\n",
              "      \n",
              "  <style>\n",
              "    .colab-df-container {\n",
              "      display:flex;\n",
              "      flex-wrap:wrap;\n",
              "      gap: 12px;\n",
              "    }\n",
              "\n",
              "    .colab-df-convert {\n",
              "      background-color: #E8F0FE;\n",
              "      border: none;\n",
              "      border-radius: 50%;\n",
              "      cursor: pointer;\n",
              "      display: none;\n",
              "      fill: #1967D2;\n",
              "      height: 32px;\n",
              "      padding: 0 0 0 0;\n",
              "      width: 32px;\n",
              "    }\n",
              "\n",
              "    .colab-df-convert:hover {\n",
              "      background-color: #E2EBFA;\n",
              "      box-shadow: 0px 1px 2px rgba(60, 64, 67, 0.3), 0px 1px 3px 1px rgba(60, 64, 67, 0.15);\n",
              "      fill: #174EA6;\n",
              "    }\n",
              "\n",
              "    [theme=dark] .colab-df-convert {\n",
              "      background-color: #3B4455;\n",
              "      fill: #D2E3FC;\n",
              "    }\n",
              "\n",
              "    [theme=dark] .colab-df-convert:hover {\n",
              "      background-color: #434B5C;\n",
              "      box-shadow: 0px 1px 3px 1px rgba(0, 0, 0, 0.15);\n",
              "      filter: drop-shadow(0px 1px 2px rgba(0, 0, 0, 0.3));\n",
              "      fill: #FFFFFF;\n",
              "    }\n",
              "  </style>\n",
              "\n",
              "      <script>\n",
              "        const buttonEl =\n",
              "          document.querySelector('#df-643703e9-ac34-4e89-a3c2-b0827a153375 button.colab-df-convert');\n",
              "        buttonEl.style.display =\n",
              "          google.colab.kernel.accessAllowed ? 'block' : 'none';\n",
              "\n",
              "        async function convertToInteractive(key) {\n",
              "          const element = document.querySelector('#df-643703e9-ac34-4e89-a3c2-b0827a153375');\n",
              "          const dataTable =\n",
              "            await google.colab.kernel.invokeFunction('convertToInteractive',\n",
              "                                                     [key], {});\n",
              "          if (!dataTable) return;\n",
              "\n",
              "          const docLinkHtml = 'Like what you see? Visit the ' +\n",
              "            '<a target=\"_blank\" href=https://colab.research.google.com/notebooks/data_table.ipynb>data table notebook</a>'\n",
              "            + ' to learn more about interactive tables.';\n",
              "          element.innerHTML = '';\n",
              "          dataTable['output_type'] = 'display_data';\n",
              "          await google.colab.output.renderOutput(dataTable, element);\n",
              "          const docLink = document.createElement('div');\n",
              "          docLink.innerHTML = docLinkHtml;\n",
              "          element.appendChild(docLink);\n",
              "        }\n",
              "      </script>\n",
              "    </div>\n",
              "  </div>\n",
              "  "
            ]
          },
          "metadata": {},
          "execution_count": 9
        }
      ]
    },
    {
      "cell_type": "code",
      "source": [
        "y"
      ],
      "metadata": {
        "colab": {
          "base_uri": "https://localhost:8080/"
        },
        "id": "1X_Btmpib4xW",
        "outputId": "4518aa5b-0f7b-4815-f5ac-218249cc3535"
      },
      "execution_count": 10,
      "outputs": [
        {
          "output_type": "execute_result",
          "data": {
            "text/plain": [
              "0     1\n",
              "1     1\n",
              "2     1\n",
              "3     1\n",
              "4     1\n",
              "     ..\n",
              "57   -1\n",
              "58   -1\n",
              "59   -1\n",
              "60   -1\n",
              "61   -1\n",
              "Name: Class, Length: 62, dtype: int64"
            ]
          },
          "metadata": {},
          "execution_count": 10
        }
      ]
    },
    {
      "cell_type": "code",
      "source": [
        "# plot group by colors\n",
        "plt.figure(figsize=(8,8))\n",
        "plt.scatter(X['T62947'],X['H64807'],c=y,s=80,alpha=0.6)\n",
        "plt.xlabel('Feature T62947 --->')\n",
        "plt.ylabel('Feature H64807 --->')\n",
        "plt.title('Colon Data')"
      ],
      "metadata": {
        "colab": {
          "base_uri": "https://localhost:8080/",
          "height": 530
        },
        "id": "cnezcm2gQpep",
        "outputId": "24159883-0511-46fa-9264-9a2a4ef5bfa2"
      },
      "execution_count": 11,
      "outputs": [
        {
          "output_type": "execute_result",
          "data": {
            "text/plain": [
              "Text(0.5, 1.0, 'Colon Data')"
            ]
          },
          "metadata": {},
          "execution_count": 11
        },
        {
          "output_type": "display_data",
          "data": {
            "text/plain": [
              "<Figure size 576x576 with 1 Axes>"
            ],
            "image/png": "[encoded data removed]"
          },
          "metadata": {
            "needs_background": "light"
          }
        }
      ]
    },
    {
      "cell_type": "markdown",
      "source": [
        "## 2) Generate labeled and unlabeled data by random selecting 42 samples without replacement and removing their class to perform as unlabeled data. The non-selected 20samples will be used as labeled data (42:20).\n"
      ],
      "metadata": {
        "id": "o8hC9FOzRuaz"
      }
    },
    {
      "cell_type": "code",
      "source": [
        "#Spliting data 20 as labeled data / 42 as unlabeled data\n",
        "from sklearn.model_selection import train_test_split\n",
        "seed = 6536115\n",
        "X_unlabel, X_label, y_unlabel, y_label = train_test_split(X,y,test_size = 20, random_state=seed)\n",
        "print(X_unlabel.shape,\n",
        "X_label.shape,\n",
        "y_unlabel.shape,\n",
        "y_label.shape)"
      ],
      "metadata": {
        "colab": {
          "base_uri": "https://localhost:8080/"
        },
        "id": "-00tFJyTOzy5",
        "outputId": "37a613f4-1a27-4704-b684-3ff7e04905f3"
      },
      "execution_count": 12,
      "outputs": [
        {
          "output_type": "stream",
          "name": "stdout",
          "text": [
            "(42, 2) (20, 2) (42,) (20,)\n"
          ]
        }
      ]
    },
    {
      "cell_type": "code",
      "source": [
        "X_label.index"
      ],
      "metadata": {
        "colab": {
          "base_uri": "https://localhost:8080/"
        },
        "id": "Ho_0fDURSP4v",
        "outputId": "07cf3a46-74ab-4042-b8c9-84791a89f0ba"
      },
      "execution_count": 13,
      "outputs": [
        {
          "output_type": "execute_result",
          "data": {
            "text/plain": [
              "Int64Index([55, 18, 35, 61, 39, 4, 2, 51, 43, 40, 42, 31, 7, 23, 36, 57, 10,\n",
              "            24, 11, 46],\n",
              "           dtype='int64')"
            ]
          },
          "metadata": {},
          "execution_count": 13
        }
      ]
    },
    {
      "cell_type": "code",
      "source": [
        "X_unlabel.index"
      ],
      "metadata": {
        "colab": {
          "base_uri": "https://localhost:8080/"
        },
        "id": "pfqFzEGZSV_d",
        "outputId": "2463a20b-5b43-4047-cccf-dfaff1f8ca09"
      },
      "execution_count": 14,
      "outputs": [
        {
          "output_type": "execute_result",
          "data": {
            "text/plain": [
              "Int64Index([45, 58,  5, 25, 29,  6, 48, 59, 27, 44, 22, 19, 38, 50, 15, 34, 49,\n",
              "            60, 14,  0, 12, 20,  8, 32,  1, 53, 41, 26, 30, 16,  9, 54, 56, 17,\n",
              "            37, 47, 13,  3, 52, 28, 33, 21],\n",
              "           dtype='int64')"
            ]
          },
          "metadata": {},
          "execution_count": 14
        }
      ]
    },
    {
      "cell_type": "code",
      "source": [
        "new_y = y.copy()\n",
        "new_y[X_unlabel.index]=0"
      ],
      "metadata": {
        "id": "laCWMbDYSauu"
      },
      "execution_count": 15,
      "outputs": []
    },
    {
      "cell_type": "code",
      "source": [
        "new_y"
      ],
      "metadata": {
        "colab": {
          "base_uri": "https://localhost:8080/"
        },
        "id": "jSfqJDMXS31f",
        "outputId": "14c6c220-e9d7-4d56-8f71-1745bf42f40f"
      },
      "execution_count": 16,
      "outputs": [
        {
          "output_type": "execute_result",
          "data": {
            "text/plain": [
              "0     0\n",
              "1     0\n",
              "2     1\n",
              "3     0\n",
              "4     1\n",
              "     ..\n",
              "57   -1\n",
              "58    0\n",
              "59    0\n",
              "60    0\n",
              "61   -1\n",
              "Name: Class, Length: 62, dtype: int64"
            ]
          },
          "metadata": {},
          "execution_count": 16
        }
      ]
    },
    {
      "cell_type": "markdown",
      "source": [
        "## 3) Perform SVM by using 20labelled samples.\n"
      ],
      "metadata": {
        "id": "3CwaBAEiR2f6"
      }
    },
    {
      "cell_type": "code",
      "source": [
        "from sklearn.svm import SVC\n",
        "model = SVC()\n",
        "model.fit(X_label,y_label)\n",
        "# predict = model.predict(X_label)"
      ],
      "metadata": {
        "id": "NvNRMYywPCLx",
        "colab": {
          "base_uri": "https://localhost:8080/"
        },
        "outputId": "e4015216-b886-4b0f-dddc-ed50f55b7f70"
      },
      "execution_count": 17,
      "outputs": [
        {
          "output_type": "execute_result",
          "data": {
            "text/plain": [
              "SVC()"
            ]
          },
          "metadata": {},
          "execution_count": 17
        }
      ]
    },
    {
      "cell_type": "markdown",
      "source": [
        "**SVC model use label 20 data**"
      ],
      "metadata": {
        "id": "hw996t5JjIvT"
      }
    },
    {
      "cell_type": "code",
      "source": [
        "# plot group by colors\n",
        "arr1 = np.arange(X_label.iloc[:, 0].min()-0.75, X_label.iloc[:, 0].max()+0.75, 0.01)\n",
        "arr2 = np.arange(X_label.iloc[:, 1].min()-0.75, X_label.iloc[:, 1].max()+0.75, 0.01)\n",
        "\n",
        "xx, yy = np.meshgrid(arr1, arr2)\n",
        "input_array = np.array([xx.ravel(), yy.ravel()]).T\n",
        "labels = model.predict(input_array)\n",
        "\n",
        "plt.figure(figsize=(8,8))\n",
        "plt.contourf(xx, yy, labels.reshape(xx.shape), alpha = 0.1)\n",
        "plt.scatter(X_label['T62947'],X_label['H64807'],c=y_label,s=80,alpha=0.6)\n",
        "plt.xlabel('Feature T62947 --->')\n",
        "plt.ylabel('Feature H64807 --->')\n",
        "plt.title('Colon Data')"
      ],
      "metadata": {
        "colab": {
          "base_uri": "https://localhost:8080/",
          "height": 565
        },
        "id": "XhEUhdu_Q3fp",
        "outputId": "135b6b5b-450e-4a5e-ffe3-2a0bbfd6a032"
      },
      "execution_count": 18,
      "outputs": [
        {
          "output_type": "stream",
          "name": "stderr",
          "text": [
            "/usr/local/lib/python3.7/dist-packages/sklearn/base.py:451: UserWarning: X does not have valid feature names, but SVC was fitted with feature names\n",
            "  \"X does not have valid feature names, but\"\n"
          ]
        },
        {
          "output_type": "execute_result",
          "data": {
            "text/plain": [
              "Text(0.5, 1.0, 'Colon Data')"
            ]
          },
          "metadata": {},
          "execution_count": 18
        },
        {
          "output_type": "display_data",
          "data": {
            "text/plain": [
              "<Figure size 576x576 with 1 Axes>"
            ],
            "image/png": "[encoded data removed]"
          },
          "metadata": {
            "needs_background": "light"
          }
        }
      ]
    },
    {
      "cell_type": "markdown",
      "source": [
        "**SVC model use normal 62 label data**"
      ],
      "metadata": {
        "id": "MkemNlUBjDme"
      }
    },
    {
      "cell_type": "code",
      "source": [
        "# plot group by colors\n",
        "arr1 = np.arange(X.iloc[:, 0].min()-1, X.iloc[:, 0].max()+1, 0.01)\n",
        "arr2 = np.arange(X.iloc[:, 1].min()-1, X.iloc[:, 1].max()+1, 0.01)\n",
        "\n",
        "xx, yy = np.meshgrid(arr1, arr2)\n",
        "input_array = np.array([xx.ravel(), yy.ravel()]).T\n",
        "modelSVCAll = SVC()\n",
        "modelSVCAll.fit(X,y)\n",
        "labels = modelSVCAll.predict(input_array)\n",
        "\n",
        "plt.figure(figsize=(8,8))\n",
        "plt.contourf(xx, yy, labels.reshape(xx.shape), alpha = 0.1)\n",
        "plt.scatter(X['T62947'],X['H64807'],c=y,s=80,alpha=0.6)\n",
        "plt.xlabel('Feature T62947 --->')\n",
        "plt.ylabel('Feature H64807 --->')\n",
        "plt.title('Colon Data')"
      ],
      "metadata": {
        "colab": {
          "base_uri": "https://localhost:8080/",
          "height": 565
        },
        "id": "z03TKF2picts",
        "outputId": "592010b9-af28-4ac0-add2-0d2bd1c049b6"
      },
      "execution_count": 19,
      "outputs": [
        {
          "output_type": "stream",
          "name": "stderr",
          "text": [
            "/usr/local/lib/python3.7/dist-packages/sklearn/base.py:451: UserWarning: X does not have valid feature names, but SVC was fitted with feature names\n",
            "  \"X does not have valid feature names, but\"\n"
          ]
        },
        {
          "output_type": "execute_result",
          "data": {
            "text/plain": [
              "Text(0.5, 1.0, 'Colon Data')"
            ]
          },
          "metadata": {},
          "execution_count": 19
        },
        {
          "output_type": "display_data",
          "data": {
            "text/plain": [
              "<Figure size 576x576 with 1 Axes>"
            ],
            "image/png": "[encoded data removed]"
          },
          "metadata": {
            "needs_background": "light"
          }
        }
      ]
    },
    {
      "cell_type": "markdown",
      "source": [
        "## 4) Perform Label Propagation at label spreading 30%, 50%, and 70% by using Python and data from 1). (random replace the original 62 samples)"
      ],
      "metadata": {
        "id": "dBxbRpzLEDlh"
      }
    },
    {
      "cell_type": "code",
      "source": [
        "# import colonData\n",
        "url ='https://raw.githubusercontent.com/ViktorHexCore/R_CEB/main/DataForRpartOne/colon.csv'\n",
        "# url =r'/content/drive/MyDrive/Dataset/Assignment/colon.csv'\n",
        "df_colon = pd.read_csv(url)\n",
        "df_colon.head()"
      ],
      "metadata": {
        "colab": {
          "base_uri": "https://localhost:8080/",
          "height": 236
        },
        "id": "Rx0p5xEib8kf",
        "outputId": "b27a5b6a-1922-41b4-e22a-e0635910a855"
      },
      "execution_count": 20,
      "outputs": [
        {
          "output_type": "execute_result",
          "data": {
            "text/plain": [
              "   H55933  R39465  R39465.1  R85482    U14973  R02593    T51496  H80240  \\\n",
              "0    3.62    3.31  2.986154    2.71  2.091310    3.12  2.745517    2.42   \n",
              "1    3.47    3.68  3.425553    3.05  2.402400    2.46  2.150405    2.26   \n",
              "2    3.02    2.78  2.569772    3.21  2.707560    2.63  2.385288    3.00   \n",
              "3    3.10    2.86  2.772942    3.19  2.354082    2.76  2.103475    2.93   \n",
              "4    3.01    2.91  2.560548    3.25  2.336800    3.04  2.881109    2.55   \n",
              "\n",
              "     T65938  T55131  ...  R70790    L11706  T90549    D17390  M33210  \\\n",
              "0  3.352726    2.97  ...  -1.030 -0.983356  -0.531 -1.142698  -1.110   \n",
              "1  3.020793    3.26  ...  -1.230 -3.063926   0.156 -0.687025  -0.777   \n",
              "2  2.633958    2.40  ...  -0.758  0.318488  -1.250 -1.099859  -0.131   \n",
              "3  3.176524    2.84  ...  -1.180  0.079492  -1.070 -0.465491  -0.455   \n",
              "4  2.852425    2.57  ...  -0.491 -0.081214  -1.160 -0.889998  -0.528   \n",
              "\n",
              "     H18490  H40891    R77780  T49647  Class  \n",
              "0 -0.520386  -0.315 -1.764190   -2.75      1  \n",
              "1 -1.093455  -1.210 -1.062064   -2.13      1  \n",
              "2 -2.748068  -1.010 -2.260031   -1.50      1  \n",
              "3 -1.804783  -1.610 -1.223450   -1.07      1  \n",
              "4 -1.636024  -1.210 -1.232686   -1.62      1  \n",
              "\n",
              "[5 rows x 2001 columns]"
            ],
            "text/html": [
              "\n",
              "  <div id=\"df-aae37736-0f2e-4621-844a-655e63dc777f\">\n",
              "    <div class=\"colab-df-container\">\n",
              "      <div>\n",
              "<style scoped>\n",
              "    .dataframe tbody tr th:only-of-type {\n",
              "        vertical-align: middle;\n",
              "    }\n",
              "\n",
              "    .dataframe tbody tr th {\n",
              "        vertical-align: top;\n",
              "    }\n",
              "\n",
              "    .dataframe thead th {\n",
              "        text-align: right;\n",
              "    }\n",
              "</style>\n",
              "<table border=\"1\" class=\"dataframe\">\n",
              "  <thead>\n",
              "    <tr style=\"text-align: right;\">\n",
              "      <th></th>\n",
              "      <th>H55933</th>\n",
              "      <th>R39465</th>\n",
              "      <th>R39465.1</th>\n",
              "      <th>R85482</th>\n",
              "      <th>U14973</th>\n",
              "      <th>R02593</th>\n",
              "      <th>T51496</th>\n",
              "      <th>H80240</th>\n",
              "      <th>T65938</th>\n",
              "      <th>T55131</th>\n",
              "      <th>...</th>\n",
              "      <th>R70790</th>\n",
              "      <th>L11706</th>\n",
              "      <th>T90549</th>\n",
              "      <th>D17390</th>\n",
              "      <th>M33210</th>\n",
              "      <th>H18490</th>\n",
              "      <th>H40891</th>\n",
              "      <th>R77780</th>\n",
              "      <th>T49647</th>\n",
              "      <th>Class</th>\n",
              "    </tr>\n",
              "  </thead>\n",
              "  <tbody>\n",
              "    <tr>\n",
              "      <th>0</th>\n",
              "      <td>3.62</td>\n",
              "      <td>3.31</td>\n",
              "      <td>2.986154</td>\n",
              "      <td>2.71</td>\n",
              "      <td>2.091310</td>\n",
              "      <td>3.12</td>\n",
              "      <td>2.745517</td>\n",
              "      <td>2.42</td>\n",
              "      <td>3.352726</td>\n",
              "      <td>2.97</td>\n",
              "      <td>...</td>\n",
              "      <td>-1.030</td>\n",
              "      <td>-0.983356</td>\n",
              "      <td>-0.531</td>\n",
              "      <td>-1.142698</td>\n",
              "      <td>-1.110</td>\n",
              "      <td>-0.520386</td>\n",
              "      <td>-0.315</td>\n",
              "      <td>-1.764190</td>\n",
              "      <td>-2.75</td>\n",
              "      <td>1</td>\n",
              "    </tr>\n",
              "    <tr>\n",
              "      <th>1</th>\n",
              "      <td>3.47</td>\n",
              "      <td>3.68</td>\n",
              "      <td>3.425553</td>\n",
              "      <td>3.05</td>\n",
              "      <td>2.402400</td>\n",
              "      <td>2.46</td>\n",
              "      <td>2.150405</td>\n",
              "      <td>2.26</td>\n",
              "      <td>3.020793</td>\n",
              "      <td>3.26</td>\n",
              "      <td>...</td>\n",
              "      <td>-1.230</td>\n",
              "      <td>-3.063926</td>\n",
              "      <td>0.156</td>\n",
              "      <td>-0.687025</td>\n",
              "      <td>-0.777</td>\n",
              "      <td>-1.093455</td>\n",
              "      <td>-1.210</td>\n",
              "      <td>-1.062064</td>\n",
              "      <td>-2.13</td>\n",
              "      <td>1</td>\n",
              "    </tr>\n",
              "    <tr>\n",
              "      <th>2</th>\n",
              "      <td>3.02</td>\n",
              "      <td>2.78</td>\n",
              "      <td>2.569772</td>\n",
              "      <td>3.21</td>\n",
              "      <td>2.707560</td>\n",
              "      <td>2.63</td>\n",
              "      <td>2.385288</td>\n",
              "      <td>3.00</td>\n",
              "      <td>2.633958</td>\n",
              "      <td>2.40</td>\n",
              "      <td>...</td>\n",
              "      <td>-0.758</td>\n",
              "      <td>0.318488</td>\n",
              "      <td>-1.250</td>\n",
              "      <td>-1.099859</td>\n",
              "      <td>-0.131</td>\n",
              "      <td>-2.748068</td>\n",
              "      <td>-1.010</td>\n",
              "      <td>-2.260031</td>\n",
              "      <td>-1.50</td>\n",
              "      <td>1</td>\n",
              "    </tr>\n",
              "    <tr>\n",
              "      <th>3</th>\n",
              "      <td>3.10</td>\n",
              "      <td>2.86</td>\n",
              "      <td>2.772942</td>\n",
              "      <td>3.19</td>\n",
              "      <td>2.354082</td>\n",
              "      <td>2.76</td>\n",
              "      <td>2.103475</td>\n",
              "      <td>2.93</td>\n",
              "      <td>3.176524</td>\n",
              "      <td>2.84</td>\n",
              "      <td>...</td>\n",
              "      <td>-1.180</td>\n",
              "      <td>0.079492</td>\n",
              "      <td>-1.070</td>\n",
              "      <td>-0.465491</td>\n",
              "      <td>-0.455</td>\n",
              "      <td>-1.804783</td>\n",
              "      <td>-1.610</td>\n",
              "      <td>-1.223450</td>\n",
              "      <td>-1.07</td>\n",
              "      <td>1</td>\n",
              "    </tr>\n",
              "    <tr>\n",
              "      <th>4</th>\n",
              "      <td>3.01</td>\n",
              "      <td>2.91</td>\n",
              "      <td>2.560548</td>\n",
              "      <td>3.25</td>\n",
              "      <td>2.336800</td>\n",
              "      <td>3.04</td>\n",
              "      <td>2.881109</td>\n",
              "      <td>2.55</td>\n",
              "      <td>2.852425</td>\n",
              "      <td>2.57</td>\n",
              "      <td>...</td>\n",
              "      <td>-0.491</td>\n",
              "      <td>-0.081214</td>\n",
              "      <td>-1.160</td>\n",
              "      <td>-0.889998</td>\n",
              "      <td>-0.528</td>\n",
              "      <td>-1.636024</td>\n",
              "      <td>-1.210</td>\n",
              "      <td>-1.232686</td>\n",
              "      <td>-1.62</td>\n",
              "      <td>1</td>\n",
              "    </tr>\n",
              "  </tbody>\n",
              "</table>\n",
              "<p>5 rows × 2001 columns</p>\n",
              "</div>\n",
              "      <button class=\"colab-df-convert\" onclick=\"convertToInteractive('df-aae37736-0f2e-4621-844a-655e63dc777f')\"\n",
              "              title=\"Convert this dataframe to an interactive table.\"\n",
              "              style=\"display:none;\">\n",
              "        \n",
              "  <svg xmlns=\"http://www.w3.org/2000/svg\" height=\"24px\"viewBox=\"0 0 24 24\"\n",
              "       width=\"24px\">\n",
              "    <path d=\"M0 0h24v24H0V0z\" fill=\"none\"/>\n",
              "    <path d=\"M18.56 5.44l.94 2.06.94-2.06 2.06-.94-2.06-.94-.94-2.06-.94 2.06-2.06.94zm-11 1L8.5 8.5l.94-2.06 2.06-.94-2.06-.94L8.5 2.5l-.94 2.06-2.06.94zm10 10l.94 2.06.94-2.06 2.06-.94-2.06-.94-.94-2.06-.94 2.06-2.06.94z\"/><path d=\"M17.41 7.96l-1.37-1.37c-.4-.4-.92-.59-1.43-.59-.52 0-1.04.2-1.43.59L10.3 9.45l-7.72 7.72c-.78.78-.78 2.05 0 2.83L4 21.41c.39.39.9.59 1.41.59.51 0 1.02-.2 1.41-.59l7.78-7.78 2.81-2.81c.8-.78.8-2.07 0-2.86zM5.41 20L4 18.59l7.72-7.72 1.47 1.35L5.41 20z\"/>\n",
              "  </svg>\n",
              "      </button>\n",
              "      \n",
              "  <style>\n",
              "    .colab-df-container {\n",
              "      display:flex;\n",
              "      flex-wrap:wrap;\n",
              "      gap: 12px;\n",
              "    }\n",
              "\n",
              "    .colab-df-convert {\n",
              "      background-color: #E8F0FE;\n",
              "      border: none;\n",
              "      border-radius: 50%;\n",
              "      cursor: pointer;\n",
              "      display: none;\n",
              "      fill: #1967D2;\n",
              "      height: 32px;\n",
              "      padding: 0 0 0 0;\n",
              "      width: 32px;\n",
              "    }\n",
              "\n",
              "    .colab-df-convert:hover {\n",
              "      background-color: #E2EBFA;\n",
              "      box-shadow: 0px 1px 2px rgba(60, 64, 67, 0.3), 0px 1px 3px 1px rgba(60, 64, 67, 0.15);\n",
              "      fill: #174EA6;\n",
              "    }\n",
              "\n",
              "    [theme=dark] .colab-df-convert {\n",
              "      background-color: #3B4455;\n",
              "      fill: #D2E3FC;\n",
              "    }\n",
              "\n",
              "    [theme=dark] .colab-df-convert:hover {\n",
              "      background-color: #434B5C;\n",
              "      box-shadow: 0px 1px 3px 1px rgba(0, 0, 0, 0.15);\n",
              "      filter: drop-shadow(0px 1px 2px rgba(0, 0, 0, 0.3));\n",
              "      fill: #FFFFFF;\n",
              "    }\n",
              "  </style>\n",
              "\n",
              "      <script>\n",
              "        const buttonEl =\n",
              "          document.querySelector('#df-aae37736-0f2e-4621-844a-655e63dc777f button.colab-df-convert');\n",
              "        buttonEl.style.display =\n",
              "          google.colab.kernel.accessAllowed ? 'block' : 'none';\n",
              "\n",
              "        async function convertToInteractive(key) {\n",
              "          const element = document.querySelector('#df-aae37736-0f2e-4621-844a-655e63dc777f');\n",
              "          const dataTable =\n",
              "            await google.colab.kernel.invokeFunction('convertToInteractive',\n",
              "                                                     [key], {});\n",
              "          if (!dataTable) return;\n",
              "\n",
              "          const docLinkHtml = 'Like what you see? Visit the ' +\n",
              "            '<a target=\"_blank\" href=https://colab.research.google.com/notebooks/data_table.ipynb>data table notebook</a>'\n",
              "            + ' to learn more about interactive tables.';\n",
              "          element.innerHTML = '';\n",
              "          dataTable['output_type'] = 'display_data';\n",
              "          await google.colab.output.renderOutput(dataTable, element);\n",
              "          const docLink = document.createElement('div');\n",
              "          docLink.innerHTML = docLinkHtml;\n",
              "          element.appendChild(docLink);\n",
              "        }\n",
              "      </script>\n",
              "    </div>\n",
              "  </div>\n",
              "  "
            ]
          },
          "metadata": {},
          "execution_count": 20
        }
      ]
    },
    {
      "cell_type": "code",
      "source": [
        "# get only two column 'T62947','H64807'\n",
        "X = df_colon[['T62947','H64807']]\n",
        "y = df_colon['Class']\n",
        "X.head()"
      ],
      "metadata": {
        "colab": {
          "base_uri": "https://localhost:8080/",
          "height": 206
        },
        "outputId": "2cc90bff-1d5f-4aa0-cb97-bc68f83ac7ad",
        "id": "p6g2yauFD-8w"
      },
      "execution_count": 21,
      "outputs": [
        {
          "output_type": "execute_result",
          "data": {
            "text/plain": [
              "   T62947  H64807\n",
              "0  -1.360  -1.470\n",
              "1  -1.130  -0.830\n",
              "2  -0.377  -0.147\n",
              "3  -1.240  -0.173\n",
              "4  -0.745  -0.420"
            ],
            "text/html": [
              "\n",
              "  <div id=\"df-9937e3b5-748d-435c-9bb6-5f8045e5828d\">\n",
              "    <div class=\"colab-df-container\">\n",
              "      <div>\n",
              "<style scoped>\n",
              "    .dataframe tbody tr th:only-of-type {\n",
              "        vertical-align: middle;\n",
              "    }\n",
              "\n",
              "    .dataframe tbody tr th {\n",
              "        vertical-align: top;\n",
              "    }\n",
              "\n",
              "    .dataframe thead th {\n",
              "        text-align: right;\n",
              "    }\n",
              "</style>\n",
              "<table border=\"1\" class=\"dataframe\">\n",
              "  <thead>\n",
              "    <tr style=\"text-align: right;\">\n",
              "      <th></th>\n",
              "      <th>T62947</th>\n",
              "      <th>H64807</th>\n",
              "    </tr>\n",
              "  </thead>\n",
              "  <tbody>\n",
              "    <tr>\n",
              "      <th>0</th>\n",
              "      <td>-1.360</td>\n",
              "      <td>-1.470</td>\n",
              "    </tr>\n",
              "    <tr>\n",
              "      <th>1</th>\n",
              "      <td>-1.130</td>\n",
              "      <td>-0.830</td>\n",
              "    </tr>\n",
              "    <tr>\n",
              "      <th>2</th>\n",
              "      <td>-0.377</td>\n",
              "      <td>-0.147</td>\n",
              "    </tr>\n",
              "    <tr>\n",
              "      <th>3</th>\n",
              "      <td>-1.240</td>\n",
              "      <td>-0.173</td>\n",
              "    </tr>\n",
              "    <tr>\n",
              "      <th>4</th>\n",
              "      <td>-0.745</td>\n",
              "      <td>-0.420</td>\n",
              "    </tr>\n",
              "  </tbody>\n",
              "</table>\n",
              "</div>\n",
              "      <button class=\"colab-df-convert\" onclick=\"convertToInteractive('df-9937e3b5-748d-435c-9bb6-5f8045e5828d')\"\n",
              "              title=\"Convert this dataframe to an interactive table.\"\n",
              "              style=\"display:none;\">\n",
              "        \n",
              "  <svg xmlns=\"http://www.w3.org/2000/svg\" height=\"24px\"viewBox=\"0 0 24 24\"\n",
              "       width=\"24px\">\n",
              "    <path d=\"M0 0h24v24H0V0z\" fill=\"none\"/>\n",
              "    <path d=\"M18.56 5.44l.94 2.06.94-2.06 2.06-.94-2.06-.94-.94-2.06-.94 2.06-2.06.94zm-11 1L8.5 8.5l.94-2.06 2.06-.94-2.06-.94L8.5 2.5l-.94 2.06-2.06.94zm10 10l.94 2.06.94-2.06 2.06-.94-2.06-.94-.94-2.06-.94 2.06-2.06.94z\"/><path d=\"M17.41 7.96l-1.37-1.37c-.4-.4-.92-.59-1.43-.59-.52 0-1.04.2-1.43.59L10.3 9.45l-7.72 7.72c-.78.78-.78 2.05 0 2.83L4 21.41c.39.39.9.59 1.41.59.51 0 1.02-.2 1.41-.59l7.78-7.78 2.81-2.81c.8-.78.8-2.07 0-2.86zM5.41 20L4 18.59l7.72-7.72 1.47 1.35L5.41 20z\"/>\n",
              "  </svg>\n",
              "      </button>\n",
              "      \n",
              "  <style>\n",
              "    .colab-df-container {\n",
              "      display:flex;\n",
              "      flex-wrap:wrap;\n",
              "      gap: 12px;\n",
              "    }\n",
              "\n",
              "    .colab-df-convert {\n",
              "      background-color: #E8F0FE;\n",
              "      border: none;\n",
              "      border-radius: 50%;\n",
              "      cursor: pointer;\n",
              "      display: none;\n",
              "      fill: #1967D2;\n",
              "      height: 32px;\n",
              "      padding: 0 0 0 0;\n",
              "      width: 32px;\n",
              "    }\n",
              "\n",
              "    .colab-df-convert:hover {\n",
              "      background-color: #E2EBFA;\n",
              "      box-shadow: 0px 1px 2px rgba(60, 64, 67, 0.3), 0px 1px 3px 1px rgba(60, 64, 67, 0.15);\n",
              "      fill: #174EA6;\n",
              "    }\n",
              "\n",
              "    [theme=dark] .colab-df-convert {\n",
              "      background-color: #3B4455;\n",
              "      fill: #D2E3FC;\n",
              "    }\n",
              "\n",
              "    [theme=dark] .colab-df-convert:hover {\n",
              "      background-color: #434B5C;\n",
              "      box-shadow: 0px 1px 3px 1px rgba(0, 0, 0, 0.15);\n",
              "      filter: drop-shadow(0px 1px 2px rgba(0, 0, 0, 0.3));\n",
              "      fill: #FFFFFF;\n",
              "    }\n",
              "  </style>\n",
              "\n",
              "      <script>\n",
              "        const buttonEl =\n",
              "          document.querySelector('#df-9937e3b5-748d-435c-9bb6-5f8045e5828d button.colab-df-convert');\n",
              "        buttonEl.style.display =\n",
              "          google.colab.kernel.accessAllowed ? 'block' : 'none';\n",
              "\n",
              "        async function convertToInteractive(key) {\n",
              "          const element = document.querySelector('#df-9937e3b5-748d-435c-9bb6-5f8045e5828d');\n",
              "          const dataTable =\n",
              "            await google.colab.kernel.invokeFunction('convertToInteractive',\n",
              "                                                     [key], {});\n",
              "          if (!dataTable) return;\n",
              "\n",
              "          const docLinkHtml = 'Like what you see? Visit the ' +\n",
              "            '<a target=\"_blank\" href=https://colab.research.google.com/notebooks/data_table.ipynb>data table notebook</a>'\n",
              "            + ' to learn more about interactive tables.';\n",
              "          element.innerHTML = '';\n",
              "          dataTable['output_type'] = 'display_data';\n",
              "          await google.colab.output.renderOutput(dataTable, element);\n",
              "          const docLink = document.createElement('div');\n",
              "          docLink.innerHTML = docLinkHtml;\n",
              "          element.appendChild(docLink);\n",
              "        }\n",
              "      </script>\n",
              "    </div>\n",
              "  </div>\n",
              "  "
            ]
          },
          "metadata": {},
          "execution_count": 21
        }
      ]
    },
    {
      "cell_type": "code",
      "source": [
        "y"
      ],
      "metadata": {
        "colab": {
          "base_uri": "https://localhost:8080/"
        },
        "id": "OjQP9xXpbm2d",
        "outputId": "52f2f091-5b99-4796-f67b-b27ddb5cb09c"
      },
      "execution_count": 22,
      "outputs": [
        {
          "output_type": "execute_result",
          "data": {
            "text/plain": [
              "0     1\n",
              "1     1\n",
              "2     1\n",
              "3     1\n",
              "4     1\n",
              "     ..\n",
              "57   -1\n",
              "58   -1\n",
              "59   -1\n",
              "60   -1\n",
              "61   -1\n",
              "Name: Class, Length: 62, dtype: int64"
            ]
          },
          "metadata": {},
          "execution_count": 22
        }
      ]
    },
    {
      "cell_type": "code",
      "source": [
        "# create random unlabel y data 30%, 50%, 70%\n",
        "from sklearn.semi_supervised import LabelSpreading\n",
        "rng = np.random.RandomState(6536115)\n",
        "h = .02\n",
        "y_30 = np.copy(y)\n",
        "y_30[rng.rand(len(y)) < 0.3] = 0\n",
        "y_50 = np.copy(y)\n",
        "y_50[rng.rand(len(y)) < 0.5] = 0\n",
        "y_70 = np.copy(y)\n",
        "y_70[rng.rand(len(y)) < 0.7] = 0\n",
        "# we create an instance of SVM and fit out data. We do not scale our\n",
        "# data since we want to plot the support vectors\n",
        "ls30 = (LabelSpreading().fit(X, y_30), y_30)\n",
        "ls50 = (LabelSpreading().fit(X, y_50), y_50)\n",
        "ls70 = (LabelSpreading().fit(X, y_70), y_70)\n",
        "# ls100 = (LabelSpreading().fit(X, y), y)\n",
        "model = SVC()\n",
        "model.fit(X_label,y_label)\n",
        "# rbf_svc = (svm.SVC(kernel='rbf', gamma=.5).fit(X, y), y)\n",
        "# rbf_svc = (model.fit(X_label,y_label), np.array(y_label))"
      ],
      "metadata": {
        "id": "iPnsIm8GRM6R",
        "colab": {
          "base_uri": "https://localhost:8080/"
        },
        "outputId": "4f9dca46-cbe9-4c3d-ff45-503b8bf5d85c"
      },
      "execution_count": 23,
      "outputs": [
        {
          "output_type": "execute_result",
          "data": {
            "text/plain": [
              "SVC()"
            ]
          },
          "metadata": {},
          "execution_count": 23
        }
      ]
    },
    {
      "cell_type": "code",
      "source": [
        "y_30"
      ],
      "metadata": {
        "colab": {
          "base_uri": "https://localhost:8080/"
        },
        "id": "R7FZfOOAeupH",
        "outputId": "a8458341-30c5-4a1f-bf2a-436296ef4c72"
      },
      "execution_count": 24,
      "outputs": [
        {
          "output_type": "execute_result",
          "data": {
            "text/plain": [
              "array([ 1,  1,  1,  1,  1,  1,  1,  1,  1,  1,  1,  0,  1,  0,  1,  1,  1,\n",
              "        1,  0,  0,  1,  1,  0, -1, -1, -1,  0,  0,  0, -1,  0,  0,  0,  0,\n",
              "       -1, -1, -1, -1,  0, -1, -1, -1, -1, -1, -1,  0, -1, -1,  0, -1,  0,\n",
              "        0,  0, -1,  0,  0, -1, -1,  0, -1,  0, -1])"
            ]
          },
          "metadata": {},
          "execution_count": 24
        }
      ]
    },
    {
      "cell_type": "code",
      "source": [
        "y_50"
      ],
      "metadata": {
        "colab": {
          "base_uri": "https://localhost:8080/"
        },
        "id": "1lP5Ayswewyt",
        "outputId": "4838a21b-c1bf-4ec5-d3fc-5560939e49b7"
      },
      "execution_count": 25,
      "outputs": [
        {
          "output_type": "execute_result",
          "data": {
            "text/plain": [
              "array([ 0,  0,  0,  1,  0,  0,  0,  0,  0,  0,  1,  0,  1,  1,  0,  1,  0,\n",
              "        1,  1,  0,  1,  0, -1,  0,  0, -1, -1, -1, -1, -1, -1, -1, -1, -1,\n",
              "        0, -1, -1, -1,  0,  0, -1, -1, -1,  0, -1,  0, -1,  0, -1,  0,  0,\n",
              "        0,  0, -1,  0,  0, -1,  0, -1, -1, -1, -1])"
            ]
          },
          "metadata": {},
          "execution_count": 25
        }
      ]
    },
    {
      "cell_type": "code",
      "source": [
        "y_70"
      ],
      "metadata": {
        "colab": {
          "base_uri": "https://localhost:8080/"
        },
        "id": "3M62Rrk4expf",
        "outputId": "7bec55a1-5bcf-42cb-d9c3-bb1d46cadb24"
      },
      "execution_count": 26,
      "outputs": [
        {
          "output_type": "execute_result",
          "data": {
            "text/plain": [
              "array([ 0,  0,  0,  0,  0,  1,  1,  0,  0,  0,  0,  1,  1,  1,  0,  0,  0,\n",
              "        0,  0,  1,  0,  1,  0,  0, -1, -1,  0,  0, -1,  0, -1, -1,  0,  0,\n",
              "        0,  0,  0,  0,  0,  0,  0, -1,  0,  0, -1,  0, -1,  0, -1,  0, -1,\n",
              "        0, -1,  0,  0,  0,  0,  0,  0,  0,  0,  0])"
            ]
          },
          "metadata": {},
          "execution_count": 26
        }
      ]
    },
    {
      "cell_type": "markdown",
      "source": [
        "## 5) Compare and discuss the model performance from 3) and 4) by plotting two-dimension graph with decision boundary.\n"
      ],
      "metadata": {
        "id": "UR6llqpoeDmv"
      }
    },
    {
      "cell_type": "code",
      "source": [
        "# create a mesh to plot in. Return coordinate matrices from coordinate vectors\n",
        "x_min, x_max = X.iloc[:, 0].min() -1, X.iloc[:, 0].max() + 1\n",
        "y_min, y_max = X.iloc[:, 1].min() -1, X.iloc[:, 1].max() + 1\n",
        "xx, yy = np.meshgrid(np.arange(x_min, x_max, h),\n",
        "np.arange(y_min, y_max, h))\n",
        "# title for the plots\n",
        "titles = ['Label Spreading 30% data',\n",
        "'Label Spreading 50% data',\n",
        "'Label Spreading 70% data']\n",
        "color_map = {-1: (0, 0, 0.9), 0: (1, 1, 1), 1: (1, 0, 0)}"
      ],
      "metadata": {
        "id": "4Mi6KqgCDwYN"
      },
      "execution_count": 27,
      "outputs": []
    },
    {
      "cell_type": "code",
      "source": [
        "plt.figure(figsize=(15,15))\n",
        "for i, (clf, y_train) in enumerate((ls30, ls50, ls70)):\n",
        "  # Plot the decision boundary. For that, we will assign a color to each\n",
        "  # point in the mesh [x_min, x_max]x[y_min, y_max].\n",
        "  plt.subplot(2, 2, i + 1)\n",
        "  Z = clf.predict(np.c_[xx.ravel(), yy.ravel()])\n",
        "  # Put the result into a color plot\n",
        "  Z = Z.reshape(xx.shape)\n",
        "  plt.contourf(xx, yy, Z, alpha = 0.7, cmap=plt.cm.Paired)\n",
        "  plt.axis('off')\n",
        "  # Plot also the training points\n",
        "  colors = [color_map[y] for y in y_train]\n",
        "  plt.scatter(X.iloc[:, 0], X.iloc[:, 1], c=colors, edgecolors='black',s=80,alpha=0.6)\n",
        "  plt.title(titles[i])\n",
        "plt.suptitle(\"Unlabeled points are colored white\", y=0.1)\n",
        "plt.show()\n"
      ],
      "metadata": {
        "colab": {
          "base_uri": "https://localhost:8080/",
          "height": 1000
        },
        "outputId": "0ea9c9c6-4588-4e2b-db93-b895e80f789b",
        "id": "-HEkcZQ2EeIq"
      },
      "execution_count": 28,
      "outputs": [
        {
          "output_type": "stream",
          "name": "stderr",
          "text": [
            "/usr/local/lib/python3.7/dist-packages/sklearn/base.py:451: UserWarning: X does not have valid feature names, but LabelSpreading was fitted with feature names\n",
            "  \"X does not have valid feature names, but\"\n",
            "/usr/local/lib/python3.7/dist-packages/sklearn/base.py:451: UserWarning: X does not have valid feature names, but LabelSpreading was fitted with feature names\n",
            "  \"X does not have valid feature names, but\"\n",
            "/usr/local/lib/python3.7/dist-packages/sklearn/base.py:451: UserWarning: X does not have valid feature names, but LabelSpreading was fitted with feature names\n",
            "  \"X does not have valid feature names, but\"\n"
          ]
        },
        {
          "output_type": "display_data",
          "data": {
            "text/plain": [
              "<Figure size 1080x1080 with 3 Axes>"
            ],
            "image/png": "[encoded data removed]"
          },
          "metadata": {
            "needs_background": "light"
          }
        }
      ]
    },
    {
      "cell_type": "markdown",
      "source": [
        "**SVC model use label 20 data**"
      ],
      "metadata": {
        "id": "H_6mzNUXlmBe"
      }
    },
    {
      "cell_type": "code",
      "source": [
        "# To Plot the Decision Boundary.\n",
        "arr1 = np.arange(X_label.iloc[:, 0].min()-0.75, X_label.iloc[:, 0].max()+0.75, 0.01)\n",
        "arr2 = np.arange(X_label.iloc[:, 1].min()-0.75, X_label.iloc[:, 1].max()+0.75, 0.01)\n",
        "\n",
        "xx, yy = np.meshgrid(arr1, arr2)\n",
        "input_array = np.array([xx.ravel(), yy.ravel()]).T\n",
        "labels = model.predict(input_array)\n",
        "\n",
        "plt.figure(figsize=(8,8))\n",
        "plt.contourf(xx, yy, labels.reshape(xx.shape), alpha = 0.1)\n",
        "\n",
        "colors = [color_map[y] for y in y_label]\n",
        "\n",
        "plt.scatter(X_label['T62947'],X_label['H64807'],c=colors,s=80,alpha=0.6)\n",
        "plt.xlabel('Feature 62947 --->')\n",
        "plt.ylabel('Feature H64807 --->')\n",
        "plt.title('Colon 20 label Data')"
      ],
      "metadata": {
        "colab": {
          "base_uri": "https://localhost:8080/",
          "height": 565
        },
        "outputId": "4ef471ab-4f10-4a3a-afe2-0895347fb310",
        "id": "_bYkIFFDGhpG"
      },
      "execution_count": 29,
      "outputs": [
        {
          "output_type": "stream",
          "name": "stderr",
          "text": [
            "/usr/local/lib/python3.7/dist-packages/sklearn/base.py:451: UserWarning: X does not have valid feature names, but SVC was fitted with feature names\n",
            "  \"X does not have valid feature names, but\"\n"
          ]
        },
        {
          "output_type": "execute_result",
          "data": {
            "text/plain": [
              "Text(0.5, 1.0, 'Colon 20 label Data')"
            ]
          },
          "metadata": {},
          "execution_count": 29
        },
        {
          "output_type": "display_data",
          "data": {
            "text/plain": [
              "<Figure size 576x576 with 1 Axes>"
            ],
            "image/png": "[encoded data removed]"
          },
          "metadata": {
            "needs_background": "light"
          }
        }
      ]
    },
    {
      "cell_type": "code",
      "source": [
        "# To Plot the Decision Boundary. white is non label data\n",
        "arr1 = np.arange(X.iloc[:, 0].min()-0.7, X.iloc[:, 0].max()+0.7, 0.01)\n",
        "arr2 = np.arange(X.iloc[:, 1].min()-0.7, X.iloc[:, 1].max()+0.7, 0.01)\n",
        "\n",
        "xx, yy = np.meshgrid(arr1, arr2)\n",
        "input_array = np.array([xx.ravel(), yy.ravel()]).T\n",
        "labels = model.predict(input_array)\n",
        "\n",
        "colors = [color_map[y] for y in new_y]\n",
        "\n",
        "plt.figure(figsize=(8,8))\n",
        "plt.contourf(xx, yy, labels.reshape(xx.shape), alpha = 0.1)\n",
        "plt.scatter(X['T62947'],X['H64807'],c=colors, edgecolors='black',s=80,alpha=0.6)\n",
        "plt.xlabel('Feature 62947 --->')\n",
        "plt.ylabel('Feature H64807 --->')\n",
        "plt.title('Colon Data + SVM 20 label data')"
      ],
      "metadata": {
        "colab": {
          "base_uri": "https://localhost:8080/",
          "height": 565
        },
        "outputId": "85c6f77a-8f5e-42a3-80fe-b7012128aaaa",
        "id": "Z5BE3JLjfs91"
      },
      "execution_count": 30,
      "outputs": [
        {
          "output_type": "stream",
          "name": "stderr",
          "text": [
            "/usr/local/lib/python3.7/dist-packages/sklearn/base.py:451: UserWarning: X does not have valid feature names, but SVC was fitted with feature names\n",
            "  \"X does not have valid feature names, but\"\n"
          ]
        },
        {
          "output_type": "execute_result",
          "data": {
            "text/plain": [
              "Text(0.5, 1.0, 'Colon Data + SVM 20 label data')"
            ]
          },
          "metadata": {},
          "execution_count": 30
        },
        {
          "output_type": "display_data",
          "data": {
            "text/plain": [
              "<Figure size 576x576 with 1 Axes>"
            ],
            "image/png": "[encoded data removed]"
          },
          "metadata": {
            "needs_background": "light"
          }
        }
      ]
    },
    {
      "cell_type": "markdown",
      "source": [
        "**SVC model use normal 62 label data**"
      ],
      "metadata": {
        "id": "orpCrXTvlrOA"
      }
    },
    {
      "cell_type": "code",
      "source": [
        "# plot group by colors\n",
        "arr1 = np.arange(X.iloc[:, 0].min()-1, X.iloc[:, 0].max()+1, 0.01)\n",
        "arr2 = np.arange(X.iloc[:, 1].min()-1, X.iloc[:, 1].max()+1, 0.01)\n",
        "\n",
        "xx, yy = np.meshgrid(arr1, arr2)\n",
        "input_array = np.array([xx.ravel(), yy.ravel()]).T\n",
        "modelSVCAll = SVC()\n",
        "modelSVCAll.fit(X,y)\n",
        "labels = modelSVCAll.predict(input_array)\n",
        "\n",
        "colors = [color_map[y] for y in y]\n",
        "\n",
        "plt.figure(figsize=(8,8))\n",
        "plt.contourf(xx, yy, labels.reshape(xx.shape), alpha = 0.1)\n",
        "plt.scatter(X['T62947'],X['H64807'],c=colors,s=80,alpha=0.6)\n",
        "plt.xlabel('Feature 62947 --->')\n",
        "plt.ylabel('Feature H64807 --->')\n",
        "plt.title('Colon Data')"
      ],
      "metadata": {
        "colab": {
          "base_uri": "https://localhost:8080/",
          "height": 565
        },
        "outputId": "f86d7689-fabb-4a80-de7c-d09e0104b533",
        "id": "6sQZ1xwfjZNK"
      },
      "execution_count": 31,
      "outputs": [
        {
          "output_type": "stream",
          "name": "stderr",
          "text": [
            "/usr/local/lib/python3.7/dist-packages/sklearn/base.py:451: UserWarning: X does not have valid feature names, but SVC was fitted with feature names\n",
            "  \"X does not have valid feature names, but\"\n"
          ]
        },
        {
          "output_type": "execute_result",
          "data": {
            "text/plain": [
              "Text(0.5, 1.0, 'Colon Data')"
            ]
          },
          "metadata": {},
          "execution_count": 31
        },
        {
          "output_type": "display_data",
          "data": {
            "text/plain": [
              "<Figure size 576x576 with 1 Axes>"
            ],
            "image/png": "[encoded data removed]"
          },
          "metadata": {
            "needs_background": "light"
          }
        }
      ]
    },
    {
      "cell_type": "markdown",
      "source": [
        "### $\\color{green} {Discussion}$"
      ],
      "metadata": {
        "id": "dordDDRekddT"
      }
    },
    {
      "cell_type": "markdown",
      "source": [
        "label propagation unlabel y 30% was perform good for classification from dicision boundary and performance decline in 50% then worst for 70%\n",
        "\n",
        "svm 20 label data compare with normal data"
      ],
      "metadata": {
        "id": "p7a3AV5Bkixz"
      }
    },
    {
      "cell_type": "markdown",
      "source": [
        "# b) (6 points) \n"
      ],
      "metadata": {
        "id": "EsqkhEJ8eQZX"
      }
    },
    {
      "cell_type": "markdown",
      "source": [
        "## 1) Please select one dataset from a UCI (https://archive.ics.uci.edu/ml/index.php) and reduce data dimension by using only 2 features (select your own two features by random choosing or using any feature selection methods)."
      ],
      "metadata": {
        "id": "yGyuDj6HgnUk"
      }
    },
    {
      "cell_type": "markdown",
      "source": [
        "https://archive-beta.ics.uci.edu/dataset/46/hepatitis"
      ],
      "metadata": {
        "id": "f1ncvePsgqbL"
      }
    },
    {
      "cell_type": "code",
      "source": [
        "# import hepatitisData\n",
        "url = 'https://raw.githubusercontent.com/PRIMEADAWAS/CEB_Assignment/main/RADI%20608%2C%20602%20Data%20Mining%20and%20Machine%20Learning/Assignment%20Semi-supervise%20learning/hepatitis.csv'\n",
        "df_hepatitis = pd.read_csv(url)\n",
        "df_hepatitis.head()"
      ],
      "metadata": {
        "colab": {
          "base_uri": "https://localhost:8080/",
          "height": 250
        },
        "outputId": "414721c4-24a0-4cd2-fe14-88e5d8f20928",
        "id": "9ah9hLQyg83-"
      },
      "execution_count": 83,
      "outputs": [
        {
          "output_type": "execute_result",
          "data": {
            "text/plain": [
              "   Class  AGE  SEX STEROID  ANTIVIRALS FATIGUE MALAISE ANOREXIA LIVER_BIG  \\\n",
              "0      2   30    2       1           2       2       2        2         1   \n",
              "1      2   50    1       1           2       1       2        2         1   \n",
              "2      2   78    1       2           2       1       2        2         2   \n",
              "3      2   31    1       ?           1       2       2        2         2   \n",
              "4      2   34    1       2           2       2       2        2         2   \n",
              "\n",
              "  LIVER_FIRM SPLEEN_PALPABLE SPIDERS ASCITES VARICES BILIRUBIN ALK_PHOSPHATE  \\\n",
              "0          2               2       2       2       2      1.00            85   \n",
              "1          2               2       2       2       2      0.90           135   \n",
              "2          2               2       2       2       2      0.70            96   \n",
              "3          2               2       2       2       2      0.70            46   \n",
              "4          2               2       2       2       2      1.00             ?   \n",
              "\n",
              "  SGOT ALBUMIN PROTIME  HISTOLOGY  \n",
              "0   18     4.0       ?          1  \n",
              "1   42     3.5       ?          1  \n",
              "2   32     4.0       ?          1  \n",
              "3   52     4.0      80          1  \n",
              "4  200     4.0       ?          1  "
            ],
            "text/html": [
              "\n",
              "  <div id=\"df-891fdd6f-1f1a-43a2-964b-8d46c6933200\">\n",
              "    <div class=\"colab-df-container\">\n",
              "      <div>\n",
              "<style scoped>\n",
              "    .dataframe tbody tr th:only-of-type {\n",
              "        vertical-align: middle;\n",
              "    }\n",
              "\n",
              "    .dataframe tbody tr th {\n",
              "        vertical-align: top;\n",
              "    }\n",
              "\n",
              "    .dataframe thead th {\n",
              "        text-align: right;\n",
              "    }\n",
              "</style>\n",
              "<table border=\"1\" class=\"dataframe\">\n",
              "  <thead>\n",
              "    <tr style=\"text-align: right;\">\n",
              "      <th></th>\n",
              "      <th>Class</th>\n",
              "      <th>AGE</th>\n",
              "      <th>SEX</th>\n",
              "      <th>STEROID</th>\n",
              "      <th>ANTIVIRALS</th>\n",
              "      <th>FATIGUE</th>\n",
              "      <th>MALAISE</th>\n",
              "      <th>ANOREXIA</th>\n",
              "      <th>LIVER_BIG</th>\n",
              "      <th>LIVER_FIRM</th>\n",
              "      <th>SPLEEN_PALPABLE</th>\n",
              "      <th>SPIDERS</th>\n",
              "      <th>ASCITES</th>\n",
              "      <th>VARICES</th>\n",
              "      <th>BILIRUBIN</th>\n",
              "      <th>ALK_PHOSPHATE</th>\n",
              "      <th>SGOT</th>\n",
              "      <th>ALBUMIN</th>\n",
              "      <th>PROTIME</th>\n",
              "      <th>HISTOLOGY</th>\n",
              "    </tr>\n",
              "  </thead>\n",
              "  <tbody>\n",
              "    <tr>\n",
              "      <th>0</th>\n",
              "      <td>2</td>\n",
              "      <td>30</td>\n",
              "      <td>2</td>\n",
              "      <td>1</td>\n",
              "      <td>2</td>\n",
              "      <td>2</td>\n",
              "      <td>2</td>\n",
              "      <td>2</td>\n",
              "      <td>1</td>\n",
              "      <td>2</td>\n",
              "      <td>2</td>\n",
              "      <td>2</td>\n",
              "      <td>2</td>\n",
              "      <td>2</td>\n",
              "      <td>1.00</td>\n",
              "      <td>85</td>\n",
              "      <td>18</td>\n",
              "      <td>4.0</td>\n",
              "      <td>?</td>\n",
              "      <td>1</td>\n",
              "    </tr>\n",
              "    <tr>\n",
              "      <th>1</th>\n",
              "      <td>2</td>\n",
              "      <td>50</td>\n",
              "      <td>1</td>\n",
              "      <td>1</td>\n",
              "      <td>2</td>\n",
              "      <td>1</td>\n",
              "      <td>2</td>\n",
              "      <td>2</td>\n",
              "      <td>1</td>\n",
              "      <td>2</td>\n",
              "      <td>2</td>\n",
              "      <td>2</td>\n",
              "      <td>2</td>\n",
              "      <td>2</td>\n",
              "      <td>0.90</td>\n",
              "      <td>135</td>\n",
              "      <td>42</td>\n",
              "      <td>3.5</td>\n",
              "      <td>?</td>\n",
              "      <td>1</td>\n",
              "    </tr>\n",
              "    <tr>\n",
              "      <th>2</th>\n",
              "      <td>2</td>\n",
              "      <td>78</td>\n",
              "      <td>1</td>\n",
              "      <td>2</td>\n",
              "      <td>2</td>\n",
              "      <td>1</td>\n",
              "      <td>2</td>\n",
              "      <td>2</td>\n",
              "      <td>2</td>\n",
              "      <td>2</td>\n",
              "      <td>2</td>\n",
              "      <td>2</td>\n",
              "      <td>2</td>\n",
              "      <td>2</td>\n",
              "      <td>0.70</td>\n",
              "      <td>96</td>\n",
              "      <td>32</td>\n",
              "      <td>4.0</td>\n",
              "      <td>?</td>\n",
              "      <td>1</td>\n",
              "    </tr>\n",
              "    <tr>\n",
              "      <th>3</th>\n",
              "      <td>2</td>\n",
              "      <td>31</td>\n",
              "      <td>1</td>\n",
              "      <td>?</td>\n",
              "      <td>1</td>\n",
              "      <td>2</td>\n",
              "      <td>2</td>\n",
              "      <td>2</td>\n",
              "      <td>2</td>\n",
              "      <td>2</td>\n",
              "      <td>2</td>\n",
              "      <td>2</td>\n",
              "      <td>2</td>\n",
              "      <td>2</td>\n",
              "      <td>0.70</td>\n",
              "      <td>46</td>\n",
              "      <td>52</td>\n",
              "      <td>4.0</td>\n",
              "      <td>80</td>\n",
              "      <td>1</td>\n",
              "    </tr>\n",
              "    <tr>\n",
              "      <th>4</th>\n",
              "      <td>2</td>\n",
              "      <td>34</td>\n",
              "      <td>1</td>\n",
              "      <td>2</td>\n",
              "      <td>2</td>\n",
              "      <td>2</td>\n",
              "      <td>2</td>\n",
              "      <td>2</td>\n",
              "      <td>2</td>\n",
              "      <td>2</td>\n",
              "      <td>2</td>\n",
              "      <td>2</td>\n",
              "      <td>2</td>\n",
              "      <td>2</td>\n",
              "      <td>1.00</td>\n",
              "      <td>?</td>\n",
              "      <td>200</td>\n",
              "      <td>4.0</td>\n",
              "      <td>?</td>\n",
              "      <td>1</td>\n",
              "    </tr>\n",
              "  </tbody>\n",
              "</table>\n",
              "</div>\n",
              "      <button class=\"colab-df-convert\" onclick=\"convertToInteractive('df-891fdd6f-1f1a-43a2-964b-8d46c6933200')\"\n",
              "              title=\"Convert this dataframe to an interactive table.\"\n",
              "              style=\"display:none;\">\n",
              "        \n",
              "  <svg xmlns=\"http://www.w3.org/2000/svg\" height=\"24px\"viewBox=\"0 0 24 24\"\n",
              "       width=\"24px\">\n",
              "    <path d=\"M0 0h24v24H0V0z\" fill=\"none\"/>\n",
              "    <path d=\"M18.56 5.44l.94 2.06.94-2.06 2.06-.94-2.06-.94-.94-2.06-.94 2.06-2.06.94zm-11 1L8.5 8.5l.94-2.06 2.06-.94-2.06-.94L8.5 2.5l-.94 2.06-2.06.94zm10 10l.94 2.06.94-2.06 2.06-.94-2.06-.94-.94-2.06-.94 2.06-2.06.94z\"/><path d=\"M17.41 7.96l-1.37-1.37c-.4-.4-.92-.59-1.43-.59-.52 0-1.04.2-1.43.59L10.3 9.45l-7.72 7.72c-.78.78-.78 2.05 0 2.83L4 21.41c.39.39.9.59 1.41.59.51 0 1.02-.2 1.41-.59l7.78-7.78 2.81-2.81c.8-.78.8-2.07 0-2.86zM5.41 20L4 18.59l7.72-7.72 1.47 1.35L5.41 20z\"/>\n",
              "  </svg>\n",
              "      </button>\n",
              "      \n",
              "  <style>\n",
              "    .colab-df-container {\n",
              "      display:flex;\n",
              "      flex-wrap:wrap;\n",
              "      gap: 12px;\n",
              "    }\n",
              "\n",
              "    .colab-df-convert {\n",
              "      background-color: #E8F0FE;\n",
              "      border: none;\n",
              "      border-radius: 50%;\n",
              "      cursor: pointer;\n",
              "      display: none;\n",
              "      fill: #1967D2;\n",
              "      height: 32px;\n",
              "      padding: 0 0 0 0;\n",
              "      width: 32px;\n",
              "    }\n",
              "\n",
              "    .colab-df-convert:hover {\n",
              "      background-color: #E2EBFA;\n",
              "      box-shadow: 0px 1px 2px rgba(60, 64, 67, 0.3), 0px 1px 3px 1px rgba(60, 64, 67, 0.15);\n",
              "      fill: #174EA6;\n",
              "    }\n",
              "\n",
              "    [theme=dark] .colab-df-convert {\n",
              "      background-color: #3B4455;\n",
              "      fill: #D2E3FC;\n",
              "    }\n",
              "\n",
              "    [theme=dark] .colab-df-convert:hover {\n",
              "      background-color: #434B5C;\n",
              "      box-shadow: 0px 1px 3px 1px rgba(0, 0, 0, 0.15);\n",
              "      filter: drop-shadow(0px 1px 2px rgba(0, 0, 0, 0.3));\n",
              "      fill: #FFFFFF;\n",
              "    }\n",
              "  </style>\n",
              "\n",
              "      <script>\n",
              "        const buttonEl =\n",
              "          document.querySelector('#df-891fdd6f-1f1a-43a2-964b-8d46c6933200 button.colab-df-convert');\n",
              "        buttonEl.style.display =\n",
              "          google.colab.kernel.accessAllowed ? 'block' : 'none';\n",
              "\n",
              "        async function convertToInteractive(key) {\n",
              "          const element = document.querySelector('#df-891fdd6f-1f1a-43a2-964b-8d46c6933200');\n",
              "          const dataTable =\n",
              "            await google.colab.kernel.invokeFunction('convertToInteractive',\n",
              "                                                     [key], {});\n",
              "          if (!dataTable) return;\n",
              "\n",
              "          const docLinkHtml = 'Like what you see? Visit the ' +\n",
              "            '<a target=\"_blank\" href=https://colab.research.google.com/notebooks/data_table.ipynb>data table notebook</a>'\n",
              "            + ' to learn more about interactive tables.';\n",
              "          element.innerHTML = '';\n",
              "          dataTable['output_type'] = 'display_data';\n",
              "          await google.colab.output.renderOutput(dataTable, element);\n",
              "          const docLink = document.createElement('div');\n",
              "          docLink.innerHTML = docLinkHtml;\n",
              "          element.appendChild(docLink);\n",
              "        }\n",
              "      </script>\n",
              "    </div>\n",
              "  </div>\n",
              "  "
            ]
          },
          "metadata": {},
          "execution_count": 83
        }
      ]
    },
    {
      "cell_type": "code",
      "source": [
        "df_hepatitis.info()"
      ],
      "metadata": {
        "colab": {
          "base_uri": "https://localhost:8080/"
        },
        "id": "2fwVEFUIiHh4",
        "outputId": "f683b048-bf9c-4b25-c7e9-0699a8468efa"
      },
      "execution_count": 84,
      "outputs": [
        {
          "output_type": "stream",
          "name": "stdout",
          "text": [
            "<class 'pandas.core.frame.DataFrame'>\n",
            "RangeIndex: 155 entries, 0 to 154\n",
            "Data columns (total 20 columns):\n",
            " #   Column           Non-Null Count  Dtype \n",
            "---  ------           --------------  ----- \n",
            " 0   Class            155 non-null    int64 \n",
            " 1   AGE              155 non-null    int64 \n",
            " 2   SEX              155 non-null    int64 \n",
            " 3   STEROID          155 non-null    object\n",
            " 4   ANTIVIRALS       155 non-null    int64 \n",
            " 5   FATIGUE          155 non-null    object\n",
            " 6   MALAISE          155 non-null    object\n",
            " 7   ANOREXIA         155 non-null    object\n",
            " 8   LIVER_BIG        155 non-null    object\n",
            " 9   LIVER_FIRM       155 non-null    object\n",
            " 10  SPLEEN_PALPABLE  155 non-null    object\n",
            " 11  SPIDERS          155 non-null    object\n",
            " 12  ASCITES          155 non-null    object\n",
            " 13  VARICES          155 non-null    object\n",
            " 14  BILIRUBIN        155 non-null    object\n",
            " 15  ALK_PHOSPHATE    155 non-null    object\n",
            " 16  SGOT             155 non-null    object\n",
            " 17  ALBUMIN          155 non-null    object\n",
            " 18  PROTIME          155 non-null    object\n",
            " 19  HISTOLOGY        155 non-null    int64 \n",
            "dtypes: int64(5), object(15)\n",
            "memory usage: 24.3+ KB\n"
          ]
        }
      ]
    },
    {
      "cell_type": "code",
      "source": [
        "print(df_hepatitis['BILIRUBIN'].unique())\n",
        "df_hepatitis[df_hepatitis['BILIRUBIN']=='?']"
      ],
      "metadata": {
        "colab": {
          "base_uri": "https://localhost:8080/",
          "height": 371
        },
        "id": "dvjtN0fAhdyv",
        "outputId": "e8f9af34-dc39-4b85-ba87-fd2d33aef9ee"
      },
      "execution_count": 85,
      "outputs": [
        {
          "output_type": "stream",
          "name": "stdout",
          "text": [
            "['1.00' '0.90' '0.70' '?' '1.30' '2.20' '2.00' '1.20' '0.60' '0.40' '0.80'\n",
            " '1.40' '2.30' '0.50' '0.30' '4.60' '1.80' '3.50' '4.10' '1.60' '2.80'\n",
            " '1.50' '2.50' '3.00' '4.80' '2.40' '1.70' '1.10' '3.20' '2.90' '8.00'\n",
            " '3.90' '1.90' '4.20' '7.60']\n"
          ]
        },
        {
          "output_type": "execute_result",
          "data": {
            "text/plain": [
              "     Class  AGE  SEX STEROID  ANTIVIRALS FATIGUE MALAISE ANOREXIA LIVER_BIG  \\\n",
              "6        1   51    1       1           2       1       2        1         2   \n",
              "14       2   47    1       1           1       2       2        2         2   \n",
              "44       2   34    1       2           2       2       2        2         2   \n",
              "56       2   34    1       1           2       ?       ?        ?         ?   \n",
              "99       2   60    1       1           2       1       2        2         1   \n",
              "118      1   61    1       1           2       1       1        2         ?   \n",
              "\n",
              "    LIVER_FIRM SPLEEN_PALPABLE SPIDERS ASCITES VARICES BILIRUBIN  \\\n",
              "6            2               1       1       2       2         ?   \n",
              "14           2               2       2       2       2         ?   \n",
              "44           2               2       2       2       2         ?   \n",
              "56           ?               ?       ?       ?       ?         ?   \n",
              "99           1               1       1       2       2         ?   \n",
              "118          ?               2       1       2       2         ?   \n",
              "\n",
              "    ALK_PHOSPHATE SGOT ALBUMIN PROTIME  HISTOLOGY  \n",
              "6               ?    ?       ?       ?          1  \n",
              "14              ?   60       ?       ?          1  \n",
              "44              ?   86       ?       ?          1  \n",
              "56              ?    ?       ?       ?          1  \n",
              "99              ?   40       ?       ?          2  \n",
              "118             ?    ?       ?       ?          2  "
            ],
            "text/html": [
              "\n",
              "  <div id=\"df-e01091a2-763b-49df-bd1d-6cbd945712bb\">\n",
              "    <div class=\"colab-df-container\">\n",
              "      <div>\n",
              "<style scoped>\n",
              "    .dataframe tbody tr th:only-of-type {\n",
              "        vertical-align: middle;\n",
              "    }\n",
              "\n",
              "    .dataframe tbody tr th {\n",
              "        vertical-align: top;\n",
              "    }\n",
              "\n",
              "    .dataframe thead th {\n",
              "        text-align: right;\n",
              "    }\n",
              "</style>\n",
              "<table border=\"1\" class=\"dataframe\">\n",
              "  <thead>\n",
              "    <tr style=\"text-align: right;\">\n",
              "      <th></th>\n",
              "      <th>Class</th>\n",
              "      <th>AGE</th>\n",
              "      <th>SEX</th>\n",
              "      <th>STEROID</th>\n",
              "      <th>ANTIVIRALS</th>\n",
              "      <th>FATIGUE</th>\n",
              "      <th>MALAISE</th>\n",
              "      <th>ANOREXIA</th>\n",
              "      <th>LIVER_BIG</th>\n",
              "      <th>LIVER_FIRM</th>\n",
              "      <th>SPLEEN_PALPABLE</th>\n",
              "      <th>SPIDERS</th>\n",
              "      <th>ASCITES</th>\n",
              "      <th>VARICES</th>\n",
              "      <th>BILIRUBIN</th>\n",
              "      <th>ALK_PHOSPHATE</th>\n",
              "      <th>SGOT</th>\n",
              "      <th>ALBUMIN</th>\n",
              "      <th>PROTIME</th>\n",
              "      <th>HISTOLOGY</th>\n",
              "    </tr>\n",
              "  </thead>\n",
              "  <tbody>\n",
              "    <tr>\n",
              "      <th>6</th>\n",
              "      <td>1</td>\n",
              "      <td>51</td>\n",
              "      <td>1</td>\n",
              "      <td>1</td>\n",
              "      <td>2</td>\n",
              "      <td>1</td>\n",
              "      <td>2</td>\n",
              "      <td>1</td>\n",
              "      <td>2</td>\n",
              "      <td>2</td>\n",
              "      <td>1</td>\n",
              "      <td>1</td>\n",
              "      <td>2</td>\n",
              "      <td>2</td>\n",
              "      <td>?</td>\n",
              "      <td>?</td>\n",
              "      <td>?</td>\n",
              "      <td>?</td>\n",
              "      <td>?</td>\n",
              "      <td>1</td>\n",
              "    </tr>\n",
              "    <tr>\n",
              "      <th>14</th>\n",
              "      <td>2</td>\n",
              "      <td>47</td>\n",
              "      <td>1</td>\n",
              "      <td>1</td>\n",
              "      <td>1</td>\n",
              "      <td>2</td>\n",
              "      <td>2</td>\n",
              "      <td>2</td>\n",
              "      <td>2</td>\n",
              "      <td>2</td>\n",
              "      <td>2</td>\n",
              "      <td>2</td>\n",
              "      <td>2</td>\n",
              "      <td>2</td>\n",
              "      <td>?</td>\n",
              "      <td>?</td>\n",
              "      <td>60</td>\n",
              "      <td>?</td>\n",
              "      <td>?</td>\n",
              "      <td>1</td>\n",
              "    </tr>\n",
              "    <tr>\n",
              "      <th>44</th>\n",
              "      <td>2</td>\n",
              "      <td>34</td>\n",
              "      <td>1</td>\n",
              "      <td>2</td>\n",
              "      <td>2</td>\n",
              "      <td>2</td>\n",
              "      <td>2</td>\n",
              "      <td>2</td>\n",
              "      <td>2</td>\n",
              "      <td>2</td>\n",
              "      <td>2</td>\n",
              "      <td>2</td>\n",
              "      <td>2</td>\n",
              "      <td>2</td>\n",
              "      <td>?</td>\n",
              "      <td>?</td>\n",
              "      <td>86</td>\n",
              "      <td>?</td>\n",
              "      <td>?</td>\n",
              "      <td>1</td>\n",
              "    </tr>\n",
              "    <tr>\n",
              "      <th>56</th>\n",
              "      <td>2</td>\n",
              "      <td>34</td>\n",
              "      <td>1</td>\n",
              "      <td>1</td>\n",
              "      <td>2</td>\n",
              "      <td>?</td>\n",
              "      <td>?</td>\n",
              "      <td>?</td>\n",
              "      <td>?</td>\n",
              "      <td>?</td>\n",
              "      <td>?</td>\n",
              "      <td>?</td>\n",
              "      <td>?</td>\n",
              "      <td>?</td>\n",
              "      <td>?</td>\n",
              "      <td>?</td>\n",
              "      <td>?</td>\n",
              "      <td>?</td>\n",
              "      <td>?</td>\n",
              "      <td>1</td>\n",
              "    </tr>\n",
              "    <tr>\n",
              "      <th>99</th>\n",
              "      <td>2</td>\n",
              "      <td>60</td>\n",
              "      <td>1</td>\n",
              "      <td>1</td>\n",
              "      <td>2</td>\n",
              "      <td>1</td>\n",
              "      <td>2</td>\n",
              "      <td>2</td>\n",
              "      <td>1</td>\n",
              "      <td>1</td>\n",
              "      <td>1</td>\n",
              "      <td>1</td>\n",
              "      <td>2</td>\n",
              "      <td>2</td>\n",
              "      <td>?</td>\n",
              "      <td>?</td>\n",
              "      <td>40</td>\n",
              "      <td>?</td>\n",
              "      <td>?</td>\n",
              "      <td>2</td>\n",
              "    </tr>\n",
              "    <tr>\n",
              "      <th>118</th>\n",
              "      <td>1</td>\n",
              "      <td>61</td>\n",
              "      <td>1</td>\n",
              "      <td>1</td>\n",
              "      <td>2</td>\n",
              "      <td>1</td>\n",
              "      <td>1</td>\n",
              "      <td>2</td>\n",
              "      <td>?</td>\n",
              "      <td>?</td>\n",
              "      <td>2</td>\n",
              "      <td>1</td>\n",
              "      <td>2</td>\n",
              "      <td>2</td>\n",
              "      <td>?</td>\n",
              "      <td>?</td>\n",
              "      <td>?</td>\n",
              "      <td>?</td>\n",
              "      <td>?</td>\n",
              "      <td>2</td>\n",
              "    </tr>\n",
              "  </tbody>\n",
              "</table>\n",
              "</div>\n",
              "      <button class=\"colab-df-convert\" onclick=\"convertToInteractive('df-e01091a2-763b-49df-bd1d-6cbd945712bb')\"\n",
              "              title=\"Convert this dataframe to an interactive table.\"\n",
              "              style=\"display:none;\">\n",
              "        \n",
              "  <svg xmlns=\"http://www.w3.org/2000/svg\" height=\"24px\"viewBox=\"0 0 24 24\"\n",
              "       width=\"24px\">\n",
              "    <path d=\"M0 0h24v24H0V0z\" fill=\"none\"/>\n",
              "    <path d=\"M18.56 5.44l.94 2.06.94-2.06 2.06-.94-2.06-.94-.94-2.06-.94 2.06-2.06.94zm-11 1L8.5 8.5l.94-2.06 2.06-.94-2.06-.94L8.5 2.5l-.94 2.06-2.06.94zm10 10l.94 2.06.94-2.06 2.06-.94-2.06-.94-.94-2.06-.94 2.06-2.06.94z\"/><path d=\"M17.41 7.96l-1.37-1.37c-.4-.4-.92-.59-1.43-.59-.52 0-1.04.2-1.43.59L10.3 9.45l-7.72 7.72c-.78.78-.78 2.05 0 2.83L4 21.41c.39.39.9.59 1.41.59.51 0 1.02-.2 1.41-.59l7.78-7.78 2.81-2.81c.8-.78.8-2.07 0-2.86zM5.41 20L4 18.59l7.72-7.72 1.47 1.35L5.41 20z\"/>\n",
              "  </svg>\n",
              "      </button>\n",
              "      \n",
              "  <style>\n",
              "    .colab-df-container {\n",
              "      display:flex;\n",
              "      flex-wrap:wrap;\n",
              "      gap: 12px;\n",
              "    }\n",
              "\n",
              "    .colab-df-convert {\n",
              "      background-color: #E8F0FE;\n",
              "      border: none;\n",
              "      border-radius: 50%;\n",
              "      cursor: pointer;\n",
              "      display: none;\n",
              "      fill: #1967D2;\n",
              "      height: 32px;\n",
              "      padding: 0 0 0 0;\n",
              "      width: 32px;\n",
              "    }\n",
              "\n",
              "    .colab-df-convert:hover {\n",
              "      background-color: #E2EBFA;\n",
              "      box-shadow: 0px 1px 2px rgba(60, 64, 67, 0.3), 0px 1px 3px 1px rgba(60, 64, 67, 0.15);\n",
              "      fill: #174EA6;\n",
              "    }\n",
              "\n",
              "    [theme=dark] .colab-df-convert {\n",
              "      background-color: #3B4455;\n",
              "      fill: #D2E3FC;\n",
              "    }\n",
              "\n",
              "    [theme=dark] .colab-df-convert:hover {\n",
              "      background-color: #434B5C;\n",
              "      box-shadow: 0px 1px 3px 1px rgba(0, 0, 0, 0.15);\n",
              "      filter: drop-shadow(0px 1px 2px rgba(0, 0, 0, 0.3));\n",
              "      fill: #FFFFFF;\n",
              "    }\n",
              "  </style>\n",
              "\n",
              "      <script>\n",
              "        const buttonEl =\n",
              "          document.querySelector('#df-e01091a2-763b-49df-bd1d-6cbd945712bb button.colab-df-convert');\n",
              "        buttonEl.style.display =\n",
              "          google.colab.kernel.accessAllowed ? 'block' : 'none';\n",
              "\n",
              "        async function convertToInteractive(key) {\n",
              "          const element = document.querySelector('#df-e01091a2-763b-49df-bd1d-6cbd945712bb');\n",
              "          const dataTable =\n",
              "            await google.colab.kernel.invokeFunction('convertToInteractive',\n",
              "                                                     [key], {});\n",
              "          if (!dataTable) return;\n",
              "\n",
              "          const docLinkHtml = 'Like what you see? Visit the ' +\n",
              "            '<a target=\"_blank\" href=https://colab.research.google.com/notebooks/data_table.ipynb>data table notebook</a>'\n",
              "            + ' to learn more about interactive tables.';\n",
              "          element.innerHTML = '';\n",
              "          dataTable['output_type'] = 'display_data';\n",
              "          await google.colab.output.renderOutput(dataTable, element);\n",
              "          const docLink = document.createElement('div');\n",
              "          docLink.innerHTML = docLinkHtml;\n",
              "          element.appendChild(docLink);\n",
              "        }\n",
              "      </script>\n",
              "    </div>\n",
              "  </div>\n",
              "  "
            ]
          },
          "metadata": {},
          "execution_count": 85
        }
      ]
    },
    {
      "cell_type": "code",
      "source": [
        "print(df_hepatitis['SGOT'].unique())\n",
        "df_hepatitis[df_hepatitis['SGOT']=='?']"
      ],
      "metadata": {
        "colab": {
          "base_uri": "https://localhost:8080/",
          "height": 360
        },
        "id": "XyMjFr8Ahril",
        "outputId": "5f3d1eb1-f255-4f34-f98b-403cdf64301c"
      },
      "execution_count": 86,
      "outputs": [
        {
          "output_type": "stream",
          "name": "stdout",
          "text": [
            "['18' '42' '32' '52' '200' '28' '?' '48' '120' '30' '249' '60' '144' '89'\n",
            " '53' '166' '20' '98' '63' '46' '55' '25' '58' '29' '92' '150' '68' '14'\n",
            " '16' '90' '86' '110' '80' '420' '44' '65' '145' '31' '78' '59' '38' '75'\n",
            " '64' '54' '43' '33' '15' '39' '182' '271' '45' '100' '242' '24' '224'\n",
            " '69' '156' '123' '117' '157' '128' '23' '40' '227' '269' '34' '648' '225'\n",
            " '136' '81' '153' '118' '231' '101' '278' '49' '181' '140' '70' '114'\n",
            " '173' '528' '152' '142' '19']\n"
          ]
        },
        {
          "output_type": "execute_result",
          "data": {
            "text/plain": [
              "     Class  AGE  SEX STEROID  ANTIVIRALS FATIGUE MALAISE ANOREXIA LIVER_BIG  \\\n",
              "6        1   51    1       1           2       1       2        1         2   \n",
              "7        2   23    1       2           2       2       2        2         2   \n",
              "56       2   34    1       1           2       ?       ?        ?         ?   \n",
              "118      1   61    1       1           2       1       1        2         ?   \n",
              "\n",
              "    LIVER_FIRM SPLEEN_PALPABLE SPIDERS ASCITES VARICES BILIRUBIN  \\\n",
              "6            2               1       1       2       2         ?   \n",
              "7            2               2       2       2       2      1.00   \n",
              "56           ?               ?       ?       ?       ?         ?   \n",
              "118          ?               2       1       2       2         ?   \n",
              "\n",
              "    ALK_PHOSPHATE SGOT ALBUMIN PROTIME  HISTOLOGY  \n",
              "6               ?    ?       ?       ?          1  \n",
              "7               ?    ?       ?       ?          1  \n",
              "56              ?    ?       ?       ?          1  \n",
              "118             ?    ?       ?       ?          2  "
            ],
            "text/html": [
              "\n",
              "  <div id=\"df-63866d56-111a-4c41-8fa5-28ae255b03fc\">\n",
              "    <div class=\"colab-df-container\">\n",
              "      <div>\n",
              "<style scoped>\n",
              "    .dataframe tbody tr th:only-of-type {\n",
              "        vertical-align: middle;\n",
              "    }\n",
              "\n",
              "    .dataframe tbody tr th {\n",
              "        vertical-align: top;\n",
              "    }\n",
              "\n",
              "    .dataframe thead th {\n",
              "        text-align: right;\n",
              "    }\n",
              "</style>\n",
              "<table border=\"1\" class=\"dataframe\">\n",
              "  <thead>\n",
              "    <tr style=\"text-align: right;\">\n",
              "      <th></th>\n",
              "      <th>Class</th>\n",
              "      <th>AGE</th>\n",
              "      <th>SEX</th>\n",
              "      <th>STEROID</th>\n",
              "      <th>ANTIVIRALS</th>\n",
              "      <th>FATIGUE</th>\n",
              "      <th>MALAISE</th>\n",
              "      <th>ANOREXIA</th>\n",
              "      <th>LIVER_BIG</th>\n",
              "      <th>LIVER_FIRM</th>\n",
              "      <th>SPLEEN_PALPABLE</th>\n",
              "      <th>SPIDERS</th>\n",
              "      <th>ASCITES</th>\n",
              "      <th>VARICES</th>\n",
              "      <th>BILIRUBIN</th>\n",
              "      <th>ALK_PHOSPHATE</th>\n",
              "      <th>SGOT</th>\n",
              "      <th>ALBUMIN</th>\n",
              "      <th>PROTIME</th>\n",
              "      <th>HISTOLOGY</th>\n",
              "    </tr>\n",
              "  </thead>\n",
              "  <tbody>\n",
              "    <tr>\n",
              "      <th>6</th>\n",
              "      <td>1</td>\n",
              "      <td>51</td>\n",
              "      <td>1</td>\n",
              "      <td>1</td>\n",
              "      <td>2</td>\n",
              "      <td>1</td>\n",
              "      <td>2</td>\n",
              "      <td>1</td>\n",
              "      <td>2</td>\n",
              "      <td>2</td>\n",
              "      <td>1</td>\n",
              "      <td>1</td>\n",
              "      <td>2</td>\n",
              "      <td>2</td>\n",
              "      <td>?</td>\n",
              "      <td>?</td>\n",
              "      <td>?</td>\n",
              "      <td>?</td>\n",
              "      <td>?</td>\n",
              "      <td>1</td>\n",
              "    </tr>\n",
              "    <tr>\n",
              "      <th>7</th>\n",
              "      <td>2</td>\n",
              "      <td>23</td>\n",
              "      <td>1</td>\n",
              "      <td>2</td>\n",
              "      <td>2</td>\n",
              "      <td>2</td>\n",
              "      <td>2</td>\n",
              "      <td>2</td>\n",
              "      <td>2</td>\n",
              "      <td>2</td>\n",
              "      <td>2</td>\n",
              "      <td>2</td>\n",
              "      <td>2</td>\n",
              "      <td>2</td>\n",
              "      <td>1.00</td>\n",
              "      <td>?</td>\n",
              "      <td>?</td>\n",
              "      <td>?</td>\n",
              "      <td>?</td>\n",
              "      <td>1</td>\n",
              "    </tr>\n",
              "    <tr>\n",
              "      <th>56</th>\n",
              "      <td>2</td>\n",
              "      <td>34</td>\n",
              "      <td>1</td>\n",
              "      <td>1</td>\n",
              "      <td>2</td>\n",
              "      <td>?</td>\n",
              "      <td>?</td>\n",
              "      <td>?</td>\n",
              "      <td>?</td>\n",
              "      <td>?</td>\n",
              "      <td>?</td>\n",
              "      <td>?</td>\n",
              "      <td>?</td>\n",
              "      <td>?</td>\n",
              "      <td>?</td>\n",
              "      <td>?</td>\n",
              "      <td>?</td>\n",
              "      <td>?</td>\n",
              "      <td>?</td>\n",
              "      <td>1</td>\n",
              "    </tr>\n",
              "    <tr>\n",
              "      <th>118</th>\n",
              "      <td>1</td>\n",
              "      <td>61</td>\n",
              "      <td>1</td>\n",
              "      <td>1</td>\n",
              "      <td>2</td>\n",
              "      <td>1</td>\n",
              "      <td>1</td>\n",
              "      <td>2</td>\n",
              "      <td>?</td>\n",
              "      <td>?</td>\n",
              "      <td>2</td>\n",
              "      <td>1</td>\n",
              "      <td>2</td>\n",
              "      <td>2</td>\n",
              "      <td>?</td>\n",
              "      <td>?</td>\n",
              "      <td>?</td>\n",
              "      <td>?</td>\n",
              "      <td>?</td>\n",
              "      <td>2</td>\n",
              "    </tr>\n",
              "  </tbody>\n",
              "</table>\n",
              "</div>\n",
              "      <button class=\"colab-df-convert\" onclick=\"convertToInteractive('df-63866d56-111a-4c41-8fa5-28ae255b03fc')\"\n",
              "              title=\"Convert this dataframe to an interactive table.\"\n",
              "              style=\"display:none;\">\n",
              "        \n",
              "  <svg xmlns=\"http://www.w3.org/2000/svg\" height=\"24px\"viewBox=\"0 0 24 24\"\n",
              "       width=\"24px\">\n",
              "    <path d=\"M0 0h24v24H0V0z\" fill=\"none\"/>\n",
              "    <path d=\"M18.56 5.44l.94 2.06.94-2.06 2.06-.94-2.06-.94-.94-2.06-.94 2.06-2.06.94zm-11 1L8.5 8.5l.94-2.06 2.06-.94-2.06-.94L8.5 2.5l-.94 2.06-2.06.94zm10 10l.94 2.06.94-2.06 2.06-.94-2.06-.94-.94-2.06-.94 2.06-2.06.94z\"/><path d=\"M17.41 7.96l-1.37-1.37c-.4-.4-.92-.59-1.43-.59-.52 0-1.04.2-1.43.59L10.3 9.45l-7.72 7.72c-.78.78-.78 2.05 0 2.83L4 21.41c.39.39.9.59 1.41.59.51 0 1.02-.2 1.41-.59l7.78-7.78 2.81-2.81c.8-.78.8-2.07 0-2.86zM5.41 20L4 18.59l7.72-7.72 1.47 1.35L5.41 20z\"/>\n",
              "  </svg>\n",
              "      </button>\n",
              "      \n",
              "  <style>\n",
              "    .colab-df-container {\n",
              "      display:flex;\n",
              "      flex-wrap:wrap;\n",
              "      gap: 12px;\n",
              "    }\n",
              "\n",
              "    .colab-df-convert {\n",
              "      background-color: #E8F0FE;\n",
              "      border: none;\n",
              "      border-radius: 50%;\n",
              "      cursor: pointer;\n",
              "      display: none;\n",
              "      fill: #1967D2;\n",
              "      height: 32px;\n",
              "      padding: 0 0 0 0;\n",
              "      width: 32px;\n",
              "    }\n",
              "\n",
              "    .colab-df-convert:hover {\n",
              "      background-color: #E2EBFA;\n",
              "      box-shadow: 0px 1px 2px rgba(60, 64, 67, 0.3), 0px 1px 3px 1px rgba(60, 64, 67, 0.15);\n",
              "      fill: #174EA6;\n",
              "    }\n",
              "\n",
              "    [theme=dark] .colab-df-convert {\n",
              "      background-color: #3B4455;\n",
              "      fill: #D2E3FC;\n",
              "    }\n",
              "\n",
              "    [theme=dark] .colab-df-convert:hover {\n",
              "      background-color: #434B5C;\n",
              "      box-shadow: 0px 1px 3px 1px rgba(0, 0, 0, 0.15);\n",
              "      filter: drop-shadow(0px 1px 2px rgba(0, 0, 0, 0.3));\n",
              "      fill: #FFFFFF;\n",
              "    }\n",
              "  </style>\n",
              "\n",
              "      <script>\n",
              "        const buttonEl =\n",
              "          document.querySelector('#df-63866d56-111a-4c41-8fa5-28ae255b03fc button.colab-df-convert');\n",
              "        buttonEl.style.display =\n",
              "          google.colab.kernel.accessAllowed ? 'block' : 'none';\n",
              "\n",
              "        async function convertToInteractive(key) {\n",
              "          const element = document.querySelector('#df-63866d56-111a-4c41-8fa5-28ae255b03fc');\n",
              "          const dataTable =\n",
              "            await google.colab.kernel.invokeFunction('convertToInteractive',\n",
              "                                                     [key], {});\n",
              "          if (!dataTable) return;\n",
              "\n",
              "          const docLinkHtml = 'Like what you see? Visit the ' +\n",
              "            '<a target=\"_blank\" href=https://colab.research.google.com/notebooks/data_table.ipynb>data table notebook</a>'\n",
              "            + ' to learn more about interactive tables.';\n",
              "          element.innerHTML = '';\n",
              "          dataTable['output_type'] = 'display_data';\n",
              "          await google.colab.output.renderOutput(dataTable, element);\n",
              "          const docLink = document.createElement('div');\n",
              "          docLink.innerHTML = docLinkHtml;\n",
              "          element.appendChild(docLink);\n",
              "        }\n",
              "      </script>\n",
              "    </div>\n",
              "  </div>\n",
              "  "
            ]
          },
          "metadata": {},
          "execution_count": 86
        }
      ]
    },
    {
      "cell_type": "code",
      "source": [
        "# remove 7 rows data contain '?' \n",
        "df_hepatitis = df_hepatitis[(df_hepatitis['BILIRUBIN']!='?') & (df_hepatitis['SGOT']!='?')]\n",
        "df_hepatitis.info()"
      ],
      "metadata": {
        "colab": {
          "base_uri": "https://localhost:8080/"
        },
        "id": "RTutjXvZloCD",
        "outputId": "f940f760-9051-4dba-946f-c55d55a99520"
      },
      "execution_count": 87,
      "outputs": [
        {
          "output_type": "stream",
          "name": "stdout",
          "text": [
            "<class 'pandas.core.frame.DataFrame'>\n",
            "Int64Index: 148 entries, 0 to 154\n",
            "Data columns (total 20 columns):\n",
            " #   Column           Non-Null Count  Dtype \n",
            "---  ------           --------------  ----- \n",
            " 0   Class            148 non-null    int64 \n",
            " 1   AGE              148 non-null    int64 \n",
            " 2   SEX              148 non-null    int64 \n",
            " 3   STEROID          148 non-null    object\n",
            " 4   ANTIVIRALS       148 non-null    int64 \n",
            " 5   FATIGUE          148 non-null    object\n",
            " 6   MALAISE          148 non-null    object\n",
            " 7   ANOREXIA         148 non-null    object\n",
            " 8   LIVER_BIG        148 non-null    object\n",
            " 9   LIVER_FIRM       148 non-null    object\n",
            " 10  SPLEEN_PALPABLE  148 non-null    object\n",
            " 11  SPIDERS          148 non-null    object\n",
            " 12  ASCITES          148 non-null    object\n",
            " 13  VARICES          148 non-null    object\n",
            " 14  BILIRUBIN        148 non-null    object\n",
            " 15  ALK_PHOSPHATE    148 non-null    object\n",
            " 16  SGOT             148 non-null    object\n",
            " 17  ALBUMIN          148 non-null    object\n",
            " 18  PROTIME          148 non-null    object\n",
            " 19  HISTOLOGY        148 non-null    int64 \n",
            "dtypes: int64(5), object(15)\n",
            "memory usage: 24.3+ KB\n"
          ]
        }
      ]
    },
    {
      "cell_type": "code",
      "source": [
        "# get only two column 'BILIRUBIN','SGOT'\n",
        "X = df_hepatitis[['BILIRUBIN','SGOT']].apply(pd.to_numeric)\n",
        "y = df_hepatitis['Class']\n",
        "X.head()"
      ],
      "metadata": {
        "colab": {
          "base_uri": "https://localhost:8080/",
          "height": 206
        },
        "outputId": "b232cb27-26f3-46ed-8259-06e6c68d1e79",
        "id": "_TwlixOMeQZY"
      },
      "execution_count": 88,
      "outputs": [
        {
          "output_type": "execute_result",
          "data": {
            "text/plain": [
              "   BILIRUBIN  SGOT\n",
              "0        1.0    18\n",
              "1        0.9    42\n",
              "2        0.7    32\n",
              "3        0.7    52\n",
              "4        1.0   200"
            ],
            "text/html": [
              "\n",
              "  <div id=\"df-eaab1728-329b-42d6-ae02-855083754509\">\n",
              "    <div class=\"colab-df-container\">\n",
              "      <div>\n",
              "<style scoped>\n",
              "    .dataframe tbody tr th:only-of-type {\n",
              "        vertical-align: middle;\n",
              "    }\n",
              "\n",
              "    .dataframe tbody tr th {\n",
              "        vertical-align: top;\n",
              "    }\n",
              "\n",
              "    .dataframe thead th {\n",
              "        text-align: right;\n",
              "    }\n",
              "</style>\n",
              "<table border=\"1\" class=\"dataframe\">\n",
              "  <thead>\n",
              "    <tr style=\"text-align: right;\">\n",
              "      <th></th>\n",
              "      <th>BILIRUBIN</th>\n",
              "      <th>SGOT</th>\n",
              "    </tr>\n",
              "  </thead>\n",
              "  <tbody>\n",
              "    <tr>\n",
              "      <th>0</th>\n",
              "      <td>1.0</td>\n",
              "      <td>18</td>\n",
              "    </tr>\n",
              "    <tr>\n",
              "      <th>1</th>\n",
              "      <td>0.9</td>\n",
              "      <td>42</td>\n",
              "    </tr>\n",
              "    <tr>\n",
              "      <th>2</th>\n",
              "      <td>0.7</td>\n",
              "      <td>32</td>\n",
              "    </tr>\n",
              "    <tr>\n",
              "      <th>3</th>\n",
              "      <td>0.7</td>\n",
              "      <td>52</td>\n",
              "    </tr>\n",
              "    <tr>\n",
              "      <th>4</th>\n",
              "      <td>1.0</td>\n",
              "      <td>200</td>\n",
              "    </tr>\n",
              "  </tbody>\n",
              "</table>\n",
              "</div>\n",
              "      <button class=\"colab-df-convert\" onclick=\"convertToInteractive('df-eaab1728-329b-42d6-ae02-855083754509')\"\n",
              "              title=\"Convert this dataframe to an interactive table.\"\n",
              "              style=\"display:none;\">\n",
              "        \n",
              "  <svg xmlns=\"http://www.w3.org/2000/svg\" height=\"24px\"viewBox=\"0 0 24 24\"\n",
              "       width=\"24px\">\n",
              "    <path d=\"M0 0h24v24H0V0z\" fill=\"none\"/>\n",
              "    <path d=\"M18.56 5.44l.94 2.06.94-2.06 2.06-.94-2.06-.94-.94-2.06-.94 2.06-2.06.94zm-11 1L8.5 8.5l.94-2.06 2.06-.94-2.06-.94L8.5 2.5l-.94 2.06-2.06.94zm10 10l.94 2.06.94-2.06 2.06-.94-2.06-.94-.94-2.06-.94 2.06-2.06.94z\"/><path d=\"M17.41 7.96l-1.37-1.37c-.4-.4-.92-.59-1.43-.59-.52 0-1.04.2-1.43.59L10.3 9.45l-7.72 7.72c-.78.78-.78 2.05 0 2.83L4 21.41c.39.39.9.59 1.41.59.51 0 1.02-.2 1.41-.59l7.78-7.78 2.81-2.81c.8-.78.8-2.07 0-2.86zM5.41 20L4 18.59l7.72-7.72 1.47 1.35L5.41 20z\"/>\n",
              "  </svg>\n",
              "      </button>\n",
              "      \n",
              "  <style>\n",
              "    .colab-df-container {\n",
              "      display:flex;\n",
              "      flex-wrap:wrap;\n",
              "      gap: 12px;\n",
              "    }\n",
              "\n",
              "    .colab-df-convert {\n",
              "      background-color: #E8F0FE;\n",
              "      border: none;\n",
              "      border-radius: 50%;\n",
              "      cursor: pointer;\n",
              "      display: none;\n",
              "      fill: #1967D2;\n",
              "      height: 32px;\n",
              "      padding: 0 0 0 0;\n",
              "      width: 32px;\n",
              "    }\n",
              "\n",
              "    .colab-df-convert:hover {\n",
              "      background-color: #E2EBFA;\n",
              "      box-shadow: 0px 1px 2px rgba(60, 64, 67, 0.3), 0px 1px 3px 1px rgba(60, 64, 67, 0.15);\n",
              "      fill: #174EA6;\n",
              "    }\n",
              "\n",
              "    [theme=dark] .colab-df-convert {\n",
              "      background-color: #3B4455;\n",
              "      fill: #D2E3FC;\n",
              "    }\n",
              "\n",
              "    [theme=dark] .colab-df-convert:hover {\n",
              "      background-color: #434B5C;\n",
              "      box-shadow: 0px 1px 3px 1px rgba(0, 0, 0, 0.15);\n",
              "      filter: drop-shadow(0px 1px 2px rgba(0, 0, 0, 0.3));\n",
              "      fill: #FFFFFF;\n",
              "    }\n",
              "  </style>\n",
              "\n",
              "      <script>\n",
              "        const buttonEl =\n",
              "          document.querySelector('#df-eaab1728-329b-42d6-ae02-855083754509 button.colab-df-convert');\n",
              "        buttonEl.style.display =\n",
              "          google.colab.kernel.accessAllowed ? 'block' : 'none';\n",
              "\n",
              "        async function convertToInteractive(key) {\n",
              "          const element = document.querySelector('#df-eaab1728-329b-42d6-ae02-855083754509');\n",
              "          const dataTable =\n",
              "            await google.colab.kernel.invokeFunction('convertToInteractive',\n",
              "                                                     [key], {});\n",
              "          if (!dataTable) return;\n",
              "\n",
              "          const docLinkHtml = 'Like what you see? Visit the ' +\n",
              "            '<a target=\"_blank\" href=https://colab.research.google.com/notebooks/data_table.ipynb>data table notebook</a>'\n",
              "            + ' to learn more about interactive tables.';\n",
              "          element.innerHTML = '';\n",
              "          dataTable['output_type'] = 'display_data';\n",
              "          await google.colab.output.renderOutput(dataTable, element);\n",
              "          const docLink = document.createElement('div');\n",
              "          docLink.innerHTML = docLinkHtml;\n",
              "          element.appendChild(docLink);\n",
              "        }\n",
              "      </script>\n",
              "    </div>\n",
              "  </div>\n",
              "  "
            ]
          },
          "metadata": {},
          "execution_count": 88
        }
      ]
    },
    {
      "cell_type": "code",
      "source": [
        "X.plot()"
      ],
      "metadata": {
        "colab": {
          "base_uri": "https://localhost:8080/",
          "height": 282
        },
        "id": "0kJm5JOXzEhn",
        "outputId": "cd6197c3-bc78-4fbe-9612-ab23ede9d753"
      },
      "execution_count": 89,
      "outputs": [
        {
          "output_type": "execute_result",
          "data": {
            "text/plain": [
              "<matplotlib.axes._subplots.AxesSubplot at 0x7f100beb9690>"
            ]
          },
          "metadata": {},
          "execution_count": 89
        },
        {
          "output_type": "display_data",
          "data": {
            "text/plain": [
              "<Figure size 432x288 with 1 Axes>"
            ],
            "image/png": "[encoded data removed]"
          },
          "metadata": {
            "needs_background": "light"
          }
        }
      ]
    },
    {
      "cell_type": "markdown",
      "source": [
        "Normalize X dataframe"
      ],
      "metadata": {
        "id": "5ka2dNPzzBan"
      }
    },
    {
      "cell_type": "code",
      "source": [
        "from sklearn.preprocessing import MinMaxScaler\n",
        "data = X.values\n",
        "scaler = MinMaxScaler()\n",
        "x = scaler.fit_transform(data)\n",
        "x[:10]"
      ],
      "metadata": {
        "colab": {
          "base_uri": "https://localhost:8080/"
        },
        "id": "Nt7xbPslww_7",
        "outputId": "8614b19e-fd7d-4546-9721-c200cbaa0bb9"
      },
      "execution_count": 90,
      "outputs": [
        {
          "output_type": "execute_result",
          "data": {
            "text/plain": [
              "array([[0.09090909, 0.00630915],\n",
              "       [0.07792208, 0.04416404],\n",
              "       [0.05194805, 0.02839117],\n",
              "       [0.05194805, 0.05993691],\n",
              "       [0.09090909, 0.29337539],\n",
              "       [0.07792208, 0.02208202],\n",
              "       [0.05194805, 0.05362776],\n",
              "       [0.09090909, 0.16719243],\n",
              "       [0.12987013, 0.02523659],\n",
              "       [0.09090909, 0.37066246]])"
            ]
          },
          "metadata": {},
          "execution_count": 90
        }
      ]
    },
    {
      "cell_type": "code",
      "source": [
        "X['BILIRUBIN'] = x[:,0]\n",
        "X['SGOT'] = x[:,1]\n",
        "X.head()"
      ],
      "metadata": {
        "colab": {
          "base_uri": "https://localhost:8080/",
          "height": 206
        },
        "id": "LbXCOLxLy1TU",
        "outputId": "43458607-e663-47d9-ab83-10301989566a"
      },
      "execution_count": 91,
      "outputs": [
        {
          "output_type": "execute_result",
          "data": {
            "text/plain": [
              "   BILIRUBIN      SGOT\n",
              "0   0.090909  0.006309\n",
              "1   0.077922  0.044164\n",
              "2   0.051948  0.028391\n",
              "3   0.051948  0.059937\n",
              "4   0.090909  0.293375"
            ],
            "text/html": [
              "\n",
              "  <div id=\"df-22860500-e5ac-486d-bf73-4d8e0ff2f0ac\">\n",
              "    <div class=\"colab-df-container\">\n",
              "      <div>\n",
              "<style scoped>\n",
              "    .dataframe tbody tr th:only-of-type {\n",
              "        vertical-align: middle;\n",
              "    }\n",
              "\n",
              "    .dataframe tbody tr th {\n",
              "        vertical-align: top;\n",
              "    }\n",
              "\n",
              "    .dataframe thead th {\n",
              "        text-align: right;\n",
              "    }\n",
              "</style>\n",
              "<table border=\"1\" class=\"dataframe\">\n",
              "  <thead>\n",
              "    <tr style=\"text-align: right;\">\n",
              "      <th></th>\n",
              "      <th>BILIRUBIN</th>\n",
              "      <th>SGOT</th>\n",
              "    </tr>\n",
              "  </thead>\n",
              "  <tbody>\n",
              "    <tr>\n",
              "      <th>0</th>\n",
              "      <td>0.090909</td>\n",
              "      <td>0.006309</td>\n",
              "    </tr>\n",
              "    <tr>\n",
              "      <th>1</th>\n",
              "      <td>0.077922</td>\n",
              "      <td>0.044164</td>\n",
              "    </tr>\n",
              "    <tr>\n",
              "      <th>2</th>\n",
              "      <td>0.051948</td>\n",
              "      <td>0.028391</td>\n",
              "    </tr>\n",
              "    <tr>\n",
              "      <th>3</th>\n",
              "      <td>0.051948</td>\n",
              "      <td>0.059937</td>\n",
              "    </tr>\n",
              "    <tr>\n",
              "      <th>4</th>\n",
              "      <td>0.090909</td>\n",
              "      <td>0.293375</td>\n",
              "    </tr>\n",
              "  </tbody>\n",
              "</table>\n",
              "</div>\n",
              "      <button class=\"colab-df-convert\" onclick=\"convertToInteractive('df-22860500-e5ac-486d-bf73-4d8e0ff2f0ac')\"\n",
              "              title=\"Convert this dataframe to an interactive table.\"\n",
              "              style=\"display:none;\">\n",
              "        \n",
              "  <svg xmlns=\"http://www.w3.org/2000/svg\" height=\"24px\"viewBox=\"0 0 24 24\"\n",
              "       width=\"24px\">\n",
              "    <path d=\"M0 0h24v24H0V0z\" fill=\"none\"/>\n",
              "    <path d=\"M18.56 5.44l.94 2.06.94-2.06 2.06-.94-2.06-.94-.94-2.06-.94 2.06-2.06.94zm-11 1L8.5 8.5l.94-2.06 2.06-.94-2.06-.94L8.5 2.5l-.94 2.06-2.06.94zm10 10l.94 2.06.94-2.06 2.06-.94-2.06-.94-.94-2.06-.94 2.06-2.06.94z\"/><path d=\"M17.41 7.96l-1.37-1.37c-.4-.4-.92-.59-1.43-.59-.52 0-1.04.2-1.43.59L10.3 9.45l-7.72 7.72c-.78.78-.78 2.05 0 2.83L4 21.41c.39.39.9.59 1.41.59.51 0 1.02-.2 1.41-.59l7.78-7.78 2.81-2.81c.8-.78.8-2.07 0-2.86zM5.41 20L4 18.59l7.72-7.72 1.47 1.35L5.41 20z\"/>\n",
              "  </svg>\n",
              "      </button>\n",
              "      \n",
              "  <style>\n",
              "    .colab-df-container {\n",
              "      display:flex;\n",
              "      flex-wrap:wrap;\n",
              "      gap: 12px;\n",
              "    }\n",
              "\n",
              "    .colab-df-convert {\n",
              "      background-color: #E8F0FE;\n",
              "      border: none;\n",
              "      border-radius: 50%;\n",
              "      cursor: pointer;\n",
              "      display: none;\n",
              "      fill: #1967D2;\n",
              "      height: 32px;\n",
              "      padding: 0 0 0 0;\n",
              "      width: 32px;\n",
              "    }\n",
              "\n",
              "    .colab-df-convert:hover {\n",
              "      background-color: #E2EBFA;\n",
              "      box-shadow: 0px 1px 2px rgba(60, 64, 67, 0.3), 0px 1px 3px 1px rgba(60, 64, 67, 0.15);\n",
              "      fill: #174EA6;\n",
              "    }\n",
              "\n",
              "    [theme=dark] .colab-df-convert {\n",
              "      background-color: #3B4455;\n",
              "      fill: #D2E3FC;\n",
              "    }\n",
              "\n",
              "    [theme=dark] .colab-df-convert:hover {\n",
              "      background-color: #434B5C;\n",
              "      box-shadow: 0px 1px 3px 1px rgba(0, 0, 0, 0.15);\n",
              "      filter: drop-shadow(0px 1px 2px rgba(0, 0, 0, 0.3));\n",
              "      fill: #FFFFFF;\n",
              "    }\n",
              "  </style>\n",
              "\n",
              "      <script>\n",
              "        const buttonEl =\n",
              "          document.querySelector('#df-22860500-e5ac-486d-bf73-4d8e0ff2f0ac button.colab-df-convert');\n",
              "        buttonEl.style.display =\n",
              "          google.colab.kernel.accessAllowed ? 'block' : 'none';\n",
              "\n",
              "        async function convertToInteractive(key) {\n",
              "          const element = document.querySelector('#df-22860500-e5ac-486d-bf73-4d8e0ff2f0ac');\n",
              "          const dataTable =\n",
              "            await google.colab.kernel.invokeFunction('convertToInteractive',\n",
              "                                                     [key], {});\n",
              "          if (!dataTable) return;\n",
              "\n",
              "          const docLinkHtml = 'Like what you see? Visit the ' +\n",
              "            '<a target=\"_blank\" href=https://colab.research.google.com/notebooks/data_table.ipynb>data table notebook</a>'\n",
              "            + ' to learn more about interactive tables.';\n",
              "          element.innerHTML = '';\n",
              "          dataTable['output_type'] = 'display_data';\n",
              "          await google.colab.output.renderOutput(dataTable, element);\n",
              "          const docLink = document.createElement('div');\n",
              "          docLink.innerHTML = docLinkHtml;\n",
              "          element.appendChild(docLink);\n",
              "        }\n",
              "      </script>\n",
              "    </div>\n",
              "  </div>\n",
              "  "
            ]
          },
          "metadata": {},
          "execution_count": 91
        }
      ]
    },
    {
      "cell_type": "code",
      "source": [
        "X.plot()"
      ],
      "metadata": {
        "colab": {
          "base_uri": "https://localhost:8080/",
          "height": 282
        },
        "id": "AXqVQ3oVzO5o",
        "outputId": "1becef9b-5790-4e4b-a0ed-f102cfd602c7"
      },
      "execution_count": 92,
      "outputs": [
        {
          "output_type": "execute_result",
          "data": {
            "text/plain": [
              "<matplotlib.axes._subplots.AxesSubplot at 0x7f100bd59fd0>"
            ]
          },
          "metadata": {},
          "execution_count": 92
        },
        {
          "output_type": "display_data",
          "data": {
            "text/plain": [
              "<Figure size 432x288 with 1 Axes>"
            ],
            "image/png": "[encoded data removed]"
          },
          "metadata": {
            "needs_background": "light"
          }
        }
      ]
    },
    {
      "cell_type": "code",
      "source": [
        "y"
      ],
      "metadata": {
        "colab": {
          "base_uri": "https://localhost:8080/"
        },
        "outputId": "e21073ac-0f93-4d20-ac4e-4016aae68728",
        "id": "LTHvYRE3eQZY"
      },
      "execution_count": 93,
      "outputs": [
        {
          "output_type": "execute_result",
          "data": {
            "text/plain": [
              "0      2\n",
              "1      2\n",
              "2      2\n",
              "3      2\n",
              "4      2\n",
              "      ..\n",
              "150    1\n",
              "151    2\n",
              "152    2\n",
              "153    2\n",
              "154    1\n",
              "Name: Class, Length: 148, dtype: int64"
            ]
          },
          "metadata": {},
          "execution_count": 93
        }
      ]
    },
    {
      "cell_type": "code",
      "source": [
        "from collections import Counter\n",
        "Counter(y)"
      ],
      "metadata": {
        "colab": {
          "base_uri": "https://localhost:8080/"
        },
        "id": "KHTgjFR7rBRW",
        "outputId": "7ed7efdc-d36e-4743-8dbc-6803c097b234"
      },
      "execution_count": 94,
      "outputs": [
        {
          "output_type": "execute_result",
          "data": {
            "text/plain": [
              "Counter({2: 118, 1: 30})"
            ]
          },
          "metadata": {},
          "execution_count": 94
        }
      ]
    },
    {
      "cell_type": "markdown",
      "source": [
        "Use SMOTE for imbalance data"
      ],
      "metadata": {
        "id": "2cVkI1lBrU5Y"
      }
    },
    {
      "cell_type": "code",
      "source": [
        "# transform the dataset\n",
        "from imblearn.over_sampling import SMOTE\n",
        "oversample = SMOTE()\n",
        "X, y = oversample.fit_resample(X, y)\n",
        "# summarize the new class distribution\n",
        "counter = Counter(y)\n",
        "print(counter)"
      ],
      "metadata": {
        "colab": {
          "base_uri": "https://localhost:8080/"
        },
        "outputId": "b2a69023-4afc-43eb-fde9-51a5b3db6b58",
        "id": "tgJu_NLKrTVz"
      },
      "execution_count": 95,
      "outputs": [
        {
          "output_type": "stream",
          "name": "stdout",
          "text": [
            "Counter({2: 118, 1: 118})\n"
          ]
        }
      ]
    },
    {
      "cell_type": "code",
      "source": [
        "# plot group by colors\n",
        "plt.figure(figsize=(8,8))\n",
        "plt.scatter(X['BILIRUBIN'],X['SGOT'],c=y,s=80,alpha=0.6)\n",
        "plt.xlabel('Feature BILIRUBIN --->')\n",
        "plt.ylabel('Feature SGOT --->')\n",
        "plt.title('Hepatitis Data')"
      ],
      "metadata": {
        "colab": {
          "base_uri": "https://localhost:8080/",
          "height": 530
        },
        "outputId": "5b3ad21c-2472-4bcd-814e-8c9af2bb9bd4",
        "id": "s4Xelog6eQZY"
      },
      "execution_count": 96,
      "outputs": [
        {
          "output_type": "execute_result",
          "data": {
            "text/plain": [
              "Text(0.5, 1.0, 'Hepatitis Data')"
            ]
          },
          "metadata": {},
          "execution_count": 96
        },
        {
          "output_type": "display_data",
          "data": {
            "text/plain": [
              "<Figure size 576x576 with 1 Axes>"
            ],
            "image/png": "[encoded data removed]"
          },
          "metadata": {
            "needs_background": "light"
          }
        }
      ]
    },
    {
      "cell_type": "markdown",
      "source": [
        "## 2) Generate labeled and unlabeled data by random selecting 68% of samples without replacement and removing their class to perform as unlabeled data. The non-selected 32% of samples will be used as labeled data\n"
      ],
      "metadata": {
        "id": "MuYWLv8seQZY"
      }
    },
    {
      "cell_type": "code",
      "source": [
        "#Spliting data 32% as labeled data / 68% as unlabeled data\n",
        "from sklearn.model_selection import train_test_split\n",
        "seed = 6536115\n",
        "X_unlabel, X_label, y_unlabel, y_label = train_test_split(X,y,test_size = 0.32, random_state=seed,stratify = y)\n",
        "print(X_unlabel.shape,\n",
        "X_label.shape,\n",
        "y_unlabel.shape,\n",
        "y_label.shape)"
      ],
      "metadata": {
        "colab": {
          "base_uri": "https://localhost:8080/"
        },
        "outputId": "e7358ba2-312a-4570-9f59-ab57dcf85f4b",
        "id": "gExAm8VIeQZY"
      },
      "execution_count": 97,
      "outputs": [
        {
          "output_type": "stream",
          "name": "stdout",
          "text": [
            "(160, 2) (76, 2) (160,) (76,)\n"
          ]
        }
      ]
    },
    {
      "cell_type": "code",
      "source": [
        "X_label.index"
      ],
      "metadata": {
        "colab": {
          "base_uri": "https://localhost:8080/"
        },
        "outputId": "dac9bbb1-85b3-417c-9cf7-635a900d161f",
        "id": "SRWRXtDIeQZY"
      },
      "execution_count": 98,
      "outputs": [
        {
          "output_type": "execute_result",
          "data": {
            "text/plain": [
              "Int64Index([ 98,  96, 226, 141, 115, 203, 132, 113,  43, 131,  99,  48,  33,\n",
              "              3, 195,  41,  28, 150, 171,  80,  20, 177, 124, 102, 152, 122,\n",
              "            107, 198,  12,  27,   8,  59, 196,  21, 106, 167, 183,  56, 145,\n",
              "            225,  42, 190, 212, 188,  47, 155,  40, 234,  44,  54,  69, 194,\n",
              "            151,  22,  52,  79, 185, 133,  25, 119,  86, 191, 105, 126, 100,\n",
              "            230,   5,  39, 229, 197, 208, 159,  13, 210, 228,  92],\n",
              "           dtype='int64')"
            ]
          },
          "metadata": {},
          "execution_count": 98
        }
      ]
    },
    {
      "cell_type": "code",
      "source": [
        "X_unlabel.index"
      ],
      "metadata": {
        "colab": {
          "base_uri": "https://localhost:8080/"
        },
        "outputId": "41efc737-030d-4b59-8aaf-43f62e72e23c",
        "id": "vTUvN6EQeQZY"
      },
      "execution_count": 99,
      "outputs": [
        {
          "output_type": "execute_result",
          "data": {
            "text/plain": [
              "Int64Index([ 49, 174, 216,   6,  89, 184, 148, 202, 164, 158,\n",
              "            ...\n",
              "             82, 138,  37,  62,  45, 204, 154,  76,  53,  34],\n",
              "           dtype='int64', length=160)"
            ]
          },
          "metadata": {},
          "execution_count": 99
        }
      ]
    },
    {
      "cell_type": "code",
      "source": [
        "new_y = y.copy()\n",
        "new_y[X_unlabel.index]=0\n",
        "new_y"
      ],
      "metadata": {
        "colab": {
          "base_uri": "https://localhost:8080/"
        },
        "id": "Oi5bTIZLeQZZ",
        "outputId": "d7f950d6-9bd7-4da6-8c95-6a91daca9352"
      },
      "execution_count": 100,
      "outputs": [
        {
          "output_type": "execute_result",
          "data": {
            "text/plain": [
              "0      0\n",
              "1      0\n",
              "2      0\n",
              "3      2\n",
              "4      0\n",
              "      ..\n",
              "231    0\n",
              "232    0\n",
              "233    0\n",
              "234    1\n",
              "235    0\n",
              "Name: Class, Length: 236, dtype: int64"
            ]
          },
          "metadata": {},
          "execution_count": 100
        }
      ]
    },
    {
      "cell_type": "markdown",
      "source": [
        "## 3) Perform SVM by using all labelled data from 2). (32% samples)"
      ],
      "metadata": {
        "id": "MihN4SzQeQZZ"
      }
    },
    {
      "cell_type": "code",
      "source": [
        "from sklearn.svm import SVC\n",
        "model = SVC(kernel='rbf')\n",
        "model.fit(X_label,y_label)\n",
        "# predict = model.predict(X_label)"
      ],
      "metadata": {
        "colab": {
          "base_uri": "https://localhost:8080/"
        },
        "outputId": "7884e5b9-090a-462e-93d5-871998cfc4a3",
        "id": "CS8WeMyzeQZZ"
      },
      "execution_count": 101,
      "outputs": [
        {
          "output_type": "execute_result",
          "data": {
            "text/plain": [
              "SVC()"
            ]
          },
          "metadata": {},
          "execution_count": 101
        }
      ]
    },
    {
      "cell_type": "markdown",
      "source": [
        "**SVC model use label 20 data**"
      ],
      "metadata": {
        "id": "Oy6kgQMKeQZZ"
      }
    },
    {
      "cell_type": "code",
      "source": [
        "# plot group by colors\n",
        "arr1 = np.arange(X_label.iloc[:, 0].min()-0.75, X_label.iloc[:, 0].max()+0.75, 0.01)\n",
        "arr2 = np.arange(X_label.iloc[:, 1].min()-0.75, X_label.iloc[:, 1].max()+0.75, 0.01)\n",
        "\n",
        "xx, yy = np.meshgrid(arr1, arr2)\n",
        "input_array = np.array([xx.ravel(), yy.ravel()]).T\n",
        "labels = model.predict(input_array)\n",
        "\n",
        "plt.figure(figsize=(8,8))\n",
        "plt.contourf(xx, yy, labels.reshape(xx.shape), alpha = 0.1)\n",
        "plt.scatter(X_label['BILIRUBIN'],X_label['SGOT'],c=y_label,s=80,alpha=0.6)\n",
        "plt.xlabel('Feature BILIRUBIN --->')\n",
        "plt.ylabel('Feature SGOT --->')\n",
        "plt.title('Hepatitis Data')"
      ],
      "metadata": {
        "colab": {
          "base_uri": "https://localhost:8080/",
          "height": 565
        },
        "outputId": "f1ab1179-8633-4f5e-c816-2852b020a135",
        "id": "5fYZ0PT_eQZZ"
      },
      "execution_count": 106,
      "outputs": [
        {
          "output_type": "stream",
          "name": "stderr",
          "text": [
            "/usr/local/lib/python3.7/dist-packages/sklearn/base.py:451: UserWarning: X does not have valid feature names, but SVC was fitted with feature names\n",
            "  \"X does not have valid feature names, but\"\n"
          ]
        },
        {
          "output_type": "execute_result",
          "data": {
            "text/plain": [
              "Text(0.5, 1.0, 'Hepatitis Data')"
            ]
          },
          "metadata": {},
          "execution_count": 106
        },
        {
          "output_type": "display_data",
          "data": {
            "text/plain": [
              "<Figure size 576x576 with 1 Axes>"
            ],
            "image/png": "[encoded data removed]"
          },
          "metadata": {
            "needs_background": "light"
          }
        }
      ]
    },
    {
      "cell_type": "markdown",
      "source": [
        "**SVC model use normal all label data**"
      ],
      "metadata": {
        "id": "e3NMGmkXeQZZ"
      }
    },
    {
      "cell_type": "code",
      "source": [
        "# plot group by colors\n",
        "arr1 = np.arange(X.iloc[:, 0].min()-1, X.iloc[:, 0].max()+1, 0.01)\n",
        "arr2 = np.arange(X.iloc[:, 1].min()-1, X.iloc[:, 1].max()+1, 0.01)\n",
        "\n",
        "xx, yy = np.meshgrid(arr1, arr2)\n",
        "input_array = np.array([xx.ravel(), yy.ravel()]).T\n",
        "modelSVCAll = SVC()\n",
        "modelSVCAll.fit(X,y)\n",
        "labels = modelSVCAll.predict(input_array)\n",
        "\n",
        "plt.figure(figsize=(8,8))\n",
        "plt.contourf(xx, yy, labels.reshape(xx.shape), alpha = 0.1)\n",
        "plt.scatter(X['BILIRUBIN'],X['SGOT'],c=y,s=80,alpha=0.6)\n",
        "plt.xlabel('Feature BILIRUBIN --->')\n",
        "plt.ylabel('Feature SGOT --->')\n",
        "plt.title('Hepatitis Data')"
      ],
      "metadata": {
        "colab": {
          "base_uri": "https://localhost:8080/",
          "height": 565
        },
        "outputId": "f69d050c-0a00-4bc2-db86-85d15fe2f5f9",
        "id": "xQXJwEMveQZZ"
      },
      "execution_count": 107,
      "outputs": [
        {
          "output_type": "stream",
          "name": "stderr",
          "text": [
            "/usr/local/lib/python3.7/dist-packages/sklearn/base.py:451: UserWarning: X does not have valid feature names, but SVC was fitted with feature names\n",
            "  \"X does not have valid feature names, but\"\n"
          ]
        },
        {
          "output_type": "execute_result",
          "data": {
            "text/plain": [
              "Text(0.5, 1.0, 'Hepatitis Data')"
            ]
          },
          "metadata": {},
          "execution_count": 107
        },
        {
          "output_type": "display_data",
          "data": {
            "text/plain": [
              "<Figure size 576x576 with 1 Axes>"
            ],
            "image/png": "[encoded data removed]"
          },
          "metadata": {
            "needs_background": "light"
          }
        }
      ]
    },
    {
      "cell_type": "markdown",
      "source": [
        "## 4) Perform Label Propagation at label spreading 30%, 50%, and 70% by using Python and data from 1). (random replace the original 62 samples)"
      ],
      "metadata": {
        "id": "JUvXTLgoeQZa"
      }
    },
    {
      "cell_type": "code",
      "source": [
        "X.head()"
      ],
      "metadata": {
        "colab": {
          "base_uri": "https://localhost:8080/",
          "height": 206
        },
        "outputId": "661f4bc9-97bb-4f5b-dbe7-b13dbe9ee142",
        "id": "m1BamrFVeQZa"
      },
      "execution_count": 108,
      "outputs": [
        {
          "output_type": "execute_result",
          "data": {
            "text/plain": [
              "   BILIRUBIN      SGOT\n",
              "0   0.090909  0.006309\n",
              "1   0.077922  0.044164\n",
              "2   0.051948  0.028391\n",
              "3   0.051948  0.059937\n",
              "4   0.090909  0.293375"
            ],
            "text/html": [
              "\n",
              "  <div id=\"df-8793f682-1fa3-4824-a0b1-36cf6b12e393\">\n",
              "    <div class=\"colab-df-container\">\n",
              "      <div>\n",
              "<style scoped>\n",
              "    .dataframe tbody tr th:only-of-type {\n",
              "        vertical-align: middle;\n",
              "    }\n",
              "\n",
              "    .dataframe tbody tr th {\n",
              "        vertical-align: top;\n",
              "    }\n",
              "\n",
              "    .dataframe thead th {\n",
              "        text-align: right;\n",
              "    }\n",
              "</style>\n",
              "<table border=\"1\" class=\"dataframe\">\n",
              "  <thead>\n",
              "    <tr style=\"text-align: right;\">\n",
              "      <th></th>\n",
              "      <th>BILIRUBIN</th>\n",
              "      <th>SGOT</th>\n",
              "    </tr>\n",
              "  </thead>\n",
              "  <tbody>\n",
              "    <tr>\n",
              "      <th>0</th>\n",
              "      <td>0.090909</td>\n",
              "      <td>0.006309</td>\n",
              "    </tr>\n",
              "    <tr>\n",
              "      <th>1</th>\n",
              "      <td>0.077922</td>\n",
              "      <td>0.044164</td>\n",
              "    </tr>\n",
              "    <tr>\n",
              "      <th>2</th>\n",
              "      <td>0.051948</td>\n",
              "      <td>0.028391</td>\n",
              "    </tr>\n",
              "    <tr>\n",
              "      <th>3</th>\n",
              "      <td>0.051948</td>\n",
              "      <td>0.059937</td>\n",
              "    </tr>\n",
              "    <tr>\n",
              "      <th>4</th>\n",
              "      <td>0.090909</td>\n",
              "      <td>0.293375</td>\n",
              "    </tr>\n",
              "  </tbody>\n",
              "</table>\n",
              "</div>\n",
              "      <button class=\"colab-df-convert\" onclick=\"convertToInteractive('df-8793f682-1fa3-4824-a0b1-36cf6b12e393')\"\n",
              "              title=\"Convert this dataframe to an interactive table.\"\n",
              "              style=\"display:none;\">\n",
              "        \n",
              "  <svg xmlns=\"http://www.w3.org/2000/svg\" height=\"24px\"viewBox=\"0 0 24 24\"\n",
              "       width=\"24px\">\n",
              "    <path d=\"M0 0h24v24H0V0z\" fill=\"none\"/>\n",
              "    <path d=\"M18.56 5.44l.94 2.06.94-2.06 2.06-.94-2.06-.94-.94-2.06-.94 2.06-2.06.94zm-11 1L8.5 8.5l.94-2.06 2.06-.94-2.06-.94L8.5 2.5l-.94 2.06-2.06.94zm10 10l.94 2.06.94-2.06 2.06-.94-2.06-.94-.94-2.06-.94 2.06-2.06.94z\"/><path d=\"M17.41 7.96l-1.37-1.37c-.4-.4-.92-.59-1.43-.59-.52 0-1.04.2-1.43.59L10.3 9.45l-7.72 7.72c-.78.78-.78 2.05 0 2.83L4 21.41c.39.39.9.59 1.41.59.51 0 1.02-.2 1.41-.59l7.78-7.78 2.81-2.81c.8-.78.8-2.07 0-2.86zM5.41 20L4 18.59l7.72-7.72 1.47 1.35L5.41 20z\"/>\n",
              "  </svg>\n",
              "      </button>\n",
              "      \n",
              "  <style>\n",
              "    .colab-df-container {\n",
              "      display:flex;\n",
              "      flex-wrap:wrap;\n",
              "      gap: 12px;\n",
              "    }\n",
              "\n",
              "    .colab-df-convert {\n",
              "      background-color: #E8F0FE;\n",
              "      border: none;\n",
              "      border-radius: 50%;\n",
              "      cursor: pointer;\n",
              "      display: none;\n",
              "      fill: #1967D2;\n",
              "      height: 32px;\n",
              "      padding: 0 0 0 0;\n",
              "      width: 32px;\n",
              "    }\n",
              "\n",
              "    .colab-df-convert:hover {\n",
              "      background-color: #E2EBFA;\n",
              "      box-shadow: 0px 1px 2px rgba(60, 64, 67, 0.3), 0px 1px 3px 1px rgba(60, 64, 67, 0.15);\n",
              "      fill: #174EA6;\n",
              "    }\n",
              "\n",
              "    [theme=dark] .colab-df-convert {\n",
              "      background-color: #3B4455;\n",
              "      fill: #D2E3FC;\n",
              "    }\n",
              "\n",
              "    [theme=dark] .colab-df-convert:hover {\n",
              "      background-color: #434B5C;\n",
              "      box-shadow: 0px 1px 3px 1px rgba(0, 0, 0, 0.15);\n",
              "      filter: drop-shadow(0px 1px 2px rgba(0, 0, 0, 0.3));\n",
              "      fill: #FFFFFF;\n",
              "    }\n",
              "  </style>\n",
              "\n",
              "      <script>\n",
              "        const buttonEl =\n",
              "          document.querySelector('#df-8793f682-1fa3-4824-a0b1-36cf6b12e393 button.colab-df-convert');\n",
              "        buttonEl.style.display =\n",
              "          google.colab.kernel.accessAllowed ? 'block' : 'none';\n",
              "\n",
              "        async function convertToInteractive(key) {\n",
              "          const element = document.querySelector('#df-8793f682-1fa3-4824-a0b1-36cf6b12e393');\n",
              "          const dataTable =\n",
              "            await google.colab.kernel.invokeFunction('convertToInteractive',\n",
              "                                                     [key], {});\n",
              "          if (!dataTable) return;\n",
              "\n",
              "          const docLinkHtml = 'Like what you see? Visit the ' +\n",
              "            '<a target=\"_blank\" href=https://colab.research.google.com/notebooks/data_table.ipynb>data table notebook</a>'\n",
              "            + ' to learn more about interactive tables.';\n",
              "          element.innerHTML = '';\n",
              "          dataTable['output_type'] = 'display_data';\n",
              "          await google.colab.output.renderOutput(dataTable, element);\n",
              "          const docLink = document.createElement('div');\n",
              "          docLink.innerHTML = docLinkHtml;\n",
              "          element.appendChild(docLink);\n",
              "        }\n",
              "      </script>\n",
              "    </div>\n",
              "  </div>\n",
              "  "
            ]
          },
          "metadata": {},
          "execution_count": 108
        }
      ]
    },
    {
      "cell_type": "code",
      "source": [
        "y"
      ],
      "metadata": {
        "colab": {
          "base_uri": "https://localhost:8080/"
        },
        "id": "16yaW0L_sJor",
        "outputId": "85aa732d-ac35-4011-ea71-ae229d2d1baa"
      },
      "execution_count": 109,
      "outputs": [
        {
          "output_type": "execute_result",
          "data": {
            "text/plain": [
              "0      2\n",
              "1      2\n",
              "2      2\n",
              "3      2\n",
              "4      2\n",
              "      ..\n",
              "231    1\n",
              "232    1\n",
              "233    1\n",
              "234    1\n",
              "235    1\n",
              "Name: Class, Length: 236, dtype: int64"
            ]
          },
          "metadata": {},
          "execution_count": 109
        }
      ]
    },
    {
      "cell_type": "code",
      "source": [
        "# create random unlabel y data 30%, 50%, 70%\n",
        "from sklearn.semi_supervised import LabelSpreading\n",
        "rng = np.random.RandomState(6536115)\n",
        "h = 0.01\n",
        "y_30 = np.copy(y)\n",
        "y_30[rng.rand(len(y)) < 0.3] = 0\n",
        "y_50 = np.copy(y)\n",
        "y_50[rng.rand(len(y)) < 0.5] = 0\n",
        "y_70 = np.copy(y)\n",
        "y_70[rng.rand(len(y)) < 0.7] = 0\n",
        "# we create an instance of SVM and fit out data. We do not scale our\n",
        "# data since we want to plot the support vectors\n",
        "ls30 = (LabelSpreading().fit(X, y_30), y_30)\n",
        "ls50 = (LabelSpreading().fit(X, y_50), y_50)\n",
        "ls70 = (LabelSpreading().fit(X, y_70), y_70)\n",
        "# ls100 = (LabelSpreading().fit(X, y), y)\n",
        "model = SVC()\n",
        "model.fit(X_label,y_label)\n",
        "# rbf_svc = (svm.SVC(kernel='rbf', gamma=.5).fit(X, y), y)\n",
        "# rbf_svc = (model.fit(X_label,y_label), np.array(y_label))"
      ],
      "metadata": {
        "colab": {
          "base_uri": "https://localhost:8080/"
        },
        "outputId": "351f90a9-9ad0-4f8e-c0d0-814e83a12f20",
        "id": "1cQmHWwaeQZa"
      },
      "execution_count": 116,
      "outputs": [
        {
          "output_type": "execute_result",
          "data": {
            "text/plain": [
              "SVC()"
            ]
          },
          "metadata": {},
          "execution_count": 116
        }
      ]
    },
    {
      "cell_type": "code",
      "source": [
        "y_30"
      ],
      "metadata": {
        "colab": {
          "base_uri": "https://localhost:8080/"
        },
        "outputId": "04bab2b3-e36f-4e8f-8ee1-65dbb7230f48",
        "id": "Ps4WIwX9eQZa"
      },
      "execution_count": 117,
      "outputs": [
        {
          "output_type": "execute_result",
          "data": {
            "text/plain": [
              "array([2, 2, 2, 2, 2, 2, 2, 2, 2, 2, 2, 0, 2, 0, 2, 2, 2, 2, 0, 0, 2, 2,\n",
              "       0, 2, 2, 2, 0, 0, 0, 2, 0, 0, 0, 0, 2, 2, 2, 2, 0, 2, 2, 2, 2, 2,\n",
              "       2, 0, 2, 2, 0, 2, 0, 0, 0, 2, 0, 0, 2, 2, 0, 2, 0, 2, 1, 0, 0, 2,\n",
              "       0, 0, 2, 0, 2, 1, 2, 0, 2, 2, 2, 2, 2, 2, 2, 1, 1, 0, 2, 2, 0, 2,\n",
              "       2, 1, 2, 2, 2, 1, 1, 2, 0, 2, 1, 2, 1, 0, 2, 1, 2, 0, 2, 2, 2, 0,\n",
              "       2, 0, 2, 0, 2, 2, 2, 0, 2, 0, 1, 2, 1, 2, 0, 2, 2, 1, 2, 2, 2, 1,\n",
              "       2, 0, 0, 2, 1, 1, 2, 0, 1, 0, 0, 1, 2, 2, 2, 0, 1, 1, 0, 1, 1, 0,\n",
              "       1, 1, 1, 0, 1, 0, 0, 1, 1, 1, 1, 1, 1, 0, 1, 0, 1, 0, 1, 1, 1, 1,\n",
              "       1, 1, 1, 1, 0, 0, 1, 0, 1, 0, 1, 1, 1, 1, 1, 1, 1, 1, 1, 1, 1, 1,\n",
              "       0, 0, 1, 1, 1, 1, 1, 1, 1, 1, 1, 0, 0, 1, 1, 1, 0, 1, 1, 0, 1, 1,\n",
              "       0, 1, 0, 1, 0, 1, 0, 1, 1, 1, 0, 1, 1, 0, 1, 1])"
            ]
          },
          "metadata": {},
          "execution_count": 117
        }
      ]
    },
    {
      "cell_type": "code",
      "source": [
        "y_50"
      ],
      "metadata": {
        "colab": {
          "base_uri": "https://localhost:8080/"
        },
        "outputId": "b9f36966-ee75-4156-b931-62917f9dc84c",
        "id": "_3j7o1n1eQZb"
      },
      "execution_count": 118,
      "outputs": [
        {
          "output_type": "execute_result",
          "data": {
            "text/plain": [
              "array([0, 2, 0, 0, 2, 2, 2, 2, 2, 2, 0, 0, 0, 2, 2, 2, 0, 0, 0, 0, 0, 2,\n",
              "       0, 0, 2, 0, 0, 1, 1, 0, 0, 2, 1, 2, 0, 0, 0, 0, 2, 2, 2, 0, 2, 2,\n",
              "       0, 2, 0, 2, 0, 2, 0, 2, 2, 2, 2, 0, 0, 2, 0, 0, 0, 2, 1, 2, 2, 0,\n",
              "       0, 0, 2, 0, 2, 1, 0, 0, 0, 2, 0, 2, 0, 2, 2, 1, 0, 0, 0, 2, 0, 0,\n",
              "       2, 0, 0, 0, 0, 0, 1, 2, 0, 2, 1, 2, 0, 2, 0, 0, 2, 0, 2, 0, 0, 0,\n",
              "       0, 0, 0, 1, 0, 2, 2, 0, 0, 0, 1, 0, 1, 0, 0, 2, 2, 0, 2, 0, 2, 1,\n",
              "       0, 2, 1, 2, 0, 0, 2, 1, 1, 0, 0, 1, 0, 0, 0, 0, 0, 0, 0, 0, 0, 0,\n",
              "       0, 1, 0, 1, 0, 0, 1, 1, 0, 1, 1, 0, 0, 1, 1, 1, 1, 0, 0, 0, 0, 0,\n",
              "       1, 0, 1, 0, 0, 0, 1, 1, 1, 0, 0, 1, 1, 0, 0, 1, 0, 1, 0, 0, 1, 1,\n",
              "       0, 0, 0, 1, 1, 1, 1, 0, 1, 1, 0, 0, 0, 1, 1, 0, 0, 0, 0, 1, 0, 1,\n",
              "       0, 1, 1, 0, 0, 0, 0, 0, 0, 1, 1, 0, 1, 0, 1, 0])"
            ]
          },
          "metadata": {},
          "execution_count": 118
        }
      ]
    },
    {
      "cell_type": "code",
      "source": [
        "y_70"
      ],
      "metadata": {
        "colab": {
          "base_uri": "https://localhost:8080/"
        },
        "outputId": "e4bfc1c1-4542-4449-f786-1228ef985eb8",
        "id": "laE97ZDleQZb"
      },
      "execution_count": 119,
      "outputs": [
        {
          "output_type": "execute_result",
          "data": {
            "text/plain": [
              "array([0, 0, 2, 0, 0, 0, 0, 0, 0, 0, 0, 0, 0, 2, 0, 0, 0, 0, 0, 0, 0, 0,\n",
              "       0, 2, 2, 0, 2, 0, 0, 2, 0, 2, 0, 0, 0, 0, 0, 0, 0, 0, 0, 0, 0, 0,\n",
              "       0, 2, 0, 0, 0, 2, 0, 2, 2, 0, 2, 0, 2, 2, 2, 0, 0, 2, 0, 2, 0, 2,\n",
              "       0, 0, 2, 2, 0, 0, 2, 0, 0, 0, 0, 0, 0, 0, 2, 1, 1, 0, 0, 0, 0, 2,\n",
              "       2, 0, 2, 0, 0, 1, 1, 0, 0, 0, 0, 0, 1, 0, 2, 1, 2, 0, 2, 0, 0, 0,\n",
              "       2, 0, 0, 1, 0, 0, 0, 0, 0, 2, 0, 0, 0, 0, 0, 0, 2, 0, 0, 0, 0, 0,\n",
              "       0, 0, 0, 0, 0, 1, 0, 0, 0, 2, 0, 0, 0, 0, 0, 1, 1, 0, 1, 1, 0, 1,\n",
              "       1, 0, 0, 1, 0, 0, 0, 0, 0, 1, 0, 1, 0, 0, 0, 0, 0, 1, 1, 0, 0, 0,\n",
              "       0, 0, 0, 1, 0, 1, 0, 0, 0, 0, 0, 0, 0, 1, 0, 0, 0, 1, 0, 0, 1, 0,\n",
              "       0, 0, 0, 0, 1, 1, 1, 1, 0, 0, 0, 1, 0, 1, 1, 1, 0, 0, 0, 0, 1, 0,\n",
              "       1, 0, 0, 1, 0, 0, 0, 0, 0, 0, 0, 1, 1, 1, 1, 0])"
            ]
          },
          "metadata": {},
          "execution_count": 119
        }
      ]
    },
    {
      "cell_type": "markdown",
      "source": [
        "## 5) Compare and discuss the model performance from 3) and 4) by plotting two-dimension graph with decision boundary.\n"
      ],
      "metadata": {
        "id": "K4njjK7-eQZb"
      }
    },
    {
      "cell_type": "code",
      "source": [
        "# create a mesh to plot in. Return coordinate matrices from coordinate vectors\n",
        "x_min, x_max = X.iloc[:, 0].min() -1, X.iloc[:, 0].max() + 1\n",
        "y_min, y_max = X.iloc[:, 1].min() -1, X.iloc[:, 1].max() + 1\n",
        "xx, yy = np.meshgrid(np.arange(x_min, x_max, h),\n",
        "np.arange(y_min, y_max, h))\n",
        "# title for the plots\n",
        "titles = ['Label Spreading 30% data',\n",
        "'Label Spreading 50% data',\n",
        "'Label Spreading 70% data']\n",
        "color_map = {2: (0, 0, 0.9), 0: (1, 1, 1), 1: (1, 0, 0)}"
      ],
      "metadata": {
        "id": "brDz6ItGeQZb"
      },
      "execution_count": 120,
      "outputs": []
    },
    {
      "cell_type": "code",
      "source": [
        "plt.figure(figsize=(15,15))\n",
        "for i, (clf, y_train) in enumerate((ls30, ls50, ls70)):\n",
        "  # Plot the decision boundary. For that, we will assign a color to each\n",
        "  # point in the mesh [x_min, x_max]x[y_min, y_max].\n",
        "  plt.subplot(2, 2, i + 1)\n",
        "  Z = clf.predict(np.c_[xx.ravel(), yy.ravel()])\n",
        "  # Put the result into a color plot\n",
        "  Z = Z.reshape(xx.shape)\n",
        "  plt.contourf(xx, yy, Z, alpha = 0.7, cmap=plt.cm.Paired)\n",
        "  plt.axis('off')\n",
        "  # Plot also the training points\n",
        "  colors = [color_map[y] for y in y_train]\n",
        "  plt.scatter(X.iloc[:, 0], X.iloc[:, 1], c=colors, edgecolors='black',s=80,alpha=0.6)\n",
        "  plt.title(titles[i])\n",
        "plt.suptitle(\"Unlabeled points are colored white\", y=0.1)\n",
        "plt.show()\n"
      ],
      "metadata": {
        "colab": {
          "base_uri": "https://localhost:8080/",
          "height": 1000
        },
        "outputId": "785f0ede-5f2f-44b5-8aed-b8a0261b2450",
        "id": "54QB2C1eeQZb"
      },
      "execution_count": 123,
      "outputs": [
        {
          "output_type": "stream",
          "name": "stderr",
          "text": [
            "/usr/local/lib/python3.7/dist-packages/sklearn/base.py:451: UserWarning: X does not have valid feature names, but LabelSpreading was fitted with feature names\n",
            "  \"X does not have valid feature names, but\"\n",
            "/usr/local/lib/python3.7/dist-packages/sklearn/base.py:451: UserWarning: X does not have valid feature names, but LabelSpreading was fitted with feature names\n",
            "  \"X does not have valid feature names, but\"\n",
            "/usr/local/lib/python3.7/dist-packages/sklearn/base.py:451: UserWarning: X does not have valid feature names, but LabelSpreading was fitted with feature names\n",
            "  \"X does not have valid feature names, but\"\n"
          ]
        },
        {
          "output_type": "display_data",
          "data": {
            "text/plain": [
              "<Figure size 1080x1080 with 3 Axes>"
            ],
            "image/png": "[encoded data removed]"
          },
          "metadata": {
            "needs_background": "light"
          }
        }
      ]
    },
    {
      "cell_type": "markdown",
      "source": [
        "**SVC model use label 20 data**"
      ],
      "metadata": {
        "id": "gMzGqWPSeQZb"
      }
    },
    {
      "cell_type": "code",
      "source": [
        "# plot group by colors\n",
        "arr1 = np.arange(X_label.iloc[:, 0].min()-0.25, X_label.iloc[:, 0].max()+0.25, 0.01)\n",
        "arr2 = np.arange(X_label.iloc[:, 1].min()-0.25, X_label.iloc[:, 1].max()+0.25, 0.01)\n",
        "\n",
        "xx, yy = np.meshgrid(arr1, arr2)\n",
        "input_array = np.array([xx.ravel(), yy.ravel()]).T\n",
        "labels = model.predict(input_array)\n",
        "\n",
        "colors = [color_map[y] for y in y_label]\n",
        "\n",
        "plt.figure(figsize=(8,8))\n",
        "plt.contourf(xx, yy, labels.reshape(xx.shape), alpha = 0.1)\n",
        "plt.scatter(X_label['BILIRUBIN'],X_label['SGOT'],c=colors,s=80,alpha=0.6)\n",
        "plt.xlabel('Feature BILIRUBIN --->')\n",
        "plt.ylabel('Feature SGOT --->')\n",
        "plt.title('Hepatitis 32% label Data')"
      ],
      "metadata": {
        "colab": {
          "base_uri": "https://localhost:8080/",
          "height": 565
        },
        "outputId": "1266b757-f130-4eee-87cd-3c6a36c618b0",
        "id": "V0s8hdb2tbnC"
      },
      "execution_count": 131,
      "outputs": [
        {
          "output_type": "stream",
          "name": "stderr",
          "text": [
            "/usr/local/lib/python3.7/dist-packages/sklearn/base.py:451: UserWarning: X does not have valid feature names, but SVC was fitted with feature names\n",
            "  \"X does not have valid feature names, but\"\n"
          ]
        },
        {
          "output_type": "execute_result",
          "data": {
            "text/plain": [
              "Text(0.5, 1.0, 'Hepatitis 32% label Data')"
            ]
          },
          "metadata": {},
          "execution_count": 131
        },
        {
          "output_type": "display_data",
          "data": {
            "text/plain": [
              "<Figure size 576x576 with 1 Axes>"
            ],
            "image/png": "[encoded data removed]"
          },
          "metadata": {
            "needs_background": "light"
          }
        }
      ]
    },
    {
      "cell_type": "code",
      "source": [
        "# To Plot the Decision Boundary. white is non label data\n",
        "arr1 = np.arange(X.iloc[:, 0].min()-0.25, X.iloc[:, 0].max()+0.25, 0.01)\n",
        "arr2 = np.arange(X.iloc[:, 1].min()-0.25, X.iloc[:, 1].max()+0.25, 0.01)\n",
        "\n",
        "xx, yy = np.meshgrid(arr1, arr2)\n",
        "input_array = np.array([xx.ravel(), yy.ravel()]).T\n",
        "labels = model.predict(input_array)\n",
        "\n",
        "colors = [color_map[y] for y in new_y]\n",
        "\n",
        "plt.figure(figsize=(8,8))\n",
        "plt.contourf(xx, yy, labels.reshape(xx.shape), alpha = 0.1)\n",
        "plt.scatter(X['BILIRUBIN'],X['SGOT'],c=colors,s=80, edgecolors='black',alpha=0.6)\n",
        "plt.xlabel('Feature BILIRUBIN --->')\n",
        "plt.ylabel('Feature SGOT --->')\n",
        "plt.title('Hepatitis Data + SVM 32% label data')"
      ],
      "metadata": {
        "colab": {
          "base_uri": "https://localhost:8080/",
          "height": 565
        },
        "outputId": "74a386f7-a6b8-431b-b8d4-d73fc72d568a",
        "id": "j-LY5hnZeQZc"
      },
      "execution_count": 132,
      "outputs": [
        {
          "output_type": "stream",
          "name": "stderr",
          "text": [
            "/usr/local/lib/python3.7/dist-packages/sklearn/base.py:451: UserWarning: X does not have valid feature names, but SVC was fitted with feature names\n",
            "  \"X does not have valid feature names, but\"\n"
          ]
        },
        {
          "output_type": "execute_result",
          "data": {
            "text/plain": [
              "Text(0.5, 1.0, 'Hepatitis Data + SVM 32% label data')"
            ]
          },
          "metadata": {},
          "execution_count": 132
        },
        {
          "output_type": "display_data",
          "data": {
            "text/plain": [
              "<Figure size 576x576 with 1 Axes>"
            ],
            "image/png": "[encoded data removed]"
          },
          "metadata": {
            "needs_background": "light"
          }
        }
      ]
    },
    {
      "cell_type": "markdown",
      "source": [
        "**SVC model use normal 62 label data**"
      ],
      "metadata": {
        "id": "S-MNFfN4eQZc"
      }
    },
    {
      "cell_type": "code",
      "source": [
        "# plot group by colors\n",
        "arr1 = np.arange(X.iloc[:, 0].min()-1, X.iloc[:, 0].max()+1, 0.01)\n",
        "arr2 = np.arange(X.iloc[:, 1].min()-1, X.iloc[:, 1].max()+1, 0.01)\n",
        "\n",
        "xx, yy = np.meshgrid(arr1, arr2)\n",
        "input_array = np.array([xx.ravel(), yy.ravel()]).T\n",
        "modelSVCAll = SVC()\n",
        "modelSVCAll.fit(X,y)\n",
        "labels = modelSVCAll.predict(input_array)\n",
        "\n",
        "colors = [color_map[y] for y in y]\n",
        "\n",
        "plt.figure(figsize=(8,8))\n",
        "plt.contourf(xx, yy, labels.reshape(xx.shape), alpha = 0.1)\n",
        "plt.scatter(X['BILIRUBIN'],X['SGOT'],c=colors,s=80,alpha=0.6)\n",
        "plt.xlabel('Feature BILIRUBIN --->')\n",
        "plt.ylabel('Feature SGOT --->')\n",
        "plt.title('Hepatitis Data ')"
      ],
      "metadata": {
        "colab": {
          "base_uri": "https://localhost:8080/",
          "height": 565
        },
        "outputId": "44250f19-73ff-48e0-fc7a-1f49eb3ef455",
        "id": "1Woe-8SJeQZc"
      },
      "execution_count": 127,
      "outputs": [
        {
          "output_type": "stream",
          "name": "stderr",
          "text": [
            "/usr/local/lib/python3.7/dist-packages/sklearn/base.py:451: UserWarning: X does not have valid feature names, but SVC was fitted with feature names\n",
            "  \"X does not have valid feature names, but\"\n"
          ]
        },
        {
          "output_type": "execute_result",
          "data": {
            "text/plain": [
              "Text(0.5, 1.0, 'Hepatitis Data ')"
            ]
          },
          "metadata": {},
          "execution_count": 127
        },
        {
          "output_type": "display_data",
          "data": {
            "text/plain": [
              "<Figure size 576x576 with 1 Axes>"
            ],
            "image/png": "[encoded data removed]"
          },
          "metadata": {
            "needs_background": "light"
          }
        }
      ]
    },
    {
      "cell_type": "code",
      "source": [],
      "metadata": {
        "id": "QZTN79mt1Wy6"
      },
      "execution_count": null,
      "outputs": []
    },
    {
      "cell_type": "markdown",
      "source": [
        "### $\\color{green} {Discussion}$"
      ],
      "metadata": {
        "id": "26rUAWFweQZc"
      }
    },
    {
      "cell_type": "markdown",
      "source": [
        "label propagation unlabel y 30% can perform classification from dicision boundary and performance decline in 50% then worst for 70%\n",
        "on 70% non label cannot create dicision boundary  \n",
        "svm 20 label data compare with normal data quite a bit difference"
      ],
      "metadata": {
        "id": "t09srqvReQZc"
      }
    },
    {
      "cell_type": "markdown",
      "source": [
        "# c) (8 points) Dont run this part due to ROC value\n"
      ],
      "metadata": {
        "id": "tY49Umjlnf8i"
      }
    },
    {
      "cell_type": "markdown",
      "source": [
        "## 1) From colon.csv, please reduce data dimension by using 2 features (column’s name or gene#: T62947 and H64807).\n"
      ],
      "metadata": {
        "id": "83-MzBsmnlHA"
      }
    },
    {
      "cell_type": "code",
      "source": [
        "# import colonData\n",
        "url ='https://raw.githubusercontent.com/ViktorHexCore/R_CEB/main/DataForRpartOne/colon.csv'\n",
        "# url =r'/content/drive/MyDrive/Dataset/Assignment/colon.csv'\n",
        "df_colon = pd.read_csv(url)\n",
        "df_colon.head()"
      ],
      "metadata": {
        "colab": {
          "base_uri": "https://localhost:8080/",
          "height": 236
        },
        "id": "S2TkAk-BpzYf",
        "outputId": "0f74192c-0d1a-4f69-a8ab-7b943e8a2dc0"
      },
      "execution_count": 222,
      "outputs": [
        {
          "output_type": "execute_result",
          "data": {
            "text/plain": [
              "   H55933  R39465  R39465.1  R85482    U14973  R02593    T51496  H80240  \\\n",
              "0    3.62    3.31  2.986154    2.71  2.091310    3.12  2.745517    2.42   \n",
              "1    3.47    3.68  3.425553    3.05  2.402400    2.46  2.150405    2.26   \n",
              "2    3.02    2.78  2.569772    3.21  2.707560    2.63  2.385288    3.00   \n",
              "3    3.10    2.86  2.772942    3.19  2.354082    2.76  2.103475    2.93   \n",
              "4    3.01    2.91  2.560548    3.25  2.336800    3.04  2.881109    2.55   \n",
              "\n",
              "     T65938  T55131  ...  R70790    L11706  T90549    D17390  M33210  \\\n",
              "0  3.352726    2.97  ...  -1.030 -0.983356  -0.531 -1.142698  -1.110   \n",
              "1  3.020793    3.26  ...  -1.230 -3.063926   0.156 -0.687025  -0.777   \n",
              "2  2.633958    2.40  ...  -0.758  0.318488  -1.250 -1.099859  -0.131   \n",
              "3  3.176524    2.84  ...  -1.180  0.079492  -1.070 -0.465491  -0.455   \n",
              "4  2.852425    2.57  ...  -0.491 -0.081214  -1.160 -0.889998  -0.528   \n",
              "\n",
              "     H18490  H40891    R77780  T49647  Class  \n",
              "0 -0.520386  -0.315 -1.764190   -2.75      1  \n",
              "1 -1.093455  -1.210 -1.062064   -2.13      1  \n",
              "2 -2.748068  -1.010 -2.260031   -1.50      1  \n",
              "3 -1.804783  -1.610 -1.223450   -1.07      1  \n",
              "4 -1.636024  -1.210 -1.232686   -1.62      1  \n",
              "\n",
              "[5 rows x 2001 columns]"
            ],
            "text/html": [
              "\n",
              "  <div id=\"df-dfdf2604-3ac0-467c-907c-bc3ad50e67c6\">\n",
              "    <div class=\"colab-df-container\">\n",
              "      <div>\n",
              "<style scoped>\n",
              "    .dataframe tbody tr th:only-of-type {\n",
              "        vertical-align: middle;\n",
              "    }\n",
              "\n",
              "    .dataframe tbody tr th {\n",
              "        vertical-align: top;\n",
              "    }\n",
              "\n",
              "    .dataframe thead th {\n",
              "        text-align: right;\n",
              "    }\n",
              "</style>\n",
              "<table border=\"1\" class=\"dataframe\">\n",
              "  <thead>\n",
              "    <tr style=\"text-align: right;\">\n",
              "      <th></th>\n",
              "      <th>H55933</th>\n",
              "      <th>R39465</th>\n",
              "      <th>R39465.1</th>\n",
              "      <th>R85482</th>\n",
              "      <th>U14973</th>\n",
              "      <th>R02593</th>\n",
              "      <th>T51496</th>\n",
              "      <th>H80240</th>\n",
              "      <th>T65938</th>\n",
              "      <th>T55131</th>\n",
              "      <th>...</th>\n",
              "      <th>R70790</th>\n",
              "      <th>L11706</th>\n",
              "      <th>T90549</th>\n",
              "      <th>D17390</th>\n",
              "      <th>M33210</th>\n",
              "      <th>H18490</th>\n",
              "      <th>H40891</th>\n",
              "      <th>R77780</th>\n",
              "      <th>T49647</th>\n",
              "      <th>Class</th>\n",
              "    </tr>\n",
              "  </thead>\n",
              "  <tbody>\n",
              "    <tr>\n",
              "      <th>0</th>\n",
              "      <td>3.62</td>\n",
              "      <td>3.31</td>\n",
              "      <td>2.986154</td>\n",
              "      <td>2.71</td>\n",
              "      <td>2.091310</td>\n",
              "      <td>3.12</td>\n",
              "      <td>2.745517</td>\n",
              "      <td>2.42</td>\n",
              "      <td>3.352726</td>\n",
              "      <td>2.97</td>\n",
              "      <td>...</td>\n",
              "      <td>-1.030</td>\n",
              "      <td>-0.983356</td>\n",
              "      <td>-0.531</td>\n",
              "      <td>-1.142698</td>\n",
              "      <td>-1.110</td>\n",
              "      <td>-0.520386</td>\n",
              "      <td>-0.315</td>\n",
              "      <td>-1.764190</td>\n",
              "      <td>-2.75</td>\n",
              "      <td>1</td>\n",
              "    </tr>\n",
              "    <tr>\n",
              "      <th>1</th>\n",
              "      <td>3.47</td>\n",
              "      <td>3.68</td>\n",
              "      <td>3.425553</td>\n",
              "      <td>3.05</td>\n",
              "      <td>2.402400</td>\n",
              "      <td>2.46</td>\n",
              "      <td>2.150405</td>\n",
              "      <td>2.26</td>\n",
              "      <td>3.020793</td>\n",
              "      <td>3.26</td>\n",
              "      <td>...</td>\n",
              "      <td>-1.230</td>\n",
              "      <td>-3.063926</td>\n",
              "      <td>0.156</td>\n",
              "      <td>-0.687025</td>\n",
              "      <td>-0.777</td>\n",
              "      <td>-1.093455</td>\n",
              "      <td>-1.210</td>\n",
              "      <td>-1.062064</td>\n",
              "      <td>-2.13</td>\n",
              "      <td>1</td>\n",
              "    </tr>\n",
              "    <tr>\n",
              "      <th>2</th>\n",
              "      <td>3.02</td>\n",
              "      <td>2.78</td>\n",
              "      <td>2.569772</td>\n",
              "      <td>3.21</td>\n",
              "      <td>2.707560</td>\n",
              "      <td>2.63</td>\n",
              "      <td>2.385288</td>\n",
              "      <td>3.00</td>\n",
              "      <td>2.633958</td>\n",
              "      <td>2.40</td>\n",
              "      <td>...</td>\n",
              "      <td>-0.758</td>\n",
              "      <td>0.318488</td>\n",
              "      <td>-1.250</td>\n",
              "      <td>-1.099859</td>\n",
              "      <td>-0.131</td>\n",
              "      <td>-2.748068</td>\n",
              "      <td>-1.010</td>\n",
              "      <td>-2.260031</td>\n",
              "      <td>-1.50</td>\n",
              "      <td>1</td>\n",
              "    </tr>\n",
              "    <tr>\n",
              "      <th>3</th>\n",
              "      <td>3.10</td>\n",
              "      <td>2.86</td>\n",
              "      <td>2.772942</td>\n",
              "      <td>3.19</td>\n",
              "      <td>2.354082</td>\n",
              "      <td>2.76</td>\n",
              "      <td>2.103475</td>\n",
              "      <td>2.93</td>\n",
              "      <td>3.176524</td>\n",
              "      <td>2.84</td>\n",
              "      <td>...</td>\n",
              "      <td>-1.180</td>\n",
              "      <td>0.079492</td>\n",
              "      <td>-1.070</td>\n",
              "      <td>-0.465491</td>\n",
              "      <td>-0.455</td>\n",
              "      <td>-1.804783</td>\n",
              "      <td>-1.610</td>\n",
              "      <td>-1.223450</td>\n",
              "      <td>-1.07</td>\n",
              "      <td>1</td>\n",
              "    </tr>\n",
              "    <tr>\n",
              "      <th>4</th>\n",
              "      <td>3.01</td>\n",
              "      <td>2.91</td>\n",
              "      <td>2.560548</td>\n",
              "      <td>3.25</td>\n",
              "      <td>2.336800</td>\n",
              "      <td>3.04</td>\n",
              "      <td>2.881109</td>\n",
              "      <td>2.55</td>\n",
              "      <td>2.852425</td>\n",
              "      <td>2.57</td>\n",
              "      <td>...</td>\n",
              "      <td>-0.491</td>\n",
              "      <td>-0.081214</td>\n",
              "      <td>-1.160</td>\n",
              "      <td>-0.889998</td>\n",
              "      <td>-0.528</td>\n",
              "      <td>-1.636024</td>\n",
              "      <td>-1.210</td>\n",
              "      <td>-1.232686</td>\n",
              "      <td>-1.62</td>\n",
              "      <td>1</td>\n",
              "    </tr>\n",
              "  </tbody>\n",
              "</table>\n",
              "<p>5 rows × 2001 columns</p>\n",
              "</div>\n",
              "      <button class=\"colab-df-convert\" onclick=\"convertToInteractive('df-dfdf2604-3ac0-467c-907c-bc3ad50e67c6')\"\n",
              "              title=\"Convert this dataframe to an interactive table.\"\n",
              "              style=\"display:none;\">\n",
              "        \n",
              "  <svg xmlns=\"http://www.w3.org/2000/svg\" height=\"24px\"viewBox=\"0 0 24 24\"\n",
              "       width=\"24px\">\n",
              "    <path d=\"M0 0h24v24H0V0z\" fill=\"none\"/>\n",
              "    <path d=\"M18.56 5.44l.94 2.06.94-2.06 2.06-.94-2.06-.94-.94-2.06-.94 2.06-2.06.94zm-11 1L8.5 8.5l.94-2.06 2.06-.94-2.06-.94L8.5 2.5l-.94 2.06-2.06.94zm10 10l.94 2.06.94-2.06 2.06-.94-2.06-.94-.94-2.06-.94 2.06-2.06.94z\"/><path d=\"M17.41 7.96l-1.37-1.37c-.4-.4-.92-.59-1.43-.59-.52 0-1.04.2-1.43.59L10.3 9.45l-7.72 7.72c-.78.78-.78 2.05 0 2.83L4 21.41c.39.39.9.59 1.41.59.51 0 1.02-.2 1.41-.59l7.78-7.78 2.81-2.81c.8-.78.8-2.07 0-2.86zM5.41 20L4 18.59l7.72-7.72 1.47 1.35L5.41 20z\"/>\n",
              "  </svg>\n",
              "      </button>\n",
              "      \n",
              "  <style>\n",
              "    .colab-df-container {\n",
              "      display:flex;\n",
              "      flex-wrap:wrap;\n",
              "      gap: 12px;\n",
              "    }\n",
              "\n",
              "    .colab-df-convert {\n",
              "      background-color: #E8F0FE;\n",
              "      border: none;\n",
              "      border-radius: 50%;\n",
              "      cursor: pointer;\n",
              "      display: none;\n",
              "      fill: #1967D2;\n",
              "      height: 32px;\n",
              "      padding: 0 0 0 0;\n",
              "      width: 32px;\n",
              "    }\n",
              "\n",
              "    .colab-df-convert:hover {\n",
              "      background-color: #E2EBFA;\n",
              "      box-shadow: 0px 1px 2px rgba(60, 64, 67, 0.3), 0px 1px 3px 1px rgba(60, 64, 67, 0.15);\n",
              "      fill: #174EA6;\n",
              "    }\n",
              "\n",
              "    [theme=dark] .colab-df-convert {\n",
              "      background-color: #3B4455;\n",
              "      fill: #D2E3FC;\n",
              "    }\n",
              "\n",
              "    [theme=dark] .colab-df-convert:hover {\n",
              "      background-color: #434B5C;\n",
              "      box-shadow: 0px 1px 3px 1px rgba(0, 0, 0, 0.15);\n",
              "      filter: drop-shadow(0px 1px 2px rgba(0, 0, 0, 0.3));\n",
              "      fill: #FFFFFF;\n",
              "    }\n",
              "  </style>\n",
              "\n",
              "      <script>\n",
              "        const buttonEl =\n",
              "          document.querySelector('#df-dfdf2604-3ac0-467c-907c-bc3ad50e67c6 button.colab-df-convert');\n",
              "        buttonEl.style.display =\n",
              "          google.colab.kernel.accessAllowed ? 'block' : 'none';\n",
              "\n",
              "        async function convertToInteractive(key) {\n",
              "          const element = document.querySelector('#df-dfdf2604-3ac0-467c-907c-bc3ad50e67c6');\n",
              "          const dataTable =\n",
              "            await google.colab.kernel.invokeFunction('convertToInteractive',\n",
              "                                                     [key], {});\n",
              "          if (!dataTable) return;\n",
              "\n",
              "          const docLinkHtml = 'Like what you see? Visit the ' +\n",
              "            '<a target=\"_blank\" href=https://colab.research.google.com/notebooks/data_table.ipynb>data table notebook</a>'\n",
              "            + ' to learn more about interactive tables.';\n",
              "          element.innerHTML = '';\n",
              "          dataTable['output_type'] = 'display_data';\n",
              "          await google.colab.output.renderOutput(dataTable, element);\n",
              "          const docLink = document.createElement('div');\n",
              "          docLink.innerHTML = docLinkHtml;\n",
              "          element.appendChild(docLink);\n",
              "        }\n",
              "      </script>\n",
              "    </div>\n",
              "  </div>\n",
              "  "
            ]
          },
          "metadata": {},
          "execution_count": 222
        }
      ]
    },
    {
      "cell_type": "code",
      "source": [
        "# get only two column 'T62947','H64807'\n",
        "X = df_colon[['T62947','H64807']]\n",
        "y = df_colon['Class']\n",
        "X.head()"
      ],
      "metadata": {
        "colab": {
          "base_uri": "https://localhost:8080/",
          "height": 206
        },
        "outputId": "5848748d-fd93-4706-d8ef-e4fd7dcc30a2",
        "id": "CsiC6X_Pn6Oc"
      },
      "execution_count": 224,
      "outputs": [
        {
          "output_type": "execute_result",
          "data": {
            "text/plain": [
              "   T62947  H64807\n",
              "0  -1.360  -1.470\n",
              "1  -1.130  -0.830\n",
              "2  -0.377  -0.147\n",
              "3  -1.240  -0.173\n",
              "4  -0.745  -0.420"
            ],
            "text/html": [
              "\n",
              "  <div id=\"df-fa9b24f7-f35a-41ec-9e0f-472d9158d8cb\">\n",
              "    <div class=\"colab-df-container\">\n",
              "      <div>\n",
              "<style scoped>\n",
              "    .dataframe tbody tr th:only-of-type {\n",
              "        vertical-align: middle;\n",
              "    }\n",
              "\n",
              "    .dataframe tbody tr th {\n",
              "        vertical-align: top;\n",
              "    }\n",
              "\n",
              "    .dataframe thead th {\n",
              "        text-align: right;\n",
              "    }\n",
              "</style>\n",
              "<table border=\"1\" class=\"dataframe\">\n",
              "  <thead>\n",
              "    <tr style=\"text-align: right;\">\n",
              "      <th></th>\n",
              "      <th>T62947</th>\n",
              "      <th>H64807</th>\n",
              "    </tr>\n",
              "  </thead>\n",
              "  <tbody>\n",
              "    <tr>\n",
              "      <th>0</th>\n",
              "      <td>-1.360</td>\n",
              "      <td>-1.470</td>\n",
              "    </tr>\n",
              "    <tr>\n",
              "      <th>1</th>\n",
              "      <td>-1.130</td>\n",
              "      <td>-0.830</td>\n",
              "    </tr>\n",
              "    <tr>\n",
              "      <th>2</th>\n",
              "      <td>-0.377</td>\n",
              "      <td>-0.147</td>\n",
              "    </tr>\n",
              "    <tr>\n",
              "      <th>3</th>\n",
              "      <td>-1.240</td>\n",
              "      <td>-0.173</td>\n",
              "    </tr>\n",
              "    <tr>\n",
              "      <th>4</th>\n",
              "      <td>-0.745</td>\n",
              "      <td>-0.420</td>\n",
              "    </tr>\n",
              "  </tbody>\n",
              "</table>\n",
              "</div>\n",
              "      <button class=\"colab-df-convert\" onclick=\"convertToInteractive('df-fa9b24f7-f35a-41ec-9e0f-472d9158d8cb')\"\n",
              "              title=\"Convert this dataframe to an interactive table.\"\n",
              "              style=\"display:none;\">\n",
              "        \n",
              "  <svg xmlns=\"http://www.w3.org/2000/svg\" height=\"24px\"viewBox=\"0 0 24 24\"\n",
              "       width=\"24px\">\n",
              "    <path d=\"M0 0h24v24H0V0z\" fill=\"none\"/>\n",
              "    <path d=\"M18.56 5.44l.94 2.06.94-2.06 2.06-.94-2.06-.94-.94-2.06-.94 2.06-2.06.94zm-11 1L8.5 8.5l.94-2.06 2.06-.94-2.06-.94L8.5 2.5l-.94 2.06-2.06.94zm10 10l.94 2.06.94-2.06 2.06-.94-2.06-.94-.94-2.06-.94 2.06-2.06.94z\"/><path d=\"M17.41 7.96l-1.37-1.37c-.4-.4-.92-.59-1.43-.59-.52 0-1.04.2-1.43.59L10.3 9.45l-7.72 7.72c-.78.78-.78 2.05 0 2.83L4 21.41c.39.39.9.59 1.41.59.51 0 1.02-.2 1.41-.59l7.78-7.78 2.81-2.81c.8-.78.8-2.07 0-2.86zM5.41 20L4 18.59l7.72-7.72 1.47 1.35L5.41 20z\"/>\n",
              "  </svg>\n",
              "      </button>\n",
              "      \n",
              "  <style>\n",
              "    .colab-df-container {\n",
              "      display:flex;\n",
              "      flex-wrap:wrap;\n",
              "      gap: 12px;\n",
              "    }\n",
              "\n",
              "    .colab-df-convert {\n",
              "      background-color: #E8F0FE;\n",
              "      border: none;\n",
              "      border-radius: 50%;\n",
              "      cursor: pointer;\n",
              "      display: none;\n",
              "      fill: #1967D2;\n",
              "      height: 32px;\n",
              "      padding: 0 0 0 0;\n",
              "      width: 32px;\n",
              "    }\n",
              "\n",
              "    .colab-df-convert:hover {\n",
              "      background-color: #E2EBFA;\n",
              "      box-shadow: 0px 1px 2px rgba(60, 64, 67, 0.3), 0px 1px 3px 1px rgba(60, 64, 67, 0.15);\n",
              "      fill: #174EA6;\n",
              "    }\n",
              "\n",
              "    [theme=dark] .colab-df-convert {\n",
              "      background-color: #3B4455;\n",
              "      fill: #D2E3FC;\n",
              "    }\n",
              "\n",
              "    [theme=dark] .colab-df-convert:hover {\n",
              "      background-color: #434B5C;\n",
              "      box-shadow: 0px 1px 3px 1px rgba(0, 0, 0, 0.15);\n",
              "      filter: drop-shadow(0px 1px 2px rgba(0, 0, 0, 0.3));\n",
              "      fill: #FFFFFF;\n",
              "    }\n",
              "  </style>\n",
              "\n",
              "      <script>\n",
              "        const buttonEl =\n",
              "          document.querySelector('#df-fa9b24f7-f35a-41ec-9e0f-472d9158d8cb button.colab-df-convert');\n",
              "        buttonEl.style.display =\n",
              "          google.colab.kernel.accessAllowed ? 'block' : 'none';\n",
              "\n",
              "        async function convertToInteractive(key) {\n",
              "          const element = document.querySelector('#df-fa9b24f7-f35a-41ec-9e0f-472d9158d8cb');\n",
              "          const dataTable =\n",
              "            await google.colab.kernel.invokeFunction('convertToInteractive',\n",
              "                                                     [key], {});\n",
              "          if (!dataTable) return;\n",
              "\n",
              "          const docLinkHtml = 'Like what you see? Visit the ' +\n",
              "            '<a target=\"_blank\" href=https://colab.research.google.com/notebooks/data_table.ipynb>data table notebook</a>'\n",
              "            + ' to learn more about interactive tables.';\n",
              "          element.innerHTML = '';\n",
              "          dataTable['output_type'] = 'display_data';\n",
              "          await google.colab.output.renderOutput(dataTable, element);\n",
              "          const docLink = document.createElement('div');\n",
              "          docLink.innerHTML = docLinkHtml;\n",
              "          element.appendChild(docLink);\n",
              "        }\n",
              "      </script>\n",
              "    </div>\n",
              "  </div>\n",
              "  "
            ]
          },
          "metadata": {},
          "execution_count": 224
        }
      ]
    },
    {
      "cell_type": "markdown",
      "source": [
        "## 2) Use a SMOTE transformed version of the dataset + Decision Tree Classifier"
      ],
      "metadata": {
        "id": "mh3Y_ChMns42"
      }
    },
    {
      "cell_type": "code",
      "source": [
        "# summarize class distribution\n",
        "from collections import Counter\n",
        "counter = Counter(y)\n",
        "print(counter)"
      ],
      "metadata": {
        "colab": {
          "base_uri": "https://localhost:8080/"
        },
        "id": "znYcvJSwhVY8",
        "outputId": "f264bf80-7ad0-4ba7-b4d4-491a3200bc8f"
      },
      "execution_count": 104,
      "outputs": [
        {
          "output_type": "stream",
          "name": "stdout",
          "text": [
            "Counter({-1: 40, 1: 22})\n"
          ]
        }
      ]
    },
    {
      "cell_type": "code",
      "source": [
        "# scatter plot of examples by class label\n",
        "from matplotlib import pyplot\n",
        "from numpy import where\n",
        "\n",
        "plt.figure(figsize=(8,8))\n",
        "for label, _ in counter.items():\n",
        "  row_ix = where(y == label)[0]\n",
        "  pyplot.scatter(X.iloc[row_ix, 0], X.iloc[row_ix, 1], label=str(label),s=60,alpha=0.6)\n",
        "pyplot.legend()\n",
        "pyplot.show()"
      ],
      "metadata": {
        "colab": {
          "base_uri": "https://localhost:8080/",
          "height": 483
        },
        "id": "ARFaxxqZhiSU",
        "outputId": "c2f88b9c-a008-432f-abe6-346405483d87"
      },
      "execution_count": 92,
      "outputs": [
        {
          "output_type": "display_data",
          "data": {
            "text/plain": [
              "<Figure size 576x576 with 1 Axes>"
            ],
            "image/png": "[encoded data removed]"
          },
          "metadata": {
            "needs_background": "light"
          }
        }
      ]
    },
    {
      "cell_type": "markdown",
      "source": [
        "**Use SMOTE to create additional data. now class = 1 was inceased to 40**"
      ],
      "metadata": {
        "id": "kLkSqrViidZK"
      }
    },
    {
      "cell_type": "code",
      "source": [
        "# transform the dataset\n",
        "from imblearn.over_sampling import SMOTE\n",
        "oversample = SMOTE()\n",
        "X_smote, y_smote = oversample.fit_resample(X, y)\n",
        "# summarize the new class distribution\n",
        "counter_smote = Counter(y_smote)\n",
        "print(counter_smote)"
      ],
      "metadata": {
        "colab": {
          "base_uri": "https://localhost:8080/"
        },
        "id": "vNNMoaWchlSb",
        "outputId": "d21abb4e-cadb-4b0c-ca22-34445f5d0bf2"
      },
      "execution_count": 93,
      "outputs": [
        {
          "output_type": "stream",
          "name": "stdout",
          "text": [
            "Counter({1: 40, -1: 40})\n"
          ]
        }
      ]
    },
    {
      "cell_type": "markdown",
      "source": [
        "**Plot new data after preform SMOTE**"
      ],
      "metadata": {
        "id": "Rjv-LfaMir3A"
      }
    },
    {
      "cell_type": "code",
      "source": [
        "# scatter plot of examples by class label\n",
        "from matplotlib import pyplot\n",
        "from numpy import where\n",
        "plt.figure(figsize=(8,8))\n",
        "\n",
        "for label, _ in counter.items():\n",
        "  row_ix = where(y_smote == label)[0]\n",
        "  pyplot.scatter(X_smote.iloc[row_ix, 0], X_smote.iloc[row_ix, 1], label=str(label),s=60,alpha=0.6)\n",
        "pyplot.legend()\n",
        "pyplot.show()"
      ],
      "metadata": {
        "colab": {
          "base_uri": "https://localhost:8080/",
          "height": 483
        },
        "id": "EQqoMcnUhmoz",
        "outputId": "6933bc80-5e52-4942-aa86-653707fea286"
      },
      "execution_count": 94,
      "outputs": [
        {
          "output_type": "display_data",
          "data": {
            "text/plain": [
              "<Figure size 576x576 with 1 Axes>"
            ],
            "image/png": "[encoded data removed]"
          },
          "metadata": {
            "needs_background": "light"
          }
        }
      ]
    },
    {
      "cell_type": "code",
      "source": [
        "# decision tree evaluated on imbalanced dataset\n",
        "from sklearn.model_selection import cross_val_score\n",
        "from sklearn.model_selection import RepeatedStratifiedKFold\n",
        "from sklearn.tree import DecisionTreeClassifier"
      ],
      "metadata": {
        "id": "ymeV5qrVgzpt"
      },
      "execution_count": 99,
      "outputs": []
    },
    {
      "cell_type": "markdown",
      "source": [
        "**get AUC by cross validation model DecisionTreeClassifier without SMOTE**"
      ],
      "metadata": {
        "id": "jb3nrt3jPpyk"
      }
    },
    {
      "cell_type": "code",
      "source": [
        "# define model\n",
        "model = DecisionTreeClassifier()\n",
        "# evaluate pipeline\n",
        "cv = RepeatedStratifiedKFold(n_splits=10, n_repeats=3, random_state=1)\n",
        "scores = cross_val_score(model, np.array(X), y, scoring='roc_auc', cv=cv, n_jobs=-1)\n",
        "# print Mean Score of ROC AUC\n",
        "print('Mean ROC AUC: %.3f' % np.mean(scores))"
      ],
      "metadata": {
        "colab": {
          "base_uri": "https://localhost:8080/"
        },
        "id": "uUNryinQg5Ps",
        "outputId": "801ea42e-9927-4742-edd5-740c8f15cc52"
      },
      "execution_count": 185,
      "outputs": [
        {
          "output_type": "stream",
          "name": "stdout",
          "text": [
            "Mean ROC AUC: 0.767\n"
          ]
        }
      ]
    },
    {
      "cell_type": "markdown",
      "source": [
        "**Use a SMOTE transformed version of the dataset.**\n"
      ],
      "metadata": {
        "id": "HZuaqQDxjx4P"
      }
    },
    {
      "cell_type": "code",
      "source": [
        "# define pipeline\n",
        "from imblearn.pipeline import Pipeline\n",
        "steps = [('over', SMOTE()), ('model', DecisionTreeClassifier())]\n",
        "pipeline = Pipeline(steps=steps)\n",
        "# evaluate pipeline\n",
        "cv = RepeatedStratifiedKFold(n_splits=10, n_repeats=3, random_state=1)\n",
        "scores = cross_val_score(pipeline, np.array(X), y, scoring='roc_auc', cv=cv, n_jobs=-1)\n",
        "print('Mean ROC AUC: %.3f' % np.mean(scores))"
      ],
      "metadata": {
        "colab": {
          "base_uri": "https://localhost:8080/"
        },
        "id": "JYPtjmhhjMAk",
        "outputId": "6e701eb5-22be-4dc9-c3bc-74ae90e2bd75"
      },
      "execution_count": 216,
      "outputs": [
        {
          "output_type": "stream",
          "name": "stdout",
          "text": [
            "Mean ROC AUC: 0.801\n"
          ]
        }
      ]
    },
    {
      "cell_type": "markdown",
      "source": [
        "## 3) Use a SMOTE transformed version of the dataset combined with undersampling of the majority class + Decision Tree Classifier"
      ],
      "metadata": {
        "id": "06aC0gMUnwPX"
      }
    },
    {
      "cell_type": "code",
      "source": [
        "from imblearn.under_sampling import RandomUnderSampler\n",
        "model = DecisionTreeClassifier()\n",
        "over = SMOTE(sampling_strategy=0.9)\n",
        "under = RandomUnderSampler(sampling_strategy=1)\n",
        "steps = [('over', over), ('under', under), ('model', model)]\n",
        "pipeline = Pipeline(steps=steps)\n",
        "cv = RepeatedStratifiedKFold(n_splits=10, n_repeats=3, random_state=1)\n",
        "scores = cross_val_score(pipeline, np.array(X), y, scoring='roc_auc', cv=cv, n_jobs=-1)\n",
        "print('Mean ROC AUC: %.3f' % np.mean(scores))"
      ],
      "metadata": {
        "colab": {
          "base_uri": "https://localhost:8080/"
        },
        "id": "y3TnBiPzP3L4",
        "outputId": "73b53745-6545-4ed2-a81b-e81acc6f13c8"
      },
      "execution_count": 203,
      "outputs": [
        {
          "output_type": "stream",
          "name": "stdout",
          "text": [
            "Mean ROC AUC: 0.826\n"
          ]
        }
      ]
    },
    {
      "cell_type": "markdown",
      "source": [
        "## 4) Use a SMOTE transformed version of the dataset combined with undersamplingof the majority class + grid search k value for SMOTE oversampling for imbalanced classification + Decision Tree Classifier\n"
      ],
      "metadata": {
        "id": "AU7dz-q7Quul"
      }
    },
    {
      "cell_type": "code",
      "source": [
        "k_values = [1, 2, 3, 4, 5, 6, 7]\n",
        "for k in k_values:\n",
        "  # define pipeline\n",
        "  model = DecisionTreeClassifier()\n",
        "  over = SMOTE(sampling_strategy=0.9, k_neighbors=k)\n",
        "  under = RandomUnderSampler(sampling_strategy=1)\n",
        "  steps = [('over', over), ('under', under), ('model', model)]\n",
        "  pipeline = Pipeline(steps=steps)\n",
        "  # evaluate pipeline\n",
        "  cv = RepeatedStratifiedKFold(n_splits=10, n_repeats=3, random_state=1)\n",
        "  scores = cross_val_score(pipeline, np.array(X), y, scoring='roc_auc', cv=cv, n_jobs=-1)\n",
        "  score = np.mean(scores)\n",
        "  print('> k=%d, Mean ROC AUC: %.3f' % (k, score))\n"
      ],
      "metadata": {
        "colab": {
          "base_uri": "https://localhost:8080/"
        },
        "id": "57YE2lVJTYIa",
        "outputId": "4aee9ce2-8954-4984-87e1-57240a505d7e"
      },
      "execution_count": 204,
      "outputs": [
        {
          "output_type": "stream",
          "name": "stdout",
          "text": [
            "> k=1, Mean ROC AUC: 0.785\n",
            "> k=2, Mean ROC AUC: 0.775\n",
            "> k=3, Mean ROC AUC: 0.785\n",
            "> k=4, Mean ROC AUC: 0.829\n",
            "> k=5, Mean ROC AUC: 0.768\n",
            "> k=6, Mean ROC AUC: 0.764\n",
            "> k=7, Mean ROC AUC: 0.804\n"
          ]
        }
      ]
    },
    {
      "cell_type": "markdown",
      "source": [
        "## 5) Compare and discuss the models performance [the models from item 2), 3),and 4)]"
      ],
      "metadata": {
        "id": "LXbWegMOUrdT"
      }
    },
    {
      "cell_type": "markdown",
      "source": [
        "### $\\color{green} {Discussion}$"
      ],
      "metadata": {
        "id": "XhotjoyQWaQ1"
      }
    },
    {
      "cell_type": "markdown",
      "source": [
        "From   \n",
        "1) use DecisionTreeClassifier without SMOTE get Mean ROC AUC = 0.767  \n",
        "2) use DecisionTreeClassifier with SMOTE get Mean ROC AUC = 0.801  \n",
        "3) use DecisionTreeClassifier with SMOTE + undersampling get Mean ROC AUC = 0.826  \n",
        "4) grid search k value for SMOTE + undersampling found that K = 4 is the best for k_neighbors on SMOTE with Mean ROC AUC = 0.829  \n",
        "In conclusion, the best maen ROC AUC is 0.829. From use model DecisionTreeClassifier with SMOTE + undersampling on k_neighbors = 4"
      ],
      "metadata": {
        "id": "q9gnH7hxVT8a"
      }
    }
  ]
}